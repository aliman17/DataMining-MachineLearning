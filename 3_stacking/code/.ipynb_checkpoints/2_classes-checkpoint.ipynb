{
 "metadata": {
  "name": "",
  "signature": "sha256:a629b9b8692ce53f63f2a8556a780e6bb74b8b8712a54bd8a35f273e67cf8347"
 },
 "nbformat": 3,
 "nbformat_minor": 0,
 "worksheets": [
  {
   "cells": [
    {
     "cell_type": "code",
     "collapsed": false,
     "input": [
      "# Import\n",
      "from collections import defaultdict\n",
      "import numpy as np\n",
      "from matplotlib import pyplot as plt\n",
      "import pylab as P\n",
      "import Orange\n",
      "import random\n",
      "from sklearn import decomposition\n",
      "from sklearn import linear_model\n",
      "from sklearn import ensemble\n",
      "from sklearn import cross_validation\n",
      "from sklearn import preprocessing\n",
      "import scipy\n",
      "import math\n",
      "%matplotlib inline"
     ],
     "language": "python",
     "metadata": {},
     "outputs": [],
     "prompt_number": 1
    },
    {
     "cell_type": "heading",
     "level": 3,
     "metadata": {},
     "source": [
      "Functions"
     ]
    },
    {
     "cell_type": "code",
     "collapsed": false,
     "input": [
      "def stringTOfloat(matrix):\n",
      "    \"\"\"Cast string values of a matrix into float values\"\"\"\n",
      "    matrix1 = []\n",
      "    for pos in range(len(matrix)):\n",
      "        i = matrix[pos]\n",
      "        #i[i == ''] = 0.0\n",
      "        i = i.astype(np.float)\n",
      "        matrix1.append(i)\n",
      "    return np.array( matrix1 )"
     ],
     "language": "python",
     "metadata": {},
     "outputs": [],
     "prompt_number": 2
    },
    {
     "cell_type": "code",
     "collapsed": false,
     "input": [
      "def NANto0(matrix):\n",
      "    # Daj vse NAN na 0 -> ni ok, ampak za zacetek bo ok\n",
      "    for i in range(len(matrix)):\n",
      "        for j in range(len(matrix[i])):\n",
      "            if np.isnan(matrix[i,j]):\n",
      "                matrix[i,j] = 0\n",
      "    return matrix"
     ],
     "language": "python",
     "metadata": {},
     "outputs": [],
     "prompt_number": 3
    },
    {
     "cell_type": "code",
     "collapsed": false,
     "input": [
      "def getData(name):\n",
      "    file1 = open(name, \"rU\" )\n",
      "    Y = []\n",
      "    for aRow in file1:\n",
      "        Y.append(aRow.split('\\t'))\n",
      "    file1.close()\n",
      "    return Y"
     ],
     "language": "python",
     "metadata": {},
     "outputs": [],
     "prompt_number": 4
    },
    {
     "cell_type": "code",
     "collapsed": false,
     "input": [
      "# Parse dilution and get denominator\n",
      "def get_dilution_denominator( string ):\n",
      "    i = 0\n",
      "    # Get rid of numerator\n",
      "    while ( string[i] != '/' and i < len(string) ):\n",
      "        i += 1\n",
      "        \n",
      "    # Get rid of '/'\n",
      "    while ( string[i] != '1' and i < len(string) ):\n",
      "        i += 1\n",
      "        \n",
      "    # Count zeros in denominator\n",
      "    n_zeros = 0\n",
      "    for j in range(i, len(string)):\n",
      "        if string[j] == '0':\n",
      "            n_zeros += 1\n",
      "            \n",
      "    return 10**n_zeros "
     ],
     "language": "python",
     "metadata": {},
     "outputs": [],
     "prompt_number": 5
    },
    {
     "cell_type": "code",
     "collapsed": false,
     "input": [
      "def getX():\n",
      "    X = getData(\"../data/molecular_descriptors_data.txt\")\n",
      "    \n",
      "    # remove header\n",
      "    X = np.array(X[1:])\n",
      "    X = stringTOfloat(X)\n",
      "    # set Nan to 0\n",
      "    X = NANto0(X)\n",
      "    return X"
     ],
     "language": "python",
     "metadata": {},
     "outputs": [],
     "prompt_number": 6
    },
    {
     "cell_type": "code",
     "collapsed": false,
     "input": [
      "def getY():\n",
      "    Y = getData(\"../data/TrainSet-hw2.txt\")\n",
      "    \n",
      "    # header\n",
      "    head = Y[0]\n",
      "    \n",
      "    # remove header\n",
      "    Y = np.array(Y[1:])\n",
      "    \n",
      "    # get CID, get dil\n",
      "    cids = np.matrix(stringTOfloat(Y[:,0]))\n",
      "    dils = np.matrix([get_dilution_denominator(dil) for dil in Y[:,4]])\n",
      "   \n",
      "    # from \n",
      "    Y_rest = np.array(Y[:, 6:]) \n",
      "    Y_rest = stringTOfloat(Y_rest)\n",
      "    \n",
      "    Y_cid_dil_rest = np.hstack((cids.T,dils.T, Y_rest))\n",
      "    Y_cid_dil_rest = np.array(Y_cid_dil_rest)\n",
      " \n",
      "    \n",
      "    return Y_cid_dil_rest, head\n",
      "    "
     ],
     "language": "python",
     "metadata": {},
     "outputs": [],
     "prompt_number": 7
    },
    {
     "cell_type": "code",
     "collapsed": false,
     "input": [
      "def avg_median(Y_cid_dil_rest):\n",
      "    \n",
      "    cids = Y_cid_dil_rest[:, 0]\n",
      "    dils = Y_cid_dil_rest[:, 1]\n",
      "    # average\n",
      "    # get cids\n",
      "    cids_unique = np.unique(np.array(cids))\n",
      "    \n",
      "    # for each cid store avg value for all attributes\n",
      "    cid_avg = []\n",
      "    for cid in cids_unique:\n",
      "        cid_samples = Y_cid_dil_rest[ Y_cid_dil_rest[ :, 0 ] == cid ]\n",
      "        dil_low = cid_samples[0][1] \n",
      "        dil_high = cid_samples[1][1] \n",
      "        cid_samples_rest = np.matrix(cid_samples[:, 2:])  # remove cid and dil  \n",
      "        cid_samples_rest = np.array(cid_samples_rest[0::2].T)\n",
      "        # average\n",
      "        avg_low = [np.mean(column[~np.isnan(column)]) for column in cid_samples_rest]\n",
      "        avg_high = [np.mean(column[~np.isnan(column)]) for column in cid_samples_rest]\n",
      "        # concatenate cid with average values\n",
      "        cid_avg.append( np.hstack(([cid, dil_low], avg_low)) )\n",
      "        cid_avg.append( np.hstack(([cid, dil_high], avg_high)) )\n",
      "        \n",
      "    cid_avg = np.array( cid_avg )\n",
      "    return cid_avg"
     ],
     "language": "python",
     "metadata": {},
     "outputs": [],
     "prompt_number": 8
    },
    {
     "cell_type": "code",
     "collapsed": false,
     "input": [
      "def getPredict():\n",
      "    P = getData(\"../data/predict.txt\")\n",
      "    \n",
      "    P = np.array(P)\n",
      "    \n",
      "    # get CID\n",
      "    cids = stringTOfloat(P[:,0])\n",
      "    dils = [get_dilution_denominator(dil) for dil in P[:,1]]\n",
      "    \n",
      "    P = []\n",
      "    for i in range( len(cids) ):\n",
      "        P.append((cids[i], dils[i]))\n",
      "    return np.array(P)"
     ],
     "language": "python",
     "metadata": {},
     "outputs": [],
     "prompt_number": 9
    },
    {
     "cell_type": "code",
     "collapsed": false,
     "input": [
      "# Ne uporabljam\n",
      "def best_model(X_train, Y_train):\n",
      "    best_m = None\n",
      "    best_val = 100\n",
      "    best_alpha = 0\n",
      "    best_ratio = 0\n",
      "    for alpha in [0.01, 0.05, 0.1, 0.2, 0.3, 0.5, 0.7, 1, 2, 5, 10]:\n",
      "        for ratio in [0.1, 0.3, 0.5, 0.7, 0.9]:\n",
      "            elastic = linear_model.ElasticNet(alpha=alpha, l1_ratio=ratio, max_iter=500)\n",
      "            rez = my_cross_validation(X_train, Y_train, elastic)\n",
      "            if rez < best_val:\n",
      "                best_m = elastic\n",
      "                best_val = rez\n",
      "                best_alpha = alpha\n",
      "                best_ratio = ratio\n",
      "    # return best model\n",
      "    return best_m"
     ],
     "language": "python",
     "metadata": {},
     "outputs": [],
     "prompt_number": 10
    },
    {
     "cell_type": "code",
     "collapsed": false,
     "input": [
      "def write_to_file(cid_preds, head, name):\n",
      "    head = head[6:] # remove labels for attributes that are not needed\n",
      "    head[-1] = (head[-1])[:-1]  # remove \\n at the end of head labels\n",
      "    f = open('../results/'+name+'.txt','w')\n",
      "    for cid, pred in cid_preds:\n",
      "        for i in range( len(pred) ):\n",
      "            f.write(str(int(cid)))   # change float to int then to string\n",
      "            f.write('\\t')\n",
      "            f.write(head[i])\n",
      "            f.write('\\t')\n",
      "            f.write(str(round(float(pred[i]), 6)))\n",
      "            f.write('\\n')\n",
      "    f.close()\n",
      "    \n",
      "def write_to_file2(cids, preds, head, name):\n",
      "    head = head[6:] # remove labels for attributes that are not needed\n",
      "    head[-1] = (head[-1])[:-1]  # remove \\n at the end of head labels\n",
      "    f = open('../results/'+name+'.txt','w')\n",
      "    for i in range(len(cids)):\n",
      "        cid = cids[i]\n",
      "        pred = preds[i]\n",
      "        for j in range( len(pred) ):\n",
      "            f.write(str(int(cid)))   # change float to int then to string\n",
      "            f.write('\\t')\n",
      "            f.write(head[j])\n",
      "            f.write('\\t')\n",
      "            f.write(str(round(float(pred[j]), 6)))\n",
      "            f.write('\\n')\n",
      "    f.close()"
     ],
     "language": "python",
     "metadata": {},
     "outputs": [],
     "prompt_number": 11
    },
    {
     "cell_type": "code",
     "collapsed": false,
     "input": [
      "NORM_STD = [ 0.18, 0.16, 0.06 ] #an average of normalizatin_costs outputs)\n",
      "#means were 0 (as expected for Pearson correlation)\n",
      "\n",
      "def pearson(x,y):\n",
      "    x,y = np.array(x), np.array(y)\n",
      "    anynan = np.logical_or(np.isnan(x), np.isnan(y))\n",
      "    r = scipy.stats.pearsonr(x[~anynan],y[~anynan])[0]\n",
      "    return 0. if math.isnan(r) else r\n",
      "\n",
      "def final_score(rs):\n",
      "    zs = rs/NORM_STD\n",
      "    return np.mean(zs)\n",
      "\n",
      "def evaluate_r(prediction, real):\n",
      "    userscores = prediction\n",
      "    realscores = real\n",
      "    rint = pearson(userscores[:,0], realscores[:,0])\n",
      "    rval = pearson(userscores[:,1], realscores[:,1])\n",
      "    rdecall = [ pearson(userscores[:,i], realscores[:,i]) for i in range(2,21) ]\n",
      "    rdec = np.mean(rdecall)\n",
      "    return np.array([rint, rval, rdec])\n",
      "\n",
      "def evaluate(prediction, real):\n",
      "    score = evaluate_r(prediction, real)\n",
      "    return final_score(score)"
     ],
     "language": "python",
     "metadata": {},
     "outputs": [],
     "prompt_number": 12
    },
    {
     "cell_type": "code",
     "collapsed": false,
     "input": [
      "def get_pca(X_sel_tr, components):\n",
      "    pca = decomposition.PCA(n_components=components)\n",
      "    pca.fit(X_sel_tr)\n",
      "    X_sel_tr = pca.transform(X_sel_tr)\n",
      "    return X_sel_tr, pca"
     ],
     "language": "python",
     "metadata": {},
     "outputs": [],
     "prompt_number": 13
    },
    {
     "cell_type": "code",
     "collapsed": false,
     "input": [
      "def standardize(X_sel_tr):\n",
      "    scaler = preprocessing.StandardScaler()\n",
      "    scaler.fit(X_sel_tr) #shranimo transformacijo\n",
      "    X_sel_tr = scaler.transform(X_sel_tr) #transformiramo X (standardiziramo)\n",
      "    return X_sel_tr, scaler"
     ],
     "language": "python",
     "metadata": {},
     "outputs": [],
     "prompt_number": 14
    },
    {
     "cell_type": "heading",
     "level": 1,
     "metadata": {},
     "source": [
      "RUN"
     ]
    },
    {
     "cell_type": "heading",
     "level": 3,
     "metadata": {},
     "source": [
      "Load data"
     ]
    },
    {
     "cell_type": "code",
     "collapsed": false,
     "input": [
      "# Get X of a form: cid, rest\n",
      "X_cid_rest = getX()\n",
      "# Get Y of a form: cid, dilution, rest\n",
      "Y_cid_dil_rest, head = getY()\n",
      "# Get data to predict of a form: (cid, dil)\n",
      "toPredict = getPredict()"
     ],
     "language": "python",
     "metadata": {},
     "outputs": [],
     "prompt_number": 20
    },
    {
     "cell_type": "code",
     "collapsed": false,
     "input": [
      "# Dict:  <cid, chemical data without cid>\n",
      "X_dict_by_cid = dict([(i[0], i[1:]) for i in X_cid_rest])\n",
      "# Average by cid and dilution\n",
      "Y_cid_dil_rest_avg = avg_median(Y_cid_dil_rest)"
     ],
     "language": "python",
     "metadata": {},
     "outputs": [],
     "prompt_number": 21
    },
    {
     "cell_type": "code",
     "collapsed": false,
     "input": [
      "# Make inner join X and Y\n",
      "X = np.array([X_dict_by_cid[cid] for cid in Y_cid_dil_rest_avg[:,0]])\n",
      "# Remove cid and dil\n",
      "Y = Y_cid_dil_rest_avg[:, 2:]   "
     ],
     "language": "python",
     "metadata": {},
     "outputs": [],
     "prompt_number": 22
    },
    {
     "cell_type": "heading",
     "level": 3,
     "metadata": {},
     "source": [
      "Normal prediction"
     ]
    },
    {
     "cell_type": "code",
     "collapsed": false,
     "input": [
      "def prediction(X_train, Y_train, X_test, model):\n",
      "    \n",
      "    # Standardize\n",
      "    X_train, std = standardize(X_train)\n",
      "    X_test = std.transform(X_test)\n",
      "    \n",
      "    # Pca\n",
      "    X_train, pca = get_pca(X_train, 20)\n",
      "    X_test = pca.transform(X_test)\n",
      "\n",
      "    store_predictions = []\n",
      "    for i in range((Y_train.shape)[1]):\n",
      "        \n",
      "        model.fit(X_train, Y_train[:, i])\n",
      "        P = model.predict(X_test)\n",
      "        store_predictions.append(P)\n",
      "\n",
      "    #store_predictions = np.array(store_predictions)\n",
      "    store_predictions = np.matrix(store_predictions).T\n",
      "    store_predictions = np.array(store_predictions)\n",
      "    return store_predictions"
     ],
     "language": "python",
     "metadata": {},
     "outputs": [],
     "prompt_number": 15
    },
    {
     "cell_type": "code",
     "collapsed": false,
     "input": [
      "# General cross validation\n",
      "def my_cross_validation(X_, Y_, model, seed=False):\n",
      "\n",
      "    # Shuffle lines, we get more real rezult\n",
      "    z = [i for i in range(Y_.shape[0])]\n",
      "    X = [0] * X_.shape[0]\n",
      "    Y = [0] * Y_.shape[0]\n",
      "    if seed:\n",
      "        random.seed(42)\n",
      "    random.shuffle(z)\n",
      "    for i in range(len(z)):\n",
      "        X[i] = X_[z[i]]\n",
      "        Y[i] = Y_[z[i]]\n",
      "    X = np.array(X)\n",
      "    Y = np.array(Y)\n",
      "        \n",
      "    k = 5\n",
      "    S = 0\n",
      "    kf = cross_validation.KFold(len(Y), n_folds=k)\n",
      "    for train_index, test_index in kf:\n",
      "        print('Start new fold')\n",
      "        # Split\n",
      "        X_train, X_test = X[train_index], X[test_index]\n",
      "        Y_train, Y_test = Y[train_index], Y[test_index]\n",
      "        # Predict\n",
      "        store_predictions = prediction(X_train, Y_train, X_test, model)\n",
      "        # Evaluate\n",
      "        score = evaluate(store_predictions, Y_test)\n",
      "        S += score\n",
      "        print(\"Vmesni .................\", score)\n",
      "        \n",
      "\n",
      "    print(\"FINAL .................\", S/k)"
     ],
     "language": "python",
     "metadata": {},
     "outputs": [],
     "prompt_number": 18
    },
    {
     "cell_type": "code",
     "collapsed": false,
     "input": [
      "# Start cross validation\n",
      "\n",
      "model = linear_model.Ridge()\n",
      "#model = linear_model.RidgeCV()\n",
      "#model = linear_model.ElasticNetCV()\n",
      "#model = linear_model.ElasticNet()\n",
      "#model = ensemble.RandomForestRegressor(n_estimators=10, max_depth=None, min_samples_split=5, random_state=0, n_jobs=1)\n",
      "#model = ensemble.GradientBoostingRegressor(n_estimators=100, learning_rate=0.1, max_depth=1, random_state=0, loss='ls')\n",
      "#model = ensemble.ExtraTreesRegressor(n_estimators=20)  # ful dober ... okoli 9!!!\n",
      "#model = ensemble.AdaBoostRegressor(base_estimator=None, n_estimators=10, learning_rate=1.0, loss='linear', random_state=None)\n",
      "\n",
      "my_cross_validation(X, Y, model, seed=False)"
     ],
     "language": "python",
     "metadata": {},
     "outputs": [
      {
       "output_type": "stream",
       "stream": "stdout",
       "text": [
        "Start new fold\n",
        "Vmesni ................."
       ]
      },
      {
       "output_type": "stream",
       "stream": "stdout",
       "text": [
        " 3.50894999645\n",
        "Start new fold\n",
        "Vmesni ................."
       ]
      },
      {
       "output_type": "stream",
       "stream": "stdout",
       "text": [
        " 3.38903368705\n",
        "Start new fold\n",
        "Vmesni ................."
       ]
      },
      {
       "output_type": "stream",
       "stream": "stdout",
       "text": [
        " 3.4114487177\n",
        "Start new fold\n",
        "Vmesni ................."
       ]
      },
      {
       "output_type": "stream",
       "stream": "stdout",
       "text": [
        " 1.44317569358\n",
        "Start new fold\n",
        "Vmesni ................."
       ]
      },
      {
       "output_type": "stream",
       "stream": "stdout",
       "text": [
        " 3.598739069\n",
        "FINAL ................. 3.07026943276\n"
       ]
      }
     ],
     "prompt_number": 28
    },
    {
     "cell_type": "heading",
     "level": 3,
     "metadata": {},
     "source": [
      "Povprecenje"
     ]
    },
    {
     "cell_type": "code",
     "collapsed": false,
     "input": [
      "def multiprediction(X_train, Y_train, X_test, models):\n",
      "    \n",
      "    # Standardize\n",
      "    X_train, std = standardize(X_train)\n",
      "    X_test = std.transform(X_test)\n",
      "\n",
      "    # Pca\n",
      "    X_train, pca = get_pca(X_train, 20)\n",
      "    X_test = pca.transform(X_test)\n",
      "    \n",
      "    different_model_predicitons = []\n",
      "    for model in models:\n",
      "        store_predictions = []\n",
      "        for i in range((Y_train.shape)[1]):\n",
      "            model.fit(X_train, Y_train[:, i])\n",
      "            P = model.predict(X_test)\n",
      "            store_predictions.append(P)\n",
      "\n",
      "        #store_predictions = np.array(store_predictions)\n",
      "        store_predictions = np.matrix(store_predictions).T\n",
      "        store_predictions = np.array(store_predictions)\n",
      "        different_model_predicitons.append(store_predictions)\n",
      "    \n",
      "    different_model_predicitons = np.array(different_model_predicitons)\n",
      "    \n",
      "    return combine_predictions(different_model_predicitons)"
     ],
     "language": "python",
     "metadata": {},
     "outputs": [],
     "prompt_number": 16
    },
    {
     "cell_type": "code",
     "collapsed": false,
     "input": [
      "def combine_predictions(predicitons):\n",
      "    return np.sum(predicitons, axis=0) / predicitons.shape[0]"
     ],
     "language": "python",
     "metadata": {},
     "outputs": [],
     "prompt_number": 17
    },
    {
     "cell_type": "code",
     "collapsed": false,
     "input": [
      "# Multi cross validation\n",
      "def my_cross_validation_models(X_, Y_, models, seed=False):\n",
      "\n",
      "    # Shuffle lines, we get more real rezult\n",
      "    z = [i for i in range(Y_.shape[0])]\n",
      "    X = [0] * X_.shape[0]\n",
      "    Y = [0] * Y_.shape[0]\n",
      "    if seed:\n",
      "        random.seed(42)\n",
      "    random.shuffle(z)\n",
      "    for i in range(len(z)):\n",
      "        X[i] = X_[z[i]]\n",
      "        Y[i] = Y_[z[i]]\n",
      "    X = np.array(X)\n",
      "    Y = np.array(Y)\n",
      "        \n",
      "    k = 5\n",
      "    S = 0\n",
      "    kf = cross_validation.KFold(len(Y), n_folds=k)\n",
      "    for train_index, test_index in kf:\n",
      "        print('Start new fold')\n",
      "        # Split\n",
      "        X_train, X_test = X[train_index], X[test_index]\n",
      "        Y_train, Y_test = Y[train_index], Y[test_index]\n",
      "        # Predict\n",
      "        store_predictions = multiprediction(X_train, Y_train, X_test, models)\n",
      "        # Evaluate\n",
      "        score = evaluate(store_predictions, Y_test)\n",
      "        S += score\n",
      "        print(\"Vmesni .................\", score)\n",
      "        \n",
      "\n",
      "    print(\"FINAL .................\", S/k)"
     ],
     "language": "python",
     "metadata": {},
     "outputs": [],
     "prompt_number": 19
    },
    {
     "cell_type": "code",
     "collapsed": false,
     "input": [
      "# Start cross validation\n",
      "\n",
      "ridge = linear_model.Ridge()\n",
      "ridgeCV = linear_model.RidgeCV()\n",
      "elasticCV = linear_model.ElasticNetCV()\n",
      "elastic = linear_model.ElasticNet()\n",
      "forest = ensemble.RandomForestRegressor(n_estimators=10, max_depth=None, min_samples_split=5, random_state=0, n_jobs=1)\n",
      "boost = ensemble.GradientBoostingRegressor(n_estimators=100, learning_rate=0.1, max_depth=1, random_state=0, loss='ls')\n",
      "tree = ensemble.ExtraTreesRegressor(n_estimators=10)"
     ],
     "language": "python",
     "metadata": {},
     "outputs": [],
     "prompt_number": 25
    },
    {
     "cell_type": "code",
     "collapsed": false,
     "input": [
      "my_cross_validation_models(X, Y, [ridge], seed=False)"
     ],
     "language": "python",
     "metadata": {},
     "outputs": [
      {
       "output_type": "stream",
       "stream": "stdout",
       "text": [
        "Start new fold\n",
        "Vmesni ................."
       ]
      },
      {
       "output_type": "stream",
       "stream": "stdout",
       "text": [
        " 2.26529796903\n",
        "Start new fold\n",
        "Vmesni ................."
       ]
      },
      {
       "output_type": "stream",
       "stream": "stdout",
       "text": [
        " 3.52549776487\n",
        "Start new fold\n",
        "Vmesni ................."
       ]
      },
      {
       "output_type": "stream",
       "stream": "stdout",
       "text": [
        " 3.66805652999\n",
        "Start new fold\n",
        "Vmesni ................."
       ]
      },
      {
       "output_type": "stream",
       "stream": "stdout",
       "text": [
        " 4.17639555613\n",
        "Start new fold\n",
        "Vmesni ................."
       ]
      },
      {
       "output_type": "stream",
       "stream": "stdout",
       "text": [
        " 3.26798166507\n",
        "FINAL ................. 3.38064589702\n"
       ]
      }
     ],
     "prompt_number": 27
    },
    {
     "cell_type": "heading",
     "level": 3,
     "metadata": {},
     "source": [
      "Predict real data"
     ]
    },
    {
     "cell_type": "code",
     "collapsed": false,
     "input": [
      "# Predict real data\n",
      "X_pred = [X_dict_by_cid[cid] for cid, dil in toPredict]\n",
      "#result = prediction(X, Y, X_pred, model)"
     ],
     "language": "python",
     "metadata": {},
     "outputs": [],
     "prompt_number": 32
    },
    {
     "cell_type": "code",
     "collapsed": false,
     "input": [
      "result = multiprediction(X, Y, X_pred,[forest, tree, ridge])"
     ],
     "language": "python",
     "metadata": {},
     "outputs": [],
     "prompt_number": 29
    },
    {
     "cell_type": "heading",
     "level": 3,
     "metadata": {},
     "source": [
      "Write into file"
     ]
    },
    {
     "cell_type": "code",
     "collapsed": false,
     "input": [
      "# Write into file\n",
      "write_to_file2(toPredict[:, 0], result, head, \"ftr_1\")"
     ],
     "language": "python",
     "metadata": {},
     "outputs": [],
     "prompt_number": 30
    },
    {
     "cell_type": "heading",
     "level": 3,
     "metadata": {},
     "source": [
      "Classes"
     ]
    },
    {
     "cell_type": "code",
     "collapsed": false,
     "input": [
      "a = (0.01, 0.5)\n",
      "\n",
      "def func(alpha, lambda_):\n",
      "    return linear_model.ElasticNet(alpha=alpha, l1_ratio=lambda_)\n",
      "    \n",
      "f = func(*a)"
     ],
     "language": "python",
     "metadata": {},
     "outputs": [],
     "prompt_number": 41
    },
    {
     "cell_type": "code",
     "collapsed": false,
     "input": [
      "f"
     ],
     "language": "python",
     "metadata": {},
     "outputs": [
      {
       "metadata": {},
       "output_type": "pyout",
       "prompt_number": 42,
       "text": [
        "ElasticNet(alpha=0.01, copy_X=True, fit_intercept=True, l1_ratio=0.5,\n",
        "      max_iter=1000, normalize=False, positive=False, precompute='auto',\n",
        "      tol=0.0001, warm_start=False)"
       ]
      }
     ],
     "prompt_number": 42
    },
    {
     "cell_type": "code",
     "collapsed": false,
     "input": [
      "class Learner():\n",
      "    def __init__(self, learner, parameters):\n",
      "        self.learner = learner\n",
      "        self.parameters = parameters\n",
      "        \n",
      "    def fit(X, y):\n",
      "        "
     ],
     "language": "python",
     "metadata": {},
     "outputs": []
    },
    {
     "cell_type": "heading",
     "level": 3,
     "metadata": {},
     "source": [
      "Other"
     ]
    },
    {
     "cell_type": "code",
     "collapsed": false,
     "input": [
      "import itertools\n",
      " \n",
      "class PFit():\n",
      "    def __init__(self, learner, *parameter_defaults):\n",
      "        self.learner = learner\n",
      "        self.possible_parameters = list(itertools.product(*parameter_defaults))\n",
      "    def __call__(self, data):\n",
      "        best_score = 0\n",
      "        best_parameters = 0\n",
      "        for parameters in self.possible_parameters:\n",
      "            learner = self.learner(*parameters)\n",
      "            model = learner(data)\n",
      "            best_parameters = parameters\n",
      "            # do the cv & scoring, save score in current_model_score...\n",
      "            if current_model_score > best_score:\n",
      "                best_score = current_model_score\n",
      "                best_parameters = parameters\n",
      "        learner = self.learner(*best_parameters)\n",
      "        return learner(data)\n",
      " \n",
      " \n",
      "p = PFit(lambda alpha, lambda_: linear_model.ElasticNet()(alpha=alpha, l1_ratio=lambda_), [0, 0.001, 0.01, 0.5, 1], [0, 0.1, 0.2, 0.4, 0.8, 1])"
     ],
     "language": "python",
     "metadata": {},
     "outputs": [],
     "prompt_number": 34
    }
   ],
   "metadata": {}
  }
 ]
}