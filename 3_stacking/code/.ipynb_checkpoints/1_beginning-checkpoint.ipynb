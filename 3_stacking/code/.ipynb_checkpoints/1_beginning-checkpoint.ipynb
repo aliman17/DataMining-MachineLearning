{
 "metadata": {
  "name": "",
  "signature": "sha256:7930b537ef3bc1a80e11b1094332160be6236d7e88f3ed1927424318f375f50a"
 },
 "nbformat": 3,
 "nbformat_minor": 0,
 "worksheets": [
  {
   "cells": [
    {
     "cell_type": "code",
     "collapsed": false,
     "input": [
      "# Import\n",
      "from collections import defaultdict\n",
      "import numpy as np\n",
      "from matplotlib import pyplot as plt\n",
      "import pylab as P\n",
      "import Orange\n",
      "\n",
      "from sklearn import decomposition\n",
      "from sklearn import linear_model\n",
      "from sklearn import ensemble\n",
      "from sklearn import cross_validation\n",
      "from sklearn import preprocessing\n",
      "import scipy\n",
      "import math\n",
      "%matplotlib inline"
     ],
     "language": "python",
     "metadata": {},
     "outputs": [],
     "prompt_number": 6
    },
    {
     "cell_type": "heading",
     "level": 3,
     "metadata": {},
     "source": [
      "Functions"
     ]
    },
    {
     "cell_type": "code",
     "collapsed": false,
     "input": [
      "def stringTOfloat(matrix):\n",
      "    \"\"\"Cast string values of a matrix into float values\"\"\"\n",
      "    matrix1 = []\n",
      "    for pos in range(len(matrix)):\n",
      "        i = matrix[pos]\n",
      "        #i[i == ''] = 0.0\n",
      "        i = i.astype(np.float)\n",
      "        matrix1.append(i)\n",
      "    return np.array( matrix1 )"
     ],
     "language": "python",
     "metadata": {},
     "outputs": [],
     "prompt_number": 7
    },
    {
     "cell_type": "code",
     "collapsed": false,
     "input": [
      "def NANto0(matrix):\n",
      "    # Daj vse NAN na 0 -> ni ok, ampak za zacetek bo ok\n",
      "    for i in range(len(matrix)):\n",
      "        for j in range(len(matrix[i])):\n",
      "            if np.isnan(matrix[i,j]):\n",
      "                matrix[i,j] = 0\n",
      "    return matrix"
     ],
     "language": "python",
     "metadata": {},
     "outputs": [],
     "prompt_number": 8
    },
    {
     "cell_type": "code",
     "collapsed": false,
     "input": [
      "def getData(name):\n",
      "    file1 = open(name, \"rU\" )\n",
      "    Y = []\n",
      "    for aRow in file1:\n",
      "        Y.append(aRow.split('\\t'))\n",
      "    file1.close()\n",
      "    return Y"
     ],
     "language": "python",
     "metadata": {},
     "outputs": [],
     "prompt_number": 9
    },
    {
     "cell_type": "code",
     "collapsed": false,
     "input": [
      "# Parse dilution and get denominator\n",
      "def get_dilution_denominator( string ):\n",
      "    i = 0\n",
      "    # Get rid of numerator\n",
      "    while ( string[i] != '/' and i < len(string) ):\n",
      "        i += 1\n",
      "        \n",
      "    # Get rid of '/'\n",
      "    while ( string[i] != '1' and i < len(string) ):\n",
      "        i += 1\n",
      "        \n",
      "    # Count zeros in denominator\n",
      "    n_zeros = 0\n",
      "    for j in range(i, len(string)):\n",
      "        if string[j] == '0':\n",
      "            n_zeros += 1\n",
      "            \n",
      "    return 10**n_zeros "
     ],
     "language": "python",
     "metadata": {},
     "outputs": [],
     "prompt_number": 10
    },
    {
     "cell_type": "code",
     "collapsed": false,
     "input": [
      "def getX():\n",
      "    X = getData(\"../data/molecular_descriptors_data.txt\")\n",
      "    \n",
      "    # remove header\n",
      "    X = np.array(X[1:])\n",
      "    X = stringTOfloat(X)\n",
      "    # set Nan to 0\n",
      "    X = NANto0(X)\n",
      "    return X"
     ],
     "language": "python",
     "metadata": {},
     "outputs": [],
     "prompt_number": 11
    },
    {
     "cell_type": "code",
     "collapsed": false,
     "input": [
      "def getY():\n",
      "    Y = getData(\"../data/TrainSet-hw2.txt\")\n",
      "    \n",
      "    # header\n",
      "    head = Y[0]\n",
      "    \n",
      "    # remove header\n",
      "    Y = np.array(Y[1:])\n",
      "    \n",
      "    # get CID, get dil\n",
      "    cids = np.matrix(stringTOfloat(Y[:,0]))\n",
      "    dils = np.matrix([get_dilution_denominator(dil) for dil in Y[:,4]])\n",
      "   \n",
      "    # from \n",
      "    Y_rest = np.array(Y[:, 6:]) \n",
      "    Y_rest = stringTOfloat(Y_rest)\n",
      "    \n",
      "    Y_cid_dil_rest = np.hstack((cids.T,dils.T, Y_rest))\n",
      "    Y_cid_dil_rest = np.array(Y_cid_dil_rest)\n",
      " \n",
      "    \n",
      "    return Y_cid_dil_rest, head\n",
      "    "
     ],
     "language": "python",
     "metadata": {},
     "outputs": [],
     "prompt_number": 12
    },
    {
     "cell_type": "code",
     "collapsed": false,
     "input": [
      "def avg_median(Y_cid_dil_rest):\n",
      "    \n",
      "    cids = Y_cid_dil_rest[:, 0]\n",
      "    dils = Y_cid_dil_rest[:, 1]\n",
      "    # average\n",
      "    # get cids\n",
      "    cids_unique = np.unique(np.array(cids))\n",
      "    \n",
      "    # for each cid store avg value for all attributes\n",
      "    cid_avg = []\n",
      "    for cid in cids_unique:\n",
      "        cid_samples = Y_cid_dil_rest[ Y_cid_dil_rest[ :, 0 ] == cid ]\n",
      "        dil_low = cid_samples[0][1] \n",
      "        dil_high = cid_samples[1][1] \n",
      "        cid_samples_rest = np.matrix(cid_samples[:, 2:])  # remove cid and dil  \n",
      "        cid_samples_rest = np.array(cid_samples_rest[0::2].T)\n",
      "        # average\n",
      "        avg_low = [np.mean(column[~np.isnan(column)]) for column in cid_samples_rest]\n",
      "        avg_high = [np.mean(column[~np.isnan(column)]) for column in cid_samples_rest]\n",
      "        # concatenate cid with average values\n",
      "        cid_avg.append( np.hstack(([cid, dil_low], avg_low)) )\n",
      "        cid_avg.append( np.hstack(([cid, dil_high], avg_high)) )\n",
      "        \n",
      "    cid_avg = np.array( cid_avg )\n",
      "    return cid_avg"
     ],
     "language": "python",
     "metadata": {},
     "outputs": [],
     "prompt_number": 13
    },
    {
     "cell_type": "code",
     "collapsed": false,
     "input": [
      "def getPredict():\n",
      "    P = getData(\"../data/predict.txt\")\n",
      "    \n",
      "    P = np.array(P)\n",
      "    \n",
      "    # get CID\n",
      "    cids = stringTOfloat(P[:,0])\n",
      "    dils = [get_dilution_denominator(dil) for dil in P[:,1]]\n",
      "    \n",
      "    P = []\n",
      "    for i in range( len(cids) ):\n",
      "        P.append((cids[i], dils[i]))\n",
      "    return np.array(P)"
     ],
     "language": "python",
     "metadata": {},
     "outputs": [],
     "prompt_number": 14
    },
    {
     "cell_type": "code",
     "collapsed": false,
     "input": [
      "# Pravzaprav, ne uporabljam\n",
      "def normalize_correct(matrix):\n",
      "    size = matrix.shape\n",
      "    for i in range( size[1] ):\n",
      "        sum = 0\n",
      "        n = 0\n",
      "        # Get sum of column\n",
      "        for j in range( size[0] ):\n",
      "            if np.isnan(matrix[j,i]):\n",
      "                pass\n",
      "            else:\n",
      "                sum += abs(matrix[j,i])\n",
      "                n += 1\n",
      "          \n",
      "        # Correct each value in column\n",
      "        for j in range( size[0] ):\n",
      "            # NaN -> avg value\n",
      "            if np.isnan(matrix[j,i]):\n",
      "                matrix[j,i] = sum / n\n",
      "                \n",
      "            # sum = 0 -> 0\n",
      "            elif sum == 0:\n",
      "                matrix[j,i] = 0\n",
      "                \n",
      "            # else value / sum\n",
      "            else:\n",
      "                matrix[j,i] = matrix[j,i] / sum\n",
      "                \n",
      "    return matrix"
     ],
     "language": "python",
     "metadata": {},
     "outputs": [],
     "prompt_number": 15
    },
    {
     "cell_type": "code",
     "collapsed": false,
     "input": [
      "def select_dilution(Y, dilution = None):\n",
      "    \"\"\"Compute average attributes for CID. Dilution influences, which samples to take.\"\"\"\n",
      "    \n",
      "    if dilution != None:\n",
      "        # if dilution not None, take only samples with that dilution\n",
      "        return Y[Y[:,1] == dilution]\n",
      "    else:\n",
      "        # if None, then take all Y\n",
      "        return Y"
     ],
     "language": "python",
     "metadata": {},
     "outputs": [],
     "prompt_number": 16
    },
    {
     "cell_type": "code",
     "collapsed": false,
     "input": [
      "def select_low_high_dilution(Y, high=True):\n",
      "    \"\"\"Compute average attributes for CID. Based on high or low\"\"\"\n",
      "    # average for each cid and dilution\n",
      "    \n",
      "    if high:\n",
      "        return Y[1::2]  # take high dilutions\n",
      "    else:\n",
      "        return Y[0::2]  # take low dilutions"
     ],
     "language": "python",
     "metadata": {},
     "outputs": [],
     "prompt_number": 17
    },
    {
     "cell_type": "code",
     "collapsed": false,
     "input": [
      "# Ne uporabljam\n",
      "def best_model(X_train, Y_train):\n",
      "    best_m = None\n",
      "    best_val = 100\n",
      "    best_alpha = 0\n",
      "    best_ratio = 0\n",
      "    for alpha in [0.01, 0.05, 0.1, 0.2, 0.3, 0.5, 0.7, 1, 2, 5, 10]:\n",
      "        for ratio in [0.1, 0.3, 0.5, 0.7, 0.9]:\n",
      "            elastic = linear_model.ElasticNet(alpha=alpha, l1_ratio=ratio, max_iter=500)\n",
      "            rez = my_cross_validation(X_train, Y_train, elastic)\n",
      "            if rez < best_val:\n",
      "                best_m = elastic\n",
      "                best_val = rez\n",
      "                best_alpha = alpha\n",
      "                best_ratio = ratio\n",
      "    # return best model\n",
      "    return best_m"
     ],
     "language": "python",
     "metadata": {},
     "outputs": [],
     "prompt_number": 18
    },
    {
     "cell_type": "code",
     "collapsed": false,
     "input": [
      "def write_to_file(cid_preds, head, name):\n",
      "    head = head[6:] # remove labels for attributes that are not needed\n",
      "    head[-1] = (head[-1])[:-1]  # remove \\n at the end of head labels\n",
      "    f = open('../rezults/'+name+'.txt','w')\n",
      "    for cid, pred in cid_preds:\n",
      "        for i in range( len(pred) ):\n",
      "            f.write(str(int(cid)))   # change float to int then to string\n",
      "            f.write('\\t')\n",
      "            f.write(head[i])\n",
      "            f.write('\\t')\n",
      "            f.write(str(round(float(pred[i]), 6)))\n",
      "            f.write('\\n')\n",
      "    f.close()\n",
      "    \n",
      "def write_to_file2(cids, preds, head, name):\n",
      "    head = head[6:] # remove labels for attributes that are not needed\n",
      "    head[-1] = (head[-1])[:-1]  # remove \\n at the end of head labels\n",
      "    f = open('../rezults/'+name+'.txt','w')\n",
      "    for i in range(len(cids)):\n",
      "        cid = cids[i]\n",
      "        pred = preds[i]\n",
      "        for j in range( len(pred) ):\n",
      "            f.write(str(int(cid)))   # change float to int then to string\n",
      "            f.write('\\t')\n",
      "            f.write(head[j])\n",
      "            f.write('\\t')\n",
      "            f.write(str(round(float(pred[j]), 6)))\n",
      "            f.write('\\n')\n",
      "    f.close()"
     ],
     "language": "python",
     "metadata": {},
     "outputs": [],
     "prompt_number": 19
    },
    {
     "cell_type": "code",
     "collapsed": false,
     "input": [
      "NORM_STD = [ 0.18, 0.16, 0.06 ] #an average of normalizatin_costs outputs)\n",
      "#means were 0 (as expected for Pearson correlation)\n",
      "\n",
      "def pearson(x,y):\n",
      "    x,y = np.array(x), np.array(y)\n",
      "    anynan = np.logical_or(np.isnan(x), np.isnan(y))\n",
      "    r = scipy.stats.pearsonr(x[~anynan],y[~anynan])[0]\n",
      "    return 0. if math.isnan(r) else r\n",
      "\n",
      "def final_score(rs):\n",
      "    zs = rs/NORM_STD\n",
      "    return np.mean(zs)\n",
      "\n",
      "def evaluate_r(prediction, real):\n",
      "    userscores = prediction\n",
      "    realscores = real\n",
      "    rint = pearson(userscores[:,0], realscores[:,0])\n",
      "    rval = pearson(userscores[:,1], realscores[:,1])\n",
      "    rdecall = [ pearson(userscores[:,i], realscores[:,i]) for i in range(2,21) ]\n",
      "    rdec = np.mean(rdecall)\n",
      "    return np.array([rint, rval, rdec])"
     ],
     "language": "python",
     "metadata": {},
     "outputs": [],
     "prompt_number": 20
    },
    {
     "cell_type": "code",
     "collapsed": false,
     "input": [
      "def get_pca(X_sel_tr, components):\n",
      "    pca = decomposition.PCA(n_components=components)\n",
      "    pca.fit(X_sel_tr)\n",
      "    X_sel_tr = pca.transform(X_sel_tr)\n",
      "    return X_sel_tr, pca"
     ],
     "language": "python",
     "metadata": {},
     "outputs": [],
     "prompt_number": 21
    },
    {
     "cell_type": "code",
     "collapsed": false,
     "input": [
      "def standardize(X_sel_tr):\n",
      "    scaler = preprocessing.StandardScaler()\n",
      "    scaler.fit(X_sel_tr) #shranimo transformacijo\n",
      "    X_sel_tr = scaler.transform(X_sel_tr) #transformiramo X (standardiziramo)\n",
      "    return X_sel_tr, scaler"
     ],
     "language": "python",
     "metadata": {},
     "outputs": [],
     "prompt_number": 22
    },
    {
     "cell_type": "code",
     "collapsed": false,
     "input": [
      "def compute_models(X_sel_tr, Y_train, dilution):\n",
      "    \"\"\"Create scalar, pca and 21 models for a given dilution\"\"\"\n",
      "\n",
      "    #model = linear_model.RidgeCV()\n",
      "    #model = linear_model.ElasticNetCV()\n",
      "    #model = linear_model.ElasticNet()\n",
      "    #model = ensemble.RandomForestRegressor(n_estimators=50, max_depth=None, min_samples_split=5, random_state=0, n_jobs=1)\n",
      "    model = ensemble.GradientBoostingRegressor(n_estimators=100, learning_rate=0.1, max_depth=1, random_state=0, loss='ls')    \n",
      "\n",
      "    models_list = []\n",
      "    for i in range(0,(Y_train.shape)[1]):\n",
      "        #print('start learn', i)\n",
      "        # learn\n",
      "        lrn = model.fit(X_sel_tr, Y_train[:, i])\n",
      "        models_list += [lrn]\n",
      "    \n",
      "    return models_list"
     ],
     "language": "python",
     "metadata": {},
     "outputs": [],
     "prompt_number": 30
    },
    {
     "cell_type": "code",
     "collapsed": false,
     "input": [
      "def learn_models(X_dict_by_cid, Y, unique_dils):\n",
      "    dils_models = dict()\n",
      "    for dil in unique_dils:\n",
      "\n",
      "        # Get y for intensity and pleasantness\n",
      "        Y_int_ple = Y[ Y[:,1] == 1000]\n",
      "        # Get for rest\n",
      "        Y_rest = select_low_high_dilution(Y, high=True)\n",
      "\n",
      "\n",
      "        #Y_cid_dil_rest_avg = select_dilution(Y, dil)\n",
      "        #Y_cid_avg = select_low_high_dilution(Y_cid_dil_rest, high=True)\n",
      "\n",
      "        #y_train = Y_cid_dil_rest_avg[:, 2:]  # remove cid and dilution, take rest\n",
      "\n",
      "        # Pripravi X glede na Y\n",
      "        X_int_ple = np.array( [X_dict_by_cid[cid] for cid in Y_int_ple[:, 0] ] )\n",
      "        X_rest = np.array( [X_dict_by_cid[cid] for cid in Y_rest[:, 0] ] )\n",
      "\n",
      "        Y_int_ple = Y_int_ple[:, 2:4]  # remove rest\n",
      "        Y_rest = Y_rest[:, 4:]   # remove rest\n",
      "\n",
      "        # Standardize\n",
      "        scalar_int_ple = None\n",
      "        scalar_rest = None\n",
      "        #X_int_ple, scalar_int_ple = standardize(X_int_ple)\n",
      "        #X_rest, scalar_rest = standardize(X_rest)\n",
      "\n",
      "        # Pca\n",
      "        X_int_ple, pca_int_ple = get_pca(X_int_ple, 20)\n",
      "        X_rest, pca_rest = get_pca(X_rest, 20)\n",
      "\n",
      "        # Get models\n",
      "        models_list_int_ple = compute_models(X_int_ple, Y_int_ple, dil)\n",
      "        models_list_rest = compute_models(X_rest, Y_rest, dil)\n",
      "\n",
      "        models_list = models_list_int_ple + models_list_rest\n",
      "\n",
      "        dils_models[int(dil)] = (scalar_int_ple, scalar_rest, pca_int_ple, pca_rest, models_list)\n",
      "        \n",
      "    return dils_models"
     ],
     "language": "python",
     "metadata": {},
     "outputs": [],
     "prompt_number": 23
    },
    {
     "cell_type": "code",
     "collapsed": false,
     "input": [
      "# Adjusted fast cross validation\n",
      "def CV_fast(X_dict_by_cid, Y_cid_dil_rest, dils_models):\n",
      "    repetitions = 3\n",
      "    S = 0\n",
      "    kf = cross_validation.KFold(len(Y_cid_dil_rest), n_folds=repetitions)\n",
      "   \n",
      "    for train_index, test_index in kf:\n",
      "        #X_train, X_test = X[train_index], X[test_index]\n",
      "        Y_cid_dil_rest_train, Y_cid_dil_rest_test = Y_cid_dil_rest[train_index], Y_cid_dil_rest[test_index]\n",
      "\n",
      "        # prepare examples to predict\n",
      "        toPredict = [(Y_cid_dil_rest_test[i, 0], Y_cid_dil_rest_test[i, 1]) for i in range((Y_cid_dil_rest_test.shape)[0])]\n",
      "        store_predictions = []\n",
      "        for pr in toPredict:\n",
      "            cid = pr[0]\n",
      "            dil = pr[1]\n",
      "\n",
      "            X_to_predict = X_dict_by_cid[cid]        \n",
      "            scalar_int_ple, scalar_rest, pca_int_ple, pca_rest, models_list = dils_models[int(dil)]\n",
      "\n",
      "            # Standardize\n",
      "            if not scalar_int_ple == None:\n",
      "                X_to_predict_int_ple = scalar_int_ple.transform(X_to_predict)\n",
      "                X_to_predict_rest = scalar_rest.transform(X_to_predict)\n",
      "            \n",
      "            # Pca\n",
      "            X_to_predict_int_ple = pca_int_ple.transform(X_to_predict)\n",
      "            X_to_predict_rest = pca_rest.transform(X_to_predict)\n",
      "\n",
      "            rezult = []\n",
      "            for i in range(len(models_list)):\n",
      "                model = models_list[i]\n",
      "                if i < 2:\n",
      "                    X_to_predict = X_to_predict_int_ple\n",
      "                else:\n",
      "                    X_to_predict = X_to_predict_rest\n",
      "\n",
      "                p = model.predict(X_to_predict)\n",
      "                rezult += [p[0]]\n",
      "            store_predictions += [np.array(rezult)]\n",
      "        store_predictions = np.array(store_predictions)\n",
      "        \n",
      "        # evaluate\n",
      "        score = evaluate_r(store_predictions, Y_cid_dil_rest_test)\n",
      "        score = final_score(score)\n",
      "        print(\"Vmesni .................\", score)\n",
      "        S += score\n",
      "\n",
      "    print(\"FINAL .................\", S/repetitions)"
     ],
     "language": "python",
     "metadata": {},
     "outputs": [],
     "prompt_number": 98
    },
    {
     "cell_type": "code",
     "collapsed": false,
     "input": [
      "# General cross validation\n",
      "def CV(X, Y, model):\n",
      "    repetitions = 5\n",
      "    S = 0\n",
      "    kf = cross_validation.KFold(len(Y), n_folds=repetitions)\n",
      "   \n",
      "    for train_index, test_index in kf:\n",
      "        print('Start new fold')\n",
      "        X_train, X_test = X[train_index], X[test_index]\n",
      "        Y_train, Y_test = Y[train_index], Y[test_index]\n",
      "        \n",
      "        X_train, std = standardize(X_train)\n",
      "        X_test = std.transform(X_test)\n",
      "        \n",
      "        X_train, pca = get_pca(X_train, 20)\n",
      "        X_test = pca.transform(X_test)\n",
      "        \n",
      "        store_predictions = []\n",
      "        for i in range((Y_train.shape)[1]):\n",
      "            model.fit(X_train, Y_train[:, i])\n",
      "            P = model.predict(X_test)\n",
      "            store_predictions.append(P)\n",
      "\n",
      "        store_predictions = np.array(store_predictions)\n",
      "        store_predictions = np.matrix(store_predictions).T\n",
      "        store_predictions = np.array(store_predictions)\n",
      "        # evaluate\n",
      "        score = evaluate_r(store_predictions, Y_test)\n",
      "        score = final_score(score)\n",
      "        print(\"Vmesni .................\", score)\n",
      "        S += score\n",
      "\n",
      "    print(\"FINAL .................\", S/repetitions)"
     ],
     "language": "python",
     "metadata": {},
     "outputs": [],
     "prompt_number": 99
    },
    {
     "cell_type": "code",
     "collapsed": false,
     "input": [
      "def prediction(X_train, Y_train, X_test, model):\n",
      "    X_train, std = standardize(X_train)\n",
      "    X_test = std.transform(X_test)\n",
      "\n",
      "    X_train, pca = get_pca(X_train, 20)\n",
      "    X_test = pca.transform(X_test)\n",
      "\n",
      "    store_predictions = []\n",
      "    for i in range((Y_train.shape)[1]):\n",
      "        model.fit(X_train, Y_train[:, i])\n",
      "        P = model.predict(X_test)\n",
      "        store_predictions.append(P)\n",
      "\n",
      "    store_predictions = np.array(store_predictions)\n",
      "    store_predictions = np.matrix(store_predictions).T\n",
      "    store_predictions = np.array(store_predictions)\n",
      "    return store_predictions"
     ],
     "language": "python",
     "metadata": {},
     "outputs": [],
     "prompt_number": 26
    },
    {
     "cell_type": "code",
     "collapsed": false,
     "input": [
      "def dilution_dependant_prediction(X_train, Y_train, X_test, dils, model):\n",
      "    # TODO - repair\n",
      "    X_train, std = standardize(X_train)\n",
      "    X_test = std.transform(X_test)\n",
      "\n",
      "    X_train, pca = get_pca(X_train, 20)\n",
      "    X_test = pca.transform(X_test)\n",
      "\n",
      "    store_predictions = []\n",
      "    for i in range((Y_train.shape)[1]):\n",
      "        model.fit(X_train, Y_train[:, i])\n",
      "        P = model.predict(X_test)\n",
      "        store_predictions.append(P)\n",
      "\n",
      "    store_predictions = np.array(store_predictions)\n",
      "    store_predictions = np.matrix(store_predictions).T\n",
      "    store_predictions = np.array(store_predictions)\n",
      "    return store_predictions"
     ],
     "language": "python",
     "metadata": {},
     "outputs": [],
     "prompt_number": 100
    },
    {
     "cell_type": "heading",
     "level": 1,
     "metadata": {},
     "source": [
      "RUN"
     ]
    },
    {
     "cell_type": "heading",
     "level": 3,
     "metadata": {},
     "source": [
      "Load data"
     ]
    },
    {
     "cell_type": "code",
     "collapsed": false,
     "input": [
      "# RUN 1\n",
      "# cid, rest\n",
      "X_cid_rest = getX()\n",
      "# cid, dilution, rest\n",
      "Y_cid_dil_rest, head = getY()\n",
      "# predict info\n",
      "toPredict = getPredict()\n",
      "# Create access to chemical informations via CID\n",
      "X_dict_by_cid = dict([(i[0], i[1:]) for i in X_cid_rest])"
     ],
     "language": "python",
     "metadata": {},
     "outputs": [],
     "prompt_number": 48
    },
    {
     "cell_type": "code",
     "collapsed": false,
     "input": [
      "# RUN 2\n",
      "# Average\n",
      "Y_cid_dil_rest_avg = avg_median(Y_cid_dil_rest)\n",
      "# Unique dillutions\n",
      "unique_dils = np.unique(Y_cid_dil_rest[:, 1])"
     ],
     "language": "python",
     "metadata": {},
     "outputs": [],
     "prompt_number": 49
    },
    {
     "cell_type": "heading",
     "level": 3,
     "metadata": {},
     "source": [
      "Optional features"
     ]
    },
    {
     "cell_type": "raw",
     "metadata": {},
     "source": [
      "# RUN OPTIONAL\n",
      "# Compute models in advance based on the dilutions\n",
      "dils_models = learn_models(X_dict_by_cid, Y_cid_dil_rest_avg, unique_dils)"
     ]
    },
    {
     "cell_type": "raw",
     "metadata": {},
     "source": [
      "# RUN OPTIONAL\n",
      "# Make a prediction with models, that are computed in advance\n",
      "store_predictions = []\n",
      "for pr in toPredict:\n",
      "    cid = pr[0]\n",
      "    dil = pr[1]\n",
      "\n",
      "    X_to_predict = X_dict_by_cid[cid]        \n",
      "    scalar_int_ple, scalar_rest, pca_int_ple, pca_rest, models_list = dils_models[int(dil)]\n",
      "\n",
      "    # Standardize\n",
      "    if not scalar_int_ple == None:\n",
      "        X_to_predict_int_ple = scalar_int_ple.transform(X_to_predict)\n",
      "        X_to_predict_rest = scalar_rest.transform(X_to_predict)\n",
      "\n",
      "    # Pca\n",
      "    X_to_predict_int_ple = pca_int_ple.transform(X_to_predict)\n",
      "    X_to_predict_rest = pca_rest.transform(X_to_predict)\n",
      "\n",
      "    rezult = []\n",
      "    for i in range(len(models_list)):\n",
      "        model = models_list[i]\n",
      "        if i < 2:\n",
      "            X_to_predict = X_to_predict_int_ple\n",
      "        else:\n",
      "            X_to_predict = X_to_predict_rest\n",
      "\n",
      "        p = model.predict(X_to_predict)\n",
      "        rezult += [p[0]]\n",
      "    store_predictions += [np.array(rezult)]\n",
      "store_predictions = np.array(store_predictions)"
     ]
    },
    {
     "cell_type": "raw",
     "metadata": {},
     "source": [
      "# RUN OPTIONAL\n",
      "write_to_file2(toPredict[:, 0], store_predictions, head, \"gbr_1\")"
     ]
    },
    {
     "cell_type": "heading",
     "level": 3,
     "metadata": {},
     "source": [
      "Cross validation"
     ]
    },
    {
     "cell_type": "code",
     "collapsed": false,
     "input": [
      "# Start cross validation\n",
      "\n",
      "#model = linear_model.Ridge()\n",
      "model = linear_model.RidgeCV()\n",
      "#model = linear_model.ElasticNetCV()\n",
      "#model = linear_model.ElasticNet()\n",
      "#model = ensemble.RandomForestRegressor(n_estimators=50, max_depth=None, min_samples_split=5, random_state=0, n_jobs=1)\n",
      "#model = ensemble.GradientBoostingRegressor(n_estimators=100, learning_rate=0.1, max_depth=1, random_state=0, loss='ls')\n",
      "X = np.array([X_dict_by_cid[cid] for cid in Y_cid_dil_rest_avg[:,0]])\n",
      "Y = Y_cid_dil_rest_avg[:, 2:]\n",
      "CV(X, Y, model)"
     ],
     "language": "python",
     "metadata": {},
     "outputs": [
      {
       "output_type": "stream",
       "stream": "stdout",
       "text": [
        "Start new fold\n",
        "Vmesni ................."
       ]
      },
      {
       "output_type": "stream",
       "stream": "stdout",
       "text": [
        " 0.769853764243\n",
        "Start new fold\n",
        "Vmesni ................."
       ]
      },
      {
       "output_type": "stream",
       "stream": "stdout",
       "text": [
        " 0.87623216646\n",
        "Start new fold\n",
        "Vmesni ................."
       ]
      },
      {
       "output_type": "stream",
       "stream": "stdout",
       "text": [
        " 1.64011366436\n",
        "Start new fold\n",
        "Vmesni ................."
       ]
      },
      {
       "output_type": "stream",
       "stream": "stdout",
       "text": [
        " 3.90380540442\n",
        "Start new fold\n",
        "Vmesni ................."
       ]
      },
      {
       "output_type": "stream",
       "stream": "stdout",
       "text": [
        " 2.74702495939\n",
        "FINAL ................. 1.98740599178\n"
       ]
      }
     ],
     "prompt_number": 112
    },
    {
     "cell_type": "heading",
     "level": 3,
     "metadata": {},
     "source": [
      "Predict real data"
     ]
    },
    {
     "cell_type": "code",
     "collapsed": false,
     "input": [
      "# Predict real data\n",
      "X_pred = [X_dict_by_cid[cid] for cid, dil in toPredict]\n",
      "rezult = prediction(X, Y, X_pred, model)"
     ],
     "language": "python",
     "metadata": {},
     "outputs": [],
     "prompt_number": 113
    },
    {
     "cell_type": "code",
     "collapsed": false,
     "input": [
      "# Write into file\n",
      "write_to_file2(toPredict[:, 0], rezult, head, \"ridge_2\")"
     ],
     "language": "python",
     "metadata": {},
     "outputs": [],
     "prompt_number": 114
    },
    {
     "cell_type": "heading",
     "level": 3,
     "metadata": {},
     "source": [
      "Null distribution of out data"
     ]
    },
    {
     "cell_type": "code",
     "collapsed": false,
     "input": [
      "from scipy.stats.stats import pearsonr"
     ],
     "language": "python",
     "metadata": {},
     "outputs": [],
     "prompt_number": 33
    },
    {
     "cell_type": "code",
     "collapsed": false,
     "input": [
      "def remove_nan(l):\n",
      "    pc = []\n",
      "    for i in l:\n",
      "        if not np.isnan(i):\n",
      "            pc += [i]\n",
      "    return pc"
     ],
     "language": "python",
     "metadata": {},
     "outputs": [],
     "prompt_number": 93
    },
    {
     "cell_type": "code",
     "collapsed": false,
     "input": [
      "X = np.array([X_dict_by_cid[cid] for cid in Y_cid_dil_rest_avg[:,0]])\n",
      "Y = Y_cid_dil_rest_avg[:, 2]  # take one Y"
     ],
     "language": "python",
     "metadata": {},
     "outputs": [],
     "prompt_number": 43
    },
    {
     "cell_type": "code",
     "collapsed": false,
     "input": [
      "pc = [np.abs(pearsonr(X[:, i], Y)[0]) for i in range(X.shape[1])]\n",
      "pc = remove_nan(pc)"
     ],
     "language": "python",
     "metadata": {},
     "outputs": [],
     "prompt_number": 83
    },
    {
     "cell_type": "code",
     "collapsed": false,
     "input": [
      "plt.hist(pc, 50, color=\"yellow\", normed=True);"
     ],
     "language": "python",
     "metadata": {},
     "outputs": [
      {
       "metadata": {},
       "output_type": "display_data",
       "png": "[encoded data removed]",
       "text": [
        "<matplotlib.figure.Figure at 0xb744c50>"
       ]
      }
     ],
     "prompt_number": 84
    },
    {
     "cell_type": "code",
     "collapsed": false,
     "input": [
      "y = np.copy(Y)\n",
      "np.random.seed(42)\n",
      "pc_null = []\n",
      "for i in range(5):\n",
      "    np.random.shuffle(y)\n",
      "    pc_null.extend([np.abs(pearsonr(X[:, i], y)[0]) for i in range(X.shape[1])])\n",
      "    \n",
      "pc_null = remove_nan(pc_null)"
     ],
     "language": "python",
     "metadata": {},
     "outputs": [],
     "prompt_number": 94
    },
    {
     "cell_type": "code",
     "collapsed": false,
     "input": [
      "plt.hist(pc_null, 50, color=\"yellow\", normed=True);\n",
      "p = 0.01\n",
      "threshold = np.sort(pc_null)[(1-p)*len(pc_null)]\n",
      "plt.vlines(threshold, plt.ylim()[0], plt.ylim()[1], lw=3, color=\"k\");"
     ],
     "language": "python",
     "metadata": {},
     "outputs": [
      {
       "metadata": {},
       "output_type": "display_data",
       "png": "[encoded data removed]",
       "text": [
        "<matplotlib.figure.Figure at 0x8a54f70>"
       ]
      }
     ],
     "prompt_number": 97
    },
    {
     "cell_type": "code",
     "collapsed": false,
     "input": [],
     "language": "python",
     "metadata": {},
     "outputs": []
    }
   ],
   "metadata": {}
  }
 ]
}