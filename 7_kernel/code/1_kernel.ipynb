{
 "metadata": {
  "name": "",
  "signature": "sha256:8f9cab6d9e252a11a7e202fabfbc1142c44cbf4ea92f8deb314a48f7f9a0956e"
 },
 "nbformat": 3,
 "nbformat_minor": 0,
 "worksheets": [
  {
   "cells": [
    {
     "cell_type": "markdown",
     "metadata": {},
     "source": [
      "http://www.diffbot.com/products/automatic/article/"
     ]
    },
    {
     "cell_type": "code",
     "collapsed": false,
     "input": [
      "import numpy as np\n",
      "import zlib\n",
      "import glob, os\n",
      "import sklearn\n",
      "from sklearn.svm import SVC"
     ],
     "language": "python",
     "metadata": {},
     "outputs": [],
     "prompt_number": 1
    },
    {
     "cell_type": "heading",
     "level": 3,
     "metadata": {},
     "source": [
      "Read Files"
     ]
    },
    {
     "cell_type": "code",
     "collapsed": false,
     "input": [
      "def read_files(path): \n",
      "    return  [''.join( open(f, 'r', encoding=\"utf8\").read()).encode('utf-8') for f in glob.glob(path+\"/*.txt\")]"
     ],
     "language": "python",
     "metadata": {},
     "outputs": [],
     "prompt_number": 2
    },
    {
     "cell_type": "heading",
     "level": 3,
     "metadata": {},
     "source": [
      "Distance"
     ]
    },
    {
     "cell_type": "code",
     "collapsed": false,
     "input": [
      "def distance(text_a, text_b):\n",
      "    \n",
      "    text_ab = text_a + text_b\n",
      "    text_ba = text_b + text_a\n",
      "    \n",
      "    zip_a = zlib.compress(text_a)\n",
      "    zip_b = zlib.compress(text_b)\n",
      "    zip_ab = zlib.compress(text_a + text_b)\n",
      "    zip_ba = zlib.compress(text_b + text_a)\n",
      "    \n",
      "    return (len(zip_ab) - len(zip_a)) / float(len(zip_a)) + (len(zip_ba) - len(zip_b)) / float(len(zip_b))"
     ],
     "language": "python",
     "metadata": {},
     "outputs": [],
     "prompt_number": 45
    },
    {
     "cell_type": "heading",
     "level": 3,
     "metadata": {},
     "source": [
      "Load Data"
     ]
    },
    {
     "cell_type": "code",
     "collapsed": false,
     "input": [
      "skiing = read_files(\"../data/skiing\")\n",
      "skijumps = read_files(\"../data/skijumps\")\n",
      "snakes = read_files(\"../data/snakes\")"
     ],
     "language": "python",
     "metadata": {},
     "outputs": [],
     "prompt_number": 4
    },
    {
     "cell_type": "code",
     "collapsed": false,
     "input": [
      "print(len(skiing))\n",
      "print(len(skijumps))\n",
      "print(len(snakes))"
     ],
     "language": "python",
     "metadata": {},
     "outputs": [
      {
       "output_type": "stream",
       "stream": "stdout",
       "text": [
        "20\n",
        "20\n",
        "20\n"
       ]
      }
     ],
     "prompt_number": 6
    },
    {
     "cell_type": "code",
     "collapsed": false,
     "input": [
      "X_data = skiing + skijumps + snakes\n",
      "y_data = [0] * len(skiing) + [1] * len(skijumps) + [2] * len(snakes)"
     ],
     "language": "python",
     "metadata": {},
     "outputs": [],
     "prompt_number": 38
    },
    {
     "cell_type": "code",
     "collapsed": false,
     "input": [
      "X_indices = np.matrix(range(len(X_data))).T\n",
      "Y_indices = np.array(y_data).T"
     ],
     "language": "python",
     "metadata": {},
     "outputs": [],
     "prompt_number": 42
    },
    {
     "cell_type": "code",
     "collapsed": false,
     "input": [
      "X_indices"
     ],
     "language": "python",
     "metadata": {},
     "outputs": [
      {
       "metadata": {},
       "output_type": "pyout",
       "prompt_number": 43,
       "text": [
        "matrix([[ 0],\n",
        "        [ 1],\n",
        "        [ 2],\n",
        "        [ 3],\n",
        "        [ 4],\n",
        "        [ 5],\n",
        "        [ 6],\n",
        "        [ 7],\n",
        "        [ 8],\n",
        "        [ 9],\n",
        "        [10],\n",
        "        [11],\n",
        "        [12],\n",
        "        [13],\n",
        "        [14],\n",
        "        [15],\n",
        "        [16],\n",
        "        [17],\n",
        "        [18],\n",
        "        [19],\n",
        "        [20],\n",
        "        [21],\n",
        "        [22],\n",
        "        [23],\n",
        "        [24],\n",
        "        [25],\n",
        "        [26],\n",
        "        [27],\n",
        "        [28],\n",
        "        [29],\n",
        "        [30],\n",
        "        [31],\n",
        "        [32],\n",
        "        [33],\n",
        "        [34],\n",
        "        [35],\n",
        "        [36],\n",
        "        [37],\n",
        "        [38],\n",
        "        [39],\n",
        "        [40],\n",
        "        [41],\n",
        "        [42],\n",
        "        [43],\n",
        "        [44],\n",
        "        [45],\n",
        "        [46],\n",
        "        [47],\n",
        "        [48],\n",
        "        [49],\n",
        "        [50],\n",
        "        [51],\n",
        "        [52],\n",
        "        [53],\n",
        "        [54],\n",
        "        [55],\n",
        "        [56],\n",
        "        [57],\n",
        "        [58],\n",
        "        [59]])"
       ]
      }
     ],
     "prompt_number": 43
    },
    {
     "cell_type": "code",
     "collapsed": false,
     "input": [
      "Y_indices"
     ],
     "language": "python",
     "metadata": {},
     "outputs": [
      {
       "metadata": {},
       "output_type": "pyout",
       "prompt_number": 44,
       "text": [
        "array([0, 0, 0, 0, 0, 0, 0, 0, 0, 0, 0, 0, 0, 0, 0, 0, 0, 0, 0, 0, 1, 1, 1,\n",
        "       1, 1, 1, 1, 1, 1, 1, 1, 1, 1, 1, 1, 1, 1, 1, 1, 1, 2, 2, 2, 2, 2, 2,\n",
        "       2, 2, 2, 2, 2, 2, 2, 2, 2, 2, 2, 2, 2, 2])"
       ]
      }
     ],
     "prompt_number": 44
    },
    {
     "cell_type": "heading",
     "level": 3,
     "metadata": {},
     "source": [
      "Kernel"
     ]
    },
    {
     "cell_type": "code",
     "collapsed": false,
     "input": [
      "def string_kernel(X1, X2):\n",
      "    R = np.zeros( ( len( X1 ), len( X2 ) ) )\n",
      "    \n",
      "    for i in range( len( X1 ) ):\n",
      "        text_a = X_data[ int( X1[ i, 0 ] ) ]\n",
      "        for j in range( i, len( X2 ) ):\n",
      "            text_b = X_data[ int( X2[ j, 0 ] ) ]            \n",
      "            R[i, j] = distance( text_a, text_b )\n",
      "            R[j, i] = R[i, j]  # It is symetric, so we can do it a bit faster\n",
      " \n",
      "    return R"
     ],
     "language": "python",
     "metadata": {},
     "outputs": [],
     "prompt_number": 51
    },
    {
     "cell_type": "code",
     "collapsed": false,
     "input": [
      "# we create an instance of SVM and fit out data.\n",
      "clf = SVC(kernel=string_kernel)\n",
      "clf.fit(X_indices, Y_indices)"
     ],
     "language": "python",
     "metadata": {},
     "outputs": [
      {
       "metadata": {},
       "output_type": "pyout",
       "prompt_number": 52,
       "text": [
        "SVC(C=1.0, cache_size=200, class_weight=None, coef0=0.0, degree=3, gamma=0.0,\n",
        "  kernel=<function string_kernel at 0x05785CD8>, max_iter=-1,\n",
        "  probability=False, random_state=None, shrinking=True, tol=0.001,\n",
        "  verbose=False)"
       ]
      }
     ],
     "prompt_number": 52
    },
    {
     "cell_type": "heading",
     "level": 3,
     "metadata": {},
     "source": [
      "Zip files"
     ]
    },
    {
     "cell_type": "code",
     "collapsed": false,
     "input": [
      "text_a = zlib.compress(files[0])\n",
      "text_b = zlib.compress(files[1])\n",
      "text_ab = zlib.compress(files[0] + files[1])\n",
      "text_ba = zlib.compress(files[1] + files[0])"
     ],
     "language": "python",
     "metadata": {},
     "outputs": [],
     "prompt_number": 6
    },
    {
     "cell_type": "code",
     "collapsed": false,
     "input": [
      "distance(text_a, text_b, text_ab, text_ba)"
     ],
     "language": "python",
     "metadata": {},
     "outputs": [
      {
       "metadata": {},
       "output_type": "pyout",
       "prompt_number": 7,
       "text": [
        "1.8634357445832856"
       ]
      }
     ],
     "prompt_number": 7
    },
    {
     "cell_type": "code",
     "collapsed": false,
     "input": [
      "files_ascii = [f.decode('utf-8').encode(\"ascii\", \"ignore\")for f in files]"
     ],
     "language": "python",
     "metadata": {},
     "outputs": [],
     "prompt_number": 22
    },
    {
     "cell_type": "code",
     "collapsed": false,
     "input": [
      "X = np.array(files_ascii)\n",
      "y = np.array([0,0])"
     ],
     "language": "python",
     "metadata": {},
     "outputs": [],
     "prompt_number": 25
    },
    {
     "cell_type": "code",
     "collapsed": false,
     "input": [
      "clf = SVC()\n",
      "clf.fit(X, y)"
     ],
     "language": "python",
     "metadata": {},
     "outputs": [
      {
       "ename": "ValueError",
       "evalue": "could not convert string to float: 'One of the grandest engineering marvels of the ancient worldthe Great Dam of Marib in central Yemenhas been damaged in an airstrike, according to local news reports and archaeological experts in touch with local sources.\\n\\nAncient Marib was the capital of the wealthy caravan kingdom of Saba (biblical Sheba, home of the legendary queen), which thrived during the first millennium B.C. Along with remains of the Great Dam, considered the most important ancient site in Yemen, excavations of the Sabaean capital have revealed two elaborate pre-Islamic temple precincts dedicated to Almaqah, the chief deity of the kingdom.\\n\\nThousands of inscriptions identified in Marib are providing researchers with an unusually detailed insight into the kingdoms laws, institutions, and details of everyday life.\\n\\nOver the past several weeks, fighting between Shiite Houthi rebels and forces loyal to Yemeni president Abd Rabbuh Mansur Hadi, with support in the air by a Saudi Arabian coalition, has escalated around the modern city of Marib, the center of the countrys oil and electrical facilities located just a few miles from the ancient capital. (Understand the various players in Yemens current crisis.)\\n\\nInitial reports of damage to the Great Dam appeared on social media and in local news reports on Sunday. However, widespread communication shutdowns across the country have made independent confirmation by the international archaeological community difficult.\\n'",
       "output_type": "pyerr",
       "traceback": [
        "\u001b[1;31m---------------------------------------------------------------------------\u001b[0m\n\u001b[1;31mValueError\u001b[0m                                Traceback (most recent call last)",
        "\u001b[1;32m<ipython-input-24-231027e9c435>\u001b[0m in \u001b[0;36m<module>\u001b[1;34m()\u001b[0m\n\u001b[0;32m      1\u001b[0m \u001b[0mclf\u001b[0m \u001b[1;33m=\u001b[0m \u001b[0mSVC\u001b[0m\u001b[1;33m(\u001b[0m\u001b[1;33m)\u001b[0m\u001b[1;33m\u001b[0m\u001b[0m\n\u001b[1;32m----> 2\u001b[1;33m \u001b[0mclf\u001b[0m\u001b[1;33m.\u001b[0m\u001b[0mfit\u001b[0m\u001b[1;33m(\u001b[0m\u001b[0mX\u001b[0m\u001b[1;33m,\u001b[0m \u001b[0my\u001b[0m\u001b[1;33m)\u001b[0m\u001b[1;33m\u001b[0m\u001b[0m\n\u001b[0m",
        "\u001b[1;32mC:\\Python34\\lib\\site-packages\\sklearn\\svm\\base.py\u001b[0m in \u001b[0;36mfit\u001b[1;34m(self, X, y, sample_weight)\u001b[0m\n\u001b[0;32m    135\u001b[0m         \u001b[0mself\u001b[0m\u001b[1;33m.\u001b[0m\u001b[0m_sparse\u001b[0m \u001b[1;33m=\u001b[0m \u001b[0msparse\u001b[0m \u001b[1;32mand\u001b[0m \u001b[1;32mnot\u001b[0m \u001b[0mcallable\u001b[0m\u001b[1;33m(\u001b[0m\u001b[0mself\u001b[0m\u001b[1;33m.\u001b[0m\u001b[0mkernel\u001b[0m\u001b[1;33m)\u001b[0m\u001b[1;33m\u001b[0m\u001b[0m\n\u001b[0;32m    136\u001b[0m \u001b[1;33m\u001b[0m\u001b[0m\n\u001b[1;32m--> 137\u001b[1;33m         \u001b[0mX\u001b[0m \u001b[1;33m=\u001b[0m \u001b[0matleast2d_or_csr\u001b[0m\u001b[1;33m(\u001b[0m\u001b[0mX\u001b[0m\u001b[1;33m,\u001b[0m \u001b[0mdtype\u001b[0m\u001b[1;33m=\u001b[0m\u001b[0mnp\u001b[0m\u001b[1;33m.\u001b[0m\u001b[0mfloat64\u001b[0m\u001b[1;33m,\u001b[0m \u001b[0morder\u001b[0m\u001b[1;33m=\u001b[0m\u001b[1;34m'C'\u001b[0m\u001b[1;33m)\u001b[0m\u001b[1;33m\u001b[0m\u001b[0m\n\u001b[0m\u001b[0;32m    138\u001b[0m         \u001b[0my\u001b[0m \u001b[1;33m=\u001b[0m \u001b[0mself\u001b[0m\u001b[1;33m.\u001b[0m\u001b[0m_validate_targets\u001b[0m\u001b[1;33m(\u001b[0m\u001b[0my\u001b[0m\u001b[1;33m)\u001b[0m\u001b[1;33m\u001b[0m\u001b[0m\n\u001b[0;32m    139\u001b[0m \u001b[1;33m\u001b[0m\u001b[0m\n",
        "\u001b[1;32mC:\\Python34\\lib\\site-packages\\sklearn\\utils\\validation.py\u001b[0m in \u001b[0;36matleast2d_or_csr\u001b[1;34m(X, dtype, order, copy, force_all_finite)\u001b[0m\n\u001b[0;32m    163\u001b[0m     return _atleast2d_or_sparse(X, dtype, order, copy, sp.csr_matrix,\n\u001b[0;32m    164\u001b[0m                                 \u001b[1;34m\"tocsr\"\u001b[0m\u001b[1;33m,\u001b[0m \u001b[0msp\u001b[0m\u001b[1;33m.\u001b[0m\u001b[0misspmatrix_csr\u001b[0m\u001b[1;33m,\u001b[0m\u001b[1;33m\u001b[0m\u001b[0m\n\u001b[1;32m--> 165\u001b[1;33m                                 force_all_finite)\n\u001b[0m\u001b[0;32m    166\u001b[0m \u001b[1;33m\u001b[0m\u001b[0m\n\u001b[0;32m    167\u001b[0m \u001b[1;33m\u001b[0m\u001b[0m\n",
        "\u001b[1;32mC:\\Python34\\lib\\site-packages\\sklearn\\utils\\validation.py\u001b[0m in \u001b[0;36m_atleast2d_or_sparse\u001b[1;34m(X, dtype, order, copy, sparse_class, convmethod, check_same_type, force_all_finite)\u001b[0m\n\u001b[0;32m    140\u001b[0m     \u001b[1;32melse\u001b[0m\u001b[1;33m:\u001b[0m\u001b[1;33m\u001b[0m\u001b[0m\n\u001b[0;32m    141\u001b[0m         X = array2d(X, dtype=dtype, order=order, copy=copy,\n\u001b[1;32m--> 142\u001b[1;33m                     force_all_finite=force_all_finite)\n\u001b[0m\u001b[0;32m    143\u001b[0m     \u001b[1;32mreturn\u001b[0m \u001b[0mX\u001b[0m\u001b[1;33m\u001b[0m\u001b[0m\n\u001b[0;32m    144\u001b[0m \u001b[1;33m\u001b[0m\u001b[0m\n",
        "\u001b[1;32mC:\\Python34\\lib\\site-packages\\sklearn\\utils\\validation.py\u001b[0m in \u001b[0;36marray2d\u001b[1;34m(X, dtype, order, copy, force_all_finite)\u001b[0m\n\u001b[0;32m    118\u001b[0m         raise TypeError('A sparse matrix was passed, but dense data '\n\u001b[0;32m    119\u001b[0m                         'is required. Use X.toarray() to convert to dense.')\n\u001b[1;32m--> 120\u001b[1;33m     \u001b[0mX_2d\u001b[0m \u001b[1;33m=\u001b[0m \u001b[0mnp\u001b[0m\u001b[1;33m.\u001b[0m\u001b[0masarray\u001b[0m\u001b[1;33m(\u001b[0m\u001b[0mnp\u001b[0m\u001b[1;33m.\u001b[0m\u001b[0matleast_2d\u001b[0m\u001b[1;33m(\u001b[0m\u001b[0mX\u001b[0m\u001b[1;33m)\u001b[0m\u001b[1;33m,\u001b[0m \u001b[0mdtype\u001b[0m\u001b[1;33m=\u001b[0m\u001b[0mdtype\u001b[0m\u001b[1;33m,\u001b[0m \u001b[0morder\u001b[0m\u001b[1;33m=\u001b[0m\u001b[0morder\u001b[0m\u001b[1;33m)\u001b[0m\u001b[1;33m\u001b[0m\u001b[0m\n\u001b[0m\u001b[0;32m    121\u001b[0m     \u001b[1;32mif\u001b[0m \u001b[0mforce_all_finite\u001b[0m\u001b[1;33m:\u001b[0m\u001b[1;33m\u001b[0m\u001b[0m\n\u001b[0;32m    122\u001b[0m         \u001b[0m_assert_all_finite\u001b[0m\u001b[1;33m(\u001b[0m\u001b[0mX_2d\u001b[0m\u001b[1;33m)\u001b[0m\u001b[1;33m\u001b[0m\u001b[0m\n",
        "\u001b[1;32mC:\\Python34\\lib\\site-packages\\numpy\\core\\numeric.py\u001b[0m in \u001b[0;36masarray\u001b[1;34m(a, dtype, order)\u001b[0m\n\u001b[0;32m    460\u001b[0m \u001b[1;33m\u001b[0m\u001b[0m\n\u001b[0;32m    461\u001b[0m     \"\"\"\n\u001b[1;32m--> 462\u001b[1;33m     \u001b[1;32mreturn\u001b[0m \u001b[0marray\u001b[0m\u001b[1;33m(\u001b[0m\u001b[0ma\u001b[0m\u001b[1;33m,\u001b[0m \u001b[0mdtype\u001b[0m\u001b[1;33m,\u001b[0m \u001b[0mcopy\u001b[0m\u001b[1;33m=\u001b[0m\u001b[1;32mFalse\u001b[0m\u001b[1;33m,\u001b[0m \u001b[0morder\u001b[0m\u001b[1;33m=\u001b[0m\u001b[0morder\u001b[0m\u001b[1;33m)\u001b[0m\u001b[1;33m\u001b[0m\u001b[0m\n\u001b[0m\u001b[0;32m    463\u001b[0m \u001b[1;33m\u001b[0m\u001b[0m\n\u001b[0;32m    464\u001b[0m \u001b[1;32mdef\u001b[0m \u001b[0masanyarray\u001b[0m\u001b[1;33m(\u001b[0m\u001b[0ma\u001b[0m\u001b[1;33m,\u001b[0m \u001b[0mdtype\u001b[0m\u001b[1;33m=\u001b[0m\u001b[1;32mNone\u001b[0m\u001b[1;33m,\u001b[0m \u001b[0morder\u001b[0m\u001b[1;33m=\u001b[0m\u001b[1;32mNone\u001b[0m\u001b[1;33m)\u001b[0m\u001b[1;33m:\u001b[0m\u001b[1;33m\u001b[0m\u001b[0m\n",
        "\u001b[1;31mValueError\u001b[0m: could not convert string to float: 'One of the grandest engineering marvels of the ancient worldthe Great Dam of Marib in central Yemenhas been damaged in an airstrike, according to local news reports and archaeological experts in touch with local sources.\\n\\nAncient Marib was the capital of the wealthy caravan kingdom of Saba (biblical Sheba, home of the legendary queen), which thrived during the first millennium B.C. Along with remains of the Great Dam, considered the most important ancient site in Yemen, excavations of the Sabaean capital have revealed two elaborate pre-Islamic temple precincts dedicated to Almaqah, the chief deity of the kingdom.\\n\\nThousands of inscriptions identified in Marib are providing researchers with an unusually detailed insight into the kingdoms laws, institutions, and details of everyday life.\\n\\nOver the past several weeks, fighting between Shiite Houthi rebels and forces loyal to Yemeni president Abd Rabbuh Mansur Hadi, with support in the air by a Saudi Arabian coalition, has escalated around the modern city of Marib, the center of the countrys oil and electrical facilities located just a few miles from the ancient capital. (Understand the various players in Yemens current crisis.)\\n\\nInitial reports of damage to the Great Dam appeared on social media and in local news reports on Sunday. However, widespread communication shutdowns across the country have made independent confirmation by the international archaeological community difficult.\\n'"
       ]
      }
     ],
     "prompt_number": 24
    },
    {
     "cell_type": "code",
     "collapsed": false,
     "input": [],
     "language": "python",
     "metadata": {},
     "outputs": []
    }
   ],
   "metadata": {}
  }
 ]
}