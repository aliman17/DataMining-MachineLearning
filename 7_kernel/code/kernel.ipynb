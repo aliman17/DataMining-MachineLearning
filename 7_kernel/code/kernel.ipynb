{
 "metadata": {
  "name": "",
  "signature": "sha256:5e985dd1520fd9b7e94e6c062b397a437f7fea3accb9d4ec4f2f015ce99ffee5"
 },
 "nbformat": 3,
 "nbformat_minor": 0,
 "worksheets": [
  {
   "cells": [
    {
     "cell_type": "markdown",
     "metadata": {},
     "source": [
      "http://www.diffbot.com/products/automatic/article/"
     ]
    },
    {
     "cell_type": "code",
     "collapsed": false,
     "input": [
      "import numpy as np\n",
      "import zlib\n",
      "import time\n",
      "import sys\n",
      "import glob, os\n",
      "import sklearn\n",
      "from sklearn.svm import SVC\n",
      "from sklearn import cross_validation"
     ],
     "language": "python",
     "metadata": {},
     "outputs": [],
     "prompt_number": 1
    },
    {
     "cell_type": "heading",
     "level": 3,
     "metadata": {},
     "source": [
      "Read Files"
     ]
    },
    {
     "cell_type": "code",
     "collapsed": false,
     "input": [
      "def read_files(path): \n",
      "    return  [''.join( open(f, 'r', encoding=\"utf8\").read()).encode('utf-8') for f in glob.glob(path+\"/*.txt\")]"
     ],
     "language": "python",
     "metadata": {},
     "outputs": [],
     "prompt_number": 2
    },
    {
     "cell_type": "heading",
     "level": 3,
     "metadata": {},
     "source": [
      "Distance"
     ]
    },
    {
     "cell_type": "code",
     "collapsed": false,
     "input": [
      "def distance(text_a, text_b):\n",
      "    \n",
      "    text_ab = text_a + text_b\n",
      "    text_ba = text_b + text_a\n",
      "    \n",
      "    zip_a = zlib.compress(text_a)\n",
      "    zip_b = zlib.compress(text_b)\n",
      "    zip_ab = zlib.compress(text_a + text_b)\n",
      "    zip_ba = zlib.compress(text_b + text_a)\n",
      "    \n",
      "    return (len(zip_ab) - len(zip_a)) / float(len(zip_a)) + (len(zip_ba) - len(zip_b)) / float(len(zip_b))"
     ],
     "language": "python",
     "metadata": {},
     "outputs": [],
     "prompt_number": 3
    },
    {
     "cell_type": "heading",
     "level": 3,
     "metadata": {},
     "source": [
      "Load Data"
     ]
    },
    {
     "cell_type": "code",
     "collapsed": false,
     "input": [
      "skiing = read_files(\"../data/skiing\")\n",
      "skijumps = read_files(\"../data/skijumps\")\n",
      "snakes = read_files(\"../data/snakes\")"
     ],
     "language": "python",
     "metadata": {},
     "outputs": [],
     "prompt_number": 4
    },
    {
     "cell_type": "code",
     "collapsed": false,
     "input": [
      "X_data = skiing + skijumps + snakes\n",
      "y_data = [0] * len(skiing) + [1] * len(skijumps) + [2] * len(snakes)"
     ],
     "language": "python",
     "metadata": {},
     "outputs": [],
     "prompt_number": 5
    },
    {
     "cell_type": "code",
     "collapsed": false,
     "input": [
      "X = np.matrix(range(len(X_data))).T\n",
      "Y = np.array(y_data).T"
     ],
     "language": "python",
     "metadata": {},
     "outputs": [],
     "prompt_number": 6
    },
    {
     "cell_type": "code",
     "collapsed": false,
     "input": [
      "for i in range(10):\n",
      "    print(\"Distance between skiing and skiing:\", distance(skiing[0], skiing[i]))"
     ],
     "language": "python",
     "metadata": {},
     "outputs": [
      {
       "output_type": "stream",
       "stream": "stdout",
       "text": [
        "Distance between skiing and skiing: 0.06018054162487462\n",
        "Distance between skiing and skiing: 1.743935085574816\n",
        "Distance between skiing and skiing: 1.727366186829944\n",
        "Distance between skiing and skiing: 2.3292126379137414\n",
        "Distance between skiing and skiing: 3.012124609121482\n",
        "Distance between skiing and skiing: 1.726256695029902\n",
        "Distance between skiing and skiing: 1.886761260981642\n",
        "Distance between skiing and skiing: 3.219496630918396\n",
        "Distance between skiing and skiing: 1.745655402500939\n",
        "Distance between skiing and skiing: 2.0124289783296474\n"
       ]
      }
     ],
     "prompt_number": 7
    },
    {
     "cell_type": "code",
     "collapsed": false,
     "input": [
      "for i in range(10):\n",
      "    print(\"Distance between skiing and snakes:\", distance(skiing[1], snakes[i]))"
     ],
     "language": "python",
     "metadata": {},
     "outputs": [
      {
       "output_type": "stream",
       "stream": "stdout",
       "text": [
        "Distance between skiing and snakes: 1.8617767666929073\n",
        "Distance between skiing and snakes: 1.9670721205291484\n",
        "Distance between skiing and snakes: 1.9035597094034182\n",
        "Distance between skiing and snakes: 2.431620422393177\n",
        "Distance between skiing and snakes: 2.0077559881985003\n",
        "Distance between skiing and snakes: 2.3478155939981997\n",
        "Distance between skiing and snakes: 1.855518003092556\n",
        "Distance between skiing and snakes: 1.9678140555423507\n",
        "Distance between skiing and snakes: 1.985696654003279\n",
        "Distance between skiing and snakes: 2.841418892123141\n"
       ]
      }
     ],
     "prompt_number": 8
    },
    {
     "cell_type": "code",
     "collapsed": false,
     "input": [
      "for i in range(10):\n",
      "    print(\"Distance between snakes and snakes:\", distance(snakes[0], snakes[i]))"
     ],
     "language": "python",
     "metadata": {},
     "outputs": [
      {
       "output_type": "stream",
       "stream": "stdout",
       "text": [
        "Distance between snakes and snakes: 0.05704697986577181\n",
        "Distance between snakes and snakes: 1.8364415777968603\n",
        "Distance between snakes and snakes: 1.8097757031149104\n",
        "Distance between snakes and snakes: 2.1611189850903885\n",
        "Distance between snakes and snakes: 1.879376491631914\n",
        "Distance between snakes and snakes: 2.119543223479916\n",
        "Distance between snakes and snakes: 1.826662938105891\n",
        "Distance between snakes and snakes: 1.7984895850243272\n",
        "Distance between snakes and snakes: 1.874235618465385\n",
        "Distance between snakes and snakes: 2.499491029578619\n"
       ]
      }
     ],
     "prompt_number": 9
    },
    {
     "cell_type": "code",
     "collapsed": false,
     "input": [
      "snakes[0]\n"
     ],
     "language": "python",
     "metadata": {},
     "outputs": []
    },
    {
     "cell_type": "heading",
     "level": 3,
     "metadata": {},
     "source": [
      "Kernel"
     ]
    },
    {
     "cell_type": "code",
     "collapsed": false,
     "input": [
      "def string_kernel(X1, X2):\n",
      "    R = np.zeros( ( len( X1 ), len( X2 ) ) )\n",
      "    \n",
      "    for i in range( len( X1 ) ):\n",
      "        text_a = X_data[ int( X1[ i, 0 ] ) ]\n",
      "        for j in range( len( X2 ) ):\n",
      "            text_b = X_data[ int( X2[ j, 0 ] ) ]            \n",
      "            R[i, j] = distance( text_a, text_b ) \n",
      "    return 1/R"
     ],
     "language": "python",
     "metadata": {},
     "outputs": [],
     "prompt_number": 10
    },
    {
     "cell_type": "heading",
     "level": 3,
     "metadata": {},
     "source": [
      "Predict on all data"
     ]
    },
    {
     "cell_type": "code",
     "collapsed": false,
     "input": [
      "# we create an instance of SVM and fit out data.\n",
      "clf = SVC(kernel=string_kernel, probability=True)\n",
      "clf.fit(X, Y)"
     ],
     "language": "python",
     "metadata": {},
     "outputs": [
      {
       "metadata": {},
       "output_type": "pyout",
       "prompt_number": 13,
       "text": [
        "SVC(C=1.0, cache_size=200, class_weight=None, coef0=0.0, degree=3, gamma=0.0,\n",
        "  kernel=<function string_kernel at 0x05ECA858>, max_iter=-1,\n",
        "  probability=True, random_state=None, shrinking=True, tol=0.001,\n",
        "  verbose=False)"
       ]
      }
     ],
     "prompt_number": 13
    },
    {
     "cell_type": "code",
     "collapsed": false,
     "input": [
      "predicted = clf.predict(X)"
     ],
     "language": "python",
     "metadata": {},
     "outputs": [],
     "prompt_number": 19
    },
    {
     "cell_type": "code",
     "collapsed": false,
     "input": [
      "predicted == Y"
     ],
     "language": "python",
     "metadata": {},
     "outputs": [
      {
       "metadata": {},
       "output_type": "pyout",
       "prompt_number": 21,
       "text": [
        "array([ True,  True,  True,  True,  True,  True,  True,  True,  True,\n",
        "        True,  True,  True,  True,  True,  True,  True,  True,  True,\n",
        "        True,  True,  True,  True,  True,  True,  True,  True,  True,\n",
        "        True,  True,  True,  True,  True,  True,  True,  True,  True,\n",
        "        True,  True,  True,  True,  True,  True,  True,  True,  True,\n",
        "        True,  True,  True,  True,  True,  True,  True,  True,  True,\n",
        "        True,  True,  True,  True,  True,  True], dtype=bool)"
       ]
      }
     ],
     "prompt_number": 21
    },
    {
     "cell_type": "heading",
     "level": 3,
     "metadata": {},
     "source": [
      "Predict 2nd half"
     ]
    },
    {
     "cell_type": "code",
     "collapsed": false,
     "input": [
      "predicted = clf.predict(X[len(X)/2 : ])"
     ],
     "language": "python",
     "metadata": {},
     "outputs": [],
     "prompt_number": 22
    },
    {
     "cell_type": "code",
     "collapsed": false,
     "input": [
      "predicted == Y[len(X)/2 : ]"
     ],
     "language": "python",
     "metadata": {},
     "outputs": [
      {
       "metadata": {},
       "output_type": "pyout",
       "prompt_number": 23,
       "text": [
        "array([ True,  True,  True,  True,  True,  True,  True,  True,  True,\n",
        "        True,  True,  True,  True,  True,  True,  True,  True,  True,\n",
        "        True,  True,  True,  True,  True,  True,  True,  True,  True,\n",
        "        True,  True,  True], dtype=bool)"
       ]
      }
     ],
     "prompt_number": 23
    },
    {
     "cell_type": "heading",
     "level": 3,
     "metadata": {},
     "source": [
      "Cross Validation  Leave-One-Out"
     ]
    },
    {
     "cell_type": "code",
     "collapsed": false,
     "input": [
      "def auc(pred, real):\n",
      "    return sklearn.metrics.roc_auc_score(real, pred)\n",
      "\n",
      "def ac(pred, real):\n",
      "    return sklearn.metrics.accuracy_score(real, pred)\n",
      "\n",
      "\n",
      "def my_cross_validation(X, Y, model):\n",
      "    S = np.array([])\n",
      "    C = np.array([])\n",
      "    kf = cross_validation.LeaveOneOut(len(Y))\n",
      "    for train_index, test_index in kf:\n",
      "        # Split\n",
      "        X_train, X_test = X[train_index], X[test_index]\n",
      "        Y_train, Y_test = Y[train_index], Y[test_index]\n",
      "        \n",
      "        model.fit(X_train, Y_train)\n",
      "        predicted = model.predict_proba(X_test)\n",
      "        classification = model.predict(X_test)\n",
      "        #print(predicted, predicted[0,1])\n",
      "        S = np.append(S, predicted[0, 1])\n",
      "        C = np.append(C, classification[0])\n",
      "        #print(S, C)\n",
      "    \n",
      "    score_auc = auc(S, Y_tmp)\n",
      "    score_ac = ac(C, Y_tmp)\n",
      "    return score_auc, score_ac"
     ],
     "language": "python",
     "metadata": {},
     "outputs": [],
     "prompt_number": 58
    },
    {
     "cell_type": "heading",
     "level": 3,
     "metadata": {},
     "source": [
      "Skiing and skijumps"
     ]
    },
    {
     "cell_type": "code",
     "collapsed": false,
     "input": [
      "indices = (Y==0) + (Y==1)\n",
      "\n",
      "X_tmp = X[indices]\n",
      "Y_tmp = Y[indices]\n",
      "\n",
      "clf = SVC(kernel=string_kernel, probability=True)\n",
      "my_cross_validation(X_tmp, Y_tmp, clf)"
     ],
     "language": "python",
     "metadata": {},
     "outputs": [
      {
       "metadata": {},
       "output_type": "pyout",
       "prompt_number": 38,
       "text": [
        "0.74750000000000016"
       ]
      }
     ],
     "prompt_number": 38
    },
    {
     "cell_type": "code",
     "collapsed": false,
     "input": [
      "indices = (Y==0) + (Y==1)\n",
      "\n",
      "X_tmp = X[indices]\n",
      "Y_tmp = Y[indices]\n",
      "\n",
      "clf = SVC(kernel=string_kernel,  probability=True)\n",
      "my_cross_validation(X_tmp, Y_tmp, clf)"
     ],
     "language": "python",
     "metadata": {},
     "outputs": [
      {
       "metadata": {},
       "output_type": "pyout",
       "prompt_number": 62,
       "text": [
        "(0.76500000000000001, 0.72499999999999998)"
       ]
      }
     ],
     "prompt_number": 62
    },
    {
     "cell_type": "code",
     "collapsed": false,
     "input": [
      "S"
     ],
     "language": "python",
     "metadata": {},
     "outputs": [
      {
       "metadata": {},
       "output_type": "pyout",
       "prompt_number": 52,
       "text": [
        "array([ 0.38554525,  0.51041013,  0.30090983,  0.5       ,  0.58037746,\n",
        "        0.41993375,  0.27482082,  0.78451856,  0.26495954,  0.3092143 ,\n",
        "        0.37293232,  0.32053084,  0.22850276,  0.19402628,  0.30398334,\n",
        "        0.26196204,  0.5825762 ,  0.47616864,  0.24249379,  0.57091652,\n",
        "        0.5497899 ,  0.5       ,  0.68649478,  0.47929254,  0.74238389,\n",
        "        0.51818552,  0.7062756 ,  0.88100659,  0.55165459,  0.5055329 ,\n",
        "        0.48840952,  0.20654062,  0.69315709,  0.67219331,  0.68873126,\n",
        "        0.52132148,  0.7551176 ,  0.54228979,  0.49194769,  0.64075927])"
       ]
      }
     ],
     "prompt_number": 52
    },
    {
     "cell_type": "code",
     "collapsed": false,
     "input": [
      "C"
     ],
     "language": "python",
     "metadata": {},
     "outputs": [
      {
       "metadata": {},
       "output_type": "pyout",
       "prompt_number": 53,
       "text": [
        "array([ 0.,  0.,  0.,  1.,  1.,  0.,  0.,  1.,  0.,  0.,  0.,  0.,  0.,\n",
        "        0.,  0.,  0.,  1.,  0.,  0.,  1.,  1.,  0.,  1.,  0.,  1.,  0.,\n",
        "        1.,  1.,  1.,  1.,  1.,  0.,  1.,  1.,  1.,  0.,  1.,  1.,  0.,  1.])"
       ]
      }
     ],
     "prompt_number": 53
    },
    {
     "cell_type": "code",
     "collapsed": false,
     "input": [
      "auc(S, Y_tmp)\n",
      "ac(C, Y_tmp)"
     ],
     "language": "python",
     "metadata": {},
     "outputs": [
      {
       "metadata": {},
       "output_type": "pyout",
       "prompt_number": 56,
       "text": [
        "0.81125000000000003"
       ]
      }
     ],
     "prompt_number": 56
    },
    {
     "cell_type": "heading",
     "level": 3,
     "metadata": {},
     "source": [
      "Skijumps and snakes"
     ]
    },
    {
     "cell_type": "code",
     "collapsed": false,
     "input": [
      "indices = (Y==1) + (Y==2)\n",
      "\n",
      "X_tmp = X[indices]\n",
      "Y_tmp = Y[indices] - 1\n",
      "\n",
      "clf = SVC(kernel=string_kernel,  probability=True)\n",
      "my_cross_validation(X_tmp, Y_tmp, clf)"
     ],
     "language": "python",
     "metadata": {},
     "outputs": [
      {
       "metadata": {},
       "output_type": "pyout",
       "prompt_number": 60,
       "text": [
        "(0.67499999999999993, 0.69999999999999996)"
       ]
      }
     ],
     "prompt_number": 60
    },
    {
     "cell_type": "heading",
     "level": 3,
     "metadata": {},
     "source": [
      "Skiing and Snakes"
     ]
    },
    {
     "cell_type": "code",
     "collapsed": false,
     "input": [
      "indices = (Y==0) + (Y==2)\n",
      "\n",
      "X_tmp = X[indices]\n",
      "Y_tmp = Y[indices] / 2\n",
      "\n",
      "clf = SVC(kernel=string_kernel,  probability=True)\n",
      "my_cross_validation(X_tmp, Y_tmp, clf)"
     ],
     "language": "python",
     "metadata": {},
     "outputs": [
      {
       "metadata": {},
       "output_type": "pyout",
       "prompt_number": 61,
       "text": [
        "(0.61124999999999996, 0.42499999999999999)"
       ]
      }
     ],
     "prompt_number": 61
    },
    {
     "cell_type": "code",
     "collapsed": false,
     "input": [],
     "language": "python",
     "metadata": {},
     "outputs": []
    }
   ],
   "metadata": {}
  }
 ]
}