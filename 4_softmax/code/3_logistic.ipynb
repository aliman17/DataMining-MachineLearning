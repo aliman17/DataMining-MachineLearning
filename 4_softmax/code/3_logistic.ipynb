{
 "metadata": {
  "name": "",
  "signature": "sha256:60e631224f0a71d203dc059fb6db0bc45df606958e364e1fdaad62498be0e43d"
 },
 "nbformat": 3,
 "nbformat_minor": 0,
 "worksheets": [
  {
   "cells": [
    {
     "cell_type": "markdown",
     "metadata": {},
     "source": [
      "Usefull links\n",
      "- http://blog.smellthedata.com/2009/06/python-logistic-regression-with-l2.html\n",
      "- http://scikit-learn.org/stable/modules/multiclass.html\n",
      "- http://scikit-learn.org/stable/developers/#get-params-and-set-params\n",
      "- http://aimotion.blogspot.com/2011/11/machine-learning-with-python-logistic.html"
     ]
    },
    {
     "cell_type": "code",
     "collapsed": false,
     "input": [
      "import numpy as np\n",
      "import random\n",
      "import math\n",
      "import scipy as sp\n",
      "from scipy.optimize.optimize import fmin_bfgs\n",
      "from sklearn.base import BaseEstimator, ClassifierMixin\n",
      "import random\n",
      "import warnings\n",
      "import random\n",
      "from sklearn import cross_validation\n",
      "from sklearn import preprocessing\n",
      "from sklearn import linear_model\n",
      "from sklearn import multiclass\n",
      "from sklearn import ensemble\n",
      "from sklearn import metrics"
     ],
     "language": "python",
     "metadata": {},
     "outputs": [],
     "prompt_number": 46
    },
    {
     "cell_type": "heading",
     "level": 3,
     "metadata": {},
     "source": [
      "Load data and normalize it"
     ]
    },
    {
     "cell_type": "code",
     "collapsed": false,
     "input": [
      "norm = preprocessing.Normalizer()\n",
      "X_train = np.loadtxt(open(\"../data/train.csv\",\"rb\"),delimiter=\",\",skiprows=1, usecols=range(1,94))\n",
      "X_train = norm.fit_transform(X_train)\n",
      "\n",
      "y_train = np.loadtxt(open(\"../data/train.csv\",\"rb\"),dtype=str,delimiter=\",\",skiprows=1, usecols=[94])\n",
      "y_train = np.array([int(c[-2]) for c in y_train])  # Parse classes from Class_1 into 1\n"
     ],
     "language": "python",
     "metadata": {},
     "outputs": [],
     "prompt_number": 161
    },
    {
     "cell_type": "code",
     "collapsed": false,
     "input": [
      "X_test = np.loadtxt(open(\"../data/test.csv\",\"rb\"),delimiter=\",\",skiprows=1, usecols=range(1,94))\n",
      "X_test = norm.transform(X_test)"
     ],
     "language": "python",
     "metadata": {},
     "outputs": [],
     "prompt_number": 165
    },
    {
     "cell_type": "heading",
     "level": 3,
     "metadata": {},
     "source": [
      "Logistic Regression"
     ]
    },
    {
     "cell_type": "code",
     "collapsed": false,
     "input": [
      "def sigmoid(z):\n",
      "    return 1 / (1 + np.exp(-z))"
     ],
     "language": "python",
     "metadata": {},
     "outputs": [],
     "prompt_number": 9
    },
    {
     "cell_type": "code",
     "collapsed": false,
     "input": [
      "fix_me = lambda p: np.maximum(np.minimum(p, 1 - 1e-15), 1e-15)\n",
      "\n",
      "def J(X, y_, theta_, alpha):\n",
      "    m = len(y_)\n",
      "    h_ = np.array(list(map(sigmoid, X.dot(theta_))))\n",
      "    l2_reg = alpha / (2*m) * sum(theta_**2)\n",
      "    J = 1/m * (y_.dot(np.log(fix_me(h_))) + (1 - y_).dot(np.log(fix_me(1 - h_)))) - l2_reg\n",
      "    return -J\n",
      "        \n",
      "def Jgrad(X, y_, theta_, alpha):\n",
      "    m = len(y_)\n",
      "    h_ = np.array(list(map(sigmoid, X.dot(theta_))))\n",
      "    grad = 1/m * (y_ - h_).dot(X) - alpha/m * theta_\n",
      "    return -grad"
     ],
     "language": "python",
     "metadata": {},
     "outputs": [],
     "prompt_number": 33
    },
    {
     "cell_type": "code",
     "collapsed": false,
     "input": [
      "def numerical_grad(f, params, epsilon):\n",
      "    \"\"\"Method of finite differences, sanity check to see if our Jgrad is implemented correctly\"\"\"\n",
      "    num_grad = np.zeros_like(params)\n",
      "    perturb = np.zeros_like(params)\n",
      "    for i in range(params.size):\n",
      "        perturb[i] = epsilon\n",
      "        j1 = f(params + perturb)\n",
      "        j2 = f(params - perturb)\n",
      "        num_grad[i] = (j1 - j2) / (2. * epsilon)\n",
      "        perturb[i] = 0\n",
      "    return num_grad\n",
      "\n",
      "def check_grad(X, y_, theta_):\n",
      "    alpha = 2\n",
      "    f = lambda theta: J(X, y_, theta, alpha)\n",
      "    ag = Jgrad(X, y_, theta_, alpha)\n",
      "    ng = numerical_grad(f, theta_, 1e-5)\n",
      "    return np.sum((ag - ng)**2)"
     ],
     "language": "python",
     "metadata": {},
     "outputs": [],
     "prompt_number": 30
    },
    {
     "cell_type": "code",
     "collapsed": false,
     "input": [
      "check_grad(X_train[:100], y_train[:100], np.ones(X_train.shape[1]))"
     ],
     "language": "python",
     "metadata": {},
     "outputs": [
      {
       "metadata": {},
       "output_type": "pyout",
       "prompt_number": 32,
       "text": [
        "6.6894738904569158e-21"
       ]
      }
     ],
     "prompt_number": 32
    },
    {
     "cell_type": "raw",
     "metadata": {},
     "source": [
      "def predict_proba(self, X):\n",
      "        X = np.column_stack((np.ones(X.shape[0]), X))  # za prosti clen\n",
      "        result = [sigmoid(np.dot(self.theta, x_)) for x_ in X]\n",
      "        return result\n",
      "    \n",
      "    def decision_function(self, X):\n",
      "        \"\"\"Predict 1 or 0 for a given vector x_\"\"\"\n",
      "        result = [sigmoid(np.dot(self.theta, x_)) for x_ in X]\n",
      "        return result\n",
      "    #result**y * (1 - result) ** (1 - y)"
     ]
    },
    {
     "cell_type": "heading",
     "level": 3,
     "metadata": {},
     "source": [
      "Cross validation"
     ]
    },
    {
     "cell_type": "code",
     "collapsed": false,
     "input": [
      "def logloss(prob, act):\n",
      "    ll = []\n",
      "    for i in range(prob.shape[0]):\n",
      "        # x je vektor verjetnosti, ki smo jih napovedali dejanskemu razredu\n",
      "        print(prob[i].shape, act.shape)\n",
      "        x = np.array([v[i] for v, i in zip(prob[i], act[i])])\n",
      "        ll.append(-sum(np.log(x))/len(x))\n",
      "    return ll"
     ],
     "language": "python",
     "metadata": {},
     "outputs": [],
     "prompt_number": 93
    },
    {
     "cell_type": "code",
     "collapsed": false,
     "input": [
      "import scipy as sp\n",
      "def evaluate(act, pred):\n",
      "    \"\"\"Log loss\"\"\"\n",
      "    epsilon = 1e-15\n",
      "    pred = sp.maximum(epsilon, pred)\n",
      "    pred = sp.minimum(1-epsilon, pred)\n",
      "    ll = sum(act*sp.log(pred) + sp.subtract(1,act)*sp.log(sp.subtract(1,pred)))\n",
      "    ll = ll * -1.0/len(act)\n",
      "    return -ll"
     ],
     "language": "python",
     "metadata": {},
     "outputs": [],
     "prompt_number": 78
    },
    {
     "cell_type": "code",
     "collapsed": false,
     "input": [
      "def evaluate2(act, pred):\n",
      "    return metrics.log_loss(act, pred, eps=1e-15, normalize=True)"
     ],
     "language": "python",
     "metadata": {},
     "outputs": [],
     "prompt_number": 40
    },
    {
     "cell_type": "code",
     "collapsed": false,
     "input": [
      "def evaluate3(act, prob):\n",
      "    return logloss(prob, act)"
     ],
     "language": "python",
     "metadata": {},
     "outputs": [],
     "prompt_number": 89
    },
    {
     "cell_type": "code",
     "collapsed": false,
     "input": [
      "# OneVsOne nima predict_proba!!! Bo treba drugace\n",
      "def my_cross_validation(X, y_, model):\n",
      "    k = 3\n",
      "    S = []\n",
      "    kf = cross_validation.KFold(len(y_), n_folds=k, shuffle=True)\n",
      "    for train_index, test_index in kf:\n",
      "        # Split\n",
      "        X_train, X_test = X[train_index], X[test_index]\n",
      "        y_train, y_test = y_[train_index], y_[test_index]\n",
      "        # Predict\n",
      "        model.fit(X_train, y_train)\n",
      "        P = model.predict_proba(X_test) \n",
      "        # Evaluate\n",
      "        S += [evaluate3(y_test, P)]\n",
      "    S = np.array(S)\n",
      "    return(np.mean(S))"
     ],
     "language": "python",
     "metadata": {},
     "outputs": [],
     "prompt_number": 85
    },
    {
     "cell_type": "heading",
     "level": 3,
     "metadata": {},
     "source": [
      "LogisticRegression sklearn"
     ]
    },
    {
     "cell_type": "code",
     "collapsed": false,
     "input": [
      "# Use integrated Logistic Regression and OneVsOneClassifier\n",
      "step = 100\n",
      "indices = list(range(0, X_train.shape[0], step))\n",
      "\n",
      "X = X_train[indices]\n",
      "y_ = y_train[indices]\n",
      "\n",
      "#logreg = linear_model.LogisticRegression()\n",
      "#classifier = multiclass.OneVsOneClassifier(logreg)\n",
      "#one = my_cross_validation(X, y_, classifier)\n",
      "\n",
      "logreg = linear_model.LogisticRegression()\n",
      "classifier = multiclass.OneVsRestClassifier(logreg)\n",
      "rest = my_cross_validation(X, y_, classifier)\n",
      "\n",
      "print(\"OneVsOne\", one)\n",
      "print(\"OneVsAll\", rest)"
     ],
     "language": "python",
     "metadata": {},
     "outputs": [
      {
       "output_type": "stream",
       "stream": "stdout",
       "text": [
        "[ 0.04098838  0.06022271  0.02954912  0.03186691  0.01501199  0.66144837\n",
        "  0.03503287  0.04335712  0.08252253]\n"
       ]
      },
      {
       "ename": "IndexError",
       "evalue": "invalid index to scalar variable.",
       "output_type": "pyerr",
       "traceback": [
        "\u001b[1;31m---------------------------------------------------------------------------\u001b[0m\n\u001b[1;31mIndexError\u001b[0m                                Traceback (most recent call last)",
        "\u001b[1;32m<ipython-input-90-7f68b6a64862>\u001b[0m in \u001b[0;36m<module>\u001b[1;34m()\u001b[0m\n\u001b[0;32m     12\u001b[0m \u001b[0mlogreg\u001b[0m \u001b[1;33m=\u001b[0m \u001b[0mlinear_model\u001b[0m\u001b[1;33m.\u001b[0m\u001b[0mLogisticRegression\u001b[0m\u001b[1;33m(\u001b[0m\u001b[1;33m)\u001b[0m\u001b[1;33m\u001b[0m\u001b[0m\n\u001b[0;32m     13\u001b[0m \u001b[0mclassifier\u001b[0m \u001b[1;33m=\u001b[0m \u001b[0mmulticlass\u001b[0m\u001b[1;33m.\u001b[0m\u001b[0mOneVsRestClassifier\u001b[0m\u001b[1;33m(\u001b[0m\u001b[0mlogreg\u001b[0m\u001b[1;33m)\u001b[0m\u001b[1;33m\u001b[0m\u001b[0m\n\u001b[1;32m---> 14\u001b[1;33m \u001b[0mrest\u001b[0m \u001b[1;33m=\u001b[0m \u001b[0mmy_cross_validation\u001b[0m\u001b[1;33m(\u001b[0m\u001b[0mX\u001b[0m\u001b[1;33m,\u001b[0m \u001b[0my_\u001b[0m\u001b[1;33m,\u001b[0m \u001b[0mclassifier\u001b[0m\u001b[1;33m)\u001b[0m\u001b[1;33m\u001b[0m\u001b[0m\n\u001b[0m\u001b[0;32m     15\u001b[0m \u001b[1;33m\u001b[0m\u001b[0m\n\u001b[0;32m     16\u001b[0m \u001b[0mprint\u001b[0m\u001b[1;33m(\u001b[0m\u001b[1;34m\"OneVsOne\"\u001b[0m\u001b[1;33m,\u001b[0m \u001b[0mone\u001b[0m\u001b[1;33m)\u001b[0m\u001b[1;33m\u001b[0m\u001b[0m\n",
        "\u001b[1;32m<ipython-input-85-b8d23a926d40>\u001b[0m in \u001b[0;36mmy_cross_validation\u001b[1;34m(X, y_, model)\u001b[0m\n\u001b[0;32m     12\u001b[0m         \u001b[0mP\u001b[0m \u001b[1;33m=\u001b[0m \u001b[0mmodel\u001b[0m\u001b[1;33m.\u001b[0m\u001b[0mpredict_proba\u001b[0m\u001b[1;33m(\u001b[0m\u001b[0mX_test\u001b[0m\u001b[1;33m)\u001b[0m\u001b[1;33m\u001b[0m\u001b[0m\n\u001b[0;32m     13\u001b[0m         \u001b[1;31m# Evaluate\u001b[0m\u001b[1;33m\u001b[0m\u001b[1;33m\u001b[0m\u001b[0m\n\u001b[1;32m---> 14\u001b[1;33m         \u001b[0mS\u001b[0m \u001b[1;33m+=\u001b[0m \u001b[1;33m[\u001b[0m\u001b[0mevaluate3\u001b[0m\u001b[1;33m(\u001b[0m\u001b[0my_test\u001b[0m\u001b[1;33m,\u001b[0m \u001b[0mP\u001b[0m\u001b[1;33m)\u001b[0m\u001b[1;33m]\u001b[0m\u001b[1;33m\u001b[0m\u001b[0m\n\u001b[0m\u001b[0;32m     15\u001b[0m     \u001b[0mS\u001b[0m \u001b[1;33m=\u001b[0m \u001b[0mnp\u001b[0m\u001b[1;33m.\u001b[0m\u001b[0marray\u001b[0m\u001b[1;33m(\u001b[0m\u001b[0mS\u001b[0m\u001b[1;33m)\u001b[0m\u001b[1;33m\u001b[0m\u001b[0m\n\u001b[0;32m     16\u001b[0m     \u001b[1;32mreturn\u001b[0m\u001b[1;33m(\u001b[0m\u001b[0mnp\u001b[0m\u001b[1;33m.\u001b[0m\u001b[0mmean\u001b[0m\u001b[1;33m(\u001b[0m\u001b[0mS\u001b[0m\u001b[1;33m)\u001b[0m\u001b[1;33m)\u001b[0m\u001b[1;33m\u001b[0m\u001b[0m\n",
        "\u001b[1;32m<ipython-input-89-345a848e54b7>\u001b[0m in \u001b[0;36mevaluate3\u001b[1;34m(act, prob)\u001b[0m\n\u001b[0;32m      1\u001b[0m \u001b[1;32mdef\u001b[0m \u001b[0mevaluate3\u001b[0m\u001b[1;33m(\u001b[0m\u001b[0mact\u001b[0m\u001b[1;33m,\u001b[0m \u001b[0mprob\u001b[0m\u001b[1;33m)\u001b[0m\u001b[1;33m:\u001b[0m\u001b[1;33m\u001b[0m\u001b[0m\n\u001b[1;32m----> 2\u001b[1;33m     \u001b[1;32mreturn\u001b[0m \u001b[0mlogloss\u001b[0m\u001b[1;33m(\u001b[0m\u001b[0mprob\u001b[0m\u001b[1;33m,\u001b[0m \u001b[0mact\u001b[0m\u001b[1;33m)\u001b[0m\u001b[1;33m\u001b[0m\u001b[0m\n\u001b[0m",
        "\u001b[1;32m<ipython-input-87-ede50b5f8e26>\u001b[0m in \u001b[0;36mlogloss\u001b[1;34m(prob, act)\u001b[0m\n\u001b[0;32m      4\u001b[0m         \u001b[1;31m# x je vektor verjetnosti, ki smo jih napovedali dejanskemu razredu\u001b[0m\u001b[1;33m\u001b[0m\u001b[1;33m\u001b[0m\u001b[0m\n\u001b[0;32m      5\u001b[0m         \u001b[0mprint\u001b[0m\u001b[1;33m(\u001b[0m\u001b[0mprob\u001b[0m\u001b[1;33m[\u001b[0m\u001b[0mi\u001b[0m\u001b[1;33m]\u001b[0m\u001b[1;33m)\u001b[0m\u001b[1;33m\u001b[0m\u001b[0m\n\u001b[1;32m----> 6\u001b[1;33m         \u001b[0mx\u001b[0m \u001b[1;33m=\u001b[0m \u001b[0mnp\u001b[0m\u001b[1;33m.\u001b[0m\u001b[0marray\u001b[0m\u001b[1;33m(\u001b[0m\u001b[1;33m[\u001b[0m\u001b[0mv\u001b[0m\u001b[1;33m[\u001b[0m\u001b[0mi\u001b[0m\u001b[1;33m]\u001b[0m \u001b[1;32mfor\u001b[0m \u001b[0mv\u001b[0m\u001b[1;33m,\u001b[0m \u001b[0mi\u001b[0m \u001b[1;32min\u001b[0m \u001b[0mzip\u001b[0m\u001b[1;33m(\u001b[0m\u001b[0mprob\u001b[0m\u001b[1;33m[\u001b[0m\u001b[0mi\u001b[0m\u001b[1;33m]\u001b[0m\u001b[1;33m,\u001b[0m \u001b[0mact\u001b[0m\u001b[1;33m)\u001b[0m\u001b[1;33m]\u001b[0m\u001b[1;33m)\u001b[0m\u001b[1;33m\u001b[0m\u001b[0m\n\u001b[0m\u001b[0;32m      7\u001b[0m         \u001b[0mll\u001b[0m\u001b[1;33m.\u001b[0m\u001b[0mappend\u001b[0m\u001b[1;33m(\u001b[0m\u001b[1;33m-\u001b[0m\u001b[0msum\u001b[0m\u001b[1;33m(\u001b[0m\u001b[0mnp\u001b[0m\u001b[1;33m.\u001b[0m\u001b[0mlog\u001b[0m\u001b[1;33m(\u001b[0m\u001b[0mx\u001b[0m\u001b[1;33m)\u001b[0m\u001b[1;33m)\u001b[0m\u001b[1;33m/\u001b[0m\u001b[0mlen\u001b[0m\u001b[1;33m(\u001b[0m\u001b[0mx\u001b[0m\u001b[1;33m)\u001b[0m\u001b[1;33m)\u001b[0m\u001b[1;33m\u001b[0m\u001b[0m\n\u001b[0;32m      8\u001b[0m     \u001b[1;32mreturn\u001b[0m \u001b[0mll\u001b[0m\u001b[1;33m\u001b[0m\u001b[0m\n",
        "\u001b[1;32m<ipython-input-87-ede50b5f8e26>\u001b[0m in \u001b[0;36m<listcomp>\u001b[1;34m(.0)\u001b[0m\n\u001b[0;32m      4\u001b[0m         \u001b[1;31m# x je vektor verjetnosti, ki smo jih napovedali dejanskemu razredu\u001b[0m\u001b[1;33m\u001b[0m\u001b[1;33m\u001b[0m\u001b[0m\n\u001b[0;32m      5\u001b[0m         \u001b[0mprint\u001b[0m\u001b[1;33m(\u001b[0m\u001b[0mprob\u001b[0m\u001b[1;33m[\u001b[0m\u001b[0mi\u001b[0m\u001b[1;33m]\u001b[0m\u001b[1;33m)\u001b[0m\u001b[1;33m\u001b[0m\u001b[0m\n\u001b[1;32m----> 6\u001b[1;33m         \u001b[0mx\u001b[0m \u001b[1;33m=\u001b[0m \u001b[0mnp\u001b[0m\u001b[1;33m.\u001b[0m\u001b[0marray\u001b[0m\u001b[1;33m(\u001b[0m\u001b[1;33m[\u001b[0m\u001b[0mv\u001b[0m\u001b[1;33m[\u001b[0m\u001b[0mi\u001b[0m\u001b[1;33m]\u001b[0m \u001b[1;32mfor\u001b[0m \u001b[0mv\u001b[0m\u001b[1;33m,\u001b[0m \u001b[0mi\u001b[0m \u001b[1;32min\u001b[0m \u001b[0mzip\u001b[0m\u001b[1;33m(\u001b[0m\u001b[0mprob\u001b[0m\u001b[1;33m[\u001b[0m\u001b[0mi\u001b[0m\u001b[1;33m]\u001b[0m\u001b[1;33m,\u001b[0m \u001b[0mact\u001b[0m\u001b[1;33m)\u001b[0m\u001b[1;33m]\u001b[0m\u001b[1;33m)\u001b[0m\u001b[1;33m\u001b[0m\u001b[0m\n\u001b[0m\u001b[0;32m      7\u001b[0m         \u001b[0mll\u001b[0m\u001b[1;33m.\u001b[0m\u001b[0mappend\u001b[0m\u001b[1;33m(\u001b[0m\u001b[1;33m-\u001b[0m\u001b[0msum\u001b[0m\u001b[1;33m(\u001b[0m\u001b[0mnp\u001b[0m\u001b[1;33m.\u001b[0m\u001b[0mlog\u001b[0m\u001b[1;33m(\u001b[0m\u001b[0mx\u001b[0m\u001b[1;33m)\u001b[0m\u001b[1;33m)\u001b[0m\u001b[1;33m/\u001b[0m\u001b[0mlen\u001b[0m\u001b[1;33m(\u001b[0m\u001b[0mx\u001b[0m\u001b[1;33m)\u001b[0m\u001b[1;33m)\u001b[0m\u001b[1;33m\u001b[0m\u001b[0m\n\u001b[0;32m      8\u001b[0m     \u001b[1;32mreturn\u001b[0m \u001b[0mll\u001b[0m\u001b[1;33m\u001b[0m\u001b[0m\n",
        "\u001b[1;31mIndexError\u001b[0m: invalid index to scalar variable."
       ]
      }
     ],
     "prompt_number": 90
    },
    {
     "cell_type": "heading",
     "level": 3,
     "metadata": {},
     "source": [
      "Random Forest sklearn"
     ]
    },
    {
     "cell_type": "code",
     "collapsed": false,
     "input": [
      "# Use integrated Logistic Regression and OneVsOneClassifier\n",
      "step = 100\n",
      "indices = list(range(0, X_train.shape[0], step))\n",
      "random.shuffle(indices)\n",
      "\n",
      "X = X_train[indices]\n",
      "y_ = y_train[indices]\n",
      "# Integrated\n",
      "\n",
      "classifier = ensemble.RandomForestClassifier()\n",
      "forest = my_cross_validation(X, y_, classifier)\n",
      "\n",
      "print(\"Random Forest\", forest)"
     ],
     "language": "python",
     "metadata": {},
     "outputs": [
      {
       "output_type": "stream",
       "stream": "stdout",
       "text": [
        "(9,) (167,)\n"
       ]
      },
      {
       "ename": "TypeError",
       "evalue": "zip argument #2 must support iteration",
       "output_type": "pyerr",
       "traceback": [
        "\u001b[1;31m---------------------------------------------------------------------------\u001b[0m\n\u001b[1;31mTypeError\u001b[0m                                 Traceback (most recent call last)",
        "\u001b[1;32m<ipython-input-94-0216a36bcab5>\u001b[0m in \u001b[0;36m<module>\u001b[1;34m()\u001b[0m\n\u001b[0;32m      9\u001b[0m \u001b[1;33m\u001b[0m\u001b[0m\n\u001b[0;32m     10\u001b[0m \u001b[0mclassifier\u001b[0m \u001b[1;33m=\u001b[0m \u001b[0mensemble\u001b[0m\u001b[1;33m.\u001b[0m\u001b[0mRandomForestClassifier\u001b[0m\u001b[1;33m(\u001b[0m\u001b[1;33m)\u001b[0m\u001b[1;33m\u001b[0m\u001b[0m\n\u001b[1;32m---> 11\u001b[1;33m \u001b[0mforest\u001b[0m \u001b[1;33m=\u001b[0m \u001b[0mmy_cross_validation\u001b[0m\u001b[1;33m(\u001b[0m\u001b[0mX\u001b[0m\u001b[1;33m,\u001b[0m \u001b[0my_\u001b[0m\u001b[1;33m,\u001b[0m \u001b[0mclassifier\u001b[0m\u001b[1;33m)\u001b[0m\u001b[1;33m\u001b[0m\u001b[0m\n\u001b[0m\u001b[0;32m     12\u001b[0m \u001b[1;33m\u001b[0m\u001b[0m\n\u001b[0;32m     13\u001b[0m \u001b[0mprint\u001b[0m\u001b[1;33m(\u001b[0m\u001b[1;34m\"Random Forest\"\u001b[0m\u001b[1;33m,\u001b[0m \u001b[0mforest\u001b[0m\u001b[1;33m)\u001b[0m\u001b[1;33m\u001b[0m\u001b[0m\n",
        "\u001b[1;32m<ipython-input-85-b8d23a926d40>\u001b[0m in \u001b[0;36mmy_cross_validation\u001b[1;34m(X, y_, model)\u001b[0m\n\u001b[0;32m     12\u001b[0m         \u001b[0mP\u001b[0m \u001b[1;33m=\u001b[0m \u001b[0mmodel\u001b[0m\u001b[1;33m.\u001b[0m\u001b[0mpredict_proba\u001b[0m\u001b[1;33m(\u001b[0m\u001b[0mX_test\u001b[0m\u001b[1;33m)\u001b[0m\u001b[1;33m\u001b[0m\u001b[0m\n\u001b[0;32m     13\u001b[0m         \u001b[1;31m# Evaluate\u001b[0m\u001b[1;33m\u001b[0m\u001b[1;33m\u001b[0m\u001b[0m\n\u001b[1;32m---> 14\u001b[1;33m         \u001b[0mS\u001b[0m \u001b[1;33m+=\u001b[0m \u001b[1;33m[\u001b[0m\u001b[0mevaluate3\u001b[0m\u001b[1;33m(\u001b[0m\u001b[0my_test\u001b[0m\u001b[1;33m,\u001b[0m \u001b[0mP\u001b[0m\u001b[1;33m)\u001b[0m\u001b[1;33m]\u001b[0m\u001b[1;33m\u001b[0m\u001b[0m\n\u001b[0m\u001b[0;32m     15\u001b[0m     \u001b[0mS\u001b[0m \u001b[1;33m=\u001b[0m \u001b[0mnp\u001b[0m\u001b[1;33m.\u001b[0m\u001b[0marray\u001b[0m\u001b[1;33m(\u001b[0m\u001b[0mS\u001b[0m\u001b[1;33m)\u001b[0m\u001b[1;33m\u001b[0m\u001b[0m\n\u001b[0;32m     16\u001b[0m     \u001b[1;32mreturn\u001b[0m\u001b[1;33m(\u001b[0m\u001b[0mnp\u001b[0m\u001b[1;33m.\u001b[0m\u001b[0mmean\u001b[0m\u001b[1;33m(\u001b[0m\u001b[0mS\u001b[0m\u001b[1;33m)\u001b[0m\u001b[1;33m)\u001b[0m\u001b[1;33m\u001b[0m\u001b[0m\n",
        "\u001b[1;32m<ipython-input-89-345a848e54b7>\u001b[0m in \u001b[0;36mevaluate3\u001b[1;34m(act, prob)\u001b[0m\n\u001b[0;32m      1\u001b[0m \u001b[1;32mdef\u001b[0m \u001b[0mevaluate3\u001b[0m\u001b[1;33m(\u001b[0m\u001b[0mact\u001b[0m\u001b[1;33m,\u001b[0m \u001b[0mprob\u001b[0m\u001b[1;33m)\u001b[0m\u001b[1;33m:\u001b[0m\u001b[1;33m\u001b[0m\u001b[0m\n\u001b[1;32m----> 2\u001b[1;33m     \u001b[1;32mreturn\u001b[0m \u001b[0mlogloss\u001b[0m\u001b[1;33m(\u001b[0m\u001b[0mprob\u001b[0m\u001b[1;33m,\u001b[0m \u001b[0mact\u001b[0m\u001b[1;33m)\u001b[0m\u001b[1;33m\u001b[0m\u001b[0m\n\u001b[0m",
        "\u001b[1;32m<ipython-input-93-77066874c2cc>\u001b[0m in \u001b[0;36mlogloss\u001b[1;34m(prob, act)\u001b[0m\n\u001b[0;32m      4\u001b[0m         \u001b[1;31m# x je vektor verjetnosti, ki smo jih napovedali dejanskemu razredu\u001b[0m\u001b[1;33m\u001b[0m\u001b[1;33m\u001b[0m\u001b[0m\n\u001b[0;32m      5\u001b[0m         \u001b[0mprint\u001b[0m\u001b[1;33m(\u001b[0m\u001b[0mprob\u001b[0m\u001b[1;33m[\u001b[0m\u001b[0mi\u001b[0m\u001b[1;33m]\u001b[0m\u001b[1;33m.\u001b[0m\u001b[0mshape\u001b[0m\u001b[1;33m,\u001b[0m \u001b[0mact\u001b[0m\u001b[1;33m.\u001b[0m\u001b[0mshape\u001b[0m\u001b[1;33m)\u001b[0m\u001b[1;33m\u001b[0m\u001b[0m\n\u001b[1;32m----> 6\u001b[1;33m         \u001b[0mx\u001b[0m \u001b[1;33m=\u001b[0m \u001b[0mnp\u001b[0m\u001b[1;33m.\u001b[0m\u001b[0marray\u001b[0m\u001b[1;33m(\u001b[0m\u001b[1;33m[\u001b[0m\u001b[0mv\u001b[0m\u001b[1;33m[\u001b[0m\u001b[0mi\u001b[0m\u001b[1;33m]\u001b[0m \u001b[1;32mfor\u001b[0m \u001b[0mv\u001b[0m\u001b[1;33m,\u001b[0m \u001b[0mi\u001b[0m \u001b[1;32min\u001b[0m \u001b[0mzip\u001b[0m\u001b[1;33m(\u001b[0m\u001b[0mprob\u001b[0m\u001b[1;33m[\u001b[0m\u001b[0mi\u001b[0m\u001b[1;33m]\u001b[0m\u001b[1;33m,\u001b[0m \u001b[0mact\u001b[0m\u001b[1;33m[\u001b[0m\u001b[0mi\u001b[0m\u001b[1;33m]\u001b[0m\u001b[1;33m)\u001b[0m\u001b[1;33m]\u001b[0m\u001b[1;33m)\u001b[0m\u001b[1;33m\u001b[0m\u001b[0m\n\u001b[0m\u001b[0;32m      7\u001b[0m         \u001b[0mll\u001b[0m\u001b[1;33m.\u001b[0m\u001b[0mappend\u001b[0m\u001b[1;33m(\u001b[0m\u001b[1;33m-\u001b[0m\u001b[0msum\u001b[0m\u001b[1;33m(\u001b[0m\u001b[0mnp\u001b[0m\u001b[1;33m.\u001b[0m\u001b[0mlog\u001b[0m\u001b[1;33m(\u001b[0m\u001b[0mx\u001b[0m\u001b[1;33m)\u001b[0m\u001b[1;33m)\u001b[0m\u001b[1;33m/\u001b[0m\u001b[0mlen\u001b[0m\u001b[1;33m(\u001b[0m\u001b[0mx\u001b[0m\u001b[1;33m)\u001b[0m\u001b[1;33m)\u001b[0m\u001b[1;33m\u001b[0m\u001b[0m\n\u001b[0;32m      8\u001b[0m     \u001b[1;32mreturn\u001b[0m \u001b[0mll\u001b[0m\u001b[1;33m\u001b[0m\u001b[0m\n",
        "\u001b[1;31mTypeError\u001b[0m: zip argument #2 must support iteration"
       ]
      }
     ],
     "prompt_number": 94
    },
    {
     "cell_type": "heading",
     "level": 3,
     "metadata": {},
     "source": [
      "My model"
     ]
    },
    {
     "cell_type": "code",
     "collapsed": false,
     "input": [
      "class LogisticRegression(BaseEstimator, ClassifierMixin):\n",
      "    def __init__(self, h=sigmoid, alpha=0.001):\n",
      "        self.h = h\n",
      "        self.alpha = alpha\n",
      "        \n",
      "    def get_params(self, deep=True):\n",
      "        # suppose this estimator has parameters \"alpha\" and \"recursive\"\n",
      "        return {}\n",
      "\n",
      "    def set_params(self, **parameters):\n",
      "        for parameter, value in parameters.items():\n",
      "            self.setattr(parameter, value)\n",
      "        return self\n",
      "    \n",
      "    def fit(self, X, y_):     \n",
      "        X = np.column_stack((np.ones(len(y_)), X))  # za prosti clen\n",
      "        theta0_ = np.ones(X.shape[1])               # Starting point\n",
      "        self.theta = fmin_bfgs(lambda th_: J(X, y_, th_, self.alpha),\n",
      "                                    theta0_,\n",
      "                                    fprime=lambda th_: Jgrad(X, y_, th_, self.alpha)) \n",
      "        return self\n",
      "    \n",
      "    def predict_proba(self, X):\n",
      "        if len(X.shape) == 2:  # za vec na enkrat\n",
      "            X = np.column_stack((np.ones(X.shape[0]), X))\n",
      "            pred = self.h(X.dot(self.theta))\n",
      "            return np.array(list(zip(1-pred, pred)))\n",
      "        else:  # za en vektor\n",
      "            X = np.hstack(([1], X))\n",
      "            pred = self.h(X.dot(self.theta))\n",
      "            return np.array([1-pred, pred])\n",
      "    def predict(self, X):\n",
      "        probs = self.predict_proba(X)\n",
      "        if len(probs.shape) == 2:\n",
      "            return np.array(list(map(np.argmax, probs)))  # najboljso predikcijo izberi\n",
      "        return np.array(np.argmax(probs))\n"
     ],
     "language": "python",
     "metadata": {},
     "outputs": [],
     "prompt_number": 61
    },
    {
     "cell_type": "code",
     "collapsed": false,
     "input": [
      "warnings.filterwarnings(\"ignore\")\n",
      "\n",
      "step = 1000\n",
      "indices = list(range(0, X_train.shape[0], step))\n",
      "random.shuffle(indices)\n",
      "\n",
      "X = X_train[indices]\n",
      "y_ = y_train[indices]\n",
      "\n",
      "logreg = LogisticRegression()\n",
      "classifier = multiclass.OneVsOneClassifier(logreg)\n",
      "one = my_cross_validation(X, y_, classifier)\n",
      "\n",
      "logreg = LogisticRegression()\n",
      "classifier = multiclass.OneVsRestClassifier(logreg)\n",
      "rest = my_cross_validation(X, y_, classifier)\n",
      "\n",
      "print(\"OneVsOne\", one)\n",
      "print(\"OneVsAll\", rest)"
     ],
     "language": "python",
     "metadata": {},
     "outputs": [
      {
       "output_type": "stream",
       "stream": "stdout",
       "text": [
        "Optimization terminated successfully.\n",
        "         Current function value: 0.018322\n",
        "         Iterations: 108\n",
        "         Function evaluations: 111\n",
        "         Gradient evaluations: 111\n",
        "Optimization terminated successfully."
       ]
      },
      {
       "output_type": "stream",
       "stream": "stdout",
       "text": [
        "\n",
        "         Current function value: 0.011002\n",
        "         Iterations: 94\n",
        "         Function evaluations: 97\n",
        "         Gradient evaluations: 97\n",
        "Optimization terminated successfully."
       ]
      },
      {
       "output_type": "stream",
       "stream": "stdout",
       "text": [
        "\n",
        "         Current function value: 0.008342\n",
        "         Iterations: 69\n",
        "         Function evaluations: 72\n",
        "         Gradient evaluations: 72\n",
        "Optimization terminated successfully."
       ]
      },
      {
       "output_type": "stream",
       "stream": "stdout",
       "text": [
        "\n",
        "         Current function value: 0.011216\n",
        "         Iterations: 98\n",
        "         Function evaluations: 102\n",
        "         Gradient evaluations: 102\n",
        "Optimization terminated successfully."
       ]
      },
      {
       "output_type": "stream",
       "stream": "stdout",
       "text": [
        "\n",
        "         Current function value: 0.010617\n",
        "         Iterations: 98\n",
        "         Function evaluations: 100\n",
        "         Gradient evaluations: 100\n",
        "Optimization terminated successfully."
       ]
      },
      {
       "output_type": "stream",
       "stream": "stdout",
       "text": [
        "\n",
        "         Current function value: 0.013617\n",
        "         Iterations: 99\n",
        "         Function evaluations: 101\n",
        "         Gradient evaluations: 101\n",
        "Optimization terminated successfully."
       ]
      },
      {
       "output_type": "stream",
       "stream": "stdout",
       "text": [
        "\n",
        "         Current function value: 0.012179\n",
        "         Iterations: 89\n",
        "         Function evaluations: 93\n",
        "         Gradient evaluations: 93\n",
        "Optimization terminated successfully."
       ]
      },
      {
       "output_type": "stream",
       "stream": "stdout",
       "text": [
        "\n",
        "         Current function value: 0.016436\n",
        "         Iterations: 41\n",
        "         Function evaluations: 45\n",
        "         Gradient evaluations: 45\n",
        "Optimization terminated successfully."
       ]
      },
      {
       "output_type": "stream",
       "stream": "stdout",
       "text": [
        "\n",
        "         Current function value: 0.013103\n",
        "         Iterations: 63\n",
        "         Function evaluations: 66\n",
        "         Gradient evaluations: 66\n",
        "Optimization terminated successfully."
       ]
      },
      {
       "output_type": "stream",
       "stream": "stdout",
       "text": [
        "\n",
        "         Current function value: 0.011025\n",
        "         Iterations: 89\n",
        "         Function evaluations: 93\n",
        "         Gradient evaluations: 93\n",
        "Optimization terminated successfully."
       ]
      },
      {
       "output_type": "stream",
       "stream": "stdout",
       "text": [
        "\n",
        "         Current function value: 0.018812\n",
        "         Iterations: 58\n",
        "         Function evaluations: 62\n",
        "         Gradient evaluations: 62\n",
        "Optimization terminated successfully."
       ]
      },
      {
       "output_type": "stream",
       "stream": "stdout",
       "text": [
        "\n",
        "         Current function value: 0.016224\n",
        "         Iterations: 75\n",
        "         Function evaluations: 79\n",
        "         Gradient evaluations: 79\n",
        "Optimization terminated successfully."
       ]
      },
      {
       "output_type": "stream",
       "stream": "stdout",
       "text": [
        "\n",
        "         Current function value: 0.016126\n",
        "         Iterations: 72\n",
        "         Function evaluations: 76\n",
        "         Gradient evaluations: 76\n",
        "Optimization terminated successfully."
       ]
      },
      {
       "output_type": "stream",
       "stream": "stdout",
       "text": [
        "\n",
        "         Current function value: 0.014202\n",
        "         Iterations: 46\n",
        "         Function evaluations: 48\n",
        "         Gradient evaluations: 48\n",
        "Optimization terminated successfully."
       ]
      },
      {
       "output_type": "stream",
       "stream": "stdout",
       "text": [
        "\n",
        "         Current function value: 0.008132\n",
        "         Iterations: 77\n",
        "         Function evaluations: 79\n",
        "         Gradient evaluations: 79\n",
        "Optimization terminated successfully."
       ]
      },
      {
       "output_type": "stream",
       "stream": "stdout",
       "text": [
        "\n",
        "         Current function value: 0.016109\n",
        "         Iterations: 46\n",
        "         Function evaluations: 48\n",
        "         Gradient evaluations: 48\n",
        "Optimization terminated successfully."
       ]
      },
      {
       "output_type": "stream",
       "stream": "stdout",
       "text": [
        "\n",
        "         Current function value: 0.012718\n",
        "         Iterations: 79\n",
        "         Function evaluations: 81\n",
        "         Gradient evaluations: 81\n",
        "Optimization terminated successfully."
       ]
      },
      {
       "output_type": "stream",
       "stream": "stdout",
       "text": [
        "\n",
        "         Current function value: 0.013930\n",
        "         Iterations: 60\n",
        "         Function evaluations: 63\n",
        "         Gradient evaluations: 63\n",
        "Optimization terminated successfully."
       ]
      },
      {
       "output_type": "stream",
       "stream": "stdout",
       "text": [
        "\n",
        "         Current function value: 0.009360\n",
        "         Iterations: 80\n",
        "         Function evaluations: 84\n",
        "         Gradient evaluations: 84\n",
        "Optimization terminated successfully."
       ]
      },
      {
       "output_type": "stream",
       "stream": "stdout",
       "text": [
        "\n",
        "         Current function value: 0.014380\n",
        "         Iterations: 62\n",
        "         Function evaluations: 64\n",
        "         Gradient evaluations: 64\n",
        "Optimization terminated successfully."
       ]
      },
      {
       "output_type": "stream",
       "stream": "stdout",
       "text": [
        "\n",
        "         Current function value: 0.011401\n",
        "         Iterations: 81\n",
        "         Function evaluations: 83\n",
        "         Gradient evaluations: 83\n",
        "Optimization terminated successfully."
       ]
      },
      {
       "output_type": "stream",
       "stream": "stdout",
       "text": [
        "\n",
        "         Current function value: 0.012707\n",
        "         Iterations: 61\n",
        "         Function evaluations: 64\n",
        "         Gradient evaluations: 64\n",
        "Optimization terminated successfully."
       ]
      },
      {
       "output_type": "stream",
       "stream": "stdout",
       "text": [
        "\n",
        "         Current function value: 0.012521\n",
        "         Iterations: 94\n",
        "         Function evaluations: 97\n",
        "         Gradient evaluations: 97\n",
        "Optimization terminated successfully."
       ]
      },
      {
       "output_type": "stream",
       "stream": "stdout",
       "text": [
        "\n",
        "         Current function value: 0.013258\n",
        "         Iterations: 112\n",
        "         Function evaluations: 116\n",
        "         Gradient evaluations: 116\n",
        "Optimization terminated successfully."
       ]
      },
      {
       "output_type": "stream",
       "stream": "stdout",
       "text": [
        "\n",
        "         Current function value: 0.011806\n",
        "         Iterations: 97\n",
        "         Function evaluations: 99\n",
        "         Gradient evaluations: 99\n",
        "Optimization terminated successfully."
       ]
      },
      {
       "output_type": "stream",
       "stream": "stdout",
       "text": [
        "\n",
        "         Current function value: 0.016867\n",
        "         Iterations: 84\n",
        "         Function evaluations: 88\n",
        "         Gradient evaluations: 88\n",
        "Optimization terminated successfully."
       ]
      },
      {
       "output_type": "stream",
       "stream": "stdout",
       "text": [
        "\n",
        "         Current function value: 0.022604\n",
        "         Iterations: 72\n",
        "         Function evaluations: 76\n",
        "         Gradient evaluations: 76\n",
        "Optimization terminated successfully."
       ]
      },
      {
       "output_type": "stream",
       "stream": "stdout",
       "text": [
        "\n",
        "         Current function value: 0.016066\n",
        "         Iterations: 93\n",
        "         Function evaluations: 96\n",
        "         Gradient evaluations: 96\n",
        "Optimization terminated successfully."
       ]
      },
      {
       "output_type": "stream",
       "stream": "stdout",
       "text": [
        "\n",
        "         Current function value: 0.013256\n",
        "         Iterations: 91\n",
        "         Function evaluations: 95\n",
        "         Gradient evaluations: 95\n",
        "Optimization terminated successfully."
       ]
      },
      {
       "output_type": "stream",
       "stream": "stdout",
       "text": [
        "\n",
        "         Current function value: 0.014205\n",
        "         Iterations: 75\n",
        "         Function evaluations: 79\n",
        "         Gradient evaluations: 79\n",
        "Optimization terminated successfully."
       ]
      },
      {
       "output_type": "stream",
       "stream": "stdout",
       "text": [
        "\n",
        "         Current function value: 0.018429\n",
        "         Iterations: 46\n",
        "         Function evaluations: 48\n",
        "         Gradient evaluations: 48\n",
        "Optimization terminated successfully."
       ]
      },
      {
       "output_type": "stream",
       "stream": "stdout",
       "text": [
        "\n",
        "         Current function value: 0.020681\n",
        "         Iterations: 46\n",
        "         Function evaluations: 48\n",
        "         Gradient evaluations: 48\n",
        "Optimization terminated successfully."
       ]
      },
      {
       "output_type": "stream",
       "stream": "stdout",
       "text": [
        "\n",
        "         Current function value: 0.025309\n",
        "         Iterations: 103\n",
        "         Function evaluations: 106\n",
        "         Gradient evaluations: 106\n",
        "Optimization terminated successfully."
       ]
      },
      {
       "output_type": "stream",
       "stream": "stdout",
       "text": [
        "\n",
        "         Current function value: 0.016447\n",
        "         Iterations: 49\n",
        "         Function evaluations: 53\n",
        "         Gradient evaluations: 53\n",
        "Optimization terminated successfully."
       ]
      },
      {
       "output_type": "stream",
       "stream": "stdout",
       "text": [
        "\n",
        "         Current function value: 0.021767\n",
        "         Iterations: 54\n",
        "         Function evaluations: 59\n",
        "         Gradient evaluations: 59\n",
        "Optimization terminated successfully."
       ]
      },
      {
       "output_type": "stream",
       "stream": "stdout",
       "text": [
        "\n",
        "         Current function value: 0.021729\n",
        "         Iterations: 58\n",
        "         Function evaluations: 63\n",
        "         Gradient evaluations: 63\n",
        "Optimization terminated successfully."
       ]
      },
      {
       "output_type": "stream",
       "stream": "stdout",
       "text": [
        "\n",
        "         Current function value: 0.030366\n",
        "         Iterations: 130\n",
        "         Function evaluations: 133\n",
        "         Gradient evaluations: 133\n",
        "Optimization terminated successfully."
       ]
      },
      {
       "output_type": "stream",
       "stream": "stdout",
       "text": [
        "\n",
        "         Current function value: 0.016113\n",
        "         Iterations: 83\n",
        "         Function evaluations: 85\n",
        "         Gradient evaluations: 85\n",
        "Optimization terminated successfully."
       ]
      },
      {
       "output_type": "stream",
       "stream": "stdout",
       "text": [
        "\n",
        "         Current function value: 0.013300\n",
        "         Iterations: 83\n",
        "         Function evaluations: 85\n",
        "         Gradient evaluations: 85\n",
        "Optimization terminated successfully."
       ]
      },
      {
       "output_type": "stream",
       "stream": "stdout",
       "text": [
        "\n",
        "         Current function value: 0.012924\n",
        "         Iterations: 114\n",
        "         Function evaluations: 118\n",
        "         Gradient evaluations: 118\n",
        "Optimization terminated successfully."
       ]
      },
      {
       "output_type": "stream",
       "stream": "stdout",
       "text": [
        "\n",
        "         Current function value: 0.008613\n",
        "         Iterations: 83\n",
        "         Function evaluations: 87\n",
        "         Gradient evaluations: 87\n",
        "Optimization terminated successfully."
       ]
      },
      {
       "output_type": "stream",
       "stream": "stdout",
       "text": [
        "\n",
        "         Current function value: 0.012406\n",
        "         Iterations: 93\n",
        "         Function evaluations: 97\n",
        "         Gradient evaluations: 97\n",
        "Optimization terminated successfully."
       ]
      },
      {
       "output_type": "stream",
       "stream": "stdout",
       "text": [
        "\n",
        "         Current function value: 0.011849\n",
        "         Iterations: 88\n",
        "         Function evaluations: 95\n",
        "         Gradient evaluations: 95\n",
        "Optimization terminated successfully."
       ]
      },
      {
       "output_type": "stream",
       "stream": "stdout",
       "text": [
        "\n",
        "         Current function value: 0.019534\n",
        "         Iterations: 65\n",
        "         Function evaluations: 67\n",
        "         Gradient evaluations: 67\n",
        "Optimization terminated successfully."
       ]
      },
      {
       "output_type": "stream",
       "stream": "stdout",
       "text": [
        "\n",
        "         Current function value: 0.011401\n",
        "         Iterations: 60\n",
        "         Function evaluations: 63\n",
        "         Gradient evaluations: 63\n",
        "Optimization terminated successfully."
       ]
      },
      {
       "output_type": "stream",
       "stream": "stdout",
       "text": [
        "\n",
        "         Current function value: 0.011970\n",
        "         Iterations: 90\n",
        "         Function evaluations: 96\n",
        "         Gradient evaluations: 96\n",
        "Optimization terminated successfully."
       ]
      },
      {
       "output_type": "stream",
       "stream": "stdout",
       "text": [
        "\n",
        "         Current function value: 0.011291\n",
        "         Iterations: 63\n",
        "         Function evaluations: 66\n",
        "         Gradient evaluations: 66\n",
        "Optimization terminated successfully."
       ]
      },
      {
       "output_type": "stream",
       "stream": "stdout",
       "text": [
        "\n",
        "         Current function value: 0.017185\n",
        "         Iterations: 75\n",
        "         Function evaluations: 78\n",
        "         Gradient evaluations: 78\n",
        "Optimization terminated successfully."
       ]
      },
      {
       "output_type": "stream",
       "stream": "stdout",
       "text": [
        "\n",
        "         Current function value: 0.015258\n",
        "         Iterations: 89\n",
        "         Function evaluations: 93\n",
        "         Gradient evaluations: 93\n",
        "Optimization terminated successfully."
       ]
      },
      {
       "output_type": "stream",
       "stream": "stdout",
       "text": [
        "\n",
        "         Current function value: 0.021572\n",
        "         Iterations: 29\n",
        "         Function evaluations: 32\n",
        "         Gradient evaluations: 32\n",
        "Optimization terminated successfully."
       ]
      },
      {
       "output_type": "stream",
       "stream": "stdout",
       "text": [
        "\n",
        "         Current function value: 0.010186\n",
        "         Iterations: 68\n",
        "         Function evaluations: 73\n",
        "         Gradient evaluations: 73\n",
        "Optimization terminated successfully."
       ]
      },
      {
       "output_type": "stream",
       "stream": "stdout",
       "text": [
        "\n",
        "         Current function value: 0.014823\n",
        "         Iterations: 47\n",
        "         Function evaluations: 49\n",
        "         Gradient evaluations: 49\n",
        "Optimization terminated successfully."
       ]
      },
      {
       "output_type": "stream",
       "stream": "stdout",
       "text": [
        "\n",
        "         Current function value: 0.018966\n",
        "         Iterations: 46\n",
        "         Function evaluations: 48\n",
        "         Gradient evaluations: 48\n",
        "Optimization terminated successfully."
       ]
      },
      {
       "output_type": "stream",
       "stream": "stdout",
       "text": [
        "\n",
        "         Current function value: 0.014863\n",
        "         Iterations: 58\n",
        "         Function evaluations: 62\n",
        "         Gradient evaluations: 62\n",
        "Optimization terminated successfully."
       ]
      },
      {
       "output_type": "stream",
       "stream": "stdout",
       "text": [
        "\n",
        "         Current function value: 0.010488\n",
        "         Iterations: 72\n",
        "         Function evaluations: 78\n",
        "         Gradient evaluations: 78\n",
        "Optimization terminated successfully."
       ]
      },
      {
       "output_type": "stream",
       "stream": "stdout",
       "text": [
        "\n",
        "         Current function value: 0.016131\n",
        "         Iterations: 48\n",
        "         Function evaluations: 50\n",
        "         Gradient evaluations: 50\n",
        "Optimization terminated successfully."
       ]
      },
      {
       "output_type": "stream",
       "stream": "stdout",
       "text": [
        "\n",
        "         Current function value: 0.018789\n",
        "         Iterations: 47\n",
        "         Function evaluations: 49\n",
        "         Gradient evaluations: 49\n",
        "Optimization terminated successfully."
       ]
      },
      {
       "output_type": "stream",
       "stream": "stdout",
       "text": [
        "\n",
        "         Current function value: 0.015690\n",
        "         Iterations: 57\n",
        "         Function evaluations: 61\n",
        "         Gradient evaluations: 61\n",
        "Optimization terminated successfully."
       ]
      },
      {
       "output_type": "stream",
       "stream": "stdout",
       "text": [
        "\n",
        "         Current function value: 0.009989\n",
        "         Iterations: 57\n",
        "         Function evaluations: 65\n",
        "         Gradient evaluations: 65\n",
        "Optimization terminated successfully."
       ]
      },
      {
       "output_type": "stream",
       "stream": "stdout",
       "text": [
        "\n",
        "         Current function value: 0.014120\n",
        "         Iterations: 91\n",
        "         Function evaluations: 93\n",
        "         Gradient evaluations: 93\n",
        "Optimization terminated successfully."
       ]
      },
      {
       "output_type": "stream",
       "stream": "stdout",
       "text": [
        "\n",
        "         Current function value: 0.013436\n",
        "         Iterations: 93\n",
        "         Function evaluations: 95\n",
        "         Gradient evaluations: 95\n",
        "Optimization terminated successfully."
       ]
      },
      {
       "output_type": "stream",
       "stream": "stdout",
       "text": [
        "\n",
        "         Current function value: 0.018141\n",
        "         Iterations: 58\n",
        "         Function evaluations: 61\n",
        "         Gradient evaluations: 61\n",
        "Optimization terminated successfully."
       ]
      },
      {
       "output_type": "stream",
       "stream": "stdout",
       "text": [
        "\n",
        "         Current function value: 0.014524\n",
        "         Iterations: 76\n",
        "         Function evaluations: 78\n",
        "         Gradient evaluations: 78\n",
        "Optimization terminated successfully."
       ]
      },
      {
       "output_type": "stream",
       "stream": "stdout",
       "text": [
        "\n",
        "         Current function value: 0.019685\n",
        "         Iterations: 59\n",
        "         Function evaluations: 63\n",
        "         Gradient evaluations: 63\n",
        "Optimization terminated successfully."
       ]
      },
      {
       "output_type": "stream",
       "stream": "stdout",
       "text": [
        "\n",
        "         Current function value: 0.014710\n",
        "         Iterations: 93\n",
        "         Function evaluations: 96\n",
        "         Gradient evaluations: 96\n",
        "Optimization terminated successfully."
       ]
      },
      {
       "output_type": "stream",
       "stream": "stdout",
       "text": [
        "\n",
        "         Current function value: 0.013851\n",
        "         Iterations: 89\n",
        "         Function evaluations: 93\n",
        "         Gradient evaluations: 93\n",
        "Optimization terminated successfully."
       ]
      },
      {
       "output_type": "stream",
       "stream": "stdout",
       "text": [
        "\n",
        "         Current function value: 0.018566\n",
        "         Iterations: 58\n",
        "         Function evaluations: 62\n",
        "         Gradient evaluations: 62\n",
        "Optimization terminated successfully."
       ]
      },
      {
       "output_type": "stream",
       "stream": "stdout",
       "text": [
        "\n",
        "         Current function value: 0.018792\n",
        "         Iterations: 44\n",
        "         Function evaluations: 47\n",
        "         Gradient evaluations: 47\n",
        "Optimization terminated successfully."
       ]
      },
      {
       "output_type": "stream",
       "stream": "stdout",
       "text": [
        "\n",
        "         Current function value: 0.036956\n",
        "         Iterations: 105\n",
        "         Function evaluations: 108\n",
        "         Gradient evaluations: 108\n",
        "Optimization terminated successfully."
       ]
      },
      {
       "output_type": "stream",
       "stream": "stdout",
       "text": [
        "\n",
        "         Current function value: 0.024084\n",
        "         Iterations: 55\n",
        "         Function evaluations: 59\n",
        "         Gradient evaluations: 59\n",
        "Optimization terminated successfully."
       ]
      },
      {
       "output_type": "stream",
       "stream": "stdout",
       "text": [
        "\n",
        "         Current function value: 0.015142\n",
        "         Iterations: 87\n",
        "         Function evaluations: 90\n",
        "         Gradient evaluations: 90\n",
        "Optimization terminated successfully."
       ]
      },
      {
       "output_type": "stream",
       "stream": "stdout",
       "text": [
        "\n",
        "         Current function value: 0.023411\n",
        "         Iterations: 57\n",
        "         Function evaluations: 61\n",
        "         Gradient evaluations: 61\n",
        "Optimization terminated successfully."
       ]
      },
      {
       "output_type": "stream",
       "stream": "stdout",
       "text": [
        "\n",
        "         Current function value: 0.056581\n",
        "         Iterations: 136\n",
        "         Function evaluations: 141\n",
        "         Gradient evaluations: 141\n",
        "Optimization terminated successfully."
       ]
      },
      {
       "output_type": "stream",
       "stream": "stdout",
       "text": [
        "\n",
        "         Current function value: 0.033398\n",
        "         Iterations: 99\n",
        "         Function evaluations: 103\n",
        "         Gradient evaluations: 103\n",
        "Optimization terminated successfully."
       ]
      },
      {
       "output_type": "stream",
       "stream": "stdout",
       "text": [
        "\n",
        "         Current function value: 0.013164\n",
        "         Iterations: 80\n",
        "         Function evaluations: 82\n",
        "         Gradient evaluations: 82\n",
        "Optimization terminated successfully."
       ]
      },
      {
       "output_type": "stream",
       "stream": "stdout",
       "text": [
        "\n",
        "         Current function value: 0.012856\n",
        "         Iterations: 104\n",
        "         Function evaluations: 106\n",
        "         Gradient evaluations: 106\n",
        "Optimization terminated successfully."
       ]
      },
      {
       "output_type": "stream",
       "stream": "stdout",
       "text": [
        "\n",
        "         Current function value: 0.013692\n",
        "         Iterations: 81\n",
        "         Function evaluations: 83\n",
        "         Gradient evaluations: 83\n",
        "Optimization terminated successfully."
       ]
      },
      {
       "output_type": "stream",
       "stream": "stdout",
       "text": [
        "\n",
        "         Current function value: 0.012583\n",
        "         Iterations: 90\n",
        "         Function evaluations: 94\n",
        "         Gradient evaluations: 94\n",
        "Optimization terminated successfully."
       ]
      },
      {
       "output_type": "stream",
       "stream": "stdout",
       "text": [
        "\n",
        "         Current function value: 0.012088\n",
        "         Iterations: 82\n",
        "         Function evaluations: 84\n",
        "         Gradient evaluations: 84\n",
        "Optimization terminated successfully."
       ]
      },
      {
       "output_type": "stream",
       "stream": "stdout",
       "text": [
        "\n",
        "         Current function value: 0.053232\n",
        "         Iterations: 115\n",
        "         Function evaluations: 117\n",
        "         Gradient evaluations: 117\n",
        "Optimization terminated successfully."
       ]
      },
      {
       "output_type": "stream",
       "stream": "stdout",
       "text": [
        "\n",
        "         Current function value: 0.009776\n",
        "         Iterations: 62\n",
        "         Function evaluations: 66\n",
        "         Gradient evaluations: 66\n",
        "Optimization terminated successfully."
       ]
      },
      {
       "output_type": "stream",
       "stream": "stdout",
       "text": [
        "\n",
        "         Current function value: 0.011196\n",
        "         Iterations: 92\n",
        "         Function evaluations: 95\n",
        "         Gradient evaluations: 95\n",
        "Optimization terminated successfully."
       ]
      },
      {
       "output_type": "stream",
       "stream": "stdout",
       "text": [
        "\n",
        "         Current function value: 0.014901\n",
        "         Iterations: 75\n",
        "         Function evaluations: 78\n",
        "         Gradient evaluations: 78\n",
        "Optimization terminated successfully."
       ]
      },
      {
       "output_type": "stream",
       "stream": "stdout",
       "text": [
        "\n",
        "         Current function value: 0.012004\n",
        "         Iterations: 81\n",
        "         Function evaluations: 84\n",
        "         Gradient evaluations: 84\n",
        "Optimization terminated successfully."
       ]
      },
      {
       "output_type": "stream",
       "stream": "stdout",
       "text": [
        "\n",
        "         Current function value: 0.012840\n",
        "         Iterations: 65\n",
        "         Function evaluations: 67\n",
        "         Gradient evaluations: 67\n",
        "Optimization terminated successfully."
       ]
      },
      {
       "output_type": "stream",
       "stream": "stdout",
       "text": [
        "\n",
        "         Current function value: 0.017447\n",
        "         Iterations: 46\n",
        "         Function evaluations: 48\n",
        "         Gradient evaluations: 48\n",
        "Optimization terminated successfully."
       ]
      },
      {
       "output_type": "stream",
       "stream": "stdout",
       "text": [
        "\n",
        "         Current function value: 0.011351\n",
        "         Iterations: 77\n",
        "         Function evaluations: 81\n",
        "         Gradient evaluations: 81\n",
        "Optimization terminated successfully."
       ]
      },
      {
       "output_type": "stream",
       "stream": "stdout",
       "text": [
        "\n",
        "         Current function value: 0.017828\n",
        "         Iterations: 59\n",
        "         Function evaluations: 61\n",
        "         Gradient evaluations: 61\n",
        "Optimization terminated successfully."
       ]
      },
      {
       "output_type": "stream",
       "stream": "stdout",
       "text": [
        "\n",
        "         Current function value: 0.013516\n",
        "         Iterations: 84\n",
        "         Function evaluations: 88\n",
        "         Gradient evaluations: 88\n",
        "Optimization terminated successfully."
       ]
      },
      {
       "output_type": "stream",
       "stream": "stdout",
       "text": [
        "\n",
        "         Current function value: 0.016213\n",
        "         Iterations: 61\n",
        "         Function evaluations: 63\n",
        "         Gradient evaluations: 63\n",
        "Optimization terminated successfully."
       ]
      },
      {
       "output_type": "stream",
       "stream": "stdout",
       "text": [
        "\n",
        "         Current function value: 0.009659\n",
        "         Iterations: 67\n",
        "         Function evaluations: 69\n",
        "         Gradient evaluations: 69\n",
        "Optimization terminated successfully."
       ]
      },
      {
       "output_type": "stream",
       "stream": "stdout",
       "text": [
        "\n",
        "         Current function value: 0.018148\n",
        "         Iterations: 38\n",
        "         Function evaluations: 43\n",
        "         Gradient evaluations: 43\n",
        "Optimization terminated successfully."
       ]
      },
      {
       "output_type": "stream",
       "stream": "stdout",
       "text": [
        "\n",
        "         Current function value: 0.011039\n",
        "         Iterations: 66\n",
        "         Function evaluations: 68\n",
        "         Gradient evaluations: 68\n",
        "Optimization terminated successfully."
       ]
      },
      {
       "output_type": "stream",
       "stream": "stdout",
       "text": [
        "\n",
        "         Current function value: 0.015982\n",
        "         Iterations: 40\n",
        "         Function evaluations: 45\n",
        "         Gradient evaluations: 45\n",
        "Optimization terminated successfully."
       ]
      },
      {
       "output_type": "stream",
       "stream": "stdout",
       "text": [
        "\n",
        "         Current function value: 0.013625\n",
        "         Iterations: 92\n",
        "         Function evaluations: 94\n",
        "         Gradient evaluations: 94\n",
        "Optimization terminated successfully."
       ]
      },
      {
       "output_type": "stream",
       "stream": "stdout",
       "text": [
        "\n",
        "         Current function value: 0.012435\n",
        "         Iterations: 94\n",
        "         Function evaluations: 97\n",
        "         Gradient evaluations: 97\n",
        "Optimization terminated successfully."
       ]
      },
      {
       "output_type": "stream",
       "stream": "stdout",
       "text": [
        "\n",
        "         Current function value: 0.013755\n",
        "         Iterations: 92\n",
        "         Function evaluations: 94\n",
        "         Gradient evaluations: 94\n",
        "Optimization terminated successfully."
       ]
      },
      {
       "output_type": "stream",
       "stream": "stdout",
       "text": [
        "\n",
        "         Current function value: 0.015185\n",
        "         Iterations: 83\n",
        "         Function evaluations: 88\n",
        "         Gradient evaluations: 88\n",
        "Optimization terminated successfully."
       ]
      },
      {
       "output_type": "stream",
       "stream": "stdout",
       "text": [
        "\n",
        "         Current function value: 0.032770\n",
        "         Iterations: 58\n",
        "         Function evaluations: 60\n",
        "         Gradient evaluations: 60\n",
        "Optimization terminated successfully."
       ]
      },
      {
       "output_type": "stream",
       "stream": "stdout",
       "text": [
        "\n",
        "         Current function value: 0.014332\n",
        "         Iterations: 77\n",
        "         Function evaluations: 80\n",
        "         Gradient evaluations: 80\n",
        "Optimization terminated successfully."
       ]
      },
      {
       "output_type": "stream",
       "stream": "stdout",
       "text": [
        "\n",
        "         Current function value: 0.004426\n",
        "         Iterations: 70\n",
        "         Function evaluations: 84\n",
        "         Gradient evaluations: 84\n",
        "Optimization terminated successfully."
       ]
      },
      {
       "output_type": "stream",
       "stream": "stdout",
       "text": [
        "\n",
        "         Current function value: 0.030193\n",
        "         Iterations: 195\n",
        "         Function evaluations: 197\n",
        "         Gradient evaluations: 197\n",
        "Optimization terminated successfully."
       ]
      },
      {
       "output_type": "stream",
       "stream": "stdout",
       "text": [
        "\n",
        "         Current function value: 0.025401\n",
        "         Iterations: 155\n",
        "         Function evaluations: 157\n",
        "         Gradient evaluations: 157\n",
        "Optimization terminated successfully."
       ]
      },
      {
       "output_type": "stream",
       "stream": "stdout",
       "text": [
        "\n",
        "         Current function value: 0.004370\n",
        "         Iterations: 86\n",
        "         Function evaluations: 90\n",
        "         Gradient evaluations: 90\n",
        "Optimization terminated successfully."
       ]
      },
      {
       "output_type": "stream",
       "stream": "stdout",
       "text": [
        "\n",
        "         Current function value: 0.005374\n",
        "         Iterations: 76\n",
        "         Function evaluations: 78\n",
        "         Gradient evaluations: 78\n",
        "Optimization terminated successfully."
       ]
      },
      {
       "output_type": "stream",
       "stream": "stdout",
       "text": [
        "\n",
        "         Current function value: 0.008169\n",
        "         Iterations: 108\n",
        "         Function evaluations: 115\n",
        "         Gradient evaluations: 115\n",
        "Optimization terminated successfully."
       ]
      },
      {
       "output_type": "stream",
       "stream": "stdout",
       "text": [
        "\n",
        "         Current function value: 0.007154\n",
        "         Iterations: 101\n",
        "         Function evaluations: 107\n",
        "         Gradient evaluations: 107\n",
        "Optimization terminated successfully."
       ]
      },
      {
       "output_type": "stream",
       "stream": "stdout",
       "text": [
        "\n",
        "         Current function value: 0.009363\n",
        "         Iterations: 120\n",
        "         Function evaluations: 123\n",
        "         Gradient evaluations: 123\n",
        "Optimization terminated successfully."
       ]
      },
      {
       "output_type": "stream",
       "stream": "stdout",
       "text": [
        "\n",
        "         Current function value: 0.006738\n",
        "         Iterations: 106\n",
        "         Function evaluations: 109\n",
        "         Gradient evaluations: 109\n",
        "Optimization terminated successfully."
       ]
      },
      {
       "output_type": "stream",
       "stream": "stdout",
       "text": [
        "\n",
        "         Current function value: 0.012735\n",
        "         Iterations: 131\n",
        "         Function evaluations: 134\n",
        "         Gradient evaluations: 134\n",
        "Optimization terminated successfully."
       ]
      },
      {
       "output_type": "stream",
       "stream": "stdout",
       "text": [
        "\n",
        "         Current function value: 0.027339\n",
        "         Iterations: 181\n",
        "         Function evaluations: 184\n",
        "         Gradient evaluations: 184\n",
        "Optimization terminated successfully."
       ]
      },
      {
       "output_type": "stream",
       "stream": "stdout",
       "text": [
        "\n",
        "         Current function value: 0.022727\n",
        "         Iterations: 154\n",
        "         Function evaluations: 158\n",
        "         Gradient evaluations: 158\n",
        "Optimization terminated successfully."
       ]
      },
      {
       "output_type": "stream",
       "stream": "stdout",
       "text": [
        "\n",
        "         Current function value: 0.009524\n",
        "         Iterations: 113\n",
        "         Function evaluations: 115\n",
        "         Gradient evaluations: 115\n",
        "Optimization terminated successfully."
       ]
      },
      {
       "output_type": "stream",
       "stream": "stdout",
       "text": [
        "\n",
        "         Current function value: 0.003783\n",
        "         Iterations: 71\n",
        "         Function evaluations: 79\n",
        "         Gradient evaluations: 79\n",
        "Optimization terminated successfully."
       ]
      },
      {
       "output_type": "stream",
       "stream": "stdout",
       "text": [
        "\n",
        "         Current function value: 0.016149\n",
        "         Iterations: 149\n",
        "         Function evaluations: 154\n",
        "         Gradient evaluations: 154\n",
        "Optimization terminated successfully."
       ]
      },
      {
       "output_type": "stream",
       "stream": "stdout",
       "text": [
        "\n",
        "         Current function value: 0.006413\n",
        "         Iterations: 101\n",
        "         Function evaluations: 105\n",
        "         Gradient evaluations: 105\n",
        "Optimization terminated successfully."
       ]
      },
      {
       "output_type": "stream",
       "stream": "stdout",
       "text": [
        "\n",
        "         Current function value: 0.008760\n",
        "         Iterations: 114\n",
        "         Function evaluations: 118\n",
        "         Gradient evaluations: 118\n",
        "Optimization terminated successfully."
       ]
      },
      {
       "output_type": "stream",
       "stream": "stdout",
       "text": [
        "\n",
        "         Current function value: 0.007250\n",
        "         Iterations: 91\n",
        "         Function evaluations: 94\n",
        "         Gradient evaluations: 94\n",
        "Optimization terminated successfully."
       ]
      },
      {
       "output_type": "stream",
       "stream": "stdout",
       "text": [
        "\n",
        "         Current function value: 0.007809\n",
        "         Iterations: 95\n",
        "         Function evaluations: 98\n",
        "         Gradient evaluations: 98\n",
        "Optimization terminated successfully."
       ]
      },
      {
       "output_type": "stream",
       "stream": "stdout",
       "text": [
        "\n",
        "         Current function value: 0.019512\n",
        "         Iterations: 156\n",
        "         Function evaluations: 158\n",
        "         Gradient evaluations: 158\n",
        "Optimization terminated successfully."
       ]
      },
      {
       "output_type": "stream",
       "stream": "stdout",
       "text": [
        "\n",
        "         Current function value: 0.020749\n",
        "         Iterations: 151\n",
        "         Function evaluations: 156\n",
        "         Gradient evaluations: 156\n",
        "Optimization terminated successfully."
       ]
      },
      {
       "output_type": "stream",
       "stream": "stdout",
       "text": [
        "\n",
        "         Current function value: 0.018494\n",
        "         Iterations: 129\n",
        "         Function evaluations: 135\n",
        "         Gradient evaluations: 135\n",
        "Optimization terminated successfully."
       ]
      },
      {
       "output_type": "stream",
       "stream": "stdout",
       "text": [
        "\n",
        "         Current function value: 0.003994\n",
        "         Iterations: 77\n",
        "         Function evaluations: 81\n",
        "         Gradient evaluations: 81\n",
        "Optimization terminated successfully."
       ]
      },
      {
       "output_type": "stream",
       "stream": "stdout",
       "text": [
        "\n",
        "         Current function value: 0.016132\n",
        "         Iterations: 152\n",
        "         Function evaluations: 156\n",
        "         Gradient evaluations: 156\n",
        "Optimization terminated successfully."
       ]
      },
      {
       "output_type": "stream",
       "stream": "stdout",
       "text": [
        "\n",
        "         Current function value: 0.003435\n",
        "         Iterations: 65\n",
        "         Function evaluations: 69\n",
        "         Gradient evaluations: 69\n",
        "Optimization terminated successfully."
       ]
      },
      {
       "output_type": "stream",
       "stream": "stdout",
       "text": [
        "\n",
        "         Current function value: 0.005694\n",
        "         Iterations: 89\n",
        "         Function evaluations: 94\n",
        "         Gradient evaluations: 94\n",
        "Optimization terminated successfully."
       ]
      },
      {
       "output_type": "stream",
       "stream": "stdout",
       "text": [
        "\n",
        "         Current function value: 0.005943\n",
        "         Iterations: 92\n",
        "         Function evaluations: 96\n",
        "         Gradient evaluations: 96\n",
        "OneVsOne 129.904361177\n",
        "OneVsAll 129.989017001\n"
       ]
      }
     ],
     "prompt_number": 64
    },
    {
     "cell_type": "heading",
     "level": 3,
     "metadata": {},
     "source": [
      "Predict"
     ]
    },
    {
     "cell_type": "code",
     "collapsed": false,
     "input": [
      "def predict(model, name):\n",
      "    global X_train, y_train, X_test\n",
      "    model.fit(X_train, y_train)\n",
      "    predicted = model.predict_proba(X_test)\n",
      "    \n",
      "    answer = np.matrix(predicted.astype(str))\n",
      "    ids = np.matrix(range(1, answer.shape[0]+1))\n",
      "    answer = np.hstack((ids.T.astype(str), answer))\n",
      "    answer = np.vstack((np.array([\"id\",\"Class_1\",\"Class_2\",\"Class_3\",\"Class_4\",\"Class_5\",\"Class_6\",\"Class_7\",\"Class_8\",\"Class_9\"]), answer))\n",
      "    answer = answer.tolist()\n",
      "    answer = \"\\n\".join( [\",\".join(line) for line in answer] )\n",
      "    \n",
      "    fo = open(\"../results_logreg/\"+name+\".csv\", \"wt\")\n",
      "    fo.write(answer)\n",
      "    fo.close()\n",
      "    "
     ],
     "language": "python",
     "metadata": {},
     "outputs": [],
     "prompt_number": 173
    },
    {
     "cell_type": "code",
     "collapsed": false,
     "input": [
      "forest = ensemble.RandomForestClassifier()\n",
      "logregR = multiclass.OneVsRestClassifier(linear_model.LogisticRegression())\n",
      "logregMy = multiclass.OneVsRestClassifier(LogisticRegression())"
     ],
     "language": "python",
     "metadata": {},
     "outputs": [],
     "prompt_number": 177
    },
    {
     "cell_type": "code",
     "collapsed": false,
     "input": [
      "predict(logregMy, 'logreg_2')"
     ],
     "language": "python",
     "metadata": {},
     "outputs": [
      {
       "output_type": "stream",
       "stream": "stdout",
       "text": [
        "Optimization terminated successfully.\n",
        "         Current function value: 0.079236\n",
        "         Iterations: 240\n",
        "         Function evaluations: 244\n",
        "         Gradient evaluations: 244\n",
        "Optimization terminated successfully."
       ]
      },
      {
       "output_type": "stream",
       "stream": "stdout",
       "text": [
        "\n",
        "         Current function value: 0.295485\n",
        "         Iterations: 376\n",
        "         Function evaluations: 378\n",
        "         Gradient evaluations: 378\n",
        "Optimization terminated successfully."
       ]
      },
      {
       "output_type": "stream",
       "stream": "stdout",
       "text": [
        "\n",
        "         Current function value: 0.255766\n",
        "         Iterations: 448\n",
        "         Function evaluations: 451\n",
        "         Gradient evaluations: 451\n",
        "Optimization terminated successfully."
       ]
      },
      {
       "output_type": "stream",
       "stream": "stdout",
       "text": [
        "\n",
        "         Current function value: 0.124132\n",
        "         Iterations: 354\n",
        "         Function evaluations: 356\n",
        "         Gradient evaluations: 356\n",
        "Optimization terminated successfully."
       ]
      },
      {
       "output_type": "stream",
       "stream": "stdout",
       "text": [
        "\n",
        "         Current function value: 0.010656\n",
        "         Iterations: 295\n",
        "         Function evaluations: 299\n",
        "         Gradient evaluations: 299\n",
        "Optimization terminated successfully."
       ]
      },
      {
       "output_type": "stream",
       "stream": "stdout",
       "text": [
        "\n",
        "         Current function value: 0.097136\n",
        "         Iterations: 218\n",
        "         Function evaluations: 220\n",
        "         Gradient evaluations: 220\n",
        "Optimization terminated successfully."
       ]
      },
      {
       "output_type": "stream",
       "stream": "stdout",
       "text": [
        "\n",
        "         Current function value: 0.091203\n",
        "         Iterations: 319\n",
        "         Function evaluations: 321\n",
        "         Gradient evaluations: 321\n",
        "Optimization terminated successfully."
       ]
      },
      {
       "output_type": "stream",
       "stream": "stdout",
       "text": [
        "\n",
        "         Current function value: 0.092448\n",
        "         Iterations: 255\n",
        "         Function evaluations: 259\n",
        "         Gradient evaluations: 259\n",
        "Optimization terminated successfully."
       ]
      },
      {
       "output_type": "stream",
       "stream": "stdout",
       "text": [
        "\n",
        "         Current function value: 0.074802\n",
        "         Iterations: 308\n",
        "         Function evaluations: 310\n",
        "         Gradient evaluations: 310\n"
       ]
      }
     ],
     "prompt_number": 178
    },
    {
     "cell_type": "code",
     "collapsed": false,
     "input": [],
     "language": "python",
     "metadata": {},
     "outputs": []
    }
   ],
   "metadata": {}
  }
 ]
}