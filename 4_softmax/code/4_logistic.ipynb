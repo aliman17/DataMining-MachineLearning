{
 "metadata": {
  "name": "",
  "signature": "sha256:6e7c4a8070b8f2bf174c76b78d7015c01e868e1667ad7e1c6995c12b95b46af9"
 },
 "nbformat": 3,
 "nbformat_minor": 0,
 "worksheets": [
  {
   "cells": [
    {
     "cell_type": "markdown",
     "metadata": {},
     "source": [
      "Usefull links\n",
      "- http://blog.smellthedata.com/2009/06/python-logistic-regression-with-l2.html\n",
      "- http://scikit-learn.org/stable/modules/multiclass.html\n",
      "- http://scikit-learn.org/stable/developers/#get-params-and-set-params\n",
      "- http://aimotion.blogspot.com/2011/11/machine-learning-with-python-logistic.html"
     ]
    },
    {
     "cell_type": "code",
     "collapsed": false,
     "input": [
      "import numpy as np\n",
      "import random\n",
      "import math\n",
      "import scipy as sp\n",
      "from scipy.optimize.optimize import fmin_bfgs\n",
      "from sklearn.base import BaseEstimator, ClassifierMixin\n",
      "import random\n",
      "import warnings\n",
      "import random\n",
      "from sklearn import cross_validation\n",
      "from sklearn import preprocessing\n",
      "from sklearn import linear_model\n",
      "from sklearn import multiclass\n",
      "from sklearn import ensemble\n",
      "from sklearn import metrics"
     ],
     "language": "python",
     "metadata": {},
     "outputs": [],
     "prompt_number": 1
    },
    {
     "cell_type": "heading",
     "level": 3,
     "metadata": {},
     "source": [
      "Load data and normalize it"
     ]
    },
    {
     "cell_type": "code",
     "collapsed": false,
     "input": [
      "norm = preprocessing.Normalizer()\n",
      "X_train = np.loadtxt(open(\"../data/train.csv\",\"rb\"),delimiter=\",\",skiprows=1, usecols=range(1,94))\n",
      "X_train = norm.fit_transform(X_train)\n",
      "\n",
      "y_train = np.loadtxt(open(\"../data/train.csv\",\"rb\"),dtype=str,delimiter=\",\",skiprows=1, usecols=[94])\n",
      "y_train = np.array([int(c[-2]) for c in y_train])  # Parse classes from Class_1 into 1\n",
      "\n",
      "X_test = np.loadtxt(open(\"../data/test.csv\",\"rb\"),delimiter=\",\",skiprows=1, usecols=range(1,94))\n",
      "X_test = norm.transform(X_test)"
     ],
     "language": "python",
     "metadata": {},
     "outputs": [],
     "prompt_number": 2
    },
    {
     "cell_type": "heading",
     "level": 3,
     "metadata": {},
     "source": [
      "Logistic Function"
     ]
    },
    {
     "cell_type": "code",
     "collapsed": false,
     "input": [
      "def sigmoid(z):\n",
      "    return 1 / (1 + np.exp(-z))"
     ],
     "language": "python",
     "metadata": {},
     "outputs": [],
     "prompt_number": 4
    },
    {
     "cell_type": "heading",
     "level": 3,
     "metadata": {},
     "source": [
      "Cost Function, Gradient Function"
     ]
    },
    {
     "cell_type": "code",
     "collapsed": false,
     "input": [
      "fix_me = lambda p: np.maximum(np.minimum(p, 1 - 1e-15), 1e-15)\n",
      "\n",
      "def J(X, y_, theta_, alpha):\n",
      "    m = len(y_)\n",
      "    h_ = np.array(list(map(sigmoid, X.dot(theta_))))\n",
      "    l2_reg = alpha / (2*m) * sum(theta_**2)\n",
      "    J = 1/m * (y_.dot(np.log(fix_me(h_))) + (1 - y_).dot(np.log(fix_me(1 - h_)))) - l2_reg\n",
      "    return -J\n",
      "        \n",
      "def Jgrad(X, y_, theta_, alpha):\n",
      "    m = len(y_)\n",
      "    h_ = np.array(list(map(sigmoid, X.dot(theta_))))\n",
      "    grad = 1/m * (y_ - h_).dot(X) - alpha/m * theta_\n",
      "    return -grad"
     ],
     "language": "python",
     "metadata": {},
     "outputs": [],
     "prompt_number": 5
    },
    {
     "cell_type": "heading",
     "level": 3,
     "metadata": {},
     "source": [
      "Numerical Testing"
     ]
    },
    {
     "cell_type": "code",
     "collapsed": false,
     "input": [
      "def numerical_grad(f, params, epsilon):\n",
      "    \"\"\"Method of finite differences, sanity check to see if our Jgrad is implemented correctly\"\"\"\n",
      "    num_grad = np.zeros_like(params)\n",
      "    perturb = np.zeros_like(params)\n",
      "    for i in range(params.size):\n",
      "        perturb[i] = epsilon\n",
      "        j1 = f(params + perturb)\n",
      "        j2 = f(params - perturb)\n",
      "        num_grad[i] = (j1 - j2) / (2. * epsilon)\n",
      "        perturb[i] = 0\n",
      "    return num_grad\n",
      "\n",
      "def check_grad(X, y_, theta_):\n",
      "    alpha = 2\n",
      "    f = lambda theta: J(X, y_, theta, alpha)\n",
      "    ag = Jgrad(X, y_, theta_, alpha)\n",
      "    ng = numerical_grad(f, theta_, 1e-5)\n",
      "    return np.sum((ag - ng)**2)"
     ],
     "language": "python",
     "metadata": {},
     "outputs": [],
     "prompt_number": 6
    },
    {
     "cell_type": "code",
     "collapsed": false,
     "input": [
      "check_grad(X_train[:100], y_train[:100], np.ones(X_train.shape[1]))"
     ],
     "language": "python",
     "metadata": {},
     "outputs": [
      {
       "metadata": {},
       "output_type": "pyout",
       "prompt_number": 7,
       "text": [
        "6.6894738904569158e-21"
       ]
      }
     ],
     "prompt_number": 7
    },
    {
     "cell_type": "heading",
     "level": 3,
     "metadata": {},
     "source": [
      "Cross Validation and Score Function"
     ]
    },
    {
     "cell_type": "code",
     "collapsed": false,
     "input": [
      "def logloss(pred, act):\n",
      "    epsilon = 1e-15\n",
      "    pred = sp.maximum(epsilon, pred)\n",
      "    pred = sp.minimum(1-epsilon, pred)\n",
      "    x = np.array([p[a-1] for p, a in zip(pred, act)])\n",
      "    return -sum(np.log(x))/len(x)\n",
      "\n",
      "def evaluate(act, prob):\n",
      "    return logloss(prob, act)\n",
      "\n",
      "def my_cross_validation(X, y_, model):\n",
      "    k = 3\n",
      "    S = []\n",
      "    kf = cross_validation.KFold(len(y_), n_folds=k, shuffle=True)\n",
      "    for train_index, test_index in kf:\n",
      "        # Split\n",
      "        X_train, X_test = X[train_index], X[test_index]\n",
      "        y_train, y_test = y_[train_index], y_[test_index]\n",
      "        # Predict\n",
      "        model.fit(X_train, y_train)\n",
      "        P = model.predict_proba(X_test) \n",
      "        # Evaluate\n",
      "        S += [evaluate(y_test, P)]\n",
      "    S = np.array(S)\n",
      "    return(np.mean(S))"
     ],
     "language": "python",
     "metadata": {},
     "outputs": [],
     "prompt_number": 63
    },
    {
     "cell_type": "heading",
     "level": 3,
     "metadata": {},
     "source": [
      "LogisticRegression Sklearn CV"
     ]
    },
    {
     "cell_type": "code",
     "collapsed": false,
     "input": [
      "warnings.filterwarnings(\"ignore\")\n",
      "# Use integrated Logistic Regression and OneVsOneClassifier\n",
      "step = 10\n",
      "indices = list(range(0, X_train.shape[0], step))\n",
      "\n",
      "X = X_train[indices]\n",
      "y_ = y_train[indices]\n",
      "\n",
      "#logreg = linear_model.LogisticRegression()\n",
      "#classifier = multiclass.OneVsOneClassifier(logreg)\n",
      "#one = my_cross_validation(X, y_, classifier)\n",
      "\n",
      "logreg = linear_model.LogisticRegression()\n",
      "classifier = multiclass.OneVsRestClassifier(logreg)\n",
      "rest = my_cross_validation(X, y_, classifier)\n",
      "\n",
      "#print(\"OneVsOne\", one)\n",
      "print(\"OneVsAll\", rest)"
     ],
     "language": "python",
     "metadata": {},
     "outputs": [
      {
       "output_type": "stream",
       "stream": "stdout",
       "text": [
        "OneVsAll 0.751366699947\n"
       ]
      }
     ],
     "prompt_number": 74
    },
    {
     "cell_type": "heading",
     "level": 3,
     "metadata": {},
     "source": [
      "Random Forest Sklearn CV"
     ]
    },
    {
     "cell_type": "code",
     "collapsed": false,
     "input": [
      "# Use integrated Logistic Regression and OneVsOneClassifier\n",
      "step = 10\n",
      "indices = list(range(0, X_train.shape[0], step))\n",
      "random.shuffle(indices)\n",
      "\n",
      "X = X_train[indices]\n",
      "y_ = y_train[indices]\n",
      "# Integrated\n",
      "\n",
      "classifier = ensemble.RandomForestClassifier()\n",
      "forest = my_cross_validation(X, y_, classifier)\n",
      "\n",
      "print(\"Random Forest\", forest)"
     ],
     "language": "python",
     "metadata": {},
     "outputs": [
      {
       "output_type": "stream",
       "stream": "stdout",
       "text": [
        "Random Forest 2.29641428861\n"
       ]
      }
     ],
     "prompt_number": 73
    },
    {
     "cell_type": "heading",
     "level": 3,
     "metadata": {},
     "source": [
      "My Model"
     ]
    },
    {
     "cell_type": "code",
     "collapsed": false,
     "input": [
      "class LogisticRegression(BaseEstimator, ClassifierMixin):\n",
      "    def __init__(self, h=sigmoid, alpha=0.001):\n",
      "        self.h = h\n",
      "        self.alpha = alpha\n",
      "        \n",
      "    def get_params(self, deep=True):\n",
      "        # suppose this estimator has parameters \"alpha\" and \"recursive\"\n",
      "        return {}\n",
      "\n",
      "    def set_params(self, **parameters):\n",
      "        for parameter, value in parameters.items():\n",
      "            self.setattr(parameter, value)\n",
      "        return self\n",
      "    \n",
      "    def fit(self, X, y_):     \n",
      "        X = np.column_stack((np.ones(len(y_)), X))  # za prosti clen\n",
      "        theta0_ = np.ones(X.shape[1])               # Starting point\n",
      "        self.theta = fmin_bfgs(lambda th_: J(X, y_, th_, self.alpha),\n",
      "                                    theta0_,\n",
      "                                    fprime=lambda th_: Jgrad(X, y_, th_, self.alpha),\n",
      "                                    ) \n",
      "        return self\n",
      "    \n",
      "    def predict_proba(self, X):\n",
      "        if len(X.shape) == 2:  # za vec na enkrat\n",
      "            X = np.column_stack((np.ones(X.shape[0]), X))\n",
      "            pred = self.h(X.dot(self.theta))\n",
      "            pred = np.array(list(zip(1-pred, pred)))   # tole smo videli iz errorja ... potrebujemo pac n*2 matrix\n",
      "            return pred\n",
      "        else:  # za en vektor\n",
      "            X = np.hstack(([1], X))\n",
      "            pred = self.h(X.dot(self.theta))\n",
      "            return np.array([1-pred, pred])\n",
      "    def predict(self, X):\n",
      "        probs = self.predict_proba(X)\n",
      "        if len(probs.shape) == 2:\n",
      "            return np.array(list(map(np.argmax, probs)))  # najboljso predikcijo izberi\n",
      "        return np.array(np.argmax(probs))\n"
     ],
     "language": "python",
     "metadata": {},
     "outputs": [],
     "prompt_number": 79
    },
    {
     "cell_type": "heading",
     "level": 3,
     "metadata": {},
     "source": [
      "My Model CV"
     ]
    },
    {
     "cell_type": "code",
     "collapsed": false,
     "input": [
      "warnings.filterwarnings(\"ignore\")\n",
      "\n",
      "step = 100\n",
      "indices = list(range(0, X_train.shape[0], step))\n",
      "random.shuffle(indices)\n",
      "\n",
      "X = X_train[indices]\n",
      "y_ = y_train[indices]\n",
      "\n",
      "#logreg = LogisticRegression()\n",
      "#classifier = multiclass.OneVsOneClassifier(logreg)\n",
      "#one = my_cross_validation(X, y_, classifier)\n",
      "\n",
      "logreg = LogisticRegression()\n",
      "classifier = multiclass.OneVsRestClassifier(logreg)\n",
      "rest = my_cross_validation(X, y_, classifier)\n",
      "\n",
      "#print(\"OneVsOne\", one)\n",
      "print(\"OneVsAll\", rest)"
     ],
     "language": "python",
     "metadata": {},
     "outputs": [
      {
       "output_type": "stream",
       "stream": "stdout",
       "text": [
        "Warning: Maximum number of iterations has been exceeded.\n",
        "         Current function value: 0.019343\n",
        "         Iterations: 100\n",
        "         Function evaluations: 102\n",
        "         Gradient evaluations: 102\n",
        "Warning: Maximum number of iterations has been exceeded."
       ]
      },
      {
       "output_type": "stream",
       "stream": "stdout",
       "text": [
        "\n",
        "         Current function value: 0.189184\n",
        "         Iterations: 100\n",
        "         Function evaluations: 102\n",
        "         Gradient evaluations: 102\n",
        "Warning: Maximum number of iterations has been exceeded."
       ]
      },
      {
       "output_type": "stream",
       "stream": "stdout",
       "text": [
        "\n",
        "         Current function value: 0.143999\n",
        "         Iterations: 100\n",
        "         Function evaluations: 104\n",
        "         Gradient evaluations: 104\n",
        "Warning: Maximum number of iterations has been exceeded."
       ]
      },
      {
       "output_type": "stream",
       "stream": "stdout",
       "text": [
        "\n",
        "         Current function value: 0.045766\n",
        "         Iterations: 100\n",
        "         Function evaluations: 102\n",
        "         Gradient evaluations: 102\n",
        "Warning: Maximum number of iterations has been exceeded."
       ]
      },
      {
       "output_type": "stream",
       "stream": "stdout",
       "text": [
        "\n",
        "         Current function value: 0.003297\n",
        "         Iterations: 100\n",
        "         Function evaluations: 102\n",
        "         Gradient evaluations: 102\n",
        "Warning: Maximum number of iterations has been exceeded."
       ]
      },
      {
       "output_type": "stream",
       "stream": "stdout",
       "text": [
        "\n",
        "         Current function value: 0.023181\n",
        "         Iterations: 100\n",
        "         Function evaluations: 102\n",
        "         Gradient evaluations: 102\n",
        "Warning: Maximum number of iterations has been exceeded."
       ]
      },
      {
       "output_type": "stream",
       "stream": "stdout",
       "text": [
        "\n",
        "         Current function value: 0.019641\n",
        "         Iterations: 100\n",
        "         Function evaluations: 102\n",
        "         Gradient evaluations: 102\n",
        "Warning: Maximum number of iterations has been exceeded."
       ]
      },
      {
       "output_type": "stream",
       "stream": "stdout",
       "text": [
        "\n",
        "         Current function value: 0.011814\n",
        "         Iterations: 100\n",
        "         Function evaluations: 103\n",
        "         Gradient evaluations: 103\n",
        "Warning: Maximum number of iterations has been exceeded."
       ]
      },
      {
       "output_type": "stream",
       "stream": "stdout",
       "text": [
        "\n",
        "         Current function value: 0.014807\n",
        "         Iterations: 100\n",
        "         Function evaluations: 103\n",
        "         Gradient evaluations: 103\n",
        "Warning: Maximum number of iterations has been exceeded."
       ]
      },
      {
       "output_type": "stream",
       "stream": "stdout",
       "text": [
        "\n",
        "         Current function value: 0.013496\n",
        "         Iterations: 100\n",
        "         Function evaluations: 102\n",
        "         Gradient evaluations: 102\n",
        "Warning: Maximum number of iterations has been exceeded."
       ]
      },
      {
       "output_type": "stream",
       "stream": "stdout",
       "text": [
        "\n",
        "         Current function value: 0.189562\n",
        "         Iterations: 100\n",
        "         Function evaluations: 102\n",
        "         Gradient evaluations: 102\n",
        "Warning: Maximum number of iterations has been exceeded."
       ]
      },
      {
       "output_type": "stream",
       "stream": "stdout",
       "text": [
        "\n",
        "         Current function value: 0.134817\n",
        "         Iterations: 100\n",
        "         Function evaluations: 104\n",
        "         Gradient evaluations: 104\n",
        "Warning: Maximum number of iterations has been exceeded."
       ]
      },
      {
       "output_type": "stream",
       "stream": "stdout",
       "text": [
        "\n",
        "         Current function value: 0.052631\n",
        "         Iterations: 100\n",
        "         Function evaluations: 102\n",
        "         Gradient evaluations: 102\n",
        "Warning: Maximum number of iterations has been exceeded."
       ]
      },
      {
       "output_type": "stream",
       "stream": "stdout",
       "text": [
        "\n",
        "         Current function value: 0.002099\n",
        "         Iterations: 100\n",
        "         Function evaluations: 104\n",
        "         Gradient evaluations: 104\n",
        "Warning: Maximum number of iterations has been exceeded."
       ]
      },
      {
       "output_type": "stream",
       "stream": "stdout",
       "text": [
        "\n",
        "         Current function value: 0.017978\n",
        "         Iterations: 100\n",
        "         Function evaluations: 102\n",
        "         Gradient evaluations: 102\n",
        "Warning: Maximum number of iterations has been exceeded."
       ]
      },
      {
       "output_type": "stream",
       "stream": "stdout",
       "text": [
        "\n",
        "         Current function value: 0.017556\n",
        "         Iterations: 100\n",
        "         Function evaluations: 103\n",
        "         Gradient evaluations: 103\n",
        "Warning: Maximum number of iterations has been exceeded."
       ]
      },
      {
       "output_type": "stream",
       "stream": "stdout",
       "text": [
        "\n",
        "         Current function value: 0.012084\n",
        "         Iterations: 100\n",
        "         Function evaluations: 102\n",
        "         Gradient evaluations: 102\n",
        "Warning: Maximum number of iterations has been exceeded."
       ]
      },
      {
       "output_type": "stream",
       "stream": "stdout",
       "text": [
        "\n",
        "         Current function value: 0.016624\n",
        "         Iterations: 100\n",
        "         Function evaluations: 102\n",
        "         Gradient evaluations: 102\n",
        "Warning: Maximum number of iterations has been exceeded."
       ]
      },
      {
       "output_type": "stream",
       "stream": "stdout",
       "text": [
        "\n",
        "         Current function value: 0.011656\n",
        "         Iterations: 100\n",
        "         Function evaluations: 102\n",
        "         Gradient evaluations: 102\n",
        "Warning: Maximum number of iterations has been exceeded."
       ]
      },
      {
       "output_type": "stream",
       "stream": "stdout",
       "text": [
        "\n",
        "         Current function value: 0.170174\n",
        "         Iterations: 100\n",
        "         Function evaluations: 102\n",
        "         Gradient evaluations: 102\n",
        "Warning: Maximum number of iterations has been exceeded."
       ]
      },
      {
       "output_type": "stream",
       "stream": "stdout",
       "text": [
        "\n",
        "         Current function value: 0.126328\n",
        "         Iterations: 100\n",
        "         Function evaluations: 102\n",
        "         Gradient evaluations: 102\n",
        "Warning: Maximum number of iterations has been exceeded."
       ]
      },
      {
       "output_type": "stream",
       "stream": "stdout",
       "text": [
        "\n",
        "         Current function value: 0.062865\n",
        "         Iterations: 100\n",
        "         Function evaluations: 102\n",
        "         Gradient evaluations: 102\n",
        "Warning: Maximum number of iterations has been exceeded."
       ]
      },
      {
       "output_type": "stream",
       "stream": "stdout",
       "text": [
        "\n",
        "         Current function value: 0.002509\n",
        "         Iterations: 100\n",
        "         Function evaluations: 105\n",
        "         Gradient evaluations: 105\n",
        "Warning: Maximum number of iterations has been exceeded."
       ]
      },
      {
       "output_type": "stream",
       "stream": "stdout",
       "text": [
        "\n",
        "         Current function value: 0.009635\n",
        "         Iterations: 100\n",
        "         Function evaluations: 102\n",
        "         Gradient evaluations: 102\n",
        "Warning: Maximum number of iterations has been exceeded."
       ]
      },
      {
       "output_type": "stream",
       "stream": "stdout",
       "text": [
        "\n",
        "         Current function value: 0.020277\n",
        "         Iterations: 100\n",
        "         Function evaluations: 102\n",
        "         Gradient evaluations: 102\n",
        "Warning: Maximum number of iterations has been exceeded."
       ]
      },
      {
       "output_type": "stream",
       "stream": "stdout",
       "text": [
        "\n",
        "         Current function value: 0.019301\n",
        "         Iterations: 100\n",
        "         Function evaluations: 103\n",
        "         Gradient evaluations: 103\n",
        "Warning: Maximum number of iterations has been exceeded."
       ]
      },
      {
       "output_type": "stream",
       "stream": "stdout",
       "text": [
        "\n",
        "         Current function value: 0.014172\n",
        "         Iterations: 100\n",
        "         Function evaluations: 102\n",
        "         Gradient evaluations: 102\n",
        "OneVsAll 1.54710511264\n"
       ]
      }
     ],
     "prompt_number": 66
    },
    {
     "cell_type": "heading",
     "level": 3,
     "metadata": {},
     "source": [
      "Predict and Store On- Vs-Rest Sklearn"
     ]
    },
    {
     "cell_type": "code",
     "collapsed": false,
     "input": [
      "def predict_proba(model, name):\n",
      "    global X_train, y_train, X_test\n",
      "    model.fit(X_train, y_train)\n",
      "    predicted = model.predict_proba(X_test)\n",
      "    \n",
      "    answer = np.matrix(predicted.astype(str))\n",
      "    ids = np.matrix(range(1, answer.shape[0]+1))\n",
      "    answer = np.hstack((ids.T.astype(str), answer))\n",
      "    answer = np.vstack((np.array([\"id\",\"Class_1\",\"Class_2\",\"Class_3\",\"Class_4\",\"Class_5\",\"Class_6\",\"Class_7\",\"Class_8\",\"Class_9\"]), answer))\n",
      "    answer = answer.tolist()\n",
      "    answer = \"\\n\".join( [\",\".join(line) for line in answer] )\n",
      "    \n",
      "    fo = open(\"../results_logreg/\"+name+\".csv\", \"wt\")\n",
      "    fo.write(answer)\n",
      "    fo.close()\n",
      "    "
     ],
     "language": "python",
     "metadata": {},
     "outputs": [],
     "prompt_number": 218
    },
    {
     "cell_type": "code",
     "collapsed": false,
     "input": [
      "forest = ensemble.RandomForestClassifier()\n",
      "logregR = multiclass.OneVsRestClassifier(linear_model.LogisticRegression())\n",
      "logregMy = multiclass.OneVsRestClassifier(LogisticRegression())"
     ],
     "language": "python",
     "metadata": {},
     "outputs": [],
     "prompt_number": 127
    },
    {
     "cell_type": "code",
     "collapsed": false,
     "input": [
      "predict_proba(logregMy, 'logreg_2')"
     ],
     "language": "python",
     "metadata": {},
     "outputs": [
      {
       "ename": "NameError",
       "evalue": "name 'predict' is not defined",
       "output_type": "pyerr",
       "traceback": [
        "\u001b[1;31m---------------------------------------------------------------------------\u001b[0m\n\u001b[1;31mNameError\u001b[0m                                 Traceback (most recent call last)",
        "\u001b[1;32m<ipython-input-128-7059a35695d6>\u001b[0m in \u001b[0;36m<module>\u001b[1;34m()\u001b[0m\n\u001b[1;32m----> 1\u001b[1;33m \u001b[0mpredict\u001b[0m\u001b[1;33m(\u001b[0m\u001b[0mlogregMy\u001b[0m\u001b[1;33m,\u001b[0m \u001b[1;34m'logreg_2'\u001b[0m\u001b[1;33m)\u001b[0m\u001b[1;33m\u001b[0m\u001b[0m\n\u001b[0m",
        "\u001b[1;31mNameError\u001b[0m: name 'predict' is not defined"
       ]
      }
     ],
     "prompt_number": 128
    },
    {
     "cell_type": "raw",
     "metadata": {},
     "source": [
      "cross_validation.cross_val_score(logregMy, X_train, y_train)"
     ]
    },
    {
     "cell_type": "heading",
     "level": 3,
     "metadata": {},
     "source": [
      "OneVsOne"
     ]
    },
    {
     "cell_type": "code",
     "collapsed": false,
     "input": [
      "class OneVsOne():\n",
      "    def __init__(self, learner):\n",
      "        self.learner = learner\n",
      "        self.n_classes = 0\n",
      "        self.models = None\n",
      "        \n",
      "    def fit(self, X, y_):\n",
      "        y_ = y_ - 1   # Classes numbering starts with 1, so we substract 1 to start with 0\n",
      "        self.n_classes = len(np.unique(y_))\n",
      "        self.classes = np.unique(y_)\n",
      "        self.models = [[None] * self.n_classes ] * self.n_classes\n",
      "        \n",
      "        yX = np.hstack((np.matrix(y_).T, X))\n",
      "        yX = np.array(yX)        \n",
      "        groups = [yX[yX[:,0] == i, 1:] for i in range(self.n_classes)]\n",
      "        \n",
      "        for i in range(self.n_classes):\n",
      "            for j in range(i+1, self.n_classes):\n",
      "                # Prepare X\n",
      "                X_train = np.vstack((groups[i], groups[j]))\n",
      "                y_train = [1]*groups[i].shape[0] + [0]*groups[j].shape[0] \n",
      "                y_train = np.array(y_train)\n",
      "                model = LogisticRegression()\n",
      "                model.fit(X_train, y_train)\n",
      "                self.models[i][j] = model\n",
      "    \n",
      "    def predict_proba(self, X):\n",
      "        Preds = []\n",
      "        for x_ in X:\n",
      "            pred = [0]*self.n_classes\n",
      "            for i in range(self.n_classes):\n",
      "                for j in range(i+1, self.n_classes):\n",
      "                    model = self.models[i][j]\n",
      "                    p = model.predict(x_)\n",
      "                    pred[i] += p\n",
      "                    pred[j] += 1-p\n",
      "            # Normalize it\n",
      "            pred = np.array(pred)\n",
      "            pred = pred / (sum(pred))\n",
      "            Preds.append(pred)\n",
      "        return np.array(Preds)\n",
      "    \n",
      "    def predict(self, X):\n",
      "        probs = self.predict_proba(X)\n",
      "        if len(probs.shape) == 2:\n",
      "            return np.array(list(map(np.argmax, probs)))  # najboljso predikcijo izberi\n",
      "        return np.array(np.argmax(probs))\n",
      "        "
     ],
     "language": "python",
     "metadata": {},
     "outputs": [],
     "prompt_number": 209
    },
    {
     "cell_type": "code",
     "collapsed": false,
     "input": [
      "# Test\n",
      "\n",
      "step = 1000\n",
      "indices = list(range(0, X_train.shape[0], step))\n",
      "random.shuffle(indices)\n",
      "\n",
      "X = X_train[indices]\n",
      "y_ = y_train[indices]\n",
      "\n",
      "o = OneVsOne(logregR)\n",
      "o.fit(X, y_)\n",
      "o.predict(X_train[20000:20010])"
     ],
     "language": "python",
     "metadata": {},
     "outputs": [
      {
       "output_type": "stream",
       "stream": "stdout",
       "text": [
        "Optimization terminated successfully.\n",
        "         Current function value: 0.011131\n",
        "         Iterations: 95\n",
        "         Function evaluations: 99\n",
        "         Gradient evaluations: 99\n",
        "Optimization terminated successfully."
       ]
      },
      {
       "output_type": "stream",
       "stream": "stdout",
       "text": [
        "\n",
        "         Current function value: 0.012546\n",
        "         Iterations: 76\n",
        "         Function evaluations: 80\n",
        "         Gradient evaluations: 80\n",
        "Optimization terminated successfully."
       ]
      },
      {
       "output_type": "stream",
       "stream": "stdout",
       "text": [
        "\n",
        "         Current function value: 0.018565\n",
        "         Iterations: 55\n",
        "         Function evaluations: 59\n",
        "         Gradient evaluations: 59\n",
        "Optimization terminated successfully."
       ]
      },
      {
       "output_type": "stream",
       "stream": "stdout",
       "text": [
        "\n",
        "         Current function value: 0.016600\n",
        "         Iterations: 61\n",
        "         Function evaluations: 63\n",
        "         Gradient evaluations: 63\n",
        "Optimization terminated successfully."
       ]
      },
      {
       "output_type": "stream",
       "stream": "stdout",
       "text": [
        "\n",
        "         Current function value: 0.027745\n",
        "         Iterations: 115\n",
        "         Function evaluations: 119\n",
        "         Gradient evaluations: 119\n",
        "Optimization terminated successfully."
       ]
      },
      {
       "output_type": "stream",
       "stream": "stdout",
       "text": [
        "\n",
        "         Current function value: 0.019849\n",
        "         Iterations: 72\n",
        "         Function evaluations: 75\n",
        "         Gradient evaluations: 75\n",
        "Optimization terminated successfully."
       ]
      },
      {
       "output_type": "stream",
       "stream": "stdout",
       "text": [
        "\n",
        "         Current function value: 0.015208\n",
        "         Iterations: 88\n",
        "         Function evaluations: 92\n",
        "         Gradient evaluations: 92\n",
        "Optimization terminated successfully."
       ]
      },
      {
       "output_type": "stream",
       "stream": "stdout",
       "text": [
        "\n",
        "         Current function value: 0.019223\n",
        "         Iterations: 87\n",
        "         Function evaluations: 90\n",
        "         Gradient evaluations: 90\n",
        "Optimization terminated successfully."
       ]
      },
      {
       "output_type": "stream",
       "stream": "stdout",
       "text": [
        "\n",
        "         Current function value: 0.049352\n",
        "         Iterations: 166\n",
        "         Function evaluations: 170\n",
        "         Gradient evaluations: 170\n",
        "Optimization terminated successfully."
       ]
      },
      {
       "output_type": "stream",
       "stream": "stdout",
       "text": [
        "\n",
        "         Current function value: 0.021044\n",
        "         Iterations: 108\n",
        "         Function evaluations: 111\n",
        "         Gradient evaluations: 111\n",
        "Optimization terminated successfully."
       ]
      },
      {
       "output_type": "stream",
       "stream": "stdout",
       "text": [
        "\n",
        "         Current function value: 0.010338\n",
        "         Iterations: 81\n",
        "         Function evaluations: 85\n",
        "         Gradient evaluations: 85\n",
        "Optimization terminated successfully."
       ]
      },
      {
       "output_type": "stream",
       "stream": "stdout",
       "text": [
        "\n",
        "         Current function value: 0.010680\n",
        "         Iterations: 127\n",
        "         Function evaluations: 131\n",
        "         Gradient evaluations: 131\n",
        "Optimization terminated successfully."
       ]
      },
      {
       "output_type": "stream",
       "stream": "stdout",
       "text": [
        "\n",
        "         Current function value: 0.009152\n",
        "         Iterations: 86\n",
        "         Function evaluations: 88\n",
        "         Gradient evaluations: 88\n",
        "Optimization terminated successfully."
       ]
      },
      {
       "output_type": "stream",
       "stream": "stdout",
       "text": [
        "\n",
        "         Current function value: 0.011678\n",
        "         Iterations: 110\n",
        "         Function evaluations: 113\n",
        "         Gradient evaluations: 113\n",
        "Optimization terminated successfully."
       ]
      },
      {
       "output_type": "stream",
       "stream": "stdout",
       "text": [
        "\n",
        "         Current function value: 0.010783\n",
        "         Iterations: 100\n",
        "         Function evaluations: 103\n",
        "         Gradient evaluations: 103\n",
        "Optimization terminated successfully."
       ]
      },
      {
       "output_type": "stream",
       "stream": "stdout",
       "text": [
        "\n",
        "         Current function value: 0.047528\n",
        "         Iterations: 110\n",
        "         Function evaluations: 114\n",
        "         Gradient evaluations: 114\n",
        "Optimization terminated successfully."
       ]
      },
      {
       "output_type": "stream",
       "stream": "stdout",
       "text": [
        "\n",
        "         Current function value: 0.009035\n",
        "         Iterations: 77\n",
        "         Function evaluations: 81\n",
        "         Gradient evaluations: 81\n",
        "Optimization terminated successfully."
       ]
      },
      {
       "output_type": "stream",
       "stream": "stdout",
       "text": [
        "\n",
        "         Current function value: 0.009571\n",
        "         Iterations: 98\n",
        "         Function evaluations: 101\n",
        "         Gradient evaluations: 101\n",
        "Optimization terminated successfully."
       ]
      },
      {
       "output_type": "stream",
       "stream": "stdout",
       "text": [
        "\n",
        "         Current function value: 0.012632\n",
        "         Iterations: 89\n",
        "         Function evaluations: 94\n",
        "         Gradient evaluations: 94\n",
        "Optimization terminated successfully."
       ]
      },
      {
       "output_type": "stream",
       "stream": "stdout",
       "text": [
        "\n",
        "         Current function value: 0.013632\n",
        "         Iterations: 109\n",
        "         Function evaluations: 113\n",
        "         Gradient evaluations: 113\n",
        "Optimization terminated successfully."
       ]
      },
      {
       "output_type": "stream",
       "stream": "stdout",
       "text": [
        "\n",
        "         Current function value: 0.012873\n",
        "         Iterations: 94\n",
        "         Function evaluations: 98\n",
        "         Gradient evaluations: 98\n",
        "Optimization terminated successfully."
       ]
      },
      {
       "output_type": "stream",
       "stream": "stdout",
       "text": [
        "\n",
        "         Current function value: 0.015036\n",
        "         Iterations: 59\n",
        "         Function evaluations: 62\n",
        "         Gradient evaluations: 62\n",
        "Optimization terminated successfully."
       ]
      },
      {
       "output_type": "stream",
       "stream": "stdout",
       "text": [
        "\n",
        "         Current function value: 0.009109\n",
        "         Iterations: 87\n",
        "         Function evaluations: 89\n",
        "         Gradient evaluations: 89\n",
        "Optimization terminated successfully."
       ]
      },
      {
       "output_type": "stream",
       "stream": "stdout",
       "text": [
        "\n",
        "         Current function value: 0.014809\n",
        "         Iterations: 76\n",
        "         Function evaluations: 78\n",
        "         Gradient evaluations: 78\n",
        "Optimization terminated successfully."
       ]
      },
      {
       "output_type": "stream",
       "stream": "stdout",
       "text": [
        "\n",
        "         Current function value: 0.013979\n",
        "         Iterations: 87\n",
        "         Function evaluations: 92\n",
        "         Gradient evaluations: 92\n",
        "Optimization terminated successfully."
       ]
      },
      {
       "output_type": "stream",
       "stream": "stdout",
       "text": [
        "\n",
        "         Current function value: 0.014032\n",
        "         Iterations: 91\n",
        "         Function evaluations: 93\n",
        "         Gradient evaluations: 93\n",
        "Optimization terminated successfully."
       ]
      },
      {
       "output_type": "stream",
       "stream": "stdout",
       "text": [
        "\n",
        "         Current function value: 0.007810\n",
        "         Iterations: 87\n",
        "         Function evaluations: 89\n",
        "         Gradient evaluations: 89\n",
        "Optimization terminated successfully."
       ]
      },
      {
       "output_type": "stream",
       "stream": "stdout",
       "text": [
        "\n",
        "         Current function value: 0.012925\n",
        "         Iterations: 65\n",
        "         Function evaluations: 67\n",
        "         Gradient evaluations: 67\n",
        "Optimization terminated successfully."
       ]
      },
      {
       "output_type": "stream",
       "stream": "stdout",
       "text": [
        "\n",
        "         Current function value: 0.010228\n",
        "         Iterations: 75\n",
        "         Function evaluations: 78\n",
        "         Gradient evaluations: 78\n",
        "Optimization terminated successfully."
       ]
      },
      {
       "output_type": "stream",
       "stream": "stdout",
       "text": [
        "\n",
        "         Current function value: 0.011662\n",
        "         Iterations: 73\n",
        "         Function evaluations: 77\n",
        "         Gradient evaluations: 77\n",
        "Optimization terminated successfully."
       ]
      },
      {
       "output_type": "stream",
       "stream": "stdout",
       "text": [
        "\n",
        "         Current function value: 0.010573\n",
        "         Iterations: 100\n",
        "         Function evaluations: 103\n",
        "         Gradient evaluations: 103\n",
        "Optimization terminated successfully."
       ]
      },
      {
       "output_type": "stream",
       "stream": "stdout",
       "text": [
        "\n",
        "         Current function value: 0.011856\n",
        "         Iterations: 110\n",
        "         Function evaluations: 114\n",
        "         Gradient evaluations: 114\n",
        "Optimization terminated successfully."
       ]
      },
      {
       "output_type": "stream",
       "stream": "stdout",
       "text": [
        "\n",
        "         Current function value: 0.011047\n",
        "         Iterations: 98\n",
        "         Function evaluations: 102\n",
        "         Gradient evaluations: 102\n",
        "Optimization terminated successfully."
       ]
      },
      {
       "output_type": "stream",
       "stream": "stdout",
       "text": [
        "\n",
        "         Current function value: 0.014883\n",
        "         Iterations: 93\n",
        "         Function evaluations: 96\n",
        "         Gradient evaluations: 96\n",
        "Optimization terminated successfully."
       ]
      },
      {
       "output_type": "stream",
       "stream": "stdout",
       "text": [
        "\n",
        "         Current function value: 0.022722\n",
        "         Iterations: 89\n",
        "         Function evaluations: 94\n",
        "         Gradient evaluations: 94\n",
        "Optimization terminated successfully."
       ]
      },
      {
       "output_type": "stream",
       "stream": "stdout",
       "text": [
        "\n",
        "         Current function value: 0.014874\n",
        "         Iterations: 103\n",
        "         Function evaluations: 107\n",
        "         Gradient evaluations: 107\n"
       ]
      }
     ],
     "prompt_number": 210
    },
    {
     "cell_type": "heading",
     "level": 3,
     "metadata": {},
     "source": [
      "Predict and Store One Vs One"
     ]
    },
    {
     "cell_type": "code",
     "collapsed": false,
     "input": [
      "ovo = OneVsOne(LogisticRegression())\n",
      "predict_proba(ovo, \"logregO_2\")"
     ],
     "language": "python",
     "metadata": {},
     "outputs": [
      {
       "output_type": "stream",
       "stream": "stdout",
       "text": [
        "Optimization terminated successfully.\n",
        "         Current function value: 0.028268\n",
        "         Iterations: 333\n",
        "         Function evaluations: 335\n",
        "         Gradient evaluations: 335\n",
        "Optimization terminated successfully."
       ]
      },
      {
       "output_type": "stream",
       "stream": "stdout",
       "text": [
        "\n",
        "         Current function value: 0.033531\n",
        "         Iterations: 319\n",
        "         Function evaluations: 323\n",
        "         Gradient evaluations: 323\n",
        "Optimization terminated successfully."
       ]
      },
      {
       "output_type": "stream",
       "stream": "stdout",
       "text": [
        "\n",
        "         Current function value: 0.050078\n",
        "         Iterations: 469\n",
        "         Function evaluations: 472\n",
        "         Gradient evaluations: 472\n",
        "Optimization terminated successfully."
       ]
      },
      {
       "output_type": "stream",
       "stream": "stdout",
       "text": [
        "\n",
        "         Current function value: 0.004928\n",
        "         Iterations: 293\n",
        "         Function evaluations: 294\n",
        "         Gradient evaluations: 294\n",
        "Optimization terminated successfully."
       ]
      },
      {
       "output_type": "stream",
       "stream": "stdout",
       "text": [
        "\n",
        "         Current function value: 0.094387\n",
        "         Iterations: 250\n",
        "         Function evaluations: 253\n",
        "         Gradient evaluations: 253\n",
        "Optimization terminated successfully."
       ]
      },
      {
       "output_type": "stream",
       "stream": "stdout",
       "text": [
        "\n",
        "         Current function value: 0.188182\n",
        "         Iterations: 336\n",
        "         Function evaluations: 341\n",
        "         Gradient evaluations: 341\n",
        "Optimization terminated successfully."
       ]
      },
      {
       "output_type": "stream",
       "stream": "stdout",
       "text": [
        "\n",
        "         Current function value: 0.179052\n",
        "         Iterations: 257\n",
        "         Function evaluations: 259\n",
        "         Gradient evaluations: 259\n",
        "Optimization terminated successfully."
       ]
      },
      {
       "output_type": "stream",
       "stream": "stdout",
       "text": [
        "\n",
        "         Current function value: 0.301814\n",
        "         Iterations: 354\n",
        "         Function evaluations: 356\n",
        "         Gradient evaluations: 356\n",
        "Optimization terminated successfully."
       ]
      },
      {
       "output_type": "stream",
       "stream": "stdout",
       "text": [
        "\n",
        "         Current function value: 0.542306\n",
        "         Iterations: 476\n",
        "         Function evaluations: 479\n",
        "         Gradient evaluations: 479\n",
        "Optimization terminated successfully."
       ]
      },
      {
       "output_type": "stream",
       "stream": "stdout",
       "text": [
        "\n",
        "         Current function value: 0.265591\n",
        "         Iterations: 464\n",
        "         Function evaluations: 468\n",
        "         Gradient evaluations: 468\n",
        "Optimization terminated successfully."
       ]
      },
      {
       "output_type": "stream",
       "stream": "stdout",
       "text": [
        "\n",
        "         Current function value: 0.020875\n",
        "         Iterations: 388\n",
        "         Function evaluations: 390\n",
        "         Gradient evaluations: 390\n",
        "Optimization terminated successfully."
       ]
      },
      {
       "output_type": "stream",
       "stream": "stdout",
       "text": [
        "\n",
        "         Current function value: 0.027492\n",
        "         Iterations: 284\n",
        "         Function evaluations: 288\n",
        "         Gradient evaluations: 288\n",
        "Optimization terminated successfully."
       ]
      },
      {
       "output_type": "stream",
       "stream": "stdout",
       "text": [
        "\n",
        "         Current function value: 0.109829\n",
        "         Iterations: 334\n",
        "         Function evaluations: 337\n",
        "         Gradient evaluations: 337\n",
        "Optimization terminated successfully."
       ]
      },
      {
       "output_type": "stream",
       "stream": "stdout",
       "text": [
        "\n",
        "         Current function value: 0.032818\n",
        "         Iterations: 263\n",
        "         Function evaluations: 266\n",
        "         Gradient evaluations: 266\n",
        "Optimization terminated successfully."
       ]
      },
      {
       "output_type": "stream",
       "stream": "stdout",
       "text": [
        "\n",
        "         Current function value: 0.024636\n",
        "         Iterations: 253\n",
        "         Function evaluations: 256\n",
        "         Gradient evaluations: 256\n",
        "Optimization terminated successfully."
       ]
      },
      {
       "output_type": "stream",
       "stream": "stdout",
       "text": [
        "\n",
        "         Current function value: 0.347447\n",
        "         Iterations: 391\n",
        "         Function evaluations: 395\n",
        "         Gradient evaluations: 395\n",
        "Optimization terminated successfully."
       ]
      },
      {
       "output_type": "stream",
       "stream": "stdout",
       "text": [
        "\n",
        "         Current function value: 0.016229\n",
        "         Iterations: 449\n",
        "         Function evaluations: 451\n",
        "         Gradient evaluations: 451\n",
        "Optimization terminated successfully."
       ]
      },
      {
       "output_type": "stream",
       "stream": "stdout",
       "text": [
        "\n",
        "         Current function value: 0.026751\n",
        "         Iterations: 294\n",
        "         Function evaluations: 296\n",
        "         Gradient evaluations: 296\n",
        "Optimization terminated successfully."
       ]
      },
      {
       "output_type": "stream",
       "stream": "stdout",
       "text": [
        "\n",
        "         Current function value: 0.185760\n",
        "         Iterations: 325\n",
        "         Function evaluations: 328\n",
        "         Gradient evaluations: 328\n",
        "Optimization terminated successfully."
       ]
      },
      {
       "output_type": "stream",
       "stream": "stdout",
       "text": [
        "\n",
        "         Current function value: 0.036906\n",
        "         Iterations: 294\n",
        "         Function evaluations: 298\n",
        "         Gradient evaluations: 298\n",
        "Optimization terminated successfully."
       ]
      },
      {
       "output_type": "stream",
       "stream": "stdout",
       "text": [
        "\n",
        "         Current function value: 0.021693\n",
        "         Iterations: 288\n",
        "         Function evaluations: 292\n",
        "         Gradient evaluations: 292\n",
        "Optimization terminated successfully."
       ]
      },
      {
       "output_type": "stream",
       "stream": "stdout",
       "text": [
        "\n",
        "         Current function value: 0.024547\n",
        "         Iterations: 423\n",
        "         Function evaluations: 425\n",
        "         Gradient evaluations: 425\n",
        "Optimization terminated successfully."
       ]
      },
      {
       "output_type": "stream",
       "stream": "stdout",
       "text": [
        "\n",
        "         Current function value: 0.034905\n",
        "         Iterations: 361\n",
        "         Function evaluations: 364\n",
        "         Gradient evaluations: 364\n",
        "Optimization terminated successfully."
       ]
      },
      {
       "output_type": "stream",
       "stream": "stdout",
       "text": [
        "\n",
        "         Current function value: 0.186806\n",
        "         Iterations: 368\n",
        "         Function evaluations: 372\n",
        "         Gradient evaluations: 372\n",
        "Optimization terminated successfully."
       ]
      },
      {
       "output_type": "stream",
       "stream": "stdout",
       "text": [
        "\n",
        "         Current function value: 0.016318\n",
        "         Iterations: 358\n",
        "         Function evaluations: 360\n",
        "         Gradient evaluations: 360\n",
        "Optimization terminated successfully."
       ]
      },
      {
       "output_type": "stream",
       "stream": "stdout",
       "text": [
        "\n",
        "         Current function value: 0.025963\n",
        "         Iterations: 360\n",
        "         Function evaluations: 362\n",
        "         Gradient evaluations: 362\n",
        "Optimization terminated successfully."
       ]
      },
      {
       "output_type": "stream",
       "stream": "stdout",
       "text": [
        "\n",
        "         Current function value: 0.001464\n",
        "         Iterations: 220\n",
        "         Function evaluations: 223\n",
        "         Gradient evaluations: 223\n",
        "Optimization terminated successfully."
       ]
      },
      {
       "output_type": "stream",
       "stream": "stdout",
       "text": [
        "\n",
        "         Current function value: 0.011840\n",
        "         Iterations: 375\n",
        "         Function evaluations: 378\n",
        "         Gradient evaluations: 378\n",
        "Optimization terminated successfully."
       ]
      },
      {
       "output_type": "stream",
       "stream": "stdout",
       "text": [
        "\n",
        "         Current function value: 0.004424\n",
        "         Iterations: 302\n",
        "         Function evaluations: 306\n",
        "         Gradient evaluations: 306\n",
        "Optimization terminated successfully."
       ]
      },
      {
       "output_type": "stream",
       "stream": "stdout",
       "text": [
        "\n",
        "         Current function value: 0.003723\n",
        "         Iterations: 365\n",
        "         Function evaluations: 369\n",
        "         Gradient evaluations: 369\n",
        "Optimization terminated successfully."
       ]
      },
      {
       "output_type": "stream",
       "stream": "stdout",
       "text": [
        "\n",
        "         Current function value: 0.110050\n",
        "         Iterations: 284\n",
        "         Function evaluations: 287\n",
        "         Gradient evaluations: 287\n",
        "Optimization terminated successfully."
       ]
      },
      {
       "output_type": "stream",
       "stream": "stdout",
       "text": [
        "\n",
        "         Current function value: 0.099960\n",
        "         Iterations: 281\n",
        "         Function evaluations: 284\n",
        "         Gradient evaluations: 284\n",
        "Optimization terminated successfully."
       ]
      },
      {
       "output_type": "stream",
       "stream": "stdout",
       "text": [
        "\n",
        "         Current function value: 0.086552\n",
        "         Iterations: 361\n",
        "         Function evaluations: 365\n",
        "         Gradient evaluations: 365\n",
        "Optimization terminated successfully."
       ]
      },
      {
       "output_type": "stream",
       "stream": "stdout",
       "text": [
        "\n",
        "         Current function value: 0.109597\n",
        "         Iterations: 307\n",
        "         Function evaluations: 309\n",
        "         Gradient evaluations: 309\n",
        "Optimization terminated successfully."
       ]
      },
      {
       "output_type": "stream",
       "stream": "stdout",
       "text": [
        "\n",
        "         Current function value: 0.059705\n",
        "         Iterations: 299\n",
        "         Function evaluations: 301\n",
        "         Gradient evaluations: 301\n",
        "Optimization terminated successfully."
       ]
      },
      {
       "output_type": "stream",
       "stream": "stdout",
       "text": [
        "\n",
        "         Current function value: 0.104754\n",
        "         Iterations: 313\n",
        "         Function evaluations: 316\n",
        "         Gradient evaluations: 316\n"
       ]
      }
     ],
     "prompt_number": 220
    },
    {
     "cell_type": "code",
     "collapsed": false,
     "input": [],
     "language": "python",
     "metadata": {},
     "outputs": []
    },
    {
     "cell_type": "code",
     "collapsed": false,
     "input": [],
     "language": "python",
     "metadata": {},
     "outputs": []
    }
   ],
   "metadata": {}
  }
 ]
}