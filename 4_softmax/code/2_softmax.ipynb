{
 "metadata": {
  "name": "",
  "signature": "sha256:b80e63d2d0254d55924f94c6bfacfc546de516ee959c1593113385345c809d50"
 },
 "nbformat": 3,
 "nbformat_minor": 0,
 "worksheets": [
  {
   "cells": [
    {
     "cell_type": "code",
     "collapsed": false,
     "input": [
      "import gzip\n",
      "import numpy as np\n",
      "import math"
     ],
     "language": "python",
     "metadata": {},
     "outputs": [],
     "prompt_number": 7
    },
    {
     "cell_type": "code",
     "collapsed": false,
     "input": [
      "# parser\n",
      "data = np.loadtxt(open(\"../data/train.csv\",\"rb\"),delimiter=\",\",skiprows=1, usecols=range(1,94))\n",
      "classes = np.loadtxt(open(\"../data/train.csv\",\"rb\"),dtype=str,delimiter=\",\",skiprows=1, usecols=[94])\n",
      "# get class\n",
      "intClasses = []\n",
      "for c in classes:\n",
      "    intClasses += [int(c[-2])]\n",
      "intClasses = np.array(intClasses)\n",
      "data = np.hstack((data, np.matrix(intClasses).T))"
     ],
     "language": "python",
     "metadata": {},
     "outputs": [],
     "prompt_number": 2
    },
    {
     "cell_type": "code",
     "collapsed": false,
     "input": [
      "def p(y, x_, Theta):\n",
      "    \"\"\"y is a number, x_ is a vector of examples, Theta is a matrix. \n",
      "    Return vector.\"\"\"\n",
      "    # create vector\n",
      "    # theta is a vector and a line in matrix Theta\n",
      "    # multiplication multiply by positions, then we sum that together\n",
      "    vector = [math.e**( sum(theta * x) ) for theta in Theta]\n",
      "    # normalize vector\n",
      "    divider = sum( vector )\n",
      "    return vector / divider"
     ],
     "language": "python",
     "metadata": {},
     "outputs": [],
     "prompt_number": 12
    },
    {
     "cell_type": "code",
     "collapsed": false,
     "input": [
      "# 2) Verjetje\n",
      "def l(y_, X, Theta):\n",
      "    m = X.shape[0]\n",
      "    k = Theta.shape[0]\n",
      "    suma = 0\n",
      "    for i in range(1, m):\n",
      "        divider = [math.e**( sum(Theta[l] * x[i]) ) for l in range(1, k)]\n",
      "        suma += sum( [(y(i) == j) * math.log( math.e**( sum(Theta[j] * x[i]) ) / divider ) for j in range(1, k) ] )\n",
      "    return suma"
     ],
     "language": "python",
     "metadata": {},
     "outputs": [],
     "prompt_number": 7
    },
    {
     "cell_type": "code",
     "collapsed": false,
     "input": [
      "e"
     ],
     "language": "python",
     "metadata": {},
     "outputs": [
      {
       "ename": "NameError",
       "evalue": "name 'e' is not defined",
       "output_type": "pyerr",
       "traceback": [
        "\u001b[1;31m---------------------------------------------------------------------------\u001b[0m\n\u001b[1;31mNameError\u001b[0m                                 Traceback (most recent call last)",
        "\u001b[1;32m<ipython-input-9-9ffbf43126e3>\u001b[0m in \u001b[0;36m<module>\u001b[1;34m()\u001b[0m\n\u001b[1;32m----> 1\u001b[1;33m \u001b[0me\u001b[0m\u001b[1;33m\u001b[0m\u001b[0m\n\u001b[0m",
        "\u001b[1;31mNameError\u001b[0m: name 'e' is not defined"
       ]
      }
     ],
     "prompt_number": 9
    },
    {
     "cell_type": "code",
     "collapsed": false,
     "input": [
      "M = np.array([1, 2, 3])\n",
      "x = np.array([1, 2, 3])\n",
      "theta = np.array([1, 2, 3])\n",
      "x * 5"
     ],
     "language": "python",
     "metadata": {},
     "outputs": [
      {
       "metadata": {},
       "output_type": "pyout",
       "prompt_number": 11,
       "text": [
        "array([ 5, 10, 15])"
       ]
      }
     ],
     "prompt_number": 11
    },
    {
     "cell_type": "code",
     "collapsed": false,
     "input": [
      "(1 == 1) + 10 "
     ],
     "language": "python",
     "metadata": {},
     "outputs": [
      {
       "metadata": {},
       "output_type": "pyout",
       "prompt_number": 13,
       "text": [
        "11"
       ]
      }
     ],
     "prompt_number": 13
    },
    {
     "cell_type": "code",
     "collapsed": false,
     "input": [],
     "language": "python",
     "metadata": {},
     "outputs": []
    }
   ],
   "metadata": {}
  }
 ]
}