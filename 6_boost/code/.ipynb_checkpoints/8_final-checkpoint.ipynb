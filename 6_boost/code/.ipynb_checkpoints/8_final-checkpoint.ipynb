{
 "metadata": {
  "name": "",
  "signature": "sha256:aec41f4c899d31fac9311e996d8c90c3e4669b06933606f650194009a9dec9cc"
 },
 "nbformat": 3,
 "nbformat_minor": 0,
 "worksheets": [
  {
   "cells": [
    {
     "cell_type": "code",
     "collapsed": false,
     "input": [
      "from sklearn import tree\n",
      "from sklearn.ensemble import GradientBoostingClassifier\n",
      "from sklearn import cross_validation\n",
      "from collections import deque\n",
      "from sklearn import preprocessing\n",
      "from sklearn import linear_model\n",
      "from sklearn import metrics\n",
      "import numpy as np\n",
      "import copy\n",
      "import time\n",
      "import sys"
     ],
     "language": "python",
     "metadata": {},
     "outputs": [],
     "prompt_number": 1
    },
    {
     "cell_type": "heading",
     "level": 3,
     "metadata": {},
     "source": [
      "Load Data"
     ]
    },
    {
     "cell_type": "code",
     "collapsed": false,
     "input": [
      "NUM_OF_CLASSES = 0\n",
      "def load_data1():\n",
      "    \"\"\"Load keggle\"\"\"\n",
      "    global NUM_OF_CLASSES\n",
      "    X_train = np.loadtxt(open(\"../data/train.csv\",\"rb\"),delimiter=\",\",skiprows=1, usecols=range(1,94))\n",
      "    X_test = np.loadtxt(open(\"../data/test.csv\",\"rb\"),delimiter=\",\",skiprows=1, usecols=range(1,94))\n",
      "    \n",
      "    y_train = np.loadtxt(open(\"../data/train.csv\",\"rb\"),dtype=str,delimiter=\",\",skiprows=1, usecols=[94])\n",
      "    y_train = np.array([int(c[-2])-1 for c in y_train])  # Parse classes from Class_1 into 1\n",
      "    return X_train, y_train, X_test\n",
      "\n",
      "def load_data2():\n",
      "    \"\"\"Load iris\"\"\"\n",
      "    iris = datasets.load_iris()\n",
      "    X_train = iris.data\n",
      "    y_train = iris.target.T\n",
      "    return X_train, y_train, None"
     ],
     "language": "python",
     "metadata": {},
     "outputs": [],
     "prompt_number": 2
    },
    {
     "cell_type": "code",
     "collapsed": false,
     "input": [
      "data = 1\n",
      "if data == 1:\n",
      "    X_train, Y_train, X_test = load_data1()\n",
      "else:\n",
      "    X_train, Y_train, X_test = load_data2()\n",
      "NUM_OF_CLASSES = len( np.unique(Y_train))"
     ],
     "language": "python",
     "metadata": {},
     "outputs": [],
     "prompt_number": 3
    },
    {
     "cell_type": "heading",
     "level": 3,
     "metadata": {},
     "source": [
      "Preprocesse Data"
     ]
    },
    {
     "cell_type": "code",
     "collapsed": false,
     "input": [
      "def shuffle(X, Y):\n",
      "    ind = np.array(list(range(X.shape[0])))\n",
      "    np.random.seed(42)\n",
      "    np.random.shuffle(ind)\n",
      "    X = np.array( [ X[i] for i in ind] )\n",
      "    Y = np.array( [ Y[i] for i in ind] )\n",
      "    return X, Y \n",
      "X_train, Y_train = shuffle(X_train, Y_train)\n",
      "std = preprocessing.StandardScaler()\n",
      "X_train = std.fit_transform(X_train)\n",
      "X_test = std.transform(X_test)\n",
      "X_train = np.matrix(X_train)\n",
      "X_test = np.matrix(X_test)"
     ],
     "language": "python",
     "metadata": {},
     "outputs": [],
     "prompt_number": 4
    },
    {
     "cell_type": "code",
     "collapsed": false,
     "input": [
      "def binaryClassRepresentation(Y):\n",
      "    \"\"\" Class 1 write as 1,0,0,0,0,0,0,0,0, class 2 write as 0,1,0,0,0,0,0,0,0, ... \"\"\"\n",
      "    I = np.identity(NUM_OF_CLASSES)\n",
      "    Y = np.array( [ I[y] for y in Y])\n",
      "    return Y\n",
      "Y_train = binaryClassRepresentation(Y_train)\n",
      "Y_train = np.matrix(Y_train)"
     ],
     "language": "python",
     "metadata": {},
     "outputs": [],
     "prompt_number": 5
    },
    {
     "cell_type": "heading",
     "level": 3,
     "metadata": {},
     "source": [
      "CROSS VALIDATION"
     ]
    },
    {
     "cell_type": "markdown",
     "metadata": {},
     "source": [
      "WARNING We always split in the same way because of shuffle=False. All models are always evaluated on the same data in the same order. So, it is valid to compare different models between themselves. There are also prints to check result for each fold. We also use random seed to set our initial theta to the same values."
     ]
    },
    {
     "cell_type": "code",
     "collapsed": false,
     "input": [
      "def evaluate(pred, real):\n",
      "    return metrics.log_loss(real, pred)\n",
      "\n",
      "\n",
      "def my_cross_validation(X, Y, model, k=3):\n",
      "    S = []\n",
      "    kf = cross_validation.KFold(len(Y), n_folds=k, shuffle=False)\n",
      "    for train_index, test_index in kf:\n",
      "        print(\"New fold\")\n",
      "        start = time.time()  \n",
      "        # Split\n",
      "        X_train, X_test = X[train_index], X[test_index]\n",
      "        Y_train, Y_test = Y[train_index], Y[test_index]\n",
      "        \n",
      "        model.fit(X_train, Y_train)\n",
      "        predicted = model.predict(X_test)\n",
      "        # Evaluate\n",
      "        score = evaluate(predicted, Y_test)\n",
      "         \n",
      "        end = time.time()\n",
      "        \n",
      "        print(\"        Time:\", round(end - start, 2), \"s                                     ### Vmesni rezultat ###: \",  score)\n",
      "        sys.stdout.flush()\n",
      "        S.append( score )\n",
      "    S = np.array(S)\n",
      "    return(np.mean(S))"
     ],
     "language": "python",
     "metadata": {},
     "outputs": [],
     "prompt_number": 97
    },
    {
     "cell_type": "heading",
     "level": 3,
     "metadata": {},
     "source": [
      "Starting Models Wrapper"
     ]
    },
    {
     "cell_type": "code",
     "collapsed": false,
     "input": [
      "class MeanModel():\n",
      "    def __init__(self):\n",
      "        pass\n",
      "        \n",
      "    def fit(self, X, Y):\n",
      "        self.Y = Y\n",
      "        self.mean = np.mean(Y.ravel())\n",
      "        \n",
      "    def predict(self, X):\n",
      "        if len(X.shape) == 1:\n",
      "            return 0\n",
      "        else:\n",
      "            return np.array([self.mean] * X.shape[0]).ravel()"
     ],
     "language": "python",
     "metadata": {},
     "outputs": [],
     "prompt_number": 98
    },
    {
     "cell_type": "code",
     "collapsed": false,
     "input": [
      "class ZeroModel():\n",
      "    def __init__(self):\n",
      "        pass\n",
      "        \n",
      "    def fit(self, X, Y):\n",
      "        self.Y = Y\n",
      "        \n",
      "    def predict(self, X):\n",
      "        if len(X.shape) == 1:\n",
      "            return 0\n",
      "        else:\n",
      "            return np.array([0] * X.shape[0]).ravel()"
     ],
     "language": "python",
     "metadata": {},
     "outputs": [],
     "prompt_number": 99
    },
    {
     "cell_type": "code",
     "collapsed": false,
     "input": [
      "class StartModel():\n",
      "    \"\"\"Starting learners generator\"\"\"\n",
      "    def __init__(self, learner = \"mean\"):\n",
      "        learner_dict = {\"mean\": MeanModel, \n",
      "                        \"zero\": ZeroModel}\n",
      "        self.learner = learner_dict[learner]\n",
      "        \n",
      "    def __call__(self):\n",
      "        return self.learner()\n",
      "    "
     ],
     "language": "python",
     "metadata": {},
     "outputs": [],
     "prompt_number": 100
    },
    {
     "cell_type": "heading",
     "level": 3,
     "metadata": {},
     "source": [
      "Weak Learners Wrapper"
     ]
    },
    {
     "cell_type": "code",
     "collapsed": false,
     "input": [
      "class WeakLearner():\n",
      "    \"\"\"Weak learners generator\"\"\"\n",
      "    def __init__(self, learner=\"decision_tree\", max_depth=1):\n",
      "        learners = {\"decision_tree\": tree.DecisionTreeRegressor,\n",
      "                    \"lr\": linear_model.LinearRegression,\n",
      "                    \"ridge\": linear_model.Ridge}\n",
      "        self.learner = learner\n",
      "        self.learner_func = learners[learner]\n",
      "        self.max_depth = max_depth\n",
      "    \n",
      "    def fit(self, X, Y):\n",
      "        \"\"\"Each fit creates new learner, fits it, and returns it.\"\"\" \n",
      "        if self.learner == \"decision_tree\":\n",
      "            learner = self.learner_func(max_depth=self.max_depth)\n",
      "        else:\n",
      "            learner = self.learner_func()\n",
      "        learner.fit(X, Y)\n",
      "        return learner"
     ],
     "language": "python",
     "metadata": {},
     "outputs": [],
     "prompt_number": 101
    },
    {
     "cell_type": "heading",
     "level": 3,
     "metadata": {},
     "source": [
      "Loss Wrapper"
     ]
    },
    {
     "cell_type": "code",
     "collapsed": false,
     "input": [
      "class Loss():\n",
      "    \"\"\"Loss functions generator\"\"\"\n",
      "    \n",
      "    def __init__(self, loss = \"log_loss\"):\n",
      "        losses = {\"huber\": self.grad_huber_loss, \n",
      "                  \"squared\": self.grad_squared_loss, \n",
      "                  \"abs\": self.grad_abs_loss,\n",
      "                  \"kl\": self.grad_kl_divergence,\n",
      "                  \"log_loss\": self.grad_log_loss}\n",
      "        self.loss_fun = losses[loss]\n",
      "        \n",
      "    def compute(self, y, f):\n",
      "        \"\"\"Call this function to coompute the loss\"\"\"\n",
      "        return self.loss_fun(y, f)\n",
      "    \n",
      "    def grad_log_loss(self, y, p):\n",
      "        \"\"\"Negative gradient for log loss.\"\"\"\n",
      "        return y - p\n",
      "        \n",
      "    def grad_kl_divergence(self, y, p):\n",
      "        \"\"\"Negative gradient for kl_divergence.\n",
      "        WARNING: Input p must be normalized by softmax\"\"\"\n",
      "        return y - p\n",
      "    \n",
      "    def grad_squared_loss(self, y, f):\n",
      "        \"\"\"Negative gradiant for squared loss.\"\"\"\n",
      "        return y - f\n",
      "    \n",
      "    def grad_abs_loss(self, y, f):\n",
      "        \"\"\"Negative gradient for absolute loss.\"\"\"\n",
      "        return np.sign(y - f)\n",
      "    \n",
      "    def grad_huber_loss(self, y, f, delta=0.5):\n",
      "        \"\"\"Negative gradient for Huber loss.\"\"\"\n",
      "        r0 = y - f\n",
      "        r1 = delta * np.sign(r0)\n",
      "        return np.vstack((r0, r1)).T[np.arange(y.shape[0]), (np.abs(r0)>delta).astype(int)]\n",
      "    "
     ],
     "language": "python",
     "metadata": {},
     "outputs": [],
     "prompt_number": 102
    },
    {
     "cell_type": "heading",
     "level": 3,
     "metadata": {},
     "source": [
      "Check gradient for kl_divergence"
     ]
    },
    {
     "cell_type": "code",
     "collapsed": false,
     "input": [
      "Y = np.array([1,0,0,0,0])  # Some initial Y\n",
      "Y = softmax(Y, 0)\n",
      "\n",
      "def softmax(X, axis = 1):\n",
      "    newX = np.exp( X )\n",
      "    SumX = np.sum( newX, axis = axis )   # sum rows, because these are gonna be denumerators\n",
      "    newX = newX / SumX \n",
      "    return newX\n",
      "\n",
      "P_fun = lambda x: softmax(x, 0)\n",
      "\n",
      "def kl_divergence(X):\n",
      "    return np.sum(np.multiply(Y , (np.log( Y ) - np.log( P_fun(X) ))))\n",
      "        \n",
      "def grad_kl_divergence(X):\n",
      "    return P_fun(X) - Y\n",
      "\n",
      "def grad_approx(J, X, e=1e-5):\n",
      "        return np.array([(J(X+eps) - J(X-eps))/(2*e)\n",
      "                         for eps in np.identity(len(X)) * e])\n",
      "    \n"
     ],
     "language": "python",
     "metadata": {},
     "outputs": [],
     "prompt_number": 103
    },
    {
     "cell_type": "code",
     "collapsed": false,
     "input": [
      "X = np.array([1, 10, 13,0,0])\n",
      "print( \"Gradient diff:\\n\", sum(abs(grad_approx(kl_divergence, X, 1e-4) \n",
      "                                   - grad_kl_divergence(X))))"
     ],
     "language": "python",
     "metadata": {},
     "outputs": [
      {
       "output_type": "stream",
       "stream": "stdout",
       "text": [
        "Gradient diff:\n",
        " 1.40893158251e-10\n"
       ]
      }
     ],
     "prompt_number": 104
    },
    {
     "cell_type": "heading",
     "level": 3,
     "metadata": {},
     "source": [
      "Grad Boost Learner"
     ]
    },
    {
     "cell_type": "code",
     "collapsed": false,
     "input": [
      "class GradBoostLearner():\n",
      "    \"\"\"Gradient Boosting for Regression.\"\"\"\n",
      "\n",
      "    def __init__(self, weak_learner = \"decision_tree\", init_weak_learner = \"mean\", \n",
      "                 loss=\"kl\", n_estimators=10, max_depth=1, epsilon=1e-5, l_rate = 1):\n",
      "        # String\n",
      "        self.weak_learner_str = weak_learner\n",
      "        self.init_weak_learner_str = init_weak_learner\n",
      "        self.loss_str = loss\n",
      "        \n",
      "        # Weak learner and init learner\n",
      "        self.weak_learner = WeakLearner(weak_learner, max_depth)  \n",
      "        self.init_weak_learner = StartModel(init_weak_learner)\n",
      "        \n",
      "        # Other attributes\n",
      "        self.max_depth = max_depth\n",
      "        \n",
      "        self.n_estimators = n_estimators\n",
      "        \n",
      "        self.epsilon = epsilon\n",
      "        \n",
      "        self.l_rate = l_rate\n",
      "        \n",
      "        self.loss = Loss(loss)\n",
      "        \n",
      "        self.models = None\n",
      "        \n",
      "        self.name = \"gb_est\" + str(self.n_estimators) + \"_Lrate\"+str(l_rate) + \"_\" + loss\n",
      "\n",
      "    def get_params(self, *args, **argss):\n",
      "        return {'weak_learner_str': self.weak_learner,\n",
      "                'init_weak_learner': self.init_weak_learner_str,\n",
      "                'max_depth': self.max_depth,\n",
      "                'n_estimators': self.n_estimators,\n",
      "                'epsilon': self.epsilon,\n",
      "                'l_rate': self.l_rate,\n",
      "                'loss': self.loss_str}\n",
      "    \n",
      "    \n",
      "    def softmax(self, X, axis = 1):\n",
      "        # Description: Function apply softmax on a vector\n",
      "        #\n",
      "        # Input:  X    Any matrix     \n",
      "        #\n",
      "        # Output:      New array of corrected input\n",
      "        \n",
      "        newX = np.exp( X )\n",
      "        SumX = np.sum( newX, axis = axis )   # sum rows, because these are gonna be denumerators\n",
      "        newX = newX / SumX \n",
      "        return newX\n",
      "\n",
      "    \n",
      "    def fit(self, X, Y, X_test = None, Y_test = None):\n",
      "        # Description: Function performs gradient boosting for ALL classes\n",
      "        #\n",
      "        # Input:       X     matrix of samples\n",
      "        #              Y     MATRIX of a classes identification\n",
      "        #\n",
      "        # Output:      List of fitted models that are used for classification.\n",
      "        \n",
      "        \n",
      "        self.NUM_OF_CLASSES = Y.shape[1]\n",
      "        NUM_OF_CLASSES = self.NUM_OF_CLASSES\n",
      "        \n",
      "        N_ITER = self.n_estimators\n",
      "        \n",
      "        # LOCATE STORAGE FOR MODELS\n",
      "        storage_models = []\n",
      "        \n",
      "        # INITIAL MODELS\n",
      "        init_models = [ self.init_weak_learner() for _ in range(NUM_OF_CLASSES)]\n",
      "        for i in range(NUM_OF_CLASSES):\n",
      "            init_models[i].fit(X, Y[:, i])\n",
      "            # Store initial learners\n",
      "        storage_models += [init_models]   \n",
      "        # Initial value\n",
      "        Predicted_sum_T = self.softmax( np.array([ model.predict(X) for model in init_models]), axis = 0 )\n",
      "        \n",
      "        # PREPARE Y\n",
      "        Y_T = Y.astype(float).T\n",
      "        \n",
      "        for i in range(N_ITER):     \n",
      "            # Calculate P for each model\n",
      "            P_T = self.softmax(Predicted_sum_T, 0)      # Use softmax on predicted data\n",
      "            \n",
      "            Residual_T = self.loss.compute(Y_T, P_T)    \n",
      "            #Residual_T = Y_T - P_T                     # Compute residuals\n",
      "            Residual = Residual_T.T                     # Create a transposed version\n",
      "\n",
      "            # Create new weak learners and fit them\n",
      "            fitted_weak_learners = [ self.weak_learner.fit(X, Residual[:, j]) for j in range(NUM_OF_CLASSES) ]\n",
      "            # Predict with new weak learners\n",
      "            new_predicted_values = [ weak_learner.predict(X) for weak_learner in fitted_weak_learners]\n",
      "            # Support different types of pridect output\n",
      "            if len(new_predicted_values[0].shape) == 2:\n",
      "                new_predicted_values = [ values.T[0] for values in new_predicted_values]\n",
      "            new_predicted_values = np.array(new_predicted_values)\n",
      "            # Sum models \n",
      "            Predicted_sum_T = Predicted_sum_T + self.l_rate * new_predicted_values   \n",
      "            # Store new weak learners\n",
      "            storage_models += [fitted_weak_learners]\n",
      "            # Store learners\n",
      "            self.storage_models = storage_models \n",
      "            # Print out current loss\n",
      "            if X_test != None and (i % (N_ITER / 10)) == 0:\n",
      "                pred = self.predict(X_test)\n",
      "                print( \"Iter\", i, \"   Loss\", evaluate(pred, Y_test) )\n",
      "                sys.stdout.flush()\n",
      "\n",
      "        self.storage_models = storage_models \n",
      "        return storage_models\n",
      "    \n",
      "    \n",
      "    def predict(self, X):\n",
      "        # Description: Function predicts a class for each sample\n",
      "        #\n",
      "        # Input:       X     matrix of samples\n",
      "        #\n",
      "        # Output:      Matrix of probabilities\n",
      "        \n",
      "        #for models in models_per_class:\n",
      "        predictedT = np.zeros((self.NUM_OF_CLASSES, X.shape[0]))\n",
      "        predictedT = predictedT.astype(float)\n",
      "        \n",
      "        for models in self.storage_models:\n",
      "            for i in range(self.NUM_OF_CLASSES):\n",
      "                pred =  models[i].predict(X)\n",
      "                if len(pred.shape) == 2:\n",
      "                    pred = pred.T[0]\n",
      "                predictedT[i] += self.l_rate *  pred\n",
      "        return np.array([self.softmax(p, 0) for p in predictedT.T])\n",
      "        #return  predictedT.T\n",
      "        \n",
      "    def predict_proba(self, X):\n",
      "        return self.predict(X)"
     ],
     "language": "python",
     "metadata": {},
     "outputs": [],
     "prompt_number": 105
    },
    {
     "cell_type": "code",
     "collapsed": false,
     "input": [
      "# For quick testing if everything is still wokring\n",
      "threshold = 200\n",
      "X = X_train[:threshold]\n",
      "Y = Y_train[:threshold]\n",
      "\n",
      "boost = GradBoostLearner(weak_learner=\"decision_tree\", n_estimators=100)\n",
      "my_cross_validation(X, Y, boost)"
     ],
     "language": "python",
     "metadata": {},
     "outputs": [
      {
       "output_type": "stream",
       "stream": "stdout",
       "text": [
        "New fold\n",
        "        Time:"
       ]
      },
      {
       "output_type": "stream",
       "stream": "stdout",
       "text": [
        " 3.43 s                                     ### Vmesni rezultat ###:  0.791423062612\n"
       ]
      },
      {
       "output_type": "stream",
       "stream": "stdout",
       "text": [
        "New fold\n",
        "        Time:"
       ]
      },
      {
       "output_type": "stream",
       "stream": "stdout",
       "text": [
        " 3.3 s                                     ### Vmesni rezultat ###:  0.923640205846\n"
       ]
      },
      {
       "output_type": "stream",
       "stream": "stdout",
       "text": [
        "New fold\n",
        "        Time:"
       ]
      },
      {
       "output_type": "stream",
       "stream": "stdout",
       "text": [
        " 3.28 s                                     ### Vmesni rezultat ###:  0.835428296339\n"
       ]
      },
      {
       "metadata": {},
       "output_type": "pyout",
       "prompt_number": 13,
       "text": [
        "0.85016385493236823"
       ]
      }
     ],
     "prompt_number": 13
    },
    {
     "cell_type": "heading",
     "level": 3,
     "metadata": {},
     "source": [
      "Check if error is decreasing"
     ]
    },
    {
     "cell_type": "code",
     "collapsed": false,
     "input": [
      "threshold = 20\n",
      "X = X_train[:threshold]\n",
      "Y = Y_train[:threshold]\n",
      "\n",
      "boost = GradBoostLearner(weak_learner=\"decision_tree\", init_weak_learner=\"mean\", n_estimators=2000)\n",
      "boost.fit(X, Y, X_train[threshold:(threshold+10)], Y_train[threshold:(threshold+10)])"
     ],
     "language": "python",
     "metadata": {},
     "outputs": [
      {
       "output_type": "stream",
       "stream": "stdout",
       "text": [
        "1.5392743986\n",
        "0.0110765672085"
       ]
      },
      {
       "output_type": "stream",
       "stream": "stdout",
       "text": [
        "\n",
        "0.00553688851547"
       ]
      },
      {
       "output_type": "stream",
       "stream": "stdout",
       "text": [
        "\n",
        "0.00369810046112"
       ]
      },
      {
       "output_type": "stream",
       "stream": "stdout",
       "text": [
        "\n",
        "0.00277824604777"
       ]
      },
      {
       "output_type": "stream",
       "stream": "stdout",
       "text": [
        "\n",
        "0.00223155170749"
       ]
      },
      {
       "output_type": "stream",
       "stream": "stdout",
       "text": [
        "\n",
        "0.00187702587637"
       ]
      },
      {
       "output_type": "stream",
       "stream": "stdout",
       "text": [
        "\n",
        "0.00163209777031"
       ]
      },
      {
       "output_type": "stream",
       "stream": "stdout",
       "text": [
        "\n",
        "0.00146738217697"
       ]
      },
      {
       "output_type": "stream",
       "stream": "stdout",
       "text": [
        "\n",
        "0.00134900644192"
       ]
      },
      {
       "output_type": "stream",
       "stream": "stdout",
       "text": [
        "\n"
       ]
      }
     ],
     "prompt_number": 163
    },
    {
     "cell_type": "heading",
     "level": 3,
     "metadata": {},
     "source": [
      "Check number of estimators"
     ]
    },
    {
     "cell_type": "heading",
     "level": 6,
     "metadata": {},
     "source": [
      "100 estimators"
     ]
    },
    {
     "cell_type": "code",
     "collapsed": false,
     "input": [
      "threshold = 2000\n",
      "X = X_train[:threshold]\n",
      "Y = Y_train[:threshold]\n",
      "\n",
      "boost = GradBoostLearner(weak_learner=\"decision_tree\", n_estimators=100)\n",
      "my_cross_validation(X, Y, boost)"
     ],
     "language": "python",
     "metadata": {},
     "outputs": [
      {
       "output_type": "stream",
       "stream": "stdout",
       "text": [
        "New fold\n",
        "        Time:"
       ]
      },
      {
       "output_type": "stream",
       "stream": "stdout",
       "text": [
        " 3.28 s                                     ### Vmesni rezultat ###:  0.85201489287\n"
       ]
      },
      {
       "output_type": "stream",
       "stream": "stdout",
       "text": [
        "New fold\n",
        "        Time:"
       ]
      },
      {
       "output_type": "stream",
       "stream": "stdout",
       "text": [
        " 3.4 s                                     ### Vmesni rezultat ###:  0.857319054739\n"
       ]
      },
      {
       "output_type": "stream",
       "stream": "stdout",
       "text": [
        "New fold\n",
        "        Time:"
       ]
      },
      {
       "output_type": "stream",
       "stream": "stdout",
       "text": [
        " 3.57 s                                     ### Vmesni rezultat ###:  0.904501017417\n"
       ]
      },
      {
       "metadata": {},
       "output_type": "pyout",
       "prompt_number": 88,
       "text": [
        "0.8712783216754324"
       ]
      }
     ],
     "prompt_number": 88
    },
    {
     "cell_type": "heading",
     "level": 6,
     "metadata": {},
     "source": [
      "200 estimators"
     ]
    },
    {
     "cell_type": "code",
     "collapsed": false,
     "input": [
      "threshold = 2000\n",
      "X = X_train[:threshold]\n",
      "Y = Y_train[:threshold]\n",
      "\n",
      "boost = GradBoostLearner(weak_learner=\"decision_tree\", n_estimators=200)\n",
      "my_cross_validation(X, Y, boost)"
     ],
     "language": "python",
     "metadata": {},
     "outputs": [
      {
       "output_type": "stream",
       "stream": "stdout",
       "text": [
        "New fold\n",
        "        Time:"
       ]
      },
      {
       "output_type": "stream",
       "stream": "stdout",
       "text": [
        " 6.68 s                                     ### Vmesni rezultat ###:  0.795661496083\n"
       ]
      },
      {
       "output_type": "stream",
       "stream": "stdout",
       "text": [
        "New fold\n",
        "        Time:"
       ]
      },
      {
       "output_type": "stream",
       "stream": "stdout",
       "text": [
        " 6.4 s                                     ### Vmesni rezultat ###:  0.795709182852\n"
       ]
      },
      {
       "output_type": "stream",
       "stream": "stdout",
       "text": [
        "New fold\n",
        "        Time:"
       ]
      },
      {
       "output_type": "stream",
       "stream": "stdout",
       "text": [
        " 6.87 s                                     ### Vmesni rezultat ###:  0.861153457978\n"
       ]
      },
      {
       "metadata": {},
       "output_type": "pyout",
       "prompt_number": 89,
       "text": [
        "0.81750804563754409"
       ]
      }
     ],
     "prompt_number": 89
    },
    {
     "cell_type": "heading",
     "level": 6,
     "metadata": {},
     "source": [
      "300 estimators"
     ]
    },
    {
     "cell_type": "code",
     "collapsed": false,
     "input": [
      "threshold = 2000\n",
      "X = X_train[:threshold]\n",
      "Y = Y_train[:threshold]\n",
      "\n",
      "boost = GradBoostLearner(weak_learner=\"decision_tree\", n_estimators=300)\n",
      "my_cross_validation(X, Y, boost)"
     ],
     "language": "python",
     "metadata": {},
     "outputs": [
      {
       "output_type": "stream",
       "stream": "stdout",
       "text": [
        "New fold\n",
        "        Time:"
       ]
      },
      {
       "output_type": "stream",
       "stream": "stdout",
       "text": [
        " 10.17 s                                     ### Vmesni rezultat ###:  0.776641559237\n"
       ]
      },
      {
       "output_type": "stream",
       "stream": "stdout",
       "text": [
        "New fold\n",
        "        Time:"
       ]
      },
      {
       "output_type": "stream",
       "stream": "stdout",
       "text": [
        " 9.97 s                                     ### Vmesni rezultat ###:  0.767727422965\n"
       ]
      },
      {
       "output_type": "stream",
       "stream": "stdout",
       "text": [
        "New fold\n",
        "        Time:"
       ]
      },
      {
       "output_type": "stream",
       "stream": "stdout",
       "text": [
        " 10.12 s                                     ### Vmesni rezultat ###:  0.844622553593\n"
       ]
      },
      {
       "metadata": {},
       "output_type": "pyout",
       "prompt_number": 90,
       "text": [
        "0.79633051193166693"
       ]
      }
     ],
     "prompt_number": 90
    },
    {
     "cell_type": "heading",
     "level": 6,
     "metadata": {},
     "source": [
      "400 estimators"
     ]
    },
    {
     "cell_type": "code",
     "collapsed": false,
     "input": [
      "# Old\n",
      "threshold = 2000\n",
      "X = X_train[:threshold]\n",
      "Y = Y_train[:threshold]\n",
      "\n",
      "boost = GradBoostLearner(weak_learner=\"decision_tree\", n_estimators=400)\n",
      "my_cross_validation(X, Y, boost)"
     ],
     "language": "python",
     "metadata": {},
     "outputs": [
      {
       "output_type": "stream",
       "stream": "stdout",
       "text": [
        "New fold\n",
        "        Time:"
       ]
      },
      {
       "output_type": "stream",
       "stream": "stdout",
       "text": [
        " 14.8 s                                     ### Vmesni rezultat ###:  0.769403624417\n"
       ]
      },
      {
       "output_type": "stream",
       "stream": "stdout",
       "text": [
        "New fold\n",
        "        Time:"
       ]
      },
      {
       "output_type": "stream",
       "stream": "stdout",
       "text": [
        " 13.64 s                                     ### Vmesni rezultat ###:  0.751354579327\n"
       ]
      },
      {
       "output_type": "stream",
       "stream": "stdout",
       "text": [
        "New fold\n",
        "        Time:"
       ]
      },
      {
       "output_type": "stream",
       "stream": "stdout",
       "text": [
        " 13.42 s                                     ### Vmesni rezultat ###:  0.835661904133\n"
       ]
      },
      {
       "metadata": {},
       "output_type": "pyout",
       "prompt_number": 94,
       "text": [
        "0.78547336929212663"
       ]
      }
     ],
     "prompt_number": 94
    },
    {
     "cell_type": "heading",
     "level": 6,
     "metadata": {},
     "source": [
      "500 estimators"
     ]
    },
    {
     "cell_type": "code",
     "collapsed": false,
     "input": [
      "threshold = 2000\n",
      "X = X_train[:threshold]\n",
      "Y = Y_train[:threshold]\n",
      "\n",
      "boost = GradBoostLearner(weak_learner=\"decision_tree\", n_estimators=500)\n",
      "my_cross_validation(X, Y, boost)"
     ],
     "language": "python",
     "metadata": {},
     "outputs": [
      {
       "output_type": "stream",
       "stream": "stdout",
       "text": [
        "New fold\n",
        "        Time:"
       ]
      },
      {
       "output_type": "stream",
       "stream": "stdout",
       "text": [
        " 18.27 s                                     ### Vmesni rezultat ###:  0.766252904952\n"
       ]
      },
      {
       "output_type": "stream",
       "stream": "stdout",
       "text": [
        "New fold\n",
        "        Time:"
       ]
      },
      {
       "output_type": "stream",
       "stream": "stdout",
       "text": [
        " 18.22 s                                     ### Vmesni rezultat ###:  0.742777745935\n"
       ]
      },
      {
       "output_type": "stream",
       "stream": "stdout",
       "text": [
        "New fold\n",
        "        Time:"
       ]
      },
      {
       "output_type": "stream",
       "stream": "stdout",
       "text": [
        " 16.84 s                                     ### Vmesni rezultat ###:  0.834366089281\n"
       ]
      },
      {
       "metadata": {},
       "output_type": "pyout",
       "prompt_number": 92,
       "text": [
        "0.78113224672263593"
       ]
      }
     ],
     "prompt_number": 92
    },
    {
     "cell_type": "heading",
     "level": 6,
     "metadata": {},
     "source": [
      "600 estimators"
     ]
    },
    {
     "cell_type": "code",
     "collapsed": false,
     "input": [
      "threshold = 2000\n",
      "X = X_train[:threshold]\n",
      "Y = Y_train[:threshold]\n",
      "\n",
      "boost = GradBoostLearner(weak_learner=\"decision_tree\", n_estimators=600)\n",
      "my_cross_validation(X, Y, boost)"
     ],
     "language": "python",
     "metadata": {},
     "outputs": [
      {
       "output_type": "stream",
       "stream": "stdout",
       "text": [
        "New fold\n",
        "        Time:"
       ]
      },
      {
       "output_type": "stream",
       "stream": "stdout",
       "text": [
        " 23.13 s                                     ### Vmesni rezultat ###:  0.768942709021\n"
       ]
      },
      {
       "output_type": "stream",
       "stream": "stdout",
       "text": [
        "New fold\n",
        "        Time:"
       ]
      },
      {
       "output_type": "stream",
       "stream": "stdout",
       "text": [
        " 19.23 s                                     ### Vmesni rezultat ###:  0.740282570979\n"
       ]
      },
      {
       "output_type": "stream",
       "stream": "stdout",
       "text": [
        "New fold\n",
        "        Time:"
       ]
      },
      {
       "output_type": "stream",
       "stream": "stdout",
       "text": [
        " 19.15 s                                     ### Vmesni rezultat ###:  0.83492396047\n"
       ]
      },
      {
       "metadata": {},
       "output_type": "pyout",
       "prompt_number": 93,
       "text": [
        "0.78138308015663427"
       ]
      }
     ],
     "prompt_number": 93
    },
    {
     "cell_type": "heading",
     "level": 6,
     "metadata": {},
     "source": [
      "800 estimators"
     ]
    },
    {
     "cell_type": "code",
     "collapsed": false,
     "input": [
      "# WARNING This one had a different data samples ... not relevant with upper one but is\n",
      "# ok for quick comparison.\n",
      "threshold = 2000\n",
      "X = X_train[:threshold]\n",
      "Y = Y_train[:threshold]\n",
      "\n",
      "boost = GradBoostLearner(weak_learner=\"decision_tree\", n_estimators=800)\n",
      "my_cross_validation(X, Y, boost)"
     ],
     "language": "python",
     "metadata": {},
     "outputs": [
      {
       "output_type": "stream",
       "stream": "stdout",
       "text": [
        "New fold\n",
        "        Time:"
       ]
      },
      {
       "output_type": "stream",
       "stream": "stdout",
       "text": [
        " 26.82 s                                     ### Vmesni rezultat ###:  0.87919534833\n"
       ]
      },
      {
       "output_type": "stream",
       "stream": "stdout",
       "text": [
        "New fold\n",
        "        Time:"
       ]
      },
      {
       "output_type": "stream",
       "stream": "stdout",
       "text": [
        " 26.17 s                                     ### Vmesni rezultat ###:  0.743806927888\n"
       ]
      },
      {
       "output_type": "stream",
       "stream": "stdout",
       "text": [
        "New fold\n",
        "        Time:"
       ]
      },
      {
       "output_type": "stream",
       "stream": "stdout",
       "text": [
        " 25.27 s                                     ### Vmesni rezultat ###:  0.849182226465\n"
       ]
      },
      {
       "metadata": {},
       "output_type": "pyout",
       "prompt_number": 13,
       "text": [
        "0.82406150089434638"
       ]
      }
     ],
     "prompt_number": 13
    },
    {
     "cell_type": "heading",
     "level": 6,
     "metadata": {},
     "source": [
      "CONCLUSION: It seems that 400 or 500 iterations is near optioma while higher numbers makes it worser. "
     ]
    },
    {
     "cell_type": "heading",
     "level": 3,
     "metadata": {},
     "source": [
      "Check depth of the trees"
     ]
    },
    {
     "cell_type": "heading",
     "level": 6,
     "metadata": {},
     "source": [
      "Depth 2"
     ]
    },
    {
     "cell_type": "code",
     "collapsed": false,
     "input": [
      "threshold = 2000\n",
      "X = X_train[:threshold]\n",
      "Y = Y_train[:threshold]\n",
      "\n",
      "boost = GradBoostLearner(weak_learner=\"decision_tree\", max_depth=2,n_estimators=400)\n",
      "my_cross_validation(X, Y, boost)"
     ],
     "language": "python",
     "metadata": {},
     "outputs": [
      {
       "output_type": "stream",
       "stream": "stdout",
       "text": [
        "New fold\n",
        "        Time:"
       ]
      },
      {
       "output_type": "stream",
       "stream": "stdout",
       "text": [
        " 24.21 s                                     ### Vmesni rezultat ###:  0.773325542582\n"
       ]
      },
      {
       "output_type": "stream",
       "stream": "stdout",
       "text": [
        "New fold\n",
        "        Time:"
       ]
      },
      {
       "output_type": "stream",
       "stream": "stdout",
       "text": [
        " 24.98 s                                     ### Vmesni rezultat ###:  0.74350877726\n"
       ]
      },
      {
       "output_type": "stream",
       "stream": "stdout",
       "text": [
        "New fold\n",
        "        Time:"
       ]
      },
      {
       "output_type": "stream",
       "stream": "stdout",
       "text": [
        " 24.25 s                                     ### Vmesni rezultat ###:  0.896920571114\n"
       ]
      },
      {
       "metadata": {},
       "output_type": "pyout",
       "prompt_number": 97,
       "text": [
        "0.80458496365176468"
       ]
      }
     ],
     "prompt_number": 97
    },
    {
     "cell_type": "heading",
     "level": 6,
     "metadata": {},
     "source": [
      "Depth 3"
     ]
    },
    {
     "cell_type": "code",
     "collapsed": false,
     "input": [
      "threshold = 2000\n",
      "X = X_train[:threshold]\n",
      "Y = Y_train[:threshold]\n",
      "\n",
      "boost = GradBoostLearner(weak_learner=\"decision_tree\", max_depth=3,n_estimators=400)\n",
      "my_cross_validation(X, Y, boost)"
     ],
     "language": "python",
     "metadata": {},
     "outputs": [
      {
       "output_type": "stream",
       "stream": "stdout",
       "text": [
        "New fold\n",
        "        Time:"
       ]
      },
      {
       "output_type": "stream",
       "stream": "stdout",
       "text": [
        " 34.34 s                                     ### Vmesni rezultat ###:  0.809989336262\n"
       ]
      },
      {
       "output_type": "stream",
       "stream": "stdout",
       "text": [
        "New fold\n",
        "        Time:"
       ]
      },
      {
       "output_type": "stream",
       "stream": "stdout",
       "text": [
        " 33.95 s                                     ### Vmesni rezultat ###:  0.824662217812\n"
       ]
      },
      {
       "output_type": "stream",
       "stream": "stdout",
       "text": [
        "New fold\n",
        "        Time:"
       ]
      },
      {
       "output_type": "stream",
       "stream": "stdout",
       "text": [
        " 34.15 s                                     ### Vmesni rezultat ###:  0.966816913349\n"
       ]
      },
      {
       "metadata": {},
       "output_type": "pyout",
       "prompt_number": 98,
       "text": [
        "0.86715615580799488"
       ]
      }
     ],
     "prompt_number": 98
    },
    {
     "cell_type": "heading",
     "level": 6,
     "metadata": {},
     "source": [
      "CONCLUSION: Results get worse with deeper trees. But we have only 2000 samples ... let's enlarge it."
     ]
    },
    {
     "cell_type": "heading",
     "level": 3,
     "metadata": {},
     "source": [
      "Increase number of samples, so that we can test deeper trees"
     ]
    },
    {
     "cell_type": "heading",
     "level": 6,
     "metadata": {},
     "source": [
      "Depth 2"
     ]
    },
    {
     "cell_type": "code",
     "collapsed": false,
     "input": [
      "threshold = 10000\n",
      "X = X_train[:threshold]\n",
      "Y = Y_train[:threshold]\n",
      "\n",
      "boost = GradBoostLearner(weak_learner=\"decision_tree\", max_depth=2,n_estimators=400)\n",
      "my_cross_validation(X, Y, boost)"
     ],
     "language": "python",
     "metadata": {},
     "outputs": [
      {
       "output_type": "stream",
       "stream": "stdout",
       "text": [
        "New fold\n",
        "        Time:"
       ]
      },
      {
       "output_type": "stream",
       "stream": "stdout",
       "text": [
        " 133.83 s                                     ### Vmesni rezultat ###:  0.642055186539\n"
       ]
      },
      {
       "output_type": "stream",
       "stream": "stdout",
       "text": [
        "New fold\n",
        "        Time:"
       ]
      },
      {
       "output_type": "stream",
       "stream": "stdout",
       "text": [
        " 135.52 s                                     ### Vmesni rezultat ###:  0.704082896708\n"
       ]
      },
      {
       "output_type": "stream",
       "stream": "stdout",
       "text": [
        "New fold\n",
        "        Time:"
       ]
      },
      {
       "output_type": "stream",
       "stream": "stdout",
       "text": [
        " 133.89 s                                     ### Vmesni rezultat ###:  0.629048671857\n"
       ]
      },
      {
       "metadata": {},
       "output_type": "pyout",
       "prompt_number": 15,
       "text": [
        "0.65839558503478557"
       ]
      }
     ],
     "prompt_number": 15
    },
    {
     "cell_type": "heading",
     "level": 6,
     "metadata": {},
     "source": [
      "Depth 5"
     ]
    },
    {
     "cell_type": "code",
     "collapsed": false,
     "input": [
      "threshold = 10000\n",
      "X = X_train[:threshold]\n",
      "Y = Y_train[:threshold]\n",
      "\n",
      "boost = GradBoostLearner(weak_learner=\"decision_tree\", max_depth=5,n_estimators=400)\n",
      "my_cross_validation(X, Y, boost)"
     ],
     "language": "python",
     "metadata": {},
     "outputs": [
      {
       "output_type": "stream",
       "stream": "stdout",
       "text": [
        "New fold\n",
        "        Time:"
       ]
      },
      {
       "output_type": "stream",
       "stream": "stdout",
       "text": [
        " 281.83 s                                     ### Vmesni rezultat ###:  0.708366030432\n"
       ]
      },
      {
       "output_type": "stream",
       "stream": "stdout",
       "text": [
        "New fold\n",
        "        Time:"
       ]
      },
      {
       "output_type": "stream",
       "stream": "stdout",
       "text": [
        " 288.51 s                                     ### Vmesni rezultat ###:  0.790840788035\n"
       ]
      },
      {
       "output_type": "stream",
       "stream": "stdout",
       "text": [
        "New fold\n",
        "        Time:"
       ]
      },
      {
       "output_type": "stream",
       "stream": "stdout",
       "text": [
        " 283.83 s                                     ### Vmesni rezultat ###:  0.71473381864\n"
       ]
      },
      {
       "metadata": {},
       "output_type": "pyout",
       "prompt_number": 14,
       "text": [
        "0.73798021236914735"
       ]
      }
     ],
     "prompt_number": 14
    },
    {
     "cell_type": "heading",
     "level": 6,
     "metadata": {},
     "source": [
      "CONCLUSION: Deeper tree doesn't get better."
     ]
    },
    {
     "cell_type": "heading",
     "level": 3,
     "metadata": {},
     "source": [
      "Other weak learners"
     ]
    },
    {
     "cell_type": "heading",
     "level": 6,
     "metadata": {},
     "source": [
      "Ridge"
     ]
    },
    {
     "cell_type": "code",
     "collapsed": false,
     "input": [
      "threshold = 2000\n",
      "X = X_train[:threshold]\n",
      "Y = Y_train[:threshold]\n",
      "\n",
      "boost = GradBoostLearner(weak_learner=\"ridge\",n_estimators=400)\n",
      "my_cross_validation(X, Y, boost)"
     ],
     "language": "python",
     "metadata": {},
     "outputs": [
      {
       "output_type": "stream",
       "stream": "stdout",
       "text": [
        "New fold\n",
        "        Time:"
       ]
      },
      {
       "output_type": "stream",
       "stream": "stdout",
       "text": [
        " 85.19 s                                     ### Vmesni rezultat ###:  1.01373373304\n"
       ]
      },
      {
       "output_type": "stream",
       "stream": "stdout",
       "text": [
        "New fold\n",
        "        Time:"
       ]
      },
      {
       "output_type": "stream",
       "stream": "stdout",
       "text": [
        " 85.32 s                                     ### Vmesni rezultat ###:  1.04594987488\n"
       ]
      },
      {
       "output_type": "stream",
       "stream": "stdout",
       "text": [
        "New fold\n",
        "        Time:"
       ]
      },
      {
       "output_type": "stream",
       "stream": "stdout",
       "text": [
        " 89.71 s                                     ### Vmesni rezultat ###:  0.998074637915\n"
       ]
      },
      {
       "metadata": {},
       "output_type": "pyout",
       "prompt_number": 132,
       "text": [
        "1.0192527486101843"
       ]
      }
     ],
     "prompt_number": 132
    },
    {
     "cell_type": "heading",
     "level": 3,
     "metadata": {},
     "source": [
      "Learning rate"
     ]
    },
    {
     "cell_type": "heading",
     "level": 6,
     "metadata": {},
     "source": [
      "200 iterations, 0.25 learning rate"
     ]
    },
    {
     "cell_type": "code",
     "collapsed": false,
     "input": [
      "threshold = 2000\n",
      "X = X_train[:threshold]\n",
      "Y = Y_train[:threshold]\n",
      "\n",
      "boost = GradBoostLearner(weak_learner=\"decision_tree\", n_estimators=200, l_rate=0.25)\n",
      "my_cross_validation(X, Y, boost)"
     ],
     "language": "python",
     "metadata": {},
     "outputs": [
      {
       "output_type": "stream",
       "stream": "stdout",
       "text": [
        "New fold\n",
        "        Time:"
       ]
      },
      {
       "output_type": "stream",
       "stream": "stdout",
       "text": [
        " 6.69 s                                     ### Vmesni rezultat ###:  0.939019018077\n"
       ]
      },
      {
       "output_type": "stream",
       "stream": "stdout",
       "text": [
        "New fold\n",
        "        Time:"
       ]
      },
      {
       "output_type": "stream",
       "stream": "stdout",
       "text": [
        " 6.55 s                                     ### Vmesni rezultat ###:  0.939141679038\n"
       ]
      },
      {
       "output_type": "stream",
       "stream": "stdout",
       "text": [
        "New fold\n",
        "        Time:"
       ]
      },
      {
       "output_type": "stream",
       "stream": "stdout",
       "text": [
        " 6.68 s                                     ### Vmesni rezultat ###:  0.979857980658\n"
       ]
      },
      {
       "metadata": {},
       "output_type": "pyout",
       "prompt_number": 164,
       "text": [
        "0.9526728925910235"
       ]
      }
     ],
     "prompt_number": 164
    },
    {
     "cell_type": "heading",
     "level": 6,
     "metadata": {},
     "source": [
      "500 iterations, 0.25 learning rate"
     ]
    },
    {
     "cell_type": "code",
     "collapsed": false,
     "input": [
      "threshold = 2000\n",
      "X = X_train[:threshold]\n",
      "Y = Y_train[:threshold]\n",
      "\n",
      "boost = GradBoostLearner(weak_learner=\"decision_tree\", n_estimators=500, l_rate=0.25)\n",
      "my_cross_validation(X, Y, boost)"
     ],
     "language": "python",
     "metadata": {},
     "outputs": [
      {
       "output_type": "stream",
       "stream": "stdout",
       "text": [
        "New fold\n",
        "        Time:"
       ]
      },
      {
       "output_type": "stream",
       "stream": "stdout",
       "text": [
        " 16.46 s                                     ### Vmesni rezultat ###:  0.831717278393\n"
       ]
      },
      {
       "output_type": "stream",
       "stream": "stdout",
       "text": [
        "New fold\n",
        "        Time:"
       ]
      },
      {
       "output_type": "stream",
       "stream": "stdout",
       "text": [
        " 16.59 s                                     ### Vmesni rezultat ###:  0.834421141075\n"
       ]
      },
      {
       "output_type": "stream",
       "stream": "stdout",
       "text": [
        "New fold\n",
        "        Time:"
       ]
      },
      {
       "output_type": "stream",
       "stream": "stdout",
       "text": [
        " 16.9 s                                     ### Vmesni rezultat ###:  0.890592733458\n"
       ]
      },
      {
       "metadata": {},
       "output_type": "pyout",
       "prompt_number": 165,
       "text": [
        "0.85224371764178841"
       ]
      }
     ],
     "prompt_number": 165
    },
    {
     "cell_type": "heading",
     "level": 6,
     "metadata": {},
     "source": [
      "1000 iterations, 0.25 learning rate"
     ]
    },
    {
     "cell_type": "code",
     "collapsed": false,
     "input": [
      "threshold = 2000\n",
      "X = X_train[:threshold]\n",
      "Y = Y_train[:threshold]\n",
      "\n",
      "boost = GradBoostLearner(weak_learner=\"decision_tree\", n_estimators=1000, l_rate=0.25)\n",
      "my_cross_validation(X, Y, boost)"
     ],
     "language": "python",
     "metadata": {},
     "outputs": [
      {
       "output_type": "stream",
       "stream": "stdout",
       "text": [
        "New fold\n",
        "        Time:"
       ]
      },
      {
       "output_type": "stream",
       "stream": "stdout",
       "text": [
        " 32.97 s                                     ### Vmesni rezultat ###:  0.78420248453\n"
       ]
      },
      {
       "output_type": "stream",
       "stream": "stdout",
       "text": [
        "New fold\n",
        "        Time:"
       ]
      },
      {
       "output_type": "stream",
       "stream": "stdout",
       "text": [
        " 35.53 s                                     ### Vmesni rezultat ###:  0.775599010158\n"
       ]
      },
      {
       "output_type": "stream",
       "stream": "stdout",
       "text": [
        "New fold\n",
        "        Time:"
       ]
      },
      {
       "output_type": "stream",
       "stream": "stdout",
       "text": [
        " 36.15 s                                     ### Vmesni rezultat ###:  0.852925196042\n"
       ]
      },
      {
       "metadata": {},
       "output_type": "pyout",
       "prompt_number": 167,
       "text": [
        "0.80424223024322361"
       ]
      }
     ],
     "prompt_number": 167
    },
    {
     "cell_type": "heading",
     "level": 6,
     "metadata": {},
     "source": [
      "2000 iterations, 0.25 learning rate"
     ]
    },
    {
     "cell_type": "code",
     "collapsed": false,
     "input": [
      "threshold = 2000\n",
      "X = X_train[:threshold]\n",
      "Y = Y_train[:threshold]\n",
      "\n",
      "boost = GradBoostLearner(weak_learner=\"decision_tree\", n_estimators=2000, l_rate=0.25)\n",
      "my_cross_validation(X, Y, boost)"
     ],
     "language": "python",
     "metadata": {},
     "outputs": [
      {
       "output_type": "stream",
       "stream": "stdout",
       "text": [
        "New fold\n",
        "        Time:"
       ]
      },
      {
       "output_type": "stream",
       "stream": "stdout",
       "text": [
        " 71.76 s                                     ### Vmesni rezultat ###:  0.767866063131\n"
       ]
      },
      {
       "output_type": "stream",
       "stream": "stdout",
       "text": [
        "New fold\n",
        "        Time:"
       ]
      },
      {
       "output_type": "stream",
       "stream": "stdout",
       "text": [
        " 69.09 s                                     ### Vmesni rezultat ###:  0.739602448015\n"
       ]
      },
      {
       "output_type": "stream",
       "stream": "stdout",
       "text": [
        "New fold\n",
        "        Time:"
       ]
      },
      {
       "output_type": "stream",
       "stream": "stdout",
       "text": [
        " 67.82 s                                     ### Vmesni rezultat ###:  0.833943640667\n"
       ]
      },
      {
       "metadata": {},
       "output_type": "pyout",
       "prompt_number": 168,
       "text": [
        "0.78047071727091533"
       ]
      }
     ],
     "prompt_number": 168
    },
    {
     "cell_type": "heading",
     "level": 6,
     "metadata": {},
     "source": [
      "3000 iteration, 0.25 learning rate"
     ]
    },
    {
     "cell_type": "code",
     "collapsed": false,
     "input": [
      "threshold = 2000\n",
      "X = X_train[:threshold]\n",
      "Y = Y_train[:threshold]\n",
      "\n",
      "boost = GradBoostLearner(weak_learner=\"decision_tree\", n_estimators=3000, l_rate=0.25)\n",
      "my_cross_validation(X, Y, boost)"
     ],
     "language": "python",
     "metadata": {},
     "outputs": [
      {
       "output_type": "stream",
       "stream": "stdout",
       "text": [
        "New fold\n",
        "        Time:"
       ]
      },
      {
       "output_type": "stream",
       "stream": "stdout",
       "text": [
        " 109.85 s                                     ### Vmesni rezultat ###:  0.770636229752\n"
       ]
      },
      {
       "output_type": "stream",
       "stream": "stdout",
       "text": [
        "New fold\n",
        "        Time:"
       ]
      },
      {
       "output_type": "stream",
       "stream": "stdout",
       "text": [
        " 99.29 s                                     ### Vmesni rezultat ###:  0.735778168803\n"
       ]
      },
      {
       "output_type": "stream",
       "stream": "stdout",
       "text": [
        "New fold\n",
        "        Time:"
       ]
      },
      {
       "output_type": "stream",
       "stream": "stdout",
       "text": [
        " 100.44 s                                     ### Vmesni rezultat ###:  0.838035099226\n"
       ]
      },
      {
       "metadata": {},
       "output_type": "pyout",
       "prompt_number": 169,
       "text": [
        "0.78148316592706879"
       ]
      }
     ],
     "prompt_number": 169
    },
    {
     "cell_type": "heading",
     "level": 6,
     "metadata": {},
     "source": [
      "CONCLUSION: 0.25 stops decreasing around 2000 iterations. 3000 iterations act worser."
     ]
    },
    {
     "cell_type": "heading",
     "level": 6,
     "metadata": {},
     "source": [
      "400 iterations, 0.125 learning rate"
     ]
    },
    {
     "cell_type": "code",
     "collapsed": false,
     "input": [
      "threshold = 2000\n",
      "X = X_train[:threshold]\n",
      "Y = Y_train[:threshold]\n",
      "\n",
      "boost = GradBoostLearner(weak_learner=\"decision_tree\", n_estimators=400, l_rate=0.125)\n",
      "my_cross_validation(X, Y, boost)"
     ],
     "language": "python",
     "metadata": {},
     "outputs": [
      {
       "output_type": "stream",
       "stream": "stdout",
       "text": [
        "New fold\n",
        "        Time:"
       ]
      },
      {
       "output_type": "stream",
       "stream": "stdout",
       "text": [
        " 13.78 s                                     ### Vmesni rezultat ###:  0.940282776204\n"
       ]
      },
      {
       "output_type": "stream",
       "stream": "stdout",
       "text": [
        "New fold\n",
        "        Time:"
       ]
      },
      {
       "output_type": "stream",
       "stream": "stdout",
       "text": [
        " 12.88 s                                     ### Vmesni rezultat ###:  0.939881636499\n"
       ]
      },
      {
       "output_type": "stream",
       "stream": "stdout",
       "text": [
        "New fold\n",
        "        Time:"
       ]
      },
      {
       "output_type": "stream",
       "stream": "stdout",
       "text": [
        " 13.5 s                                     ### Vmesni rezultat ###:  0.980394067144\n"
       ]
      },
      {
       "metadata": {},
       "output_type": "pyout",
       "prompt_number": 158,
       "text": [
        "0.95351949328212016"
       ]
      }
     ],
     "prompt_number": 158
    },
    {
     "cell_type": "heading",
     "level": 6,
     "metadata": {},
     "source": [
      "1000 iteraitons, 0.125 learning rate"
     ]
    },
    {
     "cell_type": "code",
     "collapsed": false,
     "input": [
      "threshold = 2000\n",
      "X = X_train[:threshold]\n",
      "Y = Y_train[:threshold]\n",
      "\n",
      "boost = GradBoostLearner(weak_learner=\"decision_tree\", n_estimators=1000, l_rate=0.125)\n",
      "my_cross_validation(X, Y, boost)"
     ],
     "language": "python",
     "metadata": {},
     "outputs": [
      {
       "output_type": "stream",
       "stream": "stdout",
       "text": [
        "New fold\n",
        "        Time:"
       ]
      },
      {
       "output_type": "stream",
       "stream": "stdout",
       "text": [
        " 33.38 s                                     ### Vmesni rezultat ###:  0.832784016649\n"
       ]
      },
      {
       "output_type": "stream",
       "stream": "stdout",
       "text": [
        "New fold\n",
        "        Time:"
       ]
      },
      {
       "output_type": "stream",
       "stream": "stdout",
       "text": [
        " 32.81 s                                     ### Vmesni rezultat ###:  0.834872786603\n"
       ]
      },
      {
       "output_type": "stream",
       "stream": "stdout",
       "text": [
        "New fold\n",
        "        Time:"
       ]
      },
      {
       "output_type": "stream",
       "stream": "stdout",
       "text": [
        " 34.95 s                                     ### Vmesni rezultat ###:  0.890600350419\n"
       ]
      },
      {
       "metadata": {},
       "output_type": "pyout",
       "prompt_number": 159,
       "text": [
        "0.85275238455683156"
       ]
      }
     ],
     "prompt_number": 159
    },
    {
     "cell_type": "heading",
     "level": 6,
     "metadata": {},
     "source": [
      "2000 iteration, 0.125 learning rate"
     ]
    },
    {
     "cell_type": "code",
     "collapsed": false,
     "input": [
      "threshold = 2000\n",
      "X = X_train[:threshold]\n",
      "Y = Y_train[:threshold]\n",
      "\n",
      "boost = GradBoostLearner(weak_learner=\"decision_tree\", n_estimators=2000, l_rate=0.125)\n",
      "my_cross_validation(X, Y, boost)"
     ],
     "language": "python",
     "metadata": {},
     "outputs": [
      {
       "output_type": "stream",
       "stream": "stdout",
       "text": [
        "New fold\n",
        "        Time:"
       ]
      },
      {
       "output_type": "stream",
       "stream": "stdout",
       "text": [
        " 66.01 s                                     ### Vmesni rezultat ###:  0.783919683872\n"
       ]
      },
      {
       "output_type": "stream",
       "stream": "stdout",
       "text": [
        "New fold\n",
        "        Time:"
       ]
      },
      {
       "output_type": "stream",
       "stream": "stdout",
       "text": [
        " 75.68 s                                     ### Vmesni rezultat ###:  0.776775192198\n"
       ]
      },
      {
       "output_type": "stream",
       "stream": "stdout",
       "text": [
        "New fold\n",
        "        Time:"
       ]
      },
      {
       "output_type": "stream",
       "stream": "stdout",
       "text": [
        " 66.37 s                                     ### Vmesni rezultat ###:  0.852417198253\n"
       ]
      },
      {
       "metadata": {},
       "output_type": "pyout",
       "prompt_number": 160,
       "text": [
        "0.80437069144121243"
       ]
      }
     ],
     "prompt_number": 160
    },
    {
     "cell_type": "heading",
     "level": 6,
     "metadata": {},
     "source": [
      "3000 iterations, 0.125 learning rate"
     ]
    },
    {
     "cell_type": "code",
     "collapsed": false,
     "input": [
      "threshold = 2000\n",
      "X = X_train[:threshold]\n",
      "Y = Y_train[:threshold]\n",
      "\n",
      "boost = GradBoostLearner(weak_learner=\"decision_tree\", n_estimators=3000, l_rate=0.125)\n",
      "my_cross_validation(X, Y, boost)"
     ],
     "language": "python",
     "metadata": {},
     "outputs": [
      {
       "output_type": "stream",
       "stream": "stdout",
       "text": [
        "New fold\n",
        "        Time:"
       ]
      },
      {
       "output_type": "stream",
       "stream": "stdout",
       "text": [
        " 109.0 s                                     ### Vmesni rezultat ###:  0.770889099516\n"
       ]
      },
      {
       "output_type": "stream",
       "stream": "stdout",
       "text": [
        "New fold\n",
        "        Time:"
       ]
      },
      {
       "output_type": "stream",
       "stream": "stdout",
       "text": [
        " 100.71 s                                     ### Vmesni rezultat ###:  0.751894376901\n"
       ]
      },
      {
       "output_type": "stream",
       "stream": "stdout",
       "text": [
        "New fold\n",
        "        Time:"
       ]
      },
      {
       "output_type": "stream",
       "stream": "stdout",
       "text": [
        " 105.86 s                                     ### Vmesni rezultat ###:  0.837541229413\n"
       ]
      },
      {
       "metadata": {},
       "output_type": "pyout",
       "prompt_number": 163,
       "text": [
        "0.7867749019436876"
       ]
      }
     ],
     "prompt_number": 163
    },
    {
     "cell_type": "heading",
     "level": 6,
     "metadata": {},
     "source": [
      "CONCLUSION: Smaller learning rate gives better result but needs many more iterations. With 0.125 we haven't reached the bottom. "
     ]
    },
    {
     "cell_type": "heading",
     "level": 3,
     "metadata": {},
     "source": [
      "Whole data set"
     ]
    },
    {
     "cell_type": "heading",
     "level": 6,
     "metadata": {},
     "source": [
      "We have done some interesting test. WE have taken 40 000 samples, run algorithm and during the learning, we have validated the algorithm."
     ]
    },
    {
     "cell_type": "code",
     "collapsed": false,
     "input": [
      "threshold = 40000\n",
      "X = X_train[:threshold]\n",
      "Y = Y_train[:threshold]\n",
      "\n",
      "X2= X_train[threshold:threshold+50]\n",
      "Y2= Y_train[threshold:threshold+50]\n",
      "\n",
      "boost = GradBoostLearner(weak_learner=\"decision_tree\", max_depth=5, init_weak_learner=\"mean\", n_estimators=500)\n",
      "models = boost.fit(X, Y,X2, Y2 )"
     ],
     "language": "python",
     "metadata": {},
     "outputs": [
      {
       "output_type": "stream",
       "stream": "stdout",
       "text": [
        "Iter 0    LogLoss 1.69857496065\n"
       ]
      },
      {
       "output_type": "stream",
       "stream": "stdout",
       "text": [
        "Iter 50    LogLoss 0.636208750066\n"
       ]
      },
      {
       "output_type": "stream",
       "stream": "stdout",
       "text": [
        "Iter 100    LogLoss 0.54263090313\n"
       ]
      },
      {
       "output_type": "stream",
       "stream": "stdout",
       "text": [
        "Iter 150    LogLoss 0.529752652793\n"
       ]
      },
      {
       "output_type": "stream",
       "stream": "stdout",
       "text": [
        "Iter 200    LogLoss 0.514393332462\n"
       ]
      },
      {
       "output_type": "stream",
       "stream": "stdout",
       "text": [
        "Iter 250    LogLoss 0.502168548708\n"
       ]
      },
      {
       "output_type": "stream",
       "stream": "stdout",
       "text": [
        "Iter 300    LogLoss 0.498017590679\n"
       ]
      },
      {
       "output_type": "stream",
       "stream": "stdout",
       "text": [
        "Iter 350    LogLoss 0.489432419999\n"
       ]
      },
      {
       "output_type": "stream",
       "stream": "stdout",
       "text": [
        "Iter 400    LogLoss 0.486370219899\n"
       ]
      },
      {
       "output_type": "stream",
       "stream": "stdout",
       "text": [
        "Iter 450    LogLoss 0.482366372462\n"
       ]
      }
     ],
     "prompt_number": 176
    },
    {
     "cell_type": "code",
     "collapsed": false,
     "input": [
      "threshold = 40000\n",
      "X = X_train[:threshold]\n",
      "Y = Y_train[:threshold]\n",
      "\n",
      "X2= X_train[threshold:threshold+50]\n",
      "Y2= Y_train[threshold:threshold+50]\n",
      "\n",
      "boost = GradBoostLearner(weak_learner=\"decision_tree\", max_depth=1, init_weak_learner=\"mean\", n_estimators=500)\n",
      "models = boost.fit(X, Y,X2, Y2 )"
     ],
     "language": "python",
     "metadata": {},
     "outputs": [
      {
       "output_type": "stream",
       "stream": "stdout",
       "text": [
        "Iter 0    LogLoss 1.93459483966\n"
       ]
      },
      {
       "output_type": "stream",
       "stream": "stdout",
       "text": [
        "Iter 50    LogLoss 1.08989466959\n"
       ]
      },
      {
       "output_type": "stream",
       "stream": "stdout",
       "text": [
        "Iter 100    LogLoss 0.998249086076\n"
       ]
      },
      {
       "output_type": "stream",
       "stream": "stdout",
       "text": [
        "Iter 150    LogLoss 0.952755790855\n"
       ]
      },
      {
       "output_type": "stream",
       "stream": "stdout",
       "text": [
        "Iter 200    LogLoss 0.919905810822\n"
       ]
      },
      {
       "output_type": "stream",
       "stream": "stdout",
       "text": [
        "Iter 250    LogLoss 0.89118203777\n"
       ]
      },
      {
       "output_type": "stream",
       "stream": "stdout",
       "text": [
        "Iter 300    LogLoss 0.870772944378\n"
       ]
      },
      {
       "output_type": "stream",
       "stream": "stdout",
       "text": [
        "Iter 350    LogLoss 0.856974554891\n"
       ]
      },
      {
       "output_type": "stream",
       "stream": "stdout",
       "text": [
        "Iter 400    LogLoss 0.847499049768\n"
       ]
      },
      {
       "output_type": "stream",
       "stream": "stdout",
       "text": [
        "Iter 450    LogLoss 0.84165708913\n"
       ]
      },
      {
       "output_type": "stream",
       "stream": "stderr",
       "text": [
        "-c:103: FutureWarning: comparison to `None` will result in an elementwise object comparison in the future.\n"
       ]
      }
     ],
     "prompt_number": 17
    },
    {
     "cell_type": "code",
     "collapsed": false,
     "input": [
      "threshold = 40000\n",
      "X = X_train[:threshold]\n",
      "Y = Y_train[:threshold]\n",
      "\n",
      "X2= X_train[threshold:threshold+50]\n",
      "Y2= Y_train[threshold:threshold+50]\n",
      "\n",
      "boost = GradBoostLearner(weak_learner=\"decision_tree\", max_depth=1, init_weak_learner=\"mean\", n_estimators=500)\n",
      "models = boost.fit(X, Y,X2, Y2 )"
     ],
     "language": "python",
     "metadata": {},
     "outputs": []
    },
    {
     "cell_type": "heading",
     "level": 6,
     "metadata": {},
     "source": [
      "CONCLUSION: After 450 iterations, the result is improving. "
     ]
    },
    {
     "cell_type": "heading",
     "level": 3,
     "metadata": {},
     "source": [
      "For curiosity, try to use crossvalidation and more cores"
     ]
    },
    {
     "cell_type": "heading",
     "level": 6,
     "metadata": {},
     "source": [
      "It has problems on Windows if we use n_jobs > 1."
     ]
    },
    {
     "cell_type": "code",
     "collapsed": false,
     "input": [
      "threshold = 200\n",
      "X = X_train[:threshold]\n",
      "Y = Y_train[:threshold]\n",
      "\n",
      "boost = GradBoostLearner(weak_learner=\"decision_tree\", n_estimators=100, l_rate=1)\n",
      "- cross_validation.cross_val_score(boost, X, Y, scoring=\"log_loss\", cv=None, n_jobs=1)"
     ],
     "language": "python",
     "metadata": {},
     "outputs": [
      {
       "metadata": {},
       "output_type": "pyout",
       "prompt_number": 14,
       "text": [
        "array([ 1.64856894,  0.96468265,  1.33638349])"
       ]
      }
     ],
     "prompt_number": 14
    },
    {
     "cell_type": "heading",
     "level": 3,
     "metadata": {},
     "source": [
      "STACKING"
     ]
    },
    {
     "cell_type": "heading",
     "level": 3,
     "metadata": {},
     "source": [
      "ODDAJA"
     ]
    },
    {
     "cell_type": "code",
     "collapsed": false,
     "input": [
      "threshold = 50000\n",
      "X = X_train[:threshold]\n",
      "Y = Y_train[:threshold]\n",
      "\n",
      "boost = GradBoostLearner(weak_learner=\"decision_tree\", max_depth=3, init_weak_learner=\"mean\", n_estimators=500)\n",
      "models = boost.fit(X, Y)"
     ],
     "language": "python",
     "metadata": {},
     "outputs": [],
     "prompt_number": 108
    },
    {
     "cell_type": "code",
     "collapsed": false,
     "input": [
      "predicted = boost.predict(X_test)\n",
      "def write_to_file(predicted, name):\n",
      "    answer = np.matrix(predicted.astype(str))\n",
      "    ids = np.matrix(range(1, answer.shape[0]+1))\n",
      "    answer = np.hstack((ids.T.astype(str), answer))\n",
      "    answer = np.vstack((np.array([\"id\",\"Class_1\",\"Class_2\",\"Class_3\",\"Class_4\",\"Class_5\",\"Class_6\",\"Class_7\",\"Class_8\",\"Class_9\"]), answer))\n",
      "    answer = answer.tolist()\n",
      "    answer = \"\\n\".join( [\",\".join(line) for line in answer] )\n",
      "\n",
      "    fo = open(\"../results/\"+name+\".csv\", \"wt\")\n",
      "    fo.write(answer)\n",
      "    fo.close()\n",
      "write_to_file(predicted, boost.name+\"_5\")"
     ],
     "language": "python",
     "metadata": {},
     "outputs": [],
     "prompt_number": 109
    },
    {
     "cell_type": "code",
     "collapsed": false,
     "input": [],
     "language": "python",
     "metadata": {},
     "outputs": []
    }
   ],
   "metadata": {}
  }
 ]
}