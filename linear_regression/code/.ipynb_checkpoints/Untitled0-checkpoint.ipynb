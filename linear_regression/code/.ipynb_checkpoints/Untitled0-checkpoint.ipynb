{
 "metadata": {
  "name": "",
  "signature": "sha256:73993b05c3bf3ac2c2d89514cc9ccd03d23095fa86fa51291ba642b1346fa3d2"
 },
 "nbformat": 3,
 "nbformat_minor": 0,
 "worksheets": []
}