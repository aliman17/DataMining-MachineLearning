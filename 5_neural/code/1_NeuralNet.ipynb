{
 "metadata": {
  "name": "",
  "signature": "sha256:435ff4c68df054638ab6db6b313edaad347ba1a4ba7b238f4476130ad704cd24"
 },
 "nbformat": 3,
 "nbformat_minor": 0,
 "worksheets": [
  {
   "cells": [
    {
     "cell_type": "code",
     "collapsed": false,
     "input": [
      "import numpy as np\n",
      "import scipy as sp\n",
      "from scipy.optimize.optimize import fmin_bfgs\n",
      "from sklearn import cross_validation\n",
      "from sklearn import preprocessing"
     ],
     "language": "python",
     "metadata": {},
     "outputs": [],
     "prompt_number": 1
    },
    {
     "cell_type": "code",
     "collapsed": false,
     "input": [
      "norm = preprocessing.Normalizer()\n",
      "X_train = np.loadtxt(open(\"../data/train.csv\",\"rb\"),delimiter=\",\",skiprows=1, usecols=range(1,94))\n",
      "X_train = norm.fit_transform(X_train)\n",
      "\n",
      "y_train = np.loadtxt(open(\"../data/train.csv\",\"rb\"),dtype=str,delimiter=\",\",skiprows=1, usecols=[94])\n",
      "y_train = np.array([int(c[-2]) for c in y_train])  # Parse classes from Class_1 into 1\n",
      "\n",
      "X_test = np.loadtxt(open(\"../data/test.csv\",\"rb\"),delimiter=\",\",skiprows=1, usecols=range(1,94))\n",
      "X_test = norm.transform(X_test)"
     ],
     "language": "python",
     "metadata": {},
     "outputs": [],
     "prompt_number": 2
    },
    {
     "cell_type": "heading",
     "level": 3,
     "metadata": {},
     "source": [
      "Sigmoid and Add Ones"
     ]
    },
    {
     "cell_type": "code",
     "collapsed": false,
     "input": [
      "def add_ones(X):\n",
      "    return np.column_stack(X, (np.ones(len(X))))"
     ],
     "language": "python",
     "metadata": {},
     "outputs": [],
     "prompt_number": 215
    },
    {
     "cell_type": "code",
     "collapsed": false,
     "input": [
      "def add_one(X):\n",
      "    return np.append(1, X)"
     ],
     "language": "python",
     "metadata": {},
     "outputs": [],
     "prompt_number": 216
    },
    {
     "cell_type": "code",
     "collapsed": false,
     "input": [
      "def sigmoid(z):\n",
      "    return 1/(1+np.exp(-z))"
     ],
     "language": "python",
     "metadata": {},
     "outputs": [],
     "prompt_number": 4
    },
    {
     "cell_type": "heading",
     "level": 3,
     "metadata": {},
     "source": [
      "Classifier"
     ]
    },
    {
     "cell_type": "heading",
     "level": 3,
     "metadata": {},
     "source": [
      "Learner"
     ]
    },
    {
     "cell_type": "code",
     "collapsed": false,
     "input": [
      "class NeuralNetClassifier():\n",
      "    \"\"\"Neural network classifier based on a set of binary classifiers.\"\"\"\n",
      "    def __init__(self, h, thetas):\n",
      "        self.thetas = thetas  # model parameters\n",
      "        self.h = h\n",
      "        \n",
      "    def predict(self, X):\n",
      "        y_hat = np.ravel(self.h(X, self.thetas))\n",
      "        # following works only for binary classifiers, correct it for multiclass\n",
      "        return np.vstack((1-y_hat, y_hat)).T"
     ],
     "language": "python",
     "metadata": {},
     "outputs": [],
     "prompt_number": 5
    },
    {
     "cell_type": "heading",
     "level": 3,
     "metadata": {},
     "source": [
      "Test NeuralNetLearner"
     ]
    },
    {
     "cell_type": "code",
     "collapsed": false,
     "input": [
      "a = X_train[:1, :5]\n",
      "lr = NeuralNetLearner([a.shape[1], 4, 1])\n",
      "thetas = np.array( [1 for i in range(lr.theta_len)])"
     ],
     "language": "python",
     "metadata": {},
     "outputs": [],
     "prompt_number": 37
    },
    {
     "cell_type": "code",
     "collapsed": false,
     "input": [
      "print( \"Testing shape\\n\", lr.theta_shape)\n",
      "print( \"Testing indices\\n\", lr.theta_ind)\n",
      "print( \"Testing theta lenght\\n\", lr.theta_len)\n",
      "print( \"Testing theta shape\\n\", lr.shape_thetas( thetas))\n",
      "print( \"Testing feedforward\\n\", lr.feedforward(a, thetas))"
     ],
     "language": "python",
     "metadata": {},
     "outputs": [
      {
       "output_type": "stream",
       "stream": "stdout",
       "text": [
        "Testing shape\n",
        " [[6 4]\n",
        " [5 1]]\n",
        "Testing indices\n",
        " [24]\n",
        "Testing theta lenght\n",
        " 29\n",
        "Testing theta shape\n",
        " [ array([[1, 1, 1, 1],\n",
        "       [1, 1, 1, 1],\n",
        "       [1, 1, 1, 1],\n",
        "       [1, 1, 1, 1],\n",
        "       [1, 1, 1, 1],\n",
        "       [1, 1, 1, 1]])\n",
        " array([[1],\n",
        "       [1],\n",
        "       [1],\n",
        "       [1],\n",
        "       [1]])]\n",
        "(6, 4)\n",
        "(6,)\n",
        "(5, 1)\n",
        "(5,)\n",
        "Testing feedforward\n",
        " [array([ 0.74343278,  0.74343278,  0.74343278,  0.74343278])\n",
        " array([ 0.98154389])]\n"
       ]
      }
     ],
     "prompt_number": 38
    },
    {
     "cell_type": "heading",
     "level": 6,
     "metadata": {},
     "source": [
      "Testing 9 outputs"
     ]
    },
    {
     "cell_type": "code",
     "collapsed": false,
     "input": [
      "a = X_train[0, :5]\n",
      "lr = NeuralNetLearner([len(a), 3, 4, 9])\n",
      "thetas = np.array( [1 for i in range(lr.theta_len)])\n",
      "a = lr.feedforward(a, thetas)\n",
      "print( \"Testing feedforward\\n\", a)"
     ],
     "language": "python",
     "metadata": {},
     "outputs": [
      {
       "output_type": "stream",
       "stream": "stdout",
       "text": [
        "(6, 3)\n",
        "(6,)\n",
        "(4, 4)\n",
        "(4,)\n",
        "(5, 9)\n",
        "(5,)\n",
        "Testing feedforward\n",
        " [array([ 0.74343278,  0.74343278,  0.74343278])\n",
        " array([ 0.96195867,  0.96195867,  0.96195867,  0.96195867])\n",
        " array([ 0.99221572,  0.99221572,  0.99221572,  0.99221572,  0.99221572,\n",
        "        0.99221572,  0.99221572,  0.99221572,  0.99221572])]\n"
       ]
      }
     ],
     "prompt_number": 39
    },
    {
     "cell_type": "heading",
     "level": 6,
     "metadata": {},
     "source": [
      "Testing matrix input for feedforward"
     ]
    },
    {
     "cell_type": "code",
     "collapsed": false,
     "input": [
      "a = X_train[:3, :5]\n",
      "lr = NeuralNetLearner([a.shape[1], 4, 9])\n",
      "thetas = np.array( [1 for i in range(lr.theta_len)])\n",
      "a = lr.feedforward(a, thetas)\n",
      "print( \"Testing feedforward\\n\", a)"
     ],
     "language": "python",
     "metadata": {},
     "outputs": [
      {
       "output_type": "stream",
       "stream": "stdout",
       "text": [
        "(6, 4)\n",
        "(16,)"
       ]
      },
      {
       "output_type": "stream",
       "stream": "stdout",
       "text": [
        "\n"
       ]
      },
      {
       "ename": "ValueError",
       "evalue": "shapes (16,) and (6,4) not aligned: 16 (dim 0) != 6 (dim 0)",
       "output_type": "pyerr",
       "traceback": [
        "\u001b[1;31m---------------------------------------------------------------------------\u001b[0m\n\u001b[1;31mValueError\u001b[0m                                Traceback (most recent call last)",
        "\u001b[1;32m<ipython-input-40-f8087f1a5ec3>\u001b[0m in \u001b[0;36m<module>\u001b[1;34m()\u001b[0m\n\u001b[0;32m      2\u001b[0m \u001b[0mlr\u001b[0m \u001b[1;33m=\u001b[0m \u001b[0mNeuralNetLearner\u001b[0m\u001b[1;33m(\u001b[0m\u001b[1;33m[\u001b[0m\u001b[0ma\u001b[0m\u001b[1;33m.\u001b[0m\u001b[0mshape\u001b[0m\u001b[1;33m[\u001b[0m\u001b[1;36m1\u001b[0m\u001b[1;33m]\u001b[0m\u001b[1;33m,\u001b[0m \u001b[1;36m4\u001b[0m\u001b[1;33m,\u001b[0m \u001b[1;36m9\u001b[0m\u001b[1;33m]\u001b[0m\u001b[1;33m)\u001b[0m\u001b[1;33m\u001b[0m\u001b[0m\n\u001b[0;32m      3\u001b[0m \u001b[0mthetas\u001b[0m \u001b[1;33m=\u001b[0m \u001b[0mnp\u001b[0m\u001b[1;33m.\u001b[0m\u001b[0marray\u001b[0m\u001b[1;33m(\u001b[0m \u001b[1;33m[\u001b[0m\u001b[1;36m1\u001b[0m \u001b[1;32mfor\u001b[0m \u001b[0mi\u001b[0m \u001b[1;32min\u001b[0m \u001b[0mrange\u001b[0m\u001b[1;33m(\u001b[0m\u001b[0mlr\u001b[0m\u001b[1;33m.\u001b[0m\u001b[0mtheta_len\u001b[0m\u001b[1;33m)\u001b[0m\u001b[1;33m]\u001b[0m\u001b[1;33m)\u001b[0m\u001b[1;33m\u001b[0m\u001b[0m\n\u001b[1;32m----> 4\u001b[1;33m \u001b[0ma\u001b[0m \u001b[1;33m=\u001b[0m \u001b[0mlr\u001b[0m\u001b[1;33m.\u001b[0m\u001b[0mfeedforward\u001b[0m\u001b[1;33m(\u001b[0m\u001b[0ma\u001b[0m\u001b[1;33m,\u001b[0m \u001b[0mthetas\u001b[0m\u001b[1;33m)\u001b[0m\u001b[1;33m\u001b[0m\u001b[0m\n\u001b[0m\u001b[0;32m      5\u001b[0m \u001b[0mprint\u001b[0m\u001b[1;33m(\u001b[0m \u001b[1;34m\"Testing feedforward\\n\"\u001b[0m\u001b[1;33m,\u001b[0m \u001b[0ma\u001b[0m\u001b[1;33m)\u001b[0m\u001b[1;33m\u001b[0m\u001b[0m\n",
        "\u001b[1;32m<ipython-input-35-a7c71a331ad0>\u001b[0m in \u001b[0;36mfeedforward\u001b[1;34m(self, a, thetas)\u001b[0m\n\u001b[0;32m     31\u001b[0m             \u001b[0ma\u001b[0m \u001b[1;33m=\u001b[0m \u001b[0mnp\u001b[0m\u001b[1;33m.\u001b[0m\u001b[0mappend\u001b[0m\u001b[1;33m(\u001b[0m\u001b[1;36m1\u001b[0m\u001b[1;33m,\u001b[0m \u001b[0ma\u001b[0m\u001b[1;33m)\u001b[0m\u001b[1;33m\u001b[0m\u001b[0m\n\u001b[0;32m     32\u001b[0m             \u001b[0mprint\u001b[0m\u001b[1;33m(\u001b[0m\u001b[0ma\u001b[0m\u001b[1;33m.\u001b[0m\u001b[0mshape\u001b[0m\u001b[1;33m)\u001b[0m\u001b[1;33m\u001b[0m\u001b[0m\n\u001b[1;32m---> 33\u001b[1;33m             \u001b[0ma\u001b[0m \u001b[1;33m=\u001b[0m \u001b[0mself\u001b[0m\u001b[1;33m.\u001b[0m\u001b[0mg\u001b[0m\u001b[1;33m(\u001b[0m\u001b[0ma\u001b[0m\u001b[1;33m.\u001b[0m\u001b[0mdot\u001b[0m\u001b[1;33m(\u001b[0m\u001b[0mtheta\u001b[0m\u001b[1;33m)\u001b[0m\u001b[1;33m)\u001b[0m\u001b[1;33m\u001b[0m\u001b[0m\n\u001b[0m\u001b[0;32m     34\u001b[0m             \u001b[0mactivationsByLevel\u001b[0m\u001b[1;33m.\u001b[0m\u001b[0mappend\u001b[0m\u001b[1;33m(\u001b[0m\u001b[0ma\u001b[0m\u001b[1;33m)\u001b[0m\u001b[1;33m\u001b[0m\u001b[0m\n\u001b[0;32m     35\u001b[0m         \u001b[1;32mreturn\u001b[0m \u001b[0mnp\u001b[0m\u001b[1;33m.\u001b[0m\u001b[0marray\u001b[0m\u001b[1;33m(\u001b[0m\u001b[0mactivationsByLevel\u001b[0m\u001b[1;33m)\u001b[0m\u001b[1;33m\u001b[0m\u001b[0m\n",
        "\u001b[1;31mValueError\u001b[0m: shapes (16,) and (6,4) not aligned: 16 (dim 0) != 6 (dim 0)"
       ]
      }
     ],
     "prompt_number": 40
    },
    {
     "cell_type": "heading",
     "level": 6,
     "metadata": {},
     "source": [
      "Compute activations for each level"
     ]
    },
    {
     "cell_type": "code",
     "collapsed": false,
     "input": [
      "a = X_train[:1, :5]\n",
      "lr = NeuralNetLearner([a.shape[1], 4, 9])\n",
      "thetas = np.array( [1 for i in range(lr.theta_len)])\n",
      "a = lr.feedforward(a, thetas)\n",
      "print( \"Testing feedforward\\n\", a)"
     ],
     "language": "python",
     "metadata": {},
     "outputs": [
      {
       "output_type": "stream",
       "stream": "stdout",
       "text": [
        "(6, 4)\n",
        "(6,)\n",
        "(5, 9)\n",
        "(5,)\n",
        "Testing feedforward\n",
        " [array([ 0.74343278,  0.74343278,  0.74343278,  0.74343278])\n",
        " array([ 0.98154389,  0.98154389,  0.98154389,  0.98154389,  0.98154389,\n",
        "        0.98154389,  0.98154389,  0.98154389,  0.98154389])]\n"
       ]
      }
     ],
     "prompt_number": 42
    },
    {
     "cell_type": "code",
     "collapsed": false,
     "input": [
      "m = np.matrix([[2,2,3],[1,2,3], [1,2,3]])"
     ],
     "language": "python",
     "metadata": {},
     "outputs": [],
     "prompt_number": 6
    },
    {
     "cell_type": "code",
     "collapsed": false,
     "input": [
      "np.multiply(m, m)"
     ],
     "language": "python",
     "metadata": {},
     "outputs": [
      {
       "metadata": {},
       "output_type": "pyout",
       "prompt_number": 137,
       "text": [
        "matrix([[4, 4, 9],\n",
        "        [1, 4, 9],\n",
        "        [1, 4, 9]])"
       ]
      }
     ],
     "prompt_number": 137
    },
    {
     "cell_type": "heading",
     "level": 6,
     "metadata": {},
     "source": [
      "Test backprop"
     ]
    },
    {
     "cell_type": "code",
     "collapsed": false,
     "input": [
      "NUM_OF_CLASSES = 9\n",
      "class NeuralNetLearner():\n",
      "    def __init__(self, arch, g=sigmoid, lambda_=1e-5):\n",
      "        self.arch = arch\n",
      "        self.n_levels = len(arch)\n",
      "        self.g = g\n",
      "        self.lambda_ = lambda_\n",
      "        self.theta_shape = np.array([ ( arch[i] + 1, arch[i + 1]) for i in range( len( arch) - 1)])\n",
      "        ind = np.array( [ sh1 * sh2 for sh1, sh2 in self.theta_shape])\n",
      "        self.theta_ind = np.cumsum( ind[:-1])  # last index falls out of the boundary\n",
      "        self.theta_len = sum(ind)\n",
      "    \n",
      "    def init_thetas(self, epsilon=1e-5):\n",
      "        \"\"\"Return thetas with random values\"\"\"\n",
      "        return np.random.rand(self.theta_len) * 2 * epsilon - epsilon\n",
      "    \n",
      "    def shape_thetas(self, thetas):\n",
      "        \"\"\"Return list of thetas at particular level\"\"\"\n",
      "        t = np.split(thetas, self.theta_ind)\n",
      "        return np.array( [t[i].reshape(shape) for i, shape in enumerate(self.theta_shape)])\n",
      "    \n",
      "    def feedforward(self, a, thetas):\n",
      "        \"\"\"Feed forward, prediction, add ones to the end for bias\"\"\"\n",
      "        thetas = self.shape_thetas(thetas)\n",
      "        #######################################################\n",
      "        activationsByLevel = [a]\n",
      "        # compute from level 2, 3, 4 ... and store such\n",
      "        for theta in thetas:\n",
      "            #a = add_ones(a) if len(a.shape) == 2 else np.append(1, a)  \n",
      "            a = np.append(a, 1)\n",
      "            a = self.g(a.dot(theta))\n",
      "            activationsByLevel.append(a)\n",
      "        return np.array(activationsByLevel)\n",
      "    \n",
      "    def J(self, x_, y_bin, thetas):\n",
      "        # try for one example\n",
      "        return 1/2 * (self.feedforward(x_, thetas)[-1] - y_bin)**2\n",
      "\n",
      "    def Jgrad(self, x_,  y_bin, thetas):\n",
      "        errors, activations = self.backprop(x_, y_bin, thetas)\n",
      "        #grad = [0] * (self.n_levels-1)\n",
      "        grad = np.array([])\n",
      "        for l in range(self.n_levels-1):\n",
      "            #grad[l] = np.matrix(errors[l+1]).T.dot(np.matrix(activations[l])).T\n",
      "            grad = np.append(grad , np.matrix(errors[l+1]).T.dot(np.matrix(activations[l])).T)\n",
      "        return np.array(grad)\n",
      "        \n",
      "    def grad_approx(self, thetas, e=1e-1):\n",
      "        return np.array([(self.J(thetas+eps) - self.J(thetas-eps))/(2*e)\n",
      "                         for eps in np.identity(len(thetas)) * e])\n",
      "\n",
      "    \n",
      "    def backprop(self, x_, y_bin, thetas):\n",
      "        \"\"\"Add bias to the end\"\"\"\n",
      "        x = x_\n",
      "        y = y_bin\n",
      "        activations = self.feedforward( x, thetas)\n",
      "        thetas = self.shape_thetas( thetas)\n",
      "        # output error\n",
      "        err = - np.multiply( y - activations[-1],  np.multiply( activations[-1], 1-activations[-1])) \n",
      "               \n",
      "        errors = [0] * self.n_levels\n",
      "        errors[self.n_levels - 1] = err \n",
      "        \n",
      "        levels = list(range(1, self.n_levels-1))\n",
      "        for l in levels[::-1]:  # reverse\n",
      "            th_ = thetas[l] * np.matrix(errors[l + 1]).T\n",
      "            # don't remove bias\n",
      "            th_ = th_.T\n",
      "            \n",
      "            act = activations[l]  # ignore additional bias\n",
      "            ac_ = np.multiply( act, (1 - act))\n",
      "            ac_ = np.append( ac_, 1 )  # add bias\n",
      "            errors[l] = np.array( np.multiply( th_, ac_))[0]\n",
      "\n",
      "        return errors, activations\n",
      "\n",
      "    \n",
      "    def fit(self, X, y, W=None):\n",
      "        y = y-1  # y starts with 1, but we want to start with 0\n",
      "        self.X, self.y = X, y\n",
      "        self.Iy = np.identity(NUM_OF_CLASSES)  # for classification\n",
      "        self.y_bin = [ self.Iy[y] for y in self.y]\n",
      "        self.m = self.X.shape[0]    # number of samples\n",
      "        thetas = self.init_thetas()\n",
      "\n",
      "        #return self.backprop(self.X[0], self.y_bin[0], thetas)\n",
      "        return self.Jgrad(self.X[0], self.y_bin[0], thetas)\n",
      "        #thetas, fmin, info = fmin_l_bfgs_b(self.J, thetas, self.backprop,\n",
      "        #                                   callback=self.callback,\n",
      "        #                                   factr=10)\n",
      "        # we have local min \n",
      "        #model = NeuralNetClassifier(self.feedforward, thetas)\n",
      "        \n",
      "        #return model\n",
      "\n",
      "    def test(self, a):\n",
      "        thetas = np.array([-30, 10, 20, -20, 20, -20, -10, 20, 20])\n",
      "        print(self.h(a, thetas))"
     ],
     "language": "python",
     "metadata": {},
     "outputs": [],
     "prompt_number": 217
    },
    {
     "cell_type": "code",
     "collapsed": false,
     "input": [
      "X = X_train[:1, :5]\n",
      "y = y_train[:1]\n",
      "lr = NeuralNetLearner([X.shape[1], 2,  9])\n",
      "thetas = np.array( [1 for i in range(lr.theta_len)])\n",
      "r = lr.fit(X, y)"
     ],
     "language": "python",
     "metadata": {},
     "outputs": [],
     "prompt_number": 218
    },
    {
     "cell_type": "code",
     "collapsed": false,
     "input": [
      "r"
     ],
     "language": "python",
     "metadata": {},
     "outputs": [
      {
       "metadata": {},
       "output_type": "pyout",
       "prompt_number": 219,
       "text": [
        "array([ -5.17647944e-09,   3.34110808e-08,   6.15492615e-08,\n",
        "         0.00000000e+00,   0.00000000e+00,   0.00000000e+00,\n",
        "         0.00000000e+00,   0.00000000e+00,   0.00000000e+00,\n",
        "         0.00000000e+00,   0.00000000e+00,   0.00000000e+00,\n",
        "         0.00000000e+00,   0.00000000e+00,   0.00000000e+00,\n",
        "        -6.25000228e-02,   6.25000450e-02,   6.25003698e-02,\n",
        "         6.24996732e-02,   6.25003772e-02,   6.24999893e-02,\n",
        "         6.25002780e-02,   6.24998212e-02,   6.24998259e-02,\n",
        "        -6.25000782e-02,   6.25001004e-02,   6.25004253e-02,\n",
        "         6.24997287e-02,   6.25004327e-02,   6.25000448e-02,\n",
        "         6.25003334e-02,   6.24998766e-02,   6.24998813e-02])"
       ]
      }
     ],
     "prompt_number": 219
    },
    {
     "cell_type": "code",
     "collapsed": false,
     "input": [
      "r"
     ],
     "language": "python",
     "metadata": {},
     "outputs": [
      {
       "metadata": {},
       "output_type": "pyout",
       "prompt_number": 220,
       "text": [
        "array([ -5.17647944e-09,   3.34110808e-08,   6.15492615e-08,\n",
        "         0.00000000e+00,   0.00000000e+00,   0.00000000e+00,\n",
        "         0.00000000e+00,   0.00000000e+00,   0.00000000e+00,\n",
        "         0.00000000e+00,   0.00000000e+00,   0.00000000e+00,\n",
        "         0.00000000e+00,   0.00000000e+00,   0.00000000e+00,\n",
        "        -6.25000228e-02,   6.25000450e-02,   6.25003698e-02,\n",
        "         6.24996732e-02,   6.25003772e-02,   6.24999893e-02,\n",
        "         6.25002780e-02,   6.24998212e-02,   6.24998259e-02,\n",
        "        -6.25000782e-02,   6.25001004e-02,   6.25004253e-02,\n",
        "         6.24997287e-02,   6.25004327e-02,   6.25000448e-02,\n",
        "         6.25003334e-02,   6.24998766e-02,   6.24998813e-02])"
       ]
      }
     ],
     "prompt_number": 220
    },
    {
     "cell_type": "code",
     "collapsed": false,
     "input": [
      "np.reshape(r[0], (1, -1))"
     ],
     "language": "python",
     "metadata": {},
     "outputs": [
      {
       "metadata": {},
       "output_type": "pyout",
       "prompt_number": 188,
       "text": [
        "matrix([[  3.91282540e-08,   5.87690218e-08,   0.00000000e+00,\n",
        "           0.00000000e+00,   0.00000000e+00,   0.00000000e+00,\n",
        "           0.00000000e+00,   0.00000000e+00,   0.00000000e+00,\n",
        "           0.00000000e+00]])"
       ]
      }
     ],
     "prompt_number": 188
    },
    {
     "cell_type": "code",
     "collapsed": false,
     "input": [
      "np.asarray(r[0])"
     ],
     "language": "python",
     "metadata": {},
     "outputs": [
      {
       "metadata": {},
       "output_type": "pyout",
       "prompt_number": 187,
       "text": [
        "array([[  3.91282540e-08,   5.87690218e-08],\n",
        "       [  0.00000000e+00,   0.00000000e+00],\n",
        "       [  0.00000000e+00,   0.00000000e+00],\n",
        "       [  0.00000000e+00,   0.00000000e+00],\n",
        "       [  0.00000000e+00,   0.00000000e+00]])"
       ]
      }
     ],
     "prompt_number": 187
    },
    {
     "cell_type": "code",
     "collapsed": false,
     "input": [],
     "language": "python",
     "metadata": {},
     "outputs": []
    },
    {
     "cell_type": "code",
     "collapsed": false,
     "input": [
      "lr.backprop(X, thetas)"
     ],
     "language": "python",
     "metadata": {},
     "outputs": [
      {
       "ename": "NameError",
       "evalue": "name 'i' is not defined",
       "output_type": "pyerr",
       "traceback": [
        "\u001b[1;31m---------------------------------------------------------------------------\u001b[0m\n\u001b[1;31mNameError\u001b[0m                                 Traceback (most recent call last)",
        "\u001b[1;32m<ipython-input-48-9b8b5e0a08f5>\u001b[0m in \u001b[0;36m<module>\u001b[1;34m()\u001b[0m\n\u001b[1;32m----> 1\u001b[1;33m \u001b[0mlr\u001b[0m\u001b[1;33m.\u001b[0m\u001b[0mbackprop\u001b[0m\u001b[1;33m(\u001b[0m\u001b[0mX\u001b[0m\u001b[1;33m,\u001b[0m \u001b[0mthetas\u001b[0m\u001b[1;33m)\u001b[0m\u001b[1;33m\u001b[0m\u001b[0m\n\u001b[0m",
        "\u001b[1;32m<ipython-input-45-c1f6fc366a58>\u001b[0m in \u001b[0;36mbackprop\u001b[1;34m(self, x_, thetas)\u001b[0m\n\u001b[0;32m     57\u001b[0m         \u001b[0mstore\u001b[0m \u001b[1;33m=\u001b[0m \u001b[0mnp\u001b[0m\u001b[1;33m.\u001b[0m\u001b[0marray\u001b[0m\u001b[1;33m(\u001b[0m\u001b[1;33m[\u001b[0m\u001b[1;33m]\u001b[0m\u001b[1;33m)\u001b[0m\u001b[1;33m\u001b[0m\u001b[0m\n\u001b[0;32m     58\u001b[0m         \u001b[0mx\u001b[0m \u001b[1;33m=\u001b[0m \u001b[0mx_\u001b[0m\u001b[1;33m\u001b[0m\u001b[0m\n\u001b[1;32m---> 59\u001b[1;33m         \u001b[0my\u001b[0m \u001b[1;33m=\u001b[0m \u001b[0mself\u001b[0m\u001b[1;33m.\u001b[0m\u001b[0my_bin\u001b[0m\u001b[1;33m[\u001b[0m\u001b[0mi\u001b[0m\u001b[1;33m]\u001b[0m\u001b[1;33m\u001b[0m\u001b[0m\n\u001b[0m\u001b[0;32m     60\u001b[0m         \u001b[0mactivations\u001b[0m \u001b[1;33m=\u001b[0m \u001b[0mself\u001b[0m\u001b[1;33m.\u001b[0m\u001b[0mfeedforward\u001b[0m\u001b[1;33m(\u001b[0m \u001b[0mx\u001b[0m\u001b[1;33m,\u001b[0m \u001b[0mthetas\u001b[0m\u001b[1;33m)\u001b[0m\u001b[1;33m\u001b[0m\u001b[0m\n\u001b[0;32m     61\u001b[0m         \u001b[0mthetas\u001b[0m \u001b[1;33m=\u001b[0m \u001b[0mself\u001b[0m\u001b[1;33m.\u001b[0m\u001b[0mshape_thetas\u001b[0m\u001b[1;33m(\u001b[0m \u001b[0mthetas\u001b[0m\u001b[1;33m)\u001b[0m\u001b[1;33m\u001b[0m\u001b[0m\n",
        "\u001b[1;31mNameError\u001b[0m: name 'i' is not defined"
       ]
      }
     ],
     "prompt_number": 48
    },
    {
     "cell_type": "code",
     "collapsed": false,
     "input": [
      "# Matricno\n",
      "\n",
      "X = X_train[:1, :5]\n",
      "y = y_train[:1]\n",
      "lr = NeuralNetLearner([X.shape[1], 3, 2, 2,  9])\n",
      "thetas = np.array( [1 for i in range(lr.theta_len)])\n",
      "lr.fit(X, y)\n",
      "lr.backprop2(thetas)"
     ],
     "language": "python",
     "metadata": {},
     "outputs": [
      {
       "metadata": {},
       "output_type": "pyout",
       "prompt_number": 12,
       "text": [
        "array([[ 0.04952076,  0.04952076,  0.04952076,  0.04952076,  0.04952076,\n",
        "         0.04952076,  0.04952076,  0.04952076,  0.04952076]])"
       ]
      }
     ],
     "prompt_number": 12
    },
    {
     "cell_type": "code",
     "collapsed": false,
     "input": [],
     "language": "python",
     "metadata": {},
     "outputs": [],
     "prompt_number": 29
    },
    {
     "cell_type": "code",
     "collapsed": false,
     "input": [
      "X"
     ],
     "language": "python",
     "metadata": {},
     "outputs": [
      {
       "metadata": {},
       "output_type": "pyout",
       "prompt_number": 30,
       "text": [
        "array([[ 0.06388766,  0.        ,  0.        ,  0.        ,  0.        ]])"
       ]
      }
     ],
     "prompt_number": 30
    },
    {
     "cell_type": "code",
     "collapsed": false,
     "input": [],
     "language": "python",
     "metadata": {},
     "outputs": []
    }
   ],
   "metadata": {}
  }
 ]
}