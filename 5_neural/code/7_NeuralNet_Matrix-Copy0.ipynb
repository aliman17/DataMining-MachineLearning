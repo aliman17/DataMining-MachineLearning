{
 "metadata": {
  "name": "",
  "signature": "sha256:32abb0641deb063832e5d4035179855ec113940e8286231d1f24a6ac19ccd891"
 },
 "nbformat": 3,
 "nbformat_minor": 0,
 "worksheets": [
  {
   "cells": [
    {
     "cell_type": "code",
     "collapsed": false,
     "input": [
      "from scipy.optimize import fmin_l_bfgs_b\n",
      "from sklearn import cross_validation\n",
      "from sklearn import preprocessing\n",
      "from sklearn import decomposition\n",
      "from sklearn import datasets\n",
      "import numpy as np\n",
      "import scipy as sp\n",
      "import random\n",
      "import time"
     ],
     "language": "python",
     "metadata": {},
     "outputs": [],
     "prompt_number": 1
    },
    {
     "cell_type": "heading",
     "level": 3,
     "metadata": {},
     "source": [
      "Load Data"
     ]
    },
    {
     "cell_type": "code",
     "collapsed": false,
     "input": [
      "NUM_OF_CLASSES = 0\n",
      "def load_data1():\n",
      "    \"\"\"Load keggle\"\"\"\n",
      "    global NUM_OF_CLASSES\n",
      "    X_train = np.loadtxt(open(\"../data/train.csv\",\"rb\"),delimiter=\",\",skiprows=1, usecols=range(1,94))\n",
      "    X_test = np.loadtxt(open(\"../data/test.csv\",\"rb\"),delimiter=\",\",skiprows=1, usecols=range(1,94))\n",
      "    \n",
      "    y_train = np.loadtxt(open(\"../data/train.csv\",\"rb\"),dtype=str,delimiter=\",\",skiprows=1, usecols=[94])\n",
      "    y_train = np.array([int(c[-2])-1 for c in y_train])  # Parse classes from Class_1 into 1\n",
      "    return X_train, y_train, X_test\n",
      "\n",
      "def load_data2():\n",
      "    \"\"\"Load iris\"\"\"\n",
      "    iris = datasets.load_iris()\n",
      "    X_train = iris.data\n",
      "    y_train = iris.target.T\n",
      "    return X_train, y_train, None"
     ],
     "language": "python",
     "metadata": {},
     "outputs": [],
     "prompt_number": 2
    },
    {
     "cell_type": "code",
     "collapsed": false,
     "input": [
      "data = 1\n",
      "if data == 1:\n",
      "    X_train, Y_train, X_test = load_data1()\n",
      "else:\n",
      "    X_train, Y_train, X_test = load_data2()"
     ],
     "language": "python",
     "metadata": {},
     "outputs": [],
     "prompt_number": 3
    },
    {
     "cell_type": "code",
     "collapsed": false,
     "input": [
      "NUM_OF_CLASSES = len( np.unique(Y_train))"
     ],
     "language": "python",
     "metadata": {},
     "outputs": [],
     "prompt_number": 4
    },
    {
     "cell_type": "heading",
     "level": 3,
     "metadata": {},
     "source": [
      "Preprocesse Data"
     ]
    },
    {
     "cell_type": "code",
     "collapsed": false,
     "input": [
      "def shuffle(X, Y):\n",
      "    ind = np.array(list(range(X.shape[0])))\n",
      "    np.random.shuffle(ind)\n",
      "    X = np.array( [ X[i] for i in ind] )\n",
      "    Y = np.array( [ Y[i] for i in ind] )\n",
      "    return X, Y"
     ],
     "language": "python",
     "metadata": {},
     "outputs": [],
     "prompt_number": 5
    },
    {
     "cell_type": "code",
     "collapsed": false,
     "input": [
      "X_train, Y_train = shuffle(X_train, Y_train)"
     ],
     "language": "python",
     "metadata": {},
     "outputs": [],
     "prompt_number": 6
    },
    {
     "cell_type": "code",
     "collapsed": false,
     "input": [
      "def binaryClassRepresentation(Y):\n",
      "    \"\"\" Class 1 write as 1,0,0,0,0,0,0,0,0, class 2 write as 0,1,0,0,0,0,0,0,0, ... \"\"\"\n",
      "    I = np.identity(NUM_OF_CLASSES)\n",
      "    Y = np.array( [ I[y] for y in Y])\n",
      "    return Y"
     ],
     "language": "python",
     "metadata": {},
     "outputs": [],
     "prompt_number": 7
    },
    {
     "cell_type": "code",
     "collapsed": false,
     "input": [
      "Y_train = binaryClassRepresentation(Y_train)"
     ],
     "language": "python",
     "metadata": {},
     "outputs": [],
     "prompt_number": 8
    },
    {
     "cell_type": "heading",
     "level": 3,
     "metadata": {},
     "source": [
      "Helper functions"
     ]
    },
    {
     "cell_type": "code",
     "collapsed": false,
     "input": [
      "def add_ones(X):\n",
      "    return np.column_stack((X, np.ones(X.shape[0])))\n",
      "\n",
      "def add_one(X):\n",
      "    return np.append(X, 1)\n",
      "\n",
      "def add_zero(X):\n",
      "    return np.append(X, 0)\n",
      "\n",
      "def del_one(X):\n",
      "    return X[:-1]\n",
      "\n",
      "from sklearn import metrics\n",
      "\n",
      "def evaluate(pred, real):\n",
      "    return metrics.log_loss(real, pred)"
     ],
     "language": "python",
     "metadata": {},
     "outputs": [],
     "prompt_number": 9
    },
    {
     "cell_type": "heading",
     "level": 6,
     "metadata": {},
     "source": [
      "Sigmoid"
     ]
    },
    {
     "cell_type": "code",
     "collapsed": false,
     "input": [
      "def sigmoid(z):\n",
      "    return 1/(1+np.exp(-z))\n",
      "\n",
      "def sigmoid_derivative(z):\n",
      "    return np.multiply(z , 1 - z)"
     ],
     "language": "python",
     "metadata": {},
     "outputs": [],
     "prompt_number": 10
    },
    {
     "cell_type": "heading",
     "level": 6,
     "metadata": {},
     "source": [
      "Tansigmoid"
     ]
    },
    {
     "cell_type": "code",
     "collapsed": false,
     "input": [
      "def tansigmoid(z):\n",
      "    return ( np.exp(z) - np.exp(-z) ) / (np.exp(z) + np.exp(-z))\n",
      "\n",
      "def tansigmoid_derivative(z):\n",
      "    return 1 - tansigmoid(z)**2"
     ],
     "language": "python",
     "metadata": {},
     "outputs": [],
     "prompt_number": 11
    },
    {
     "cell_type": "heading",
     "level": 6,
     "metadata": {},
     "source": [
      "Arctan"
     ]
    },
    {
     "cell_type": "code",
     "collapsed": false,
     "input": [
      "# Trying to make our own function\n",
      "def arctan(z):\n",
      "    return np.arctan(2*z) / np.pi + 1/2\n",
      "\n",
      "def arctan_derivative(z):\n",
      "    return 2 / (((2*z)**2 + 1) * np.pi)"
     ],
     "language": "python",
     "metadata": {},
     "outputs": [],
     "prompt_number": 12
    },
    {
     "cell_type": "heading",
     "level": 6,
     "metadata": {},
     "source": [
      "Test"
     ]
    },
    {
     "cell_type": "code",
     "collapsed": false,
     "input": [
      "def grad_approx(J, thetas, e=1e-5):\n",
      "        return np.array([(J(thetas+eps) - J(thetas-eps))/(2*e)\n",
      "                         for eps in np.identity(len(thetas)) * e])\n",
      "    \n",
      "m = np.array([1,2,3])"
     ],
     "language": "python",
     "metadata": {},
     "outputs": [],
     "prompt_number": 13
    },
    {
     "cell_type": "code",
     "collapsed": false,
     "input": [
      "print(\"tansigmoid error\", tansigmoid_derivative(m) - grad_approx(tansigmoid, m).diagonal())\n",
      "print(\"arctan error\", arctan_derivative(m) - grad_approx(arctan, m).diagonal())"
     ],
     "language": "python",
     "metadata": {},
     "outputs": [
      {
       "output_type": "stream",
       "stream": "stdout",
       "text": [
        "tansigmoid error [ -1.15246146e-11  -9.51938528e-12   5.97277783e-12]\n",
        "arctan error [ -6.15821283e-12  -2.79085088e-12   4.11880252e-12]\n"
       ]
      }
     ],
     "prompt_number": 14
    },
    {
     "cell_type": "heading",
     "level": 3,
     "metadata": {},
     "source": [
      "Learner"
     ]
    },
    {
     "cell_type": "code",
     "collapsed": false,
     "input": [
      "class NeuralNetLearner():\n",
      "    def __init__(self, arch, g=sigmoid, g_derivative=sigmoid_derivative, lambda_=1e-4, maxiter=1, learning_rate=1, dropout=0.1, lbfgs=True):\n",
      "        self.arch = arch\n",
      "        self.g = g\n",
      "        self.g_derivative = g_derivative\n",
      "        self.lambda_ = lambda_\n",
      "        self.maxiter = maxiter\n",
      "        self.learning_rate = learning_rate\n",
      "        self.dropout = dropout\n",
      "        \n",
      "        self.n_levels = len(arch)\n",
      "        \n",
      "        self.theta_shape = [ ( arch[i] + 1, arch[i + 1]) for i in range( len( arch) - 1)]\n",
      "        ind = [ sh1 * sh2 for sh1, sh2 in self.theta_shape]\n",
      "        self.theta_ind = np.cumsum( ind[:-1])  # last index falls out of the boundary\n",
      "        self.theta_len = sum(ind)\n",
      "        self.lbfgs = lbfgs\n",
      "        \n",
      "    \n",
      "    def init_thetas(self, epsilon=1e-1):\n",
      "        \"\"\"Return thetas with random values\"\"\"\n",
      "        #np.random.seed(42)\n",
      "        return np.random.rand(self.theta_len) * 2 * epsilon - epsilon\n",
      "    \n",
      "    \n",
      "    def shape_thetas(self, thetas):\n",
      "        \"\"\"Return list of thetas at particular level\"\"\"\n",
      "        t = np.split(thetas, self.theta_ind)\n",
      "        return [t[i].reshape(shape) for i, \n",
      "                          shape in enumerate(self.theta_shape)]\n",
      "    \n",
      "    \n",
      "    def add_ones(self, X):\n",
      "        return np.column_stack((X, np.ones(X.shape[0])))\n",
      "    \n",
      "    \n",
      "    def del_ones(self, X):\n",
      "        return X[:, :-1]\n",
      "    \n",
      "    \n",
      "    def feedforward(self, a_, thetas):\n",
      "        \"\"\"Feed forward, prediction, add ones to the end for bias\"\"\"\n",
      "        thetas = self.shape_thetas(thetas)\n",
      "        activations = [0] * self.n_levels\n",
      "        activations[0] = a_\n",
      "        for i in range(self.n_levels - 1): \n",
      "            activations[i+1] = self.g(np.dot(add_one(activations[i]), thetas[i]))\n",
      "        return activations\n",
      "    \n",
      "    \n",
      "    def feedforwardMatrix(self, A, thetas):\n",
      "        \"\"\"Feed forward, prediction, add ones to the end for bias\"\"\"\n",
      "        thetas = self.shape_thetas(thetas)\n",
      "        activations = [0] * self.n_levels\n",
      "        activations[0] = A\n",
      "        for i in range(self.n_levels - 1): \n",
      "            activations[i+1] = self.g(self.add_ones(activations[i]).dot(thetas[i]))\n",
      "        return activations\n",
      "    \n",
      "    \n",
      "    def backprop(self, x_, y_, thetas):\n",
      "        \"\"\"Add bias to the end\"\"\"\n",
      "        # Compute activations for each level. It includes first level too\n",
      "        activations = self.feedforward( x_, thetas)\n",
      "        # Compute error at the last level\n",
      "        err = - np.multiply( y_ - activations[-1],  \n",
      "                             self.g_derivative( activations[-1])) \n",
      "        # Prepare space for computing errors on all layers and insert output level\n",
      "        errors = [0] * self.n_levels\n",
      "        errors[self.n_levels - 1] = err \n",
      "        # Reshape thetas\n",
      "        thetas = self.shape_thetas( thetas)\n",
      "        # Compute errors on hidden layers and input layer. Start from behind\n",
      "        for l in range(self.n_levels - 2, -1, -1):  \n",
      "            th_ = err.dot(thetas[l].T) \n",
      "            ac_ = add_one( activations[l] ) # add bias\n",
      "            ac_ = np.multiply( ac_, (1 - ac_))\n",
      "            errors[l] = np.multiply( th_, ac_)\n",
      "            err = del_one(errors[l])\n",
      "\n",
      "        return errors, activations\n",
      "    \n",
      "    \n",
      "    def backpropMatrix(self, X, Y, thetas):\n",
      "        \"\"\"Add bias to the end\"\"\"\n",
      "        # Compute activations for each level. It includes first level too\n",
      "        activations = self.feedforwardMatrix( X, thetas)\n",
      "        # Compute error at the last level\n",
      "        err = - np.multiply( Y - activations[-1],  \n",
      "                             self.g_derivative( activations[-1])) \n",
      "        # Prepare space for computing errors on all layers and insert output level\n",
      "        errors = [0] * self.n_levels\n",
      "        errors[self.n_levels - 1] = err \n",
      "        # Reshape thetas\n",
      "        thetas = self.shape_thetas( thetas)\n",
      "        # Compute errors on hidden layers and input layer. Start from behind\n",
      "        for l in range(self.n_levels - 2, 0, -1):\n",
      "            new_err = err.dot(thetas[l].T) \n",
      "            act = self.add_ones( activations[l] ) # add bias\n",
      "            act = self.g_derivative( act )\n",
      "            errors[l] = np.multiply( new_err, act)\n",
      "            err = errors[l]\n",
      "            err = self.del_ones(errors[l])\n",
      "\n",
      "        return errors, activations\n",
      "    \n",
      "    \n",
      "    def l2_reg( self, thetas):\n",
      "        \"\"\"Regularization\"\"\"\n",
      "        thetas2 = thetas * thetas\n",
      "        thetas2 = self.shape_thetas( thetas2)\n",
      "        sum_ = 0\n",
      "        for levelthetas in thetas2:\n",
      "            for i in range( levelthetas.shape[0] - 1):\n",
      "                sum_ += np.sum( levelthetas[i])\n",
      "        return sum_ * self.lambda_ / 2\n",
      "    \n",
      "    \n",
      "    def l2_reg_grad( self, thetas):\n",
      "        \"\"\"Gradient of regularization\"\"\"\n",
      "        thetasModified = np.array(self.shape_thetas( thetas))\n",
      "        for i in range( len( thetasModified)):\n",
      "            thetasModified[i][-1] *= 0\n",
      "        return self.lambda_ * thetasModified\n",
      "    \n",
      "    \n",
      "    # TODO self.m, self.X, self.Y, self.lambda_\n",
      "    def J(self, thetas):\n",
      "        \"\"\"Cost funciton\"\"\"\n",
      "        sum_ = 0\n",
      "        m = self.X.shape[0]\n",
      "        for i in range( m):\n",
      "            sum_ += 1/(2*m) * np.sum( np.square( self.feedforward( self.X[i], thetas)[-1] - self.Y[i])) \n",
      "        sum_ = sum_ + self.l2_reg( thetas)\n",
      "        return sum_\n",
      "\n",
      "    \n",
      "    def Jgrad(self, thetas):\n",
      "        \"\"\"Gradient\"\"\"\n",
      "        m = self.X.shape[0]\n",
      "        errorsANDactivations = [ self.backprop( self.X[i], self.Y[i], thetas) for i in range(self.X.shape[0])]\n",
      "        grad = [0] * (self.n_levels-1)\n",
      "        for errors, activations in errorsANDactivations:\n",
      "            for l in range(self.n_levels-1):\n",
      "                err = del_one(errors[l+1]) if l != self.n_levels-2 else errors[l+1]\n",
      "                cur_grad = np.matrix(add_one(activations[l])).T.dot(np.matrix(err))\n",
      "                grad[l] = grad[l] + cur_grad\n",
      "        \n",
      "        grad = np.array(grad) / m + self.l2_reg_grad( thetas)\n",
      "        flatten = np.array([])\n",
      "        for matrix in grad:\n",
      "            flatten = np.append(flatten, matrix.ravel())\n",
      "        return flatten\n",
      "    \n",
      "    \n",
      "    def JgradMatrix(self, thetas):\n",
      "        \"\"\"Gradient\"\"\"\n",
      "        m = self.X.shape[0]\n",
      "        errors, activations = self.backpropMatrix( self.X, self.Y, thetas)     \n",
      "        grad = [0] * (self.n_levels-1)\n",
      "        for i in range(m):\n",
      "            for l in range(self.n_levels-1):\n",
      "                err = del_one(errors[l+1][i]) if l != self.n_levels-2 else errors[l+1][i]\n",
      "                cur_grad = np.matrix(add_one(activations[l][i])).T.dot(np.matrix(err))\n",
      "                grad[l] = grad[l] + cur_grad\n",
      "        \n",
      "        grad = np.array(grad) / m + self.l2_reg_grad( thetas)\n",
      "        flatten = np.array([])\n",
      "        for matrix in grad:\n",
      "            flatten = np.append(flatten, matrix.ravel())\n",
      "        return flatten\n",
      "    \n",
      "    \n",
      "    def fit(self, X, Y, thetas=None):\n",
      "        \n",
      "        self.norm = preprocessing.Normalizer()\n",
      "        self.X = self.norm.fit_transform(X)\n",
      "        self.Y = Y\n",
      "        self.thetas = thetas if thetas != None else self.init_thetas() \n",
      "            \n",
      "        if self.lbfgs:\n",
      "            self.thetas, fmin, info = fmin_l_bfgs_b(func = self.J,\n",
      "                                          x0 = self.thetas,\n",
      "                                           fprime = self.JgradMatrix,\n",
      "                                           #maxiter=self.maxiter,\n",
      "                                           #factr=10\n",
      "                                           )   \n",
      "            print(\"info:\", info)\n",
      "        else:\n",
      "            grad = self.JgradMatrix(self.thetas)\n",
      "            grad = np.array([g if random.random() > self.dropout else 0 for g in grad])\n",
      "            self.thetas = self.thetas - self.learning_rate * grad\n",
      "        #print(\"Cur err:\", evaluate(self.predict(X[-1]), Y[-1]))\n",
      "        return self.thetas\n",
      "    \n",
      "    def predict(self, X):\n",
      "        X = self.norm.transform(X)\n",
      "        return np.array( [ self.feedforward(x_, self.thetas)[-1] for x_ in X])\n",
      "    \n",
      "    def get_params(self, *args, **argss):\n",
      "        return {'arch':self.arch, 'g':self.g,\n",
      "                'g_derivative': self.g_derivative,\n",
      "                'lambda_':self.lambda_,\n",
      "                'maxiter':self.maxiter,\n",
      "                'learning_rate':self.learning_rate,\n",
      "                'dropout':self.dropout,\n",
      "                'lbfgs':self.lbfgs}\n",
      "                    \n",
      "    def predict_proba(self, X):\n",
      "        return self.predict(X)\n",
      "    "
     ],
     "language": "python",
     "metadata": {},
     "outputs": [],
     "prompt_number": 33
    },
    {
     "cell_type": "heading",
     "level": 6,
     "metadata": {},
     "source": [
      "Test feed forward and cost function"
     ]
    },
    {
     "cell_type": "code",
     "collapsed": false,
     "input": [
      "# Test feed forward OK\n",
      "\n",
      "threshold = 1\n",
      "lenght = 4\n",
      "\n",
      "X = X_train[0:threshold, :lenght]\n",
      "Y = Y_train[0:threshold]\n",
      "lr = NeuralNetLearner([X.shape[1], 2,  NUM_OF_CLASSES]) \n",
      "thetas = np.array([1.5] * lr.theta_len)\n",
      "print( \"Test feedforward:\\n\", lr.feedforward(X, thetas))"
     ],
     "language": "python",
     "metadata": {},
     "outputs": [
      {
       "output_type": "stream",
       "stream": "stdout",
       "text": [
        "Test feedforward:\n",
        " [array([[ 0.,  0.,  0.,  0.]]), array([ 0.81757448,  0.81757448]), array([ 0.98115945,  0.98115945,  0.98115945,  0.98115945,  0.98115945,\n",
        "        0.98115945,  0.98115945,  0.98115945,  0.98115945])]\n"
       ]
      }
     ],
     "prompt_number": 16
    },
    {
     "cell_type": "code",
     "collapsed": false,
     "input": [
      "# Test feed forward matrix OK\n",
      "\n",
      "threshold = 1\n",
      "lenght = 4\n",
      "\n",
      "X = X_train[0:threshold, :lenght]\n",
      "Y = Y_train[0:threshold]\n",
      "lr = NeuralNetLearner([X.shape[1], 2,  NUM_OF_CLASSES]) \n",
      "thetas = np.array([1.5] * lr.theta_len)\n",
      "print( \"Test feedforward:\\n\", lr.feedforwardMatrix(X, thetas))"
     ],
     "language": "python",
     "metadata": {},
     "outputs": [
      {
       "output_type": "stream",
       "stream": "stdout",
       "text": [
        "Test feedforward:\n",
        " [array([[ 0.,  0.,  0.,  0.]]), array([[ 0.81757448,  0.81757448]]), array([[ 0.98115945,  0.98115945,  0.98115945,  0.98115945,  0.98115945,\n",
        "         0.98115945,  0.98115945,  0.98115945,  0.98115945]])]\n"
       ]
      }
     ],
     "prompt_number": 17
    },
    {
     "cell_type": "code",
     "collapsed": false,
     "input": [
      "# Test regularization OK\n",
      "\n",
      "threshold = 1\n",
      "lenght = 4\n",
      "\n",
      "X = X_train[0:threshold, :lenght]\n",
      "Y = Y_train[0:threshold]\n",
      "lr = NeuralNetLearner([X.shape[1], 2,  NUM_OF_CLASSES]) \n",
      "lr.lambda_ = 1e-5\n",
      "thetas = np.array([1.5] * lr.theta_len)\n",
      "lr.l2_reg(thetas)"
     ],
     "language": "python",
     "metadata": {},
     "outputs": [
      {
       "metadata": {},
       "output_type": "pyout",
       "prompt_number": 18,
       "text": [
        "0.00029250000000000001"
       ]
      }
     ],
     "prompt_number": 18
    },
    {
     "cell_type": "code",
     "collapsed": false,
     "input": [
      "# Test cost function OK\n",
      "\n",
      "threshold = 1\n",
      "lenght = 4\n",
      "\n",
      "X = X_train[0:threshold, :lenght]\n",
      "Y = Y_train[0:threshold]\n",
      "lr = NeuralNetLearner([X.shape[1], 2,  NUM_OF_CLASSES]) \n",
      "thetas = np.array([1.5] * lr.theta_len)\n",
      "lr.X = X\n",
      "lr.Y = Y\n",
      "print( \"Cost function:\", lr.J(thetas))"
     ],
     "language": "python",
     "metadata": {},
     "outputs": [
      {
       "output_type": "stream",
       "stream": "stdout",
       "text": [
        "Cost function: 3.85379793484\n"
       ]
      }
     ],
     "prompt_number": 19
    },
    {
     "cell_type": "heading",
     "level": 6,
     "metadata": {},
     "source": [
      "Test backprop and gradient"
     ]
    },
    {
     "cell_type": "code",
     "collapsed": false,
     "input": [
      "threshold = 1\n",
      "lenght = 4\n",
      "\n",
      "X = X_train[0:threshold, :lenght]\n",
      "Y = Y_train[0:threshold]\n",
      "lr = NeuralNetLearner([X.shape[1], 2,  NUM_OF_CLASSES]) \n",
      "thetas = np.array([1.5] * lr.theta_len)\n",
      "lr.X = X\n",
      "lr.Y = Y\n",
      "lr.backpropMatrix(X, Y, thetas)"
     ],
     "language": "python",
     "metadata": {},
     "outputs": [
      {
       "metadata": {},
       "output_type": "pyout",
       "prompt_number": 20,
       "text": [
        "([0,\n",
        "  array([[ 0.03238346,  0.03238346,  0.        ]]),\n",
        "  array([[ 0.01813731,  0.01813731,  0.01813731,  0.01813731, -0.00034828,\n",
        "           0.01813731,  0.01813731,  0.01813731,  0.01813731]])],\n",
        " [array([[ 0.,  0.,  0.,  0.]]),\n",
        "  array([[ 0.81757448,  0.81757448]]),\n",
        "  array([[ 0.98115945,  0.98115945,  0.98115945,  0.98115945,  0.98115945,\n",
        "           0.98115945,  0.98115945,  0.98115945,  0.98115945]])])"
       ]
      }
     ],
     "prompt_number": 20
    },
    {
     "cell_type": "code",
     "collapsed": false,
     "input": [
      "# Test Jgrad OK\n",
      "\n",
      "threshold = 1\n",
      "lenght = 4\n",
      "\n",
      "X = X_train[0:threshold, :lenght]\n",
      "Y = Y_train[0:threshold]\n",
      "lr = NeuralNetLearner([X.shape[1], 2,  NUM_OF_CLASSES]) \n",
      "thetas = np.array([1.5] * lr.theta_len)\n",
      "lr.X = X\n",
      "lr.Y = Y\n",
      "print( \"grad =\", lr.Jgrad(thetas))  # = -2.310293595541139e-12"
     ],
     "language": "python",
     "metadata": {},
     "outputs": [
      {
       "output_type": "stream",
       "stream": "stdout",
       "text": [
        "grad = [ 0.00015     0.00015     0.00015     0.00015     0.00015     0.00015\n",
        "  0.00015     0.00015     0.03238346  0.03238346  0.0149786   0.0149786\n",
        "  0.0149786   0.0149786  -0.00013474  0.0149786   0.0149786   0.0149786\n",
        "  0.0149786   0.0149786   0.0149786   0.0149786   0.0149786  -0.00013474\n",
        "  0.0149786   0.0149786   0.0149786   0.0149786   0.01813731  0.01813731\n",
        "  0.01813731  0.01813731 -0.00034828  0.01813731  0.01813731  0.01813731\n",
        "  0.01813731]\n"
       ]
      }
     ],
     "prompt_number": 21
    },
    {
     "cell_type": "code",
     "collapsed": false,
     "input": [
      "def grad_approx(lr, thetas, e=1e-4):\n",
      "    \"\"\"Aproximation\"\"\"\n",
      "    return np.array([(lr.J(thetas+eps) - lr.J(thetas-eps))/(2*e)\n",
      "                     for eps in np.identity(len(thetas)) * e]).ravel()"
     ],
     "language": "python",
     "metadata": {},
     "outputs": [],
     "prompt_number": 22
    },
    {
     "cell_type": "code",
     "collapsed": false,
     "input": [
      "# Test grad aprox OK\n",
      "\n",
      "threshold = 1\n",
      "lenght = 4\n",
      "\n",
      "X = X_train[0:threshold, :lenght]\n",
      "Y = Y_train[0:threshold]\n",
      "lr = NeuralNetLearner([X.shape[1], 2,  NUM_OF_CLASSES]) \n",
      "thetas = np.array([1.5] * lr.theta_len)\n",
      "lr.X = X\n",
      "lr.Y = Y\n",
      "print( \"grad =\\n\", grad_approx(lr, thetas))  # = -2.310293595541139e-12"
     ],
     "language": "python",
     "metadata": {},
     "outputs": [
      {
       "output_type": "stream",
       "stream": "stdout",
       "text": [
        "grad =\n",
        " [ 0.00015     0.00015     0.00015     0.00015     0.00015     0.00015\n",
        "  0.00015     0.00015     0.03238346  0.03238346  0.0149786   0.0149786\n",
        "  0.0149786   0.0149786  -0.00013474  0.0149786   0.0149786   0.0149786\n",
        "  0.0149786   0.0149786   0.0149786   0.0149786   0.0149786  -0.00013474\n",
        "  0.0149786   0.0149786   0.0149786   0.0149786   0.01813731  0.01813731\n",
        "  0.01813731  0.01813731 -0.00034828  0.01813731  0.01813731  0.01813731\n",
        "  0.01813731]\n"
       ]
      }
     ],
     "prompt_number": 23
    },
    {
     "cell_type": "heading",
     "level": 6,
     "metadata": {},
     "source": [
      "JgradMatrix"
     ]
    },
    {
     "cell_type": "code",
     "collapsed": false,
     "input": [
      "lr = NeuralNetLearner([X.shape[1], 2,  NUM_OF_CLASSES]) \n",
      "thetas = np.array([1.5] * lr.theta_len)\n",
      "lr.X = X\n",
      "lr.Y = Y\n",
      "lr.JgradMatrix(thetas)"
     ],
     "language": "python",
     "metadata": {},
     "outputs": [
      {
       "metadata": {},
       "output_type": "pyout",
       "prompt_number": 24,
       "text": [
        "array([ 0.00015   ,  0.00015   ,  0.00015   ,  0.00015   ,  0.00015   ,\n",
        "        0.00015   ,  0.00015   ,  0.00015   ,  0.03238346,  0.03238346,\n",
        "        0.0149786 ,  0.0149786 ,  0.0149786 ,  0.0149786 , -0.00013474,\n",
        "        0.0149786 ,  0.0149786 ,  0.0149786 ,  0.0149786 ,  0.0149786 ,\n",
        "        0.0149786 ,  0.0149786 ,  0.0149786 , -0.00013474,  0.0149786 ,\n",
        "        0.0149786 ,  0.0149786 ,  0.0149786 ,  0.01813731,  0.01813731,\n",
        "        0.01813731,  0.01813731, -0.00034828,  0.01813731,  0.01813731,\n",
        "        0.01813731,  0.01813731])"
       ]
      }
     ],
     "prompt_number": 24
    },
    {
     "cell_type": "code",
     "collapsed": false,
     "input": [
      "lr = NeuralNetLearner([X.shape[1], 2,  NUM_OF_CLASSES]) \n",
      "thetas = np.array([1.5] * lr.theta_len)\n",
      "lr.X = X\n",
      "lr.Y = Y\n",
      "lr.JgradMatrix(thetas)"
     ],
     "language": "python",
     "metadata": {},
     "outputs": [
      {
       "metadata": {},
       "output_type": "pyout",
       "prompt_number": 25,
       "text": [
        "array([ 0.00015   ,  0.00015   ,  0.00015   ,  0.00015   ,  0.00015   ,\n",
        "        0.00015   ,  0.00015   ,  0.00015   ,  0.03238346,  0.03238346,\n",
        "        0.0149786 ,  0.0149786 ,  0.0149786 ,  0.0149786 , -0.00013474,\n",
        "        0.0149786 ,  0.0149786 ,  0.0149786 ,  0.0149786 ,  0.0149786 ,\n",
        "        0.0149786 ,  0.0149786 ,  0.0149786 , -0.00013474,  0.0149786 ,\n",
        "        0.0149786 ,  0.0149786 ,  0.0149786 ,  0.01813731,  0.01813731,\n",
        "        0.01813731,  0.01813731, -0.00034828,  0.01813731,  0.01813731,\n",
        "        0.01813731,  0.01813731])"
       ]
      }
     ],
     "prompt_number": 25
    },
    {
     "cell_type": "code",
     "collapsed": false,
     "input": [
      "# Difference OK 9.16699325959e-11\n",
      "# This may not work after dropout application\n",
      "\n",
      "threshold = 1\n",
      "lenght = 4\n",
      "\n",
      "X = X_train[0:threshold, :lenght]\n",
      "Y = Y_train[0:threshold]\n",
      "lr = NeuralNetLearner([X.shape[1], 2,  NUM_OF_CLASSES]) \n",
      "thetas = np.array([1.5] * lr.theta_len)\n",
      "lr.X = X\n",
      "lr.Y = Y\n",
      "print( \"Grad diff =\", np.sum( grad_approx(lr, thetas) - lr.Jgrad(thetas) ) )"
     ],
     "language": "python",
     "metadata": {},
     "outputs": [
      {
       "output_type": "stream",
       "stream": "stdout",
       "text": [
        "Grad diff = 4.47578588612e-10\n"
       ]
      }
     ],
     "prompt_number": 26
    },
    {
     "cell_type": "heading",
     "level": 3,
     "metadata": {},
     "source": [
      "Cross Validation"
     ]
    },
    {
     "cell_type": "code",
     "collapsed": false,
     "input": [
      "def my_cross_validation(X, Y, model, k=3):\n",
      "    S = []\n",
      "    kf = cross_validation.KFold(len(Y), n_folds=k, shuffle=False)\n",
      "    for train_index, test_index in kf:\n",
      "        print(\"New fold\")\n",
      "        # Split\n",
      "        X_train, X_test = X[train_index], X[test_index]\n",
      "        Y_train, Y_test = Y[train_index], Y[test_index]\n",
      "        \n",
      "        model.fit(X_train, Y_train)\n",
      "        predicted = model.predict(X_test)\n",
      "        #print(predicted.shape)\n",
      "        # Evaluate\n",
      "        score = evaluate(predicted, Y_test)\n",
      "        print(\"                                             ### Vmesni rezultat ###: \", score)\n",
      "        S.append( score )\n",
      "    S = np.array(S)\n",
      "    return(np.mean(S))"
     ],
     "language": "python",
     "metadata": {},
     "outputs": [],
     "prompt_number": 27
    },
    {
     "cell_type": "heading",
     "level": 3,
     "metadata": {},
     "source": [
      "Batch Stohastic"
     ]
    },
    {
     "cell_type": "code",
     "collapsed": false,
     "input": [
      "# stohastic training:   size = 1\n",
      "# batch training:       size = num of samples \n",
      "# batch sequential:     otherwise\n",
      "class BatchSeq():\n",
      "    def __init__(self, learner, size=0, iterations=500):\n",
      "        self.learner = learner\n",
      "        self.size = size\n",
      "        self.iterations = iterations\n",
      "\n",
      "        \n",
      "    def fit_thetas(self, X, y_, thetas=None):\n",
      "        # num of samples = 1130 = 0, 100, ..., 900, 1000, 1130 (last block takes all remainded)\n",
      "        split = [ [lo, lo + self.size] \n",
      "                          for lo in range( 0, X.shape[0], self.size)\n",
      "                        ] if X.shape[0] >= self.size else [[0, 0]]\n",
      "        split[-1][-1] = X.shape[0]\n",
      "        counter = 0\n",
      "        for lo, hi in split:\n",
      "            counter += 1\n",
      "            thetas = self.learner.fit( X[lo:hi], y_[lo:hi], thetas=thetas)\n",
      "        return thetas\n",
      "    \n",
      "    def fit(self, X, Y):\n",
      "        # batch vs stohastic\n",
      "        if self.size <= 0:\n",
      "            self.size = X.shape[0]\n",
      "        \n",
      "        # stop criteria\n",
      "        eps = 1e-7\n",
      "        \n",
      "        # init thetas and grad. first step\n",
      "        thetas = self.learner.init_thetas()\n",
      "        \n",
      "        #random.seed(42)\n",
      "        \n",
      "        for i in range(self.iterations):\n",
      "            start = time.time()\n",
      "            # decrease grad step\n",
      "            #self.learner.grad_step *= 0.95 \n",
      "            # shuffle a bit\n",
      "            \n",
      "            X, Y = shuffle(X, Y)\n",
      "            prev_thetas = thetas\n",
      "            thetas = self.fit_thetas(X, Y, thetas)   \n",
      "            diff = abs(thetas - prev_thetas)\n",
      "            \n",
      "            end = time.time()\n",
      "            print(\"Iter:\", i, \" \\n        Time:\", round( end - start, 2) , \"s    Theta diff:\",sum( diff ))\n",
      "            if (sum( diff > eps ) == 0):\n",
      "                print(\"OK Convergent\")\n",
      "                break        \n",
      "    \n",
      "    def predict(self, X):\n",
      "        return self.learner.predict(X)\n",
      "    \n",
      "    def get_params(self, *args, **argss):\n",
      "        return {'learner':self.learner, 'size':self.size,\n",
      "                'iterations': self.iterations,\n",
      "                }\n",
      "                \n",
      "        \n",
      "    def predict_proba(self, X):\n",
      "        return self.predict(X)"
     ],
     "language": "python",
     "metadata": {},
     "outputs": [],
     "prompt_number": 28
    },
    {
     "cell_type": "raw",
     "metadata": {},
     "source": [
      "threshold = 500\n",
      "hidden = [40]\n",
      "\n",
      "X = X_train[:threshold]\n",
      "Y = Y_train[:threshold]\n",
      "\n",
      "arch = [X.shape[1]] + hidden + [NUM_OF_CLASSES]\n",
      "lr = NeuralNetLearner(arch, lbfgs=False) \n",
      "scores = - cross_validation.cross_val_score(lr, X, Y, cv=3, scoring='log_loss')\n",
      "scores"
     ]
    },
    {
     "cell_type": "heading",
     "level": 3,
     "metadata": {},
     "source": [
      "Testing learner directly, sklearn CV"
     ]
    },
    {
     "cell_type": "code",
     "collapsed": false,
     "input": [
      "def tester(myCV=False, \n",
      "           threshold=1000, \n",
      "           hidden=[20, 20], \n",
      "           g=sigmoid, \n",
      "           g_derivative=sigmoid_derivative, \n",
      "           lambda_=1e-4, \n",
      "           lbfgs_maxiter=1, \n",
      "           learning_rate=1, \n",
      "           dropout=0.1, \n",
      "           lbfgs=False,\n",
      "           \n",
      "           batch_size=500, \n",
      "           batch_iterations=500, \n",
      "           ):\n",
      "    \n",
      "    \n",
      "    \n",
      "    \n",
      "    X = X_train[:threshold]\n",
      "    Y = Y_train[:threshold]\n",
      "    arch = [X.shape[1]] + hidden + [NUM_OF_CLASSES]\n",
      "    \n",
      "    print(\"Architecture is: \", arch)\n",
      "\n",
      "    learner = NeuralNetLearner(arch, g=g, g_derivative=g_derivative, lambda_=lambda_, maxiter=lbfgs_maxiter, learning_rate=learning_rate, dropout=dropout, lbfgs=lbfgs)\n",
      "    bs = BatchSeq( learner, size=batch_size, iterations=batch_iterations)\n",
      "    if myCV:\n",
      "        score = my_cross_validation(X, Y, bs)\n",
      "    else:\n",
      "        score = - cross_validation.cross_val_score(bs, X, Y, cv=3, scoring='log_loss')\n",
      "    return score"
     ],
     "language": "python",
     "metadata": {},
     "outputs": [],
     "prompt_number": 29
    },
    {
     "cell_type": "heading",
     "level": 3,
     "metadata": {},
     "source": [
      "Tester CV"
     ]
    },
    {
     "cell_type": "heading",
     "level": 6,
     "metadata": {},
     "source": [
      "Test learning rate"
     ]
    },
    {
     "cell_type": "heading",
     "level": 6,
     "metadata": {},
     "source": [
      "Testing learning rate CV"
     ]
    },
    {
     "cell_type": "code",
     "collapsed": false,
     "input": [
      "# learning_rate=1.0\n",
      "\n",
      "tester(myCV=True, \n",
      "       threshold=10000, \n",
      "       hidden=[20, 20], \n",
      "       g=sigmoid, \n",
      "       g_derivative=sigmoid_derivative, \n",
      "       lambda_=1e-4, \n",
      "       lbfgs=False,\n",
      "       lbfgs_maxiter=1000000, \n",
      "       learning_rate=1.0, \n",
      "       dropout=0.1, \n",
      "       batch_size=1000, \n",
      "       batch_iterations=50\n",
      "       )"
     ],
     "language": "python",
     "metadata": {},
     "outputs": [
      {
       "output_type": "stream",
       "stream": "stdout",
       "text": [
        "Architecture is:  [93, 20, 20, 9]\n",
        "New fold\n",
        "Iter:"
       ]
      },
      {
       "output_type": "stream",
       "stream": "stdout",
       "text": [
        " 0  \n",
        "        Time: 1.26 s    Theta diff: 30.2346175\n",
        "Iter:"
       ]
      },
      {
       "output_type": "stream",
       "stream": "stdout",
       "text": [
        " 1  \n",
        "        Time: 1.31 s    Theta diff: 8.23172056352\n",
        "Iter:"
       ]
      },
      {
       "output_type": "stream",
       "stream": "stdout",
       "text": [
        " 2  \n",
        "        Time: 1.19 s    Theta diff: 3.70572184866\n",
        "Iter:"
       ]
      },
      {
       "output_type": "stream",
       "stream": "stdout",
       "text": [
        " 3  \n",
        "        Time: 1.2 s    Theta diff: 2.23396268452\n",
        "Iter:"
       ]
      },
      {
       "output_type": "stream",
       "stream": "stdout",
       "text": [
        " 4  \n",
        "        Time: 1.28 s    Theta diff: 1.55241524804\n",
        "Iter:"
       ]
      },
      {
       "output_type": "stream",
       "stream": "stdout",
       "text": [
        " 5  \n",
        "        Time: 1.19 s    Theta diff: 1.11236003072\n",
        "Iter:"
       ]
      },
      {
       "output_type": "stream",
       "stream": "stdout",
       "text": [
        " 6  \n",
        "        Time: 1.19 s    Theta diff: 0.852731532836\n",
        "Iter:"
       ]
      },
      {
       "output_type": "stream",
       "stream": "stdout",
       "text": [
        " 7  \n",
        "        Time: 1.19 s    Theta diff: 0.717286430892\n",
        "Iter:"
       ]
      },
      {
       "output_type": "stream",
       "stream": "stdout",
       "text": [
        " 8  \n",
        "        Time: 1.19 s    Theta diff: 0.617757099633\n",
        "Iter:"
       ]
      },
      {
       "output_type": "stream",
       "stream": "stdout",
       "text": [
        " 9  \n",
        "        Time: 1.19 s    Theta diff: 0.571754913703\n",
        "Iter:"
       ]
      },
      {
       "output_type": "stream",
       "stream": "stdout",
       "text": [
        " 10  \n",
        "        Time: 1.18 s    Theta diff: 0.437647196896\n",
        "Iter:"
       ]
      },
      {
       "output_type": "stream",
       "stream": "stdout",
       "text": [
        " 11  \n",
        "        Time: 1.21 s    Theta diff: 0.423933584471\n",
        "Iter:"
       ]
      },
      {
       "output_type": "stream",
       "stream": "stdout",
       "text": [
        " 12  \n",
        "        Time: 1.18 s    Theta diff: 0.349333403513\n",
        "Iter:"
       ]
      },
      {
       "output_type": "stream",
       "stream": "stdout",
       "text": [
        " 13  \n",
        "        Time: 1.18 s    Theta diff: 0.369030699565\n",
        "Iter:"
       ]
      },
      {
       "output_type": "stream",
       "stream": "stdout",
       "text": [
        " 14  \n",
        "        Time: 1.2 s    Theta diff: 0.329804401415\n",
        "Iter:"
       ]
      },
      {
       "output_type": "stream",
       "stream": "stdout",
       "text": [
        " 15  \n",
        "        Time: 1.21 s    Theta diff: 0.330821187261\n",
        "Iter:"
       ]
      },
      {
       "output_type": "stream",
       "stream": "stdout",
       "text": [
        " 16  \n",
        "        Time: 1.19 s    Theta diff: 0.274382488005\n",
        "Iter:"
       ]
      },
      {
       "output_type": "stream",
       "stream": "stdout",
       "text": [
        " 17  \n",
        "        Time: 1.19 s    Theta diff: 0.267613046551\n",
        "Iter:"
       ]
      },
      {
       "output_type": "stream",
       "stream": "stdout",
       "text": [
        " 18  \n",
        "        Time: 1.18 s    Theta diff: 0.289534504071\n",
        "Iter:"
       ]
      },
      {
       "output_type": "stream",
       "stream": "stdout",
       "text": [
        " 19  \n",
        "        Time: 1.18 s    Theta diff: 0.300512141654\n",
        "Iter:"
       ]
      },
      {
       "output_type": "stream",
       "stream": "stdout",
       "text": [
        " 20  \n",
        "        Time: 1.29 s    Theta diff: 0.228173958683\n",
        "Iter:"
       ]
      },
      {
       "output_type": "stream",
       "stream": "stdout",
       "text": [
        " 21  \n",
        "        Time: 1.3 s    Theta diff: 0.294429808536\n",
        "Iter:"
       ]
      },
      {
       "output_type": "stream",
       "stream": "stdout",
       "text": [
        " 22  \n",
        "        Time: 1.28 s    Theta diff: 0.221928130748\n",
        "Iter:"
       ]
      },
      {
       "output_type": "stream",
       "stream": "stdout",
       "text": [
        " 23  \n",
        "        Time: 1.2 s    Theta diff: 0.234301703839\n",
        "Iter:"
       ]
      },
      {
       "output_type": "stream",
       "stream": "stdout",
       "text": [
        " 24  \n",
        "        Time: 1.23 s    Theta diff: 0.188504042457\n",
        "Iter:"
       ]
      },
      {
       "output_type": "stream",
       "stream": "stdout",
       "text": [
        " 25  \n",
        "        Time: 1.19 s    Theta diff: 0.209019345308\n",
        "Iter:"
       ]
      },
      {
       "output_type": "stream",
       "stream": "stdout",
       "text": [
        " 26  \n",
        "        Time: 1.21 s    Theta diff: 0.225366596716\n",
        "Iter:"
       ]
      },
      {
       "output_type": "stream",
       "stream": "stdout",
       "text": [
        " 27  \n",
        "        Time: 1.19 s    Theta diff: 0.270634486929\n",
        "Iter:"
       ]
      },
      {
       "output_type": "stream",
       "stream": "stdout",
       "text": [
        " 28  \n",
        "        Time: 1.18 s    Theta diff: 0.251698468613\n",
        "Iter:"
       ]
      },
      {
       "output_type": "stream",
       "stream": "stdout",
       "text": [
        " 29  \n",
        "        Time: 1.18 s    Theta diff: 0.200667418957\n",
        "Iter:"
       ]
      },
      {
       "output_type": "stream",
       "stream": "stdout",
       "text": [
        " 30  \n",
        "        Time: 1.18 s    Theta diff: 0.205942094265\n",
        "Iter:"
       ]
      },
      {
       "output_type": "stream",
       "stream": "stdout",
       "text": [
        " 31  \n",
        "        Time: 1.29 s    Theta diff: 0.181233778502\n",
        "Iter:"
       ]
      },
      {
       "output_type": "stream",
       "stream": "stdout",
       "text": [
        " 32  \n",
        "        Time: 1.19 s    Theta diff: 0.274535589928\n",
        "Iter:"
       ]
      },
      {
       "output_type": "stream",
       "stream": "stdout",
       "text": [
        " 33  \n",
        "        Time: 1.19 s    Theta diff: 0.247720144731\n",
        "Iter:"
       ]
      },
      {
       "output_type": "stream",
       "stream": "stdout",
       "text": [
        " 34  \n",
        "        Time: 1.19 s    Theta diff: 0.185728633182\n",
        "Iter:"
       ]
      },
      {
       "output_type": "stream",
       "stream": "stdout",
       "text": [
        " 35  \n",
        "        Time: 1.23 s    Theta diff: 0.177040729971\n",
        "Iter:"
       ]
      },
      {
       "output_type": "stream",
       "stream": "stdout",
       "text": [
        " 36  \n",
        "        Time: 1.39 s    Theta diff: 0.201097451502\n",
        "Iter:"
       ]
      },
      {
       "output_type": "stream",
       "stream": "stdout",
       "text": [
        " 37  \n",
        "        Time: 1.27 s    Theta diff: 0.193995462896\n",
        "Iter:"
       ]
      },
      {
       "output_type": "stream",
       "stream": "stdout",
       "text": [
        " 38  \n",
        "        Time: 1.18 s    Theta diff: 0.212717295691\n",
        "Iter:"
       ]
      },
      {
       "output_type": "stream",
       "stream": "stdout",
       "text": [
        " 39  \n",
        "        Time: 1.18 s    Theta diff: 0.152433586069\n",
        "Iter:"
       ]
      },
      {
       "output_type": "stream",
       "stream": "stdout",
       "text": [
        " 40  \n",
        "        Time: 1.19 s    Theta diff: 0.170950855884\n",
        "Iter:"
       ]
      },
      {
       "output_type": "stream",
       "stream": "stdout",
       "text": [
        " 41  \n",
        "        Time: 1.18 s    Theta diff: 0.228832962374\n",
        "Iter:"
       ]
      },
      {
       "output_type": "stream",
       "stream": "stdout",
       "text": [
        " 42  \n",
        "        Time: 1.19 s    Theta diff: 0.167465577159\n",
        "Iter:"
       ]
      },
      {
       "output_type": "stream",
       "stream": "stdout",
       "text": [
        " 43  \n",
        "        Time: 1.18 s    Theta diff: 0.177857031256\n",
        "Iter:"
       ]
      },
      {
       "output_type": "stream",
       "stream": "stdout",
       "text": [
        " 44  \n",
        "        Time: 1.18 s    Theta diff: 0.171126302043\n",
        "Iter:"
       ]
      },
      {
       "output_type": "stream",
       "stream": "stdout",
       "text": [
        " 45  \n",
        "        Time: 1.18 s    Theta diff: 0.214430984851\n",
        "Iter:"
       ]
      },
      {
       "output_type": "stream",
       "stream": "stdout",
       "text": [
        " 46  \n",
        "        Time: 1.19 s    Theta diff: 0.166524092042\n",
        "Iter:"
       ]
      },
      {
       "output_type": "stream",
       "stream": "stdout",
       "text": [
        " 47  \n",
        "        Time: 1.2 s    Theta diff: 0.175519806396\n",
        "Iter:"
       ]
      },
      {
       "output_type": "stream",
       "stream": "stdout",
       "text": [
        " 48  \n",
        "        Time: 1.19 s    Theta diff: 0.237212017678\n",
        "Iter:"
       ]
      },
      {
       "output_type": "stream",
       "stream": "stdout",
       "text": [
        " 49  \n",
        "        Time: 1.19 s    Theta diff: 0.264321856698\n",
        "                                             ### Vmesni rezultat ###: "
       ]
      },
      {
       "output_type": "stream",
       "stream": "stdout",
       "text": [
        " 1.9638415004\n",
        "New fold\n",
        "Iter:"
       ]
      },
      {
       "output_type": "stream",
       "stream": "stdout",
       "text": [
        " 0  \n",
        "        Time: 1.19 s    Theta diff: 29.5674968882\n",
        "Iter:"
       ]
      },
      {
       "output_type": "stream",
       "stream": "stdout",
       "text": [
        " 1  \n",
        "        Time: 1.18 s    Theta diff: 7.70288168019\n",
        "Iter:"
       ]
      },
      {
       "output_type": "stream",
       "stream": "stdout",
       "text": [
        " 2  \n",
        "        Time: 1.19 s    Theta diff: 3.48266951375\n",
        "Iter:"
       ]
      },
      {
       "output_type": "stream",
       "stream": "stdout",
       "text": [
        " 3  \n",
        "        Time: 1.26 s    Theta diff: 2.16618274446\n",
        "Iter:"
       ]
      },
      {
       "output_type": "stream",
       "stream": "stdout",
       "text": [
        " 4  \n",
        "        Time: 1.19 s    Theta diff: 1.46215661669\n",
        "Iter:"
       ]
      },
      {
       "output_type": "stream",
       "stream": "stdout",
       "text": [
        " 5  \n",
        "        Time: 1.18 s    Theta diff: 1.12265746478\n",
        "Iter:"
       ]
      },
      {
       "output_type": "stream",
       "stream": "stdout",
       "text": [
        " 6  \n",
        "        Time: 1.19 s    Theta diff: 0.88997811933\n",
        "Iter:"
       ]
      },
      {
       "output_type": "stream",
       "stream": "stdout",
       "text": [
        " 7  \n",
        "        Time: 1.18 s    Theta diff: 0.705185022113\n",
        "Iter:"
       ]
      },
      {
       "output_type": "stream",
       "stream": "stdout",
       "text": [
        " 8  \n",
        "        Time: 1.21 s    Theta diff: 0.646157442873\n",
        "Iter:"
       ]
      },
      {
       "output_type": "stream",
       "stream": "stdout",
       "text": [
        " 9  \n",
        "        Time: 1.19 s    Theta diff: 0.608129620686\n",
        "Iter:"
       ]
      },
      {
       "output_type": "stream",
       "stream": "stdout",
       "text": [
        " 10  \n",
        "        Time: 1.21 s    Theta diff: 0.441987623025\n",
        "Iter:"
       ]
      },
      {
       "output_type": "stream",
       "stream": "stdout",
       "text": [
        " 11  \n",
        "        Time: 1.19 s    Theta diff: 0.438039460238\n",
        "Iter:"
       ]
      },
      {
       "output_type": "stream",
       "stream": "stdout",
       "text": [
        " 12  \n",
        "        Time: 1.19 s    Theta diff: 0.388844699221\n",
        "Iter:"
       ]
      },
      {
       "output_type": "stream",
       "stream": "stdout",
       "text": [
        " 13  \n",
        "        Time: 1.22 s    Theta diff: 0.364426128796\n",
        "Iter:"
       ]
      },
      {
       "output_type": "stream",
       "stream": "stdout",
       "text": [
        " 14  \n",
        "        Time: 1.19 s    Theta diff: 0.320528680522\n",
        "Iter:"
       ]
      },
      {
       "output_type": "stream",
       "stream": "stdout",
       "text": [
        " 15  \n",
        "        Time: 1.19 s    Theta diff: 0.443339709458\n",
        "Iter:"
       ]
      },
      {
       "output_type": "stream",
       "stream": "stdout",
       "text": [
        " 16  \n",
        "        Time: 1.18 s    Theta diff: 0.416766438785\n",
        "Iter:"
       ]
      },
      {
       "output_type": "stream",
       "stream": "stdout",
       "text": [
        " 17  \n",
        "        Time: 1.18 s    Theta diff: 0.260204219317\n",
        "Iter:"
       ]
      },
      {
       "output_type": "stream",
       "stream": "stdout",
       "text": [
        " 18  \n",
        "        Time: 1.18 s    Theta diff: 0.217893373202\n",
        "Iter:"
       ]
      },
      {
       "output_type": "stream",
       "stream": "stdout",
       "text": [
        " 19  \n",
        "        Time: 1.19 s    Theta diff: 0.239121487683\n",
        "Iter:"
       ]
      },
      {
       "output_type": "stream",
       "stream": "stdout",
       "text": [
        " 20  \n",
        "        Time: 1.18 s    Theta diff: 0.225596006154\n",
        "Iter:"
       ]
      },
      {
       "output_type": "stream",
       "stream": "stdout",
       "text": [
        " 21  \n",
        "        Time: 1.19 s    Theta diff: 0.207799040923\n",
        "Iter:"
       ]
      },
      {
       "output_type": "stream",
       "stream": "stdout",
       "text": [
        " 22  \n",
        "        Time: 1.19 s    Theta diff: 0.240916797995\n",
        "Iter:"
       ]
      },
      {
       "output_type": "stream",
       "stream": "stdout",
       "text": [
        " 23  \n",
        "        Time: 1.19 s    Theta diff: 0.221506576864\n",
        "Iter:"
       ]
      },
      {
       "output_type": "stream",
       "stream": "stdout",
       "text": [
        " 24  \n",
        "        Time: 1.2 s    Theta diff: 0.192087736535\n",
        "Iter:"
       ]
      },
      {
       "output_type": "stream",
       "stream": "stdout",
       "text": [
        " 25  \n",
        "        Time: 1.18 s    Theta diff: 0.217154002822\n",
        "Iter:"
       ]
      },
      {
       "output_type": "stream",
       "stream": "stdout",
       "text": [
        " 26  \n",
        "        Time: 1.19 s    Theta diff: 0.198800109126\n",
        "Iter:"
       ]
      },
      {
       "output_type": "stream",
       "stream": "stdout",
       "text": [
        " 27  \n",
        "        Time: 1.18 s    Theta diff: 0.190536048489\n",
        "Iter:"
       ]
      },
      {
       "output_type": "stream",
       "stream": "stdout",
       "text": [
        " 28  \n",
        "        Time: 1.18 s    Theta diff: 0.17939943579\n",
        "Iter:"
       ]
      },
      {
       "output_type": "stream",
       "stream": "stdout",
       "text": [
        " 29  \n",
        "        Time: 1.19 s    Theta diff: 0.222262214166\n",
        "Iter:"
       ]
      },
      {
       "output_type": "stream",
       "stream": "stdout",
       "text": [
        " 30  \n",
        "        Time: 1.19 s    Theta diff: 0.205518023064\n",
        "Iter:"
       ]
      },
      {
       "output_type": "stream",
       "stream": "stdout",
       "text": [
        " 31  \n",
        "        Time: 1.2 s    Theta diff: 0.198399970917\n",
        "Iter:"
       ]
      },
      {
       "output_type": "stream",
       "stream": "stdout",
       "text": [
        " 32  \n",
        "        Time: 1.22 s    Theta diff: 0.182011370079\n",
        "Iter:"
       ]
      },
      {
       "output_type": "stream",
       "stream": "stdout",
       "text": [
        " 33  \n",
        "        Time: 1.54 s    Theta diff: 0.247698045408\n",
        "Iter:"
       ]
      },
      {
       "output_type": "stream",
       "stream": "stdout",
       "text": [
        " 34  \n",
        "        Time: 1.24 s    Theta diff: 0.281865692576\n",
        "Iter:"
       ]
      },
      {
       "output_type": "stream",
       "stream": "stdout",
       "text": [
        " 35  \n",
        "        Time: 1.19 s    Theta diff: 0.243725383029\n",
        "Iter:"
       ]
      },
      {
       "output_type": "stream",
       "stream": "stdout",
       "text": [
        " 36  \n",
        "        Time: 1.22 s    Theta diff: 0.1626726706\n",
        "Iter:"
       ]
      },
      {
       "output_type": "stream",
       "stream": "stdout",
       "text": [
        " 37  \n",
        "        Time: 1.18 s    Theta diff: 0.175157650252\n",
        "Iter:"
       ]
      },
      {
       "output_type": "stream",
       "stream": "stdout",
       "text": [
        " 38  \n",
        "        Time: 1.19 s    Theta diff: 0.163863973979\n",
        "Iter:"
       ]
      },
      {
       "output_type": "stream",
       "stream": "stdout",
       "text": [
        " 39  \n",
        "        Time: 1.19 s    Theta diff: 0.170883673051\n",
        "Iter:"
       ]
      },
      {
       "output_type": "stream",
       "stream": "stdout",
       "text": [
        " 40  \n",
        "        Time: 1.2 s    Theta diff: 0.180124703199\n",
        "Iter:"
       ]
      },
      {
       "output_type": "stream",
       "stream": "stdout",
       "text": [
        " 41  \n",
        "        Time: 1.2 s    Theta diff: 0.152026071371\n",
        "Iter:"
       ]
      },
      {
       "output_type": "stream",
       "stream": "stdout",
       "text": [
        " 42  \n",
        "        Time: 1.19 s    Theta diff: 0.231848632319\n",
        "Iter:"
       ]
      },
      {
       "output_type": "stream",
       "stream": "stdout",
       "text": [
        " 43  \n",
        "        Time: 1.19 s    Theta diff: 0.211113469711\n",
        "Iter:"
       ]
      },
      {
       "output_type": "stream",
       "stream": "stdout",
       "text": [
        " 44  \n",
        "        Time: 1.19 s    Theta diff: 0.211192327979\n",
        "Iter:"
       ]
      },
      {
       "output_type": "stream",
       "stream": "stdout",
       "text": [
        " 45  \n",
        "        Time: 1.2 s    Theta diff: 0.181262459434\n",
        "Iter:"
       ]
      },
      {
       "output_type": "stream",
       "stream": "stdout",
       "text": [
        " 46  \n",
        "        Time: 1.18 s    Theta diff: 0.155541552083\n",
        "Iter:"
       ]
      },
      {
       "output_type": "stream",
       "stream": "stdout",
       "text": [
        " 47  \n",
        "        Time: 1.19 s    Theta diff: 0.222681161353\n",
        "Iter:"
       ]
      },
      {
       "output_type": "stream",
       "stream": "stdout",
       "text": [
        " 48  \n",
        "        Time: 1.2 s    Theta diff: 0.212050796998\n",
        "Iter:"
       ]
      },
      {
       "output_type": "stream",
       "stream": "stdout",
       "text": [
        " 49  \n",
        "        Time: 1.18 s    Theta diff: 0.219181280651\n",
        "                                             ### Vmesni rezultat ###: "
       ]
      },
      {
       "output_type": "stream",
       "stream": "stdout",
       "text": [
        " 1.98553121029\n",
        "New fold\n",
        "Iter:"
       ]
      },
      {
       "output_type": "stream",
       "stream": "stdout",
       "text": [
        " 0  \n",
        "        Time: 1.18 s    Theta diff: 30.1840416315\n",
        "Iter:"
       ]
      },
      {
       "output_type": "stream",
       "stream": "stdout",
       "text": [
        " 1  \n",
        "        Time: 1.19 s    Theta diff: 8.0420035294\n",
        "Iter:"
       ]
      },
      {
       "output_type": "stream",
       "stream": "stdout",
       "text": [
        " 2  \n",
        "        Time: 1.18 s    Theta diff: 3.58542216794\n",
        "Iter:"
       ]
      },
      {
       "output_type": "stream",
       "stream": "stdout",
       "text": [
        " 3  \n",
        "        Time: 1.19 s    Theta diff: 2.09632502204\n",
        "Iter:"
       ]
      },
      {
       "output_type": "stream",
       "stream": "stdout",
       "text": [
        " 4  \n",
        "        Time: 1.19 s    Theta diff: 1.44218218691\n",
        "Iter:"
       ]
      },
      {
       "output_type": "stream",
       "stream": "stdout",
       "text": [
        " 5  \n",
        "        Time: 1.19 s    Theta diff: 1.11492085256\n",
        "Iter:"
       ]
      },
      {
       "output_type": "stream",
       "stream": "stdout",
       "text": [
        " 6  \n",
        "        Time: 1.19 s    Theta diff: 0.84995179625\n",
        "Iter:"
       ]
      },
      {
       "output_type": "stream",
       "stream": "stdout",
       "text": [
        " 7  \n",
        "        Time: 1.19 s    Theta diff: 0.754408484458\n",
        "Iter:"
       ]
      },
      {
       "output_type": "stream",
       "stream": "stdout",
       "text": [
        " 8  \n",
        "        Time: 1.19 s    Theta diff: 0.634359311614\n",
        "Iter:"
       ]
      },
      {
       "output_type": "stream",
       "stream": "stdout",
       "text": [
        " 9  \n",
        "        Time: 1.18 s    Theta diff: 0.573446792221\n",
        "Iter:"
       ]
      },
      {
       "output_type": "stream",
       "stream": "stdout",
       "text": [
        " 10  \n",
        "        Time: 1.19 s    Theta diff: 0.495445993125\n",
        "Iter:"
       ]
      },
      {
       "output_type": "stream",
       "stream": "stdout",
       "text": [
        " 11  \n",
        "        Time: 1.19 s    Theta diff: 0.385729777295\n",
        "Iter:"
       ]
      },
      {
       "output_type": "stream",
       "stream": "stdout",
       "text": [
        " 12  \n",
        "        Time: 1.19 s    Theta diff: 0.399132503164\n",
        "Iter:"
       ]
      },
      {
       "output_type": "stream",
       "stream": "stdout",
       "text": [
        " 13  \n",
        "        Time: 1.2 s    Theta diff: 0.334226775072\n",
        "Iter:"
       ]
      },
      {
       "output_type": "stream",
       "stream": "stdout",
       "text": [
        " 14  \n",
        "        Time: 1.18 s    Theta diff: 0.353654800634\n",
        "Iter:"
       ]
      },
      {
       "output_type": "stream",
       "stream": "stdout",
       "text": [
        " 15  \n",
        "        Time: 1.18 s    Theta diff: 0.346669313503\n",
        "Iter:"
       ]
      },
      {
       "output_type": "stream",
       "stream": "stdout",
       "text": [
        " 16  \n",
        "        Time: 1.19 s    Theta diff: 0.321314009473\n",
        "Iter:"
       ]
      },
      {
       "output_type": "stream",
       "stream": "stdout",
       "text": [
        " 17  \n",
        "        Time: 1.18 s    Theta diff: 0.262444109594\n",
        "Iter:"
       ]
      },
      {
       "output_type": "stream",
       "stream": "stdout",
       "text": [
        " 18  \n",
        "        Time: 1.19 s    Theta diff: 0.287870734344\n",
        "Iter:"
       ]
      },
      {
       "output_type": "stream",
       "stream": "stdout",
       "text": [
        " 19  \n",
        "        Time: 1.18 s    Theta diff: 0.258456202536\n",
        "Iter:"
       ]
      },
      {
       "output_type": "stream",
       "stream": "stdout",
       "text": [
        " 20  \n",
        "        Time: 1.21 s    Theta diff: 0.214153753597\n",
        "Iter:"
       ]
      },
      {
       "output_type": "stream",
       "stream": "stdout",
       "text": [
        " 21  \n",
        "        Time: 1.2 s    Theta diff: 0.235520032613\n",
        "Iter:"
       ]
      },
      {
       "output_type": "stream",
       "stream": "stdout",
       "text": [
        " 22  \n",
        "        Time: 1.19 s    Theta diff: 0.211059423715\n",
        "Iter:"
       ]
      },
      {
       "output_type": "stream",
       "stream": "stdout",
       "text": [
        " 23  \n",
        "        Time: 1.18 s    Theta diff: 0.193336511867\n",
        "Iter:"
       ]
      },
      {
       "output_type": "stream",
       "stream": "stdout",
       "text": [
        " 24  \n",
        "        Time: 1.21 s    Theta diff: 0.183884973716\n",
        "Iter:"
       ]
      },
      {
       "output_type": "stream",
       "stream": "stdout",
       "text": [
        " 25  \n",
        "        Time: 1.23 s    Theta diff: 0.205384422033\n",
        "Iter:"
       ]
      },
      {
       "output_type": "stream",
       "stream": "stdout",
       "text": [
        " 26  \n",
        "        Time: 1.22 s    Theta diff: 0.211006099007\n",
        "Iter:"
       ]
      },
      {
       "output_type": "stream",
       "stream": "stdout",
       "text": [
        " 27  \n",
        "        Time: 1.19 s    Theta diff: 0.231877332099\n",
        "Iter:"
       ]
      },
      {
       "output_type": "stream",
       "stream": "stdout",
       "text": [
        " 28  \n",
        "        Time: 1.19 s    Theta diff: 0.236917428855\n",
        "Iter:"
       ]
      },
      {
       "output_type": "stream",
       "stream": "stdout",
       "text": [
        " 29  \n",
        "        Time: 1.18 s    Theta diff: 0.186886767562\n",
        "Iter:"
       ]
      },
      {
       "output_type": "stream",
       "stream": "stdout",
       "text": [
        " 30  \n",
        "        Time: 1.19 s    Theta diff: 0.199256260372\n",
        "Iter:"
       ]
      },
      {
       "output_type": "stream",
       "stream": "stdout",
       "text": [
        " 31  \n",
        "        Time: 1.18 s    Theta diff: 0.198212048149\n",
        "Iter:"
       ]
      },
      {
       "output_type": "stream",
       "stream": "stdout",
       "text": [
        " 32  \n",
        "        Time: 1.18 s    Theta diff: 0.24926850224\n",
        "Iter:"
       ]
      },
      {
       "output_type": "stream",
       "stream": "stdout",
       "text": [
        " 33  \n",
        "        Time: 1.19 s    Theta diff: 0.20598740492\n",
        "Iter:"
       ]
      },
      {
       "output_type": "stream",
       "stream": "stdout",
       "text": [
        " 34  \n",
        "        Time: 1.18 s    Theta diff: 0.249858316348\n",
        "Iter:"
       ]
      },
      {
       "output_type": "stream",
       "stream": "stdout",
       "text": [
        " 35  \n",
        "        Time: 1.19 s    Theta diff: 0.23123916706\n",
        "Iter:"
       ]
      },
      {
       "output_type": "stream",
       "stream": "stdout",
       "text": [
        " 36  \n",
        "        Time: 1.18 s    Theta diff: 0.23546748718\n",
        "Iter:"
       ]
      },
      {
       "output_type": "stream",
       "stream": "stdout",
       "text": [
        " 37  \n",
        "        Time: 1.2 s    Theta diff: 0.195936764039\n",
        "Iter:"
       ]
      },
      {
       "output_type": "stream",
       "stream": "stdout",
       "text": [
        " 38  \n",
        "        Time: 1.18 s    Theta diff: 0.180513830355\n",
        "Iter:"
       ]
      },
      {
       "output_type": "stream",
       "stream": "stdout",
       "text": [
        " 39  \n",
        "        Time: 1.2 s    Theta diff: 0.172096104199\n",
        "Iter:"
       ]
      },
      {
       "output_type": "stream",
       "stream": "stdout",
       "text": [
        " 40  \n",
        "        Time: 1.22 s    Theta diff: 0.256477451787\n",
        "Iter:"
       ]
      },
      {
       "output_type": "stream",
       "stream": "stdout",
       "text": [
        " 41  \n",
        "        Time: 1.28 s    Theta diff: 0.21078591096\n",
        "Iter:"
       ]
      },
      {
       "output_type": "stream",
       "stream": "stdout",
       "text": [
        " 42  \n",
        "        Time: 1.23 s    Theta diff: 0.174097561067\n",
        "Iter:"
       ]
      },
      {
       "output_type": "stream",
       "stream": "stdout",
       "text": [
        " 43  \n",
        "        Time: 1.2 s    Theta diff: 0.187637883085\n",
        "Iter:"
       ]
      },
      {
       "output_type": "stream",
       "stream": "stdout",
       "text": [
        " 44  \n",
        "        Time: 1.21 s    Theta diff: 0.213248617271\n",
        "Iter:"
       ]
      },
      {
       "output_type": "stream",
       "stream": "stdout",
       "text": [
        " 45  \n",
        "        Time: 1.19 s    Theta diff: 0.206271333177\n",
        "Iter:"
       ]
      },
      {
       "output_type": "stream",
       "stream": "stdout",
       "text": [
        " 46  \n",
        "        Time: 1.19 s    Theta diff: 0.201442340193\n",
        "Iter:"
       ]
      },
      {
       "output_type": "stream",
       "stream": "stdout",
       "text": [
        " 47  \n",
        "        Time: 1.21 s    Theta diff: 0.153027579818\n",
        "Iter:"
       ]
      },
      {
       "output_type": "stream",
       "stream": "stdout",
       "text": [
        " 48  \n",
        "        Time: 1.22 s    Theta diff: 0.232662258416\n",
        "Iter:"
       ]
      },
      {
       "output_type": "stream",
       "stream": "stdout",
       "text": [
        " 49  \n",
        "        Time: 1.19 s    Theta diff: 0.173851408943\n",
        "                                             ### Vmesni rezultat ###: "
       ]
      },
      {
       "output_type": "stream",
       "stream": "stdout",
       "text": [
        " 1.9468968529\n"
       ]
      },
      {
       "metadata": {},
       "output_type": "pyout",
       "prompt_number": 34,
       "text": [
        "1.9654231878660535"
       ]
      }
     ],
     "prompt_number": 34
    },
    {
     "cell_type": "code",
     "collapsed": false,
     "input": [
      "# learning_rate=0.1\n",
      "# batch_iterations=50\n",
      "\n",
      "tester(myCV=True, \n",
      "       threshold=10000, \n",
      "       hidden=[20, 20], \n",
      "       g=sigmoid, \n",
      "       g_derivative=sigmoid_derivative, \n",
      "       lambda_=1e-4, \n",
      "       lbfgs=False,\n",
      "       lbfgs_maxiter=1000000, \n",
      "       learning_rate=0.1, \n",
      "       dropout=0.1, \n",
      "       batch_size=1000, \n",
      "       batch_iterations=50\n",
      "       )"
     ],
     "language": "python",
     "metadata": {},
     "outputs": [
      {
       "output_type": "stream",
       "stream": "stdout",
       "text": [
        "Architecture is:  [93, 20, 20, 9]\n",
        "New fold\n",
        "Iter:"
       ]
      },
      {
       "output_type": "stream",
       "stream": "stdout",
       "text": [
        " 0  \n",
        "        Time: 1.31 s    Theta diff: 5.53684359528\n",
        "Iter:"
       ]
      },
      {
       "output_type": "stream",
       "stream": "stdout",
       "text": [
        " 1  \n",
        "        Time: 1.29 s    Theta diff: 4.81458894464\n",
        "Iter:"
       ]
      },
      {
       "output_type": "stream",
       "stream": "stdout",
       "text": [
        " 2  \n",
        "        Time: 1.27 s    Theta diff: 4.27612009262\n",
        "Iter:"
       ]
      },
      {
       "output_type": "stream",
       "stream": "stdout",
       "text": [
        " 3  \n",
        "        Time: 1.31 s    Theta diff: 3.66293631415\n",
        "Iter:"
       ]
      },
      {
       "output_type": "stream",
       "stream": "stdout",
       "text": [
        " 4  \n",
        "        Time: 1.24 s    Theta diff: 3.10717901732\n",
        "Iter:"
       ]
      },
      {
       "output_type": "stream",
       "stream": "stdout",
       "text": [
        " 5  \n",
        "        Time: 1.29 s    Theta diff: 2.71123923028\n",
        "Iter:"
       ]
      },
      {
       "output_type": "stream",
       "stream": "stdout",
       "text": [
        " 6  \n",
        "        Time: 1.36 s    Theta diff: 2.29734702137\n",
        "Iter:"
       ]
      },
      {
       "output_type": "stream",
       "stream": "stdout",
       "text": [
        " 7  \n",
        "        Time: 1.3 s    Theta diff: 1.99217079168\n",
        "Iter:"
       ]
      },
      {
       "output_type": "stream",
       "stream": "stdout",
       "text": [
        " 8  \n",
        "        Time: 1.3 s    Theta diff: 1.73760348017\n",
        "Iter:"
       ]
      },
      {
       "output_type": "stream",
       "stream": "stdout",
       "text": [
        " 9  \n",
        "        Time: 1.48 s    Theta diff: 1.52728504042\n",
        "Iter:"
       ]
      },
      {
       "output_type": "stream",
       "stream": "stdout",
       "text": [
        " 10  \n",
        "        Time: 1.37 s    Theta diff: 1.34152541652\n",
        "Iter:"
       ]
      },
      {
       "output_type": "stream",
       "stream": "stdout",
       "text": [
        " 11  \n",
        "        Time: 1.34 s    Theta diff: 1.2016591342\n",
        "Iter:"
       ]
      },
      {
       "output_type": "stream",
       "stream": "stdout",
       "text": [
        " 12  \n",
        "        Time: 1.4 s    Theta diff: 1.06273983055\n",
        "Iter:"
       ]
      },
      {
       "output_type": "stream",
       "stream": "stdout",
       "text": [
        " 13  \n",
        "        Time: 1.39 s    Theta diff: 0.967857388571\n",
        "Iter:"
       ]
      },
      {
       "output_type": "stream",
       "stream": "stdout",
       "text": [
        " 14  \n",
        "        Time: 1.39 s    Theta diff: 0.872651460637\n",
        "Iter:"
       ]
      },
      {
       "output_type": "stream",
       "stream": "stdout",
       "text": [
        " 15  \n",
        "        Time: 1.23 s    Theta diff: 0.794188118602\n",
        "Iter:"
       ]
      },
      {
       "output_type": "stream",
       "stream": "stdout",
       "text": [
        " 16  \n",
        "        Time: 1.22 s    Theta diff: 0.723917567204\n",
        "Iter:"
       ]
      },
      {
       "output_type": "stream",
       "stream": "stdout",
       "text": [
        " 17  \n",
        "        Time: 1.2 s    Theta diff: 0.666299352649\n",
        "Iter:"
       ]
      },
      {
       "output_type": "stream",
       "stream": "stdout",
       "text": [
        " 18  \n",
        "        Time: 1.23 s    Theta diff: 0.603046972318\n",
        "Iter:"
       ]
      },
      {
       "output_type": "stream",
       "stream": "stdout",
       "text": [
        " 19  \n",
        "        Time: 1.25 s    Theta diff: 0.564123107982\n",
        "Iter:"
       ]
      },
      {
       "output_type": "stream",
       "stream": "stdout",
       "text": [
        " 20  \n",
        "        Time: 1.21 s    Theta diff: 0.521997809758\n",
        "Iter:"
       ]
      },
      {
       "output_type": "stream",
       "stream": "stdout",
       "text": [
        " 21  \n",
        "        Time: 1.22 s    Theta diff: 0.484743303103\n",
        "Iter:"
       ]
      },
      {
       "output_type": "stream",
       "stream": "stdout",
       "text": [
        " 22  \n",
        "        Time: 1.22 s    Theta diff: 0.447119510299\n",
        "Iter:"
       ]
      },
      {
       "output_type": "stream",
       "stream": "stdout",
       "text": [
        " 23  \n",
        "        Time: 1.35 s    Theta diff: 0.419178820663\n",
        "Iter:"
       ]
      },
      {
       "output_type": "stream",
       "stream": "stdout",
       "text": [
        " 24  \n",
        "        Time: 1.38 s    Theta diff: 0.398273659033\n",
        "Iter:"
       ]
      },
      {
       "output_type": "stream",
       "stream": "stdout",
       "text": [
        " 25  \n",
        "        Time: 1.57 s    Theta diff: 0.374460548479\n",
        "Iter:"
       ]
      },
      {
       "output_type": "stream",
       "stream": "stdout",
       "text": [
        " 26  \n",
        "        Time: 1.9 s    Theta diff: 0.343711278659\n",
        "Iter:"
       ]
      },
      {
       "output_type": "stream",
       "stream": "stdout",
       "text": [
        " 27  \n",
        "        Time: 1.5 s    Theta diff: 0.329212815179\n",
        "Iter:"
       ]
      },
      {
       "output_type": "stream",
       "stream": "stdout",
       "text": [
        " 28  \n",
        "        Time: 1.41 s    Theta diff: 0.312133763836\n",
        "Iter:"
       ]
      },
      {
       "output_type": "stream",
       "stream": "stdout",
       "text": [
        " 29  \n",
        "        Time: 1.48 s    Theta diff: 0.293708448753\n",
        "Iter:"
       ]
      },
      {
       "output_type": "stream",
       "stream": "stdout",
       "text": [
        " 30  \n",
        "        Time: 1.42 s    Theta diff: 0.279055016986\n",
        "Iter:"
       ]
      },
      {
       "output_type": "stream",
       "stream": "stdout",
       "text": [
        " 31  \n",
        "        Time: 1.3 s    Theta diff: 0.271590992139\n",
        "Iter:"
       ]
      },
      {
       "output_type": "stream",
       "stream": "stdout",
       "text": [
        " 32  \n",
        "        Time: 1.34 s    Theta diff: 0.255477563366\n",
        "Iter:"
       ]
      },
      {
       "output_type": "stream",
       "stream": "stdout",
       "text": [
        " 33  \n",
        "        Time: 1.51 s    Theta diff: 0.241655365431\n",
        "Iter:"
       ]
      },
      {
       "output_type": "stream",
       "stream": "stdout",
       "text": [
        " 34  \n",
        "        Time: 1.51 s    Theta diff: 0.230294073614\n",
        "Iter:"
       ]
      },
      {
       "output_type": "stream",
       "stream": "stdout",
       "text": [
        " 35  \n",
        "        Time: 1.47 s    Theta diff: 0.22101008552\n",
        "Iter:"
       ]
      },
      {
       "output_type": "stream",
       "stream": "stdout",
       "text": [
        " 36  \n",
        "        Time: 1.33 s    Theta diff: 0.214230930605\n",
        "Iter:"
       ]
      },
      {
       "output_type": "stream",
       "stream": "stdout",
       "text": [
        " 37  \n",
        "        Time: 1.31 s    Theta diff: 0.204710331645\n",
        "Iter:"
       ]
      },
      {
       "output_type": "stream",
       "stream": "stdout",
       "text": [
        " 38  \n",
        "        Time: 1.47 s    Theta diff: 0.193956584877\n",
        "Iter:"
       ]
      },
      {
       "output_type": "stream",
       "stream": "stdout",
       "text": [
        " 39  \n",
        "        Time: 1.25 s    Theta diff: 0.190228218329\n",
        "Iter:"
       ]
      },
      {
       "output_type": "stream",
       "stream": "stdout",
       "text": [
        " 40  \n",
        "        Time: 1.64 s    Theta diff: 0.181276929838\n",
        "Iter:"
       ]
      },
      {
       "output_type": "stream",
       "stream": "stdout",
       "text": [
        " 41  \n",
        "        Time: 1.49 s    Theta diff: 0.17823720943\n",
        "Iter:"
       ]
      },
      {
       "output_type": "stream",
       "stream": "stdout",
       "text": [
        " 42  \n",
        "        Time: 1.54 s    Theta diff: 0.170220024085\n",
        "Iter:"
       ]
      },
      {
       "output_type": "stream",
       "stream": "stdout",
       "text": [
        " 43  \n",
        "        Time: 1.53 s    Theta diff: 0.163300625498\n",
        "Iter:"
       ]
      },
      {
       "output_type": "stream",
       "stream": "stdout",
       "text": [
        " 44  \n",
        "        Time: 1.23 s    Theta diff: 0.155315106134\n",
        "Iter:"
       ]
      },
      {
       "output_type": "stream",
       "stream": "stdout",
       "text": [
        " 45  \n",
        "        Time: 1.24 s    Theta diff: 0.151984985922\n",
        "Iter:"
       ]
      },
      {
       "output_type": "stream",
       "stream": "stdout",
       "text": [
        " 46  \n",
        "        Time: 1.26 s    Theta diff: 0.147612527181\n",
        "Iter:"
       ]
      },
      {
       "output_type": "stream",
       "stream": "stdout",
       "text": [
        " 47  \n",
        "        Time: 1.23 s    Theta diff: 0.145659555212\n",
        "Iter:"
       ]
      },
      {
       "output_type": "stream",
       "stream": "stdout",
       "text": [
        " 48  \n",
        "        Time: 1.23 s    Theta diff: 0.136063918981\n",
        "Iter:"
       ]
      },
      {
       "output_type": "stream",
       "stream": "stdout",
       "text": [
        " 49  \n",
        "        Time: 1.23 s    Theta diff: 0.133525640136\n",
        "                                             ### Vmesni rezultat ###: "
       ]
      },
      {
       "output_type": "stream",
       "stream": "stdout",
       "text": [
        " 1.98363566171\n",
        "New fold\n",
        "Iter:"
       ]
      },
      {
       "output_type": "stream",
       "stream": "stdout",
       "text": [
        " 0  \n",
        "        Time: 1.25 s    Theta diff: 5.62107773099\n",
        "Iter:"
       ]
      },
      {
       "output_type": "stream",
       "stream": "stdout",
       "text": [
        " 1  \n",
        "        Time: 1.56 s    Theta diff: 4.91282672813\n",
        "Iter:"
       ]
      },
      {
       "output_type": "stream",
       "stream": "stdout",
       "text": [
        " 2  \n",
        "        Time: 1.53 s    Theta diff: 4.15618232872\n",
        "Iter:"
       ]
      },
      {
       "output_type": "stream",
       "stream": "stdout",
       "text": [
        " 3  \n",
        "        Time: 1.34 s    Theta diff: 3.56367675188\n",
        "Iter:"
       ]
      },
      {
       "output_type": "stream",
       "stream": "stdout",
       "text": [
        " 4  \n",
        "        Time: 1.47 s    Theta diff: 3.00043911145\n",
        "Iter:"
       ]
      },
      {
       "output_type": "stream",
       "stream": "stdout",
       "text": [
        " 5  \n",
        "        Time: 1.38 s    Theta diff: 2.53741416681\n",
        "Iter:"
       ]
      },
      {
       "output_type": "stream",
       "stream": "stdout",
       "text": [
        " 6  \n",
        "        Time: 1.41 s    Theta diff: 2.17430173011\n",
        "Iter:"
       ]
      },
      {
       "output_type": "stream",
       "stream": "stdout",
       "text": [
        " 7  \n",
        "        Time: 1.32 s    Theta diff: 1.89218630552\n",
        "Iter:"
       ]
      },
      {
       "output_type": "stream",
       "stream": "stdout",
       "text": [
        " 8  \n",
        "        Time: 1.44 s    Theta diff: 1.63926374815\n",
        "Iter:"
       ]
      },
      {
       "output_type": "stream",
       "stream": "stdout",
       "text": [
        " 9  \n",
        "        Time: 1.34 s    Theta diff: 1.4429889936\n",
        "Iter:"
       ]
      },
      {
       "output_type": "stream",
       "stream": "stdout",
       "text": [
        " 10  \n",
        "        Time: 1.39 s    Theta diff: 1.2627968423\n",
        "Iter:"
       ]
      },
      {
       "output_type": "stream",
       "stream": "stdout",
       "text": [
        " 11  \n",
        "        Time: 1.43 s    Theta diff: 1.13838405185\n",
        "Iter:"
       ]
      },
      {
       "output_type": "stream",
       "stream": "stdout",
       "text": [
        " 12  \n",
        "        Time: 1.52 s    Theta diff: 1.00719333503\n",
        "Iter:"
       ]
      },
      {
       "output_type": "stream",
       "stream": "stdout",
       "text": [
        " 13  \n",
        "        Time: 1.37 s    Theta diff: 0.912711213749\n",
        "Iter:"
       ]
      },
      {
       "output_type": "stream",
       "stream": "stdout",
       "text": [
        " 14  \n",
        "        Time: 1.36 s    Theta diff: 0.829253581126\n",
        "Iter:"
       ]
      },
      {
       "output_type": "stream",
       "stream": "stdout",
       "text": [
        " 15  \n",
        "        Time: 1.37 s    Theta diff: 0.743827975283\n",
        "Iter:"
       ]
      },
      {
       "output_type": "stream",
       "stream": "stdout",
       "text": [
        " 16  \n",
        "        Time: 1.39 s    Theta diff: 0.682342961557\n",
        "Iter:"
       ]
      },
      {
       "output_type": "stream",
       "stream": "stdout",
       "text": [
        " 17  \n",
        "        Time: 1.43 s    Theta diff: 0.627234276963\n",
        "Iter:"
       ]
      },
      {
       "output_type": "stream",
       "stream": "stdout",
       "text": [
        " 18  \n",
        "        Time: 1.28 s    Theta diff: 0.57453564622\n",
        "Iter:"
       ]
      },
      {
       "output_type": "stream",
       "stream": "stdout",
       "text": [
        " 19  \n",
        "        Time: 1.23 s    Theta diff: 0.533156086111\n",
        "Iter:"
       ]
      },
      {
       "output_type": "stream",
       "stream": "stdout",
       "text": [
        " 20  \n",
        "        Time: 1.24 s    Theta diff: 0.49174235379\n",
        "Iter:"
       ]
      },
      {
       "output_type": "stream",
       "stream": "stdout",
       "text": [
        " 21  \n",
        "        Time: 1.24 s    Theta diff: 0.461210686129\n",
        "Iter:"
       ]
      },
      {
       "output_type": "stream",
       "stream": "stdout",
       "text": [
        " 22  \n",
        "        Time: 1.26 s    Theta diff: 0.430332449161\n",
        "Iter:"
       ]
      },
      {
       "output_type": "stream",
       "stream": "stdout",
       "text": [
        " 23  \n",
        "        Time: 1.36 s    Theta diff: 0.400550283444\n",
        "Iter:"
       ]
      },
      {
       "output_type": "stream",
       "stream": "stdout",
       "text": [
        " 24  \n",
        "        Time: 1.35 s    Theta diff: 0.372781229422\n",
        "Iter:"
       ]
      },
      {
       "output_type": "stream",
       "stream": "stdout",
       "text": [
        " 25  \n",
        "        Time: 1.23 s    Theta diff: 0.358213426393\n",
        "Iter:"
       ]
      },
      {
       "output_type": "stream",
       "stream": "stdout",
       "text": [
        " 26  \n",
        "        Time: 1.25 s    Theta diff: 0.328870348336\n",
        "Iter:"
       ]
      },
      {
       "output_type": "stream",
       "stream": "stdout",
       "text": [
        " 27  \n",
        "        Time: 1.4 s    Theta diff: 0.316668889433\n",
        "Iter:"
       ]
      },
      {
       "output_type": "stream",
       "stream": "stdout",
       "text": [
        " 28  \n",
        "        Time: 1.25 s    Theta diff: 0.303033885883\n",
        "Iter:"
       ]
      },
      {
       "output_type": "stream",
       "stream": "stdout",
       "text": [
        " 29  \n",
        "        Time: 1.23 s    Theta diff: 0.28615672202\n",
        "Iter:"
       ]
      },
      {
       "output_type": "stream",
       "stream": "stdout",
       "text": [
        " 30  \n",
        "        Time: 1.22 s    Theta diff: 0.277578267724\n",
        "Iter:"
       ]
      },
      {
       "output_type": "stream",
       "stream": "stdout",
       "text": [
        " 31  \n",
        "        Time: 1.21 s    Theta diff: 0.261279332209\n",
        "Iter:"
       ]
      },
      {
       "output_type": "stream",
       "stream": "stdout",
       "text": [
        " 32  \n",
        "        Time: 1.21 s    Theta diff: 0.24861834947\n",
        "Iter:"
       ]
      },
      {
       "output_type": "stream",
       "stream": "stdout",
       "text": [
        " 33  \n",
        "        Time: 1.32 s    Theta diff: 0.234714719469\n",
        "Iter:"
       ]
      },
      {
       "output_type": "stream",
       "stream": "stdout",
       "text": [
        " 34  \n",
        "        Time: 1.24 s    Theta diff: 0.222545341324\n",
        "Iter:"
       ]
      },
      {
       "output_type": "stream",
       "stream": "stdout",
       "text": [
        " 35  \n",
        "        Time: 1.25 s    Theta diff: 0.213436918186\n",
        "Iter:"
       ]
      },
      {
       "output_type": "stream",
       "stream": "stdout",
       "text": [
        " 36  \n",
        "        Time: 1.32 s    Theta diff: 0.202957437405\n",
        "Iter:"
       ]
      },
      {
       "output_type": "stream",
       "stream": "stdout",
       "text": [
        " 37  \n",
        "        Time: 1.21 s    Theta diff: 0.199290064599\n",
        "Iter:"
       ]
      },
      {
       "output_type": "stream",
       "stream": "stdout",
       "text": [
        " 38  \n",
        "        Time: 1.22 s    Theta diff: 0.189682258848\n",
        "Iter:"
       ]
      },
      {
       "output_type": "stream",
       "stream": "stdout",
       "text": [
        " 39  \n",
        "        Time: 1.21 s    Theta diff: 0.183779917307\n",
        "Iter:"
       ]
      },
      {
       "output_type": "stream",
       "stream": "stdout",
       "text": [
        " 40  \n",
        "        Time: 1.21 s    Theta diff: 0.176330409741\n",
        "Iter:"
       ]
      },
      {
       "output_type": "stream",
       "stream": "stdout",
       "text": [
        " 41  \n",
        "        Time: 1.25 s    Theta diff: 0.16789351965\n",
        "Iter:"
       ]
      },
      {
       "output_type": "stream",
       "stream": "stdout",
       "text": [
        " 42  \n",
        "        Time: 1.21 s    Theta diff: 0.166637230051\n",
        "Iter:"
       ]
      },
      {
       "output_type": "stream",
       "stream": "stdout",
       "text": [
        " 43  \n",
        "        Time: 1.23 s    Theta diff: 0.155958057686\n",
        "Iter:"
       ]
      },
      {
       "output_type": "stream",
       "stream": "stdout",
       "text": [
        " 44  \n",
        "        Time: 1.23 s    Theta diff: 0.158068666809\n",
        "Iter:"
       ]
      },
      {
       "output_type": "stream",
       "stream": "stdout",
       "text": [
        " 45  \n",
        "        Time: 1.23 s    Theta diff: 0.1449612733\n",
        "Iter:"
       ]
      },
      {
       "output_type": "stream",
       "stream": "stdout",
       "text": [
        " 46  \n",
        "        Time: 1.27 s    Theta diff: 0.142787316259\n",
        "Iter:"
       ]
      },
      {
       "output_type": "stream",
       "stream": "stdout",
       "text": [
        " 47  \n",
        "        Time: 1.59 s    Theta diff: 0.140380309534\n",
        "Iter:"
       ]
      },
      {
       "output_type": "stream",
       "stream": "stdout",
       "text": [
        " 48  \n",
        "        Time: 1.45 s    Theta diff: 0.133010749697\n",
        "Iter:"
       ]
      },
      {
       "output_type": "stream",
       "stream": "stdout",
       "text": [
        " 49  \n",
        "        Time: 1.46 s    Theta diff: 0.129943946143\n",
        "                                             ### Vmesni rezultat ###: "
       ]
      },
      {
       "output_type": "stream",
       "stream": "stdout",
       "text": [
        " 1.99659013488\n",
        "New fold\n",
        "Iter:"
       ]
      },
      {
       "output_type": "stream",
       "stream": "stdout",
       "text": [
        " 0  \n",
        "        Time: 1.48 s    Theta diff: 5.51557576514\n",
        "Iter:"
       ]
      },
      {
       "output_type": "stream",
       "stream": "stdout",
       "text": [
        " 1  \n",
        "        Time: 1.37 s    Theta diff: 4.78911350289\n",
        "Iter:"
       ]
      },
      {
       "output_type": "stream",
       "stream": "stdout",
       "text": [
        " 2  \n",
        "        Time: 1.33 s    Theta diff: 4.10599371444\n",
        "Iter:"
       ]
      },
      {
       "output_type": "stream",
       "stream": "stdout",
       "text": [
        " 3  \n",
        "        Time: 1.39 s    Theta diff: 3.52920131761\n",
        "Iter:"
       ]
      },
      {
       "output_type": "stream",
       "stream": "stdout",
       "text": [
        " 4  \n",
        "        Time: 1.33 s    Theta diff: 3.04123826596\n",
        "Iter:"
       ]
      },
      {
       "output_type": "stream",
       "stream": "stdout",
       "text": [
        " 5  \n",
        "        Time: 1.24 s    Theta diff: 2.54700412673\n",
        "Iter:"
       ]
      },
      {
       "output_type": "stream",
       "stream": "stdout",
       "text": [
        " 6  \n",
        "        Time: 1.22 s    Theta diff: 2.22344527866\n",
        "Iter:"
       ]
      },
      {
       "output_type": "stream",
       "stream": "stdout",
       "text": [
        " 7  \n",
        "        Time: 1.27 s    Theta diff: 1.89548021111\n",
        "Iter:"
       ]
      },
      {
       "output_type": "stream",
       "stream": "stdout",
       "text": [
        " 8  \n",
        "        Time: 1.25 s    Theta diff: 1.64424093505\n",
        "Iter:"
       ]
      },
      {
       "output_type": "stream",
       "stream": "stdout",
       "text": [
        " 9  \n",
        "        Time: 1.29 s    Theta diff: 1.44898904589\n",
        "Iter:"
       ]
      },
      {
       "output_type": "stream",
       "stream": "stdout",
       "text": [
        " 10  \n",
        "        Time: 1.42 s    Theta diff: 1.28109500483\n",
        "Iter:"
       ]
      },
      {
       "output_type": "stream",
       "stream": "stdout",
       "text": [
        " 11  \n",
        "        Time: 1.37 s    Theta diff: 1.13901577649\n",
        "Iter:"
       ]
      },
      {
       "output_type": "stream",
       "stream": "stdout",
       "text": [
        " 12  \n",
        "        Time: 1.38 s    Theta diff: 1.01857313736\n",
        "Iter:"
       ]
      },
      {
       "output_type": "stream",
       "stream": "stdout",
       "text": [
        " 13  \n",
        "        Time: 1.35 s    Theta diff: 0.929463496555\n",
        "Iter:"
       ]
      },
      {
       "output_type": "stream",
       "stream": "stdout",
       "text": [
        " 14  \n",
        "        Time: 1.34 s    Theta diff: 0.834901979871\n",
        "Iter:"
       ]
      },
      {
       "output_type": "stream",
       "stream": "stdout",
       "text": [
        " 15  \n",
        "        Time: 1.45 s    Theta diff: 0.758443971258\n",
        "Iter:"
       ]
      },
      {
       "output_type": "stream",
       "stream": "stdout",
       "text": [
        " 16  \n",
        "        Time: 1.42 s    Theta diff: 0.69460557081\n",
        "Iter:"
       ]
      },
      {
       "output_type": "stream",
       "stream": "stdout",
       "text": [
        " 17  \n",
        "        Time: 1.37 s    Theta diff: 0.64100850645\n",
        "Iter:"
       ]
      },
      {
       "output_type": "stream",
       "stream": "stdout",
       "text": [
        " 18  \n",
        "        Time: 1.25 s    Theta diff: 0.582111309519\n",
        "Iter:"
       ]
      },
      {
       "output_type": "stream",
       "stream": "stdout",
       "text": [
        " 19  \n",
        "        Time: 1.23 s    Theta diff: 0.542833218823\n",
        "Iter:"
       ]
      },
      {
       "output_type": "stream",
       "stream": "stdout",
       "text": [
        " 20  \n",
        "        Time: 1.23 s    Theta diff: 0.504991229129\n",
        "Iter:"
       ]
      },
      {
       "output_type": "stream",
       "stream": "stdout",
       "text": [
        " 21  \n",
        "        Time: 1.24 s    Theta diff: 0.465563743764\n",
        "Iter:"
       ]
      },
      {
       "output_type": "stream",
       "stream": "stdout",
       "text": [
        " 22  \n",
        "        Time: 1.24 s    Theta diff: 0.43145841808\n",
        "Iter:"
       ]
      },
      {
       "output_type": "stream",
       "stream": "stdout",
       "text": [
        " 23  \n",
        "        Time: 1.34 s    Theta diff: 0.401266644057\n",
        "Iter:"
       ]
      },
      {
       "output_type": "stream",
       "stream": "stdout",
       "text": [
        " 24  \n",
        "        Time: 1.23 s    Theta diff: 0.379963935445\n",
        "Iter:"
       ]
      },
      {
       "output_type": "stream",
       "stream": "stdout",
       "text": [
        " 25  \n",
        "        Time: 1.25 s    Theta diff: 0.351912940448\n",
        "Iter:"
       ]
      },
      {
       "output_type": "stream",
       "stream": "stdout",
       "text": [
        " 26  \n",
        "        Time: 1.34 s    Theta diff: 0.330388643655\n",
        "Iter:"
       ]
      },
      {
       "output_type": "stream",
       "stream": "stdout",
       "text": [
        " 27  \n",
        "        Time: 1.29 s    Theta diff: 0.320014597191\n",
        "Iter:"
       ]
      },
      {
       "output_type": "stream",
       "stream": "stdout",
       "text": [
        " 28  \n",
        "        Time: 1.24 s    Theta diff: 0.301465921748\n",
        "Iter:"
       ]
      },
      {
       "output_type": "stream",
       "stream": "stdout",
       "text": [
        " 29  \n",
        "        Time: 1.25 s    Theta diff: 0.284637214006\n",
        "Iter:"
       ]
      },
      {
       "output_type": "stream",
       "stream": "stdout",
       "text": [
        " 30  \n",
        "        Time: 1.23 s    Theta diff: 0.275444652289\n",
        "Iter:"
       ]
      },
      {
       "output_type": "stream",
       "stream": "stdout",
       "text": [
        " 31  \n",
        "        Time: 1.24 s    Theta diff: 0.256803126611\n",
        "Iter:"
       ]
      },
      {
       "output_type": "stream",
       "stream": "stdout",
       "text": [
        " 32  \n",
        "        Time: 1.25 s    Theta diff: 0.248783093865\n",
        "Iter:"
       ]
      },
      {
       "output_type": "stream",
       "stream": "stdout",
       "text": [
        " 33  \n",
        "        Time: 1.23 s    Theta diff: 0.240560803901\n",
        "Iter:"
       ]
      },
      {
       "output_type": "stream",
       "stream": "stdout",
       "text": [
        " 34  \n",
        "        Time: 1.31 s    Theta diff: 0.224529987878\n",
        "Iter:"
       ]
      },
      {
       "output_type": "stream",
       "stream": "stdout",
       "text": [
        " 35  \n",
        "        Time: 1.27 s    Theta diff: 0.216863448434\n",
        "Iter:"
       ]
      },
      {
       "output_type": "stream",
       "stream": "stdout",
       "text": [
        " 36  \n",
        "        Time: 1.29 s    Theta diff: 0.206272845003\n",
        "Iter:"
       ]
      },
      {
       "output_type": "stream",
       "stream": "stdout",
       "text": [
        " 37  \n",
        "        Time: 1.25 s    Theta diff: 0.200050120839\n",
        "Iter:"
       ]
      },
      {
       "output_type": "stream",
       "stream": "stdout",
       "text": [
        " 38  \n",
        "        Time: 1.28 s    Theta diff: 0.189448935591\n",
        "Iter:"
       ]
      },
      {
       "output_type": "stream",
       "stream": "stdout",
       "text": [
        " 39  \n",
        "        Time: 1.23 s    Theta diff: 0.180058297395\n",
        "Iter:"
       ]
      },
      {
       "output_type": "stream",
       "stream": "stdout",
       "text": [
        " 40  \n",
        "        Time: 1.25 s    Theta diff: 0.176385134261\n",
        "Iter:"
       ]
      },
      {
       "output_type": "stream",
       "stream": "stdout",
       "text": [
        " 41  \n",
        "        Time: 1.29 s    Theta diff: 0.16667083195\n",
        "Iter:"
       ]
      },
      {
       "output_type": "stream",
       "stream": "stdout",
       "text": [
        " 42  \n",
        "        Time: 1.33 s    Theta diff: 0.163871488505\n",
        "Iter:"
       ]
      },
      {
       "output_type": "stream",
       "stream": "stdout",
       "text": [
        " 43  \n",
        "        Time: 1.25 s    Theta diff: 0.156134974296\n",
        "Iter:"
       ]
      },
      {
       "output_type": "stream",
       "stream": "stdout",
       "text": [
        " 44  \n",
        "        Time: 1.22 s    Theta diff: 0.152447515125\n",
        "Iter:"
       ]
      },
      {
       "output_type": "stream",
       "stream": "stdout",
       "text": [
        " 45  \n",
        "        Time: 1.23 s    Theta diff: 0.14585714379\n",
        "Iter:"
       ]
      },
      {
       "output_type": "stream",
       "stream": "stdout",
       "text": [
        " 46  \n",
        "        Time: 1.22 s    Theta diff: 0.139522268283\n",
        "Iter:"
       ]
      },
      {
       "output_type": "stream",
       "stream": "stdout",
       "text": [
        " 47  \n",
        "        Time: 1.21 s    Theta diff: 0.140461219297\n",
        "Iter:"
       ]
      },
      {
       "output_type": "stream",
       "stream": "stdout",
       "text": [
        " 48  \n",
        "        Time: 1.21 s    Theta diff: 0.132778090866\n",
        "Iter:"
       ]
      },
      {
       "output_type": "stream",
       "stream": "stdout",
       "text": [
        " 49  \n",
        "        Time: 1.22 s    Theta diff: 0.126129673069\n",
        "                                             ### Vmesni rezultat ###: "
       ]
      },
      {
       "output_type": "stream",
       "stream": "stdout",
       "text": [
        " 1.97082341844\n"
       ]
      },
      {
       "metadata": {},
       "output_type": "pyout",
       "prompt_number": 35,
       "text": [
        "1.9836830716758307"
       ]
      }
     ],
     "prompt_number": 35
    },
    {
     "cell_type": "heading",
     "level": 3,
     "metadata": {},
     "source": [
      "Final Fit-Predict"
     ]
    },
    {
     "cell_type": "code",
     "collapsed": false,
     "input": [
      "def predict(hidden=[20, 20], \n",
      "           g=sigmoid, \n",
      "           g_derivative=sigmoid_derivative, \n",
      "           lambda_=1e-4, \n",
      "           lbfgs_maxiter=1, \n",
      "           learning_rate=1, \n",
      "           dropout=0.1, \n",
      "           lbfgs=False,\n",
      "           \n",
      "           batch_size=500, \n",
      "           batch_iterations=500, \n",
      "           ):\n",
      "    \n",
      "    X = X_train\n",
      "    Y = Y_train\n",
      "    \n",
      "    arch = [X.shape[1]] + hidden + [NUM_OF_CLASSES]\n",
      "\n",
      "    learner = NeuralNetLearner(arch, g=g, g_derivative=g_derivative, lambda_=lambda_, maxiter=lbfgs_maxiter, learning_rate=learning_rate, dropout=dropout, lbfgs=lbfgs)\n",
      "    bs = BatchSeq( learner, size=batch_size, iterations=batch_iterations)\n",
      "    bs.fit(X, Y)\n",
      "    predicted = bs.predict(X_test)\n",
      "    return predicted"
     ],
     "language": "python",
     "metadata": {},
     "outputs": [],
     "prompt_number": 34
    },
    {
     "cell_type": "code",
     "collapsed": false,
     "input": [
      "def write_to_file(predicted, name):\n",
      "    answer = np.matrix(predicted.astype(str))\n",
      "    ids = np.matrix(range(1, answer.shape[0]+1))\n",
      "    answer = np.hstack((ids.T.astype(str), answer))\n",
      "    answer = np.vstack((np.array([\"id\",\"Class_1\",\"Class_2\",\"Class_3\",\"Class_4\",\"Class_5\",\"Class_6\",\"Class_7\",\"Class_8\",\"Class_9\"]), answer))\n",
      "    answer = answer.tolist()\n",
      "    answer = \"\\n\".join( [\",\".join(line) for line in answer] )\n",
      "\n",
      "    fo = open(\"../results2/\"+name+\".csv\", \"wt\")\n",
      "    fo.write(answer)\n",
      "    fo.close()"
     ],
     "language": "python",
     "metadata": {},
     "outputs": [],
     "prompt_number": 31
    },
    {
     "cell_type": "code",
     "collapsed": false,
     "input": [
      "predicted = predict(hidden=[30, 30], \n",
      "           g=sigmoid, \n",
      "           g_derivative=sigmoid_derivative, \n",
      "           lambda_=1e-5, \n",
      "           lbfgs_maxiter=1000000, \n",
      "           learning_rate=0.1, \n",
      "           dropout=0.1, \n",
      "           lbfgs=True,\n",
      "           \n",
      "           batch_size=1000, \n",
      "           batch_iterations=3, \n",
      "           )"
     ],
     "language": "python",
     "metadata": {},
     "outputs": [
      {
       "output_type": "stream",
       "stream": "stdout",
       "text": [
        "info: {'funcalls': 38, 'grad': array([  1.62509339e-04,  -1.95785044e-04,  -5.70245537e-05, ...,\n",
        "         6.71054243e-04,  -5.97599178e-03,   7.32896881e-03]), 'warnflag': 0, 'task': b'CONVERGENCE: REL_REDUCTION_OF_F_<=_FACTR*EPSMCH', 'nit': 24}\n",
        "info:"
       ]
      },
      {
       "output_type": "stream",
       "stream": "stdout",
       "text": [
        " {'funcalls': 40, 'grad': array([ -7.79620122e-05,   3.83728197e-05,   4.88795016e-05, ...,\n",
        "         9.18163608e-05,  -1.96322856e-03,   3.86673974e-04]), 'warnflag': 0, 'task': b'CONVERGENCE: REL_REDUCTION_OF_F_<=_FACTR*EPSMCH', 'nit': 27}\n",
        "info:"
       ]
      },
      {
       "output_type": "stream",
       "stream": "stdout",
       "text": [
        " {'funcalls': 57, 'grad': array([  2.17207064e-04,  -2.80967415e-05,   7.10427788e-05, ...,\n",
        "        -2.38268934e-04,  -4.29011528e-04,   4.09648267e-05]), 'warnflag': 0, 'task': b'CONVERGENCE: REL_REDUCTION_OF_F_<=_FACTR*EPSMCH', 'nit': 40}\n",
        "info:"
       ]
      },
      {
       "output_type": "stream",
       "stream": "stdout",
       "text": [
        " {'funcalls': 76, 'grad': array([ -7.55914032e-05,  -3.93268272e-06,   3.93321464e-05, ...,\n",
        "         1.38472590e-05,   8.06898016e-04,   1.00544144e-04]), 'warnflag': 0, 'task': b'CONVERGENCE: REL_REDUCTION_OF_F_<=_FACTR*EPSMCH', 'nit': 62}\n",
        "info:"
       ]
      },
      {
       "output_type": "stream",
       "stream": "stdout",
       "text": [
        " {'funcalls': 48, 'grad': array([ -2.17454835e-05,   1.56949931e-05,   1.29993270e-04, ...,\n",
        "         6.34410883e-04,  -1.19461002e-03,   7.78571532e-04]), 'warnflag': 0, 'task': b'CONVERGENCE: REL_REDUCTION_OF_F_<=_FACTR*EPSMCH', 'nit': 34}\n",
        "info:"
       ]
      },
      {
       "output_type": "stream",
       "stream": "stdout",
       "text": [
        " {'funcalls': 101, 'grad': array([ -1.43892612e-05,   6.31991330e-05,  -1.89865455e-04, ...,\n",
        "         6.82930405e-04,  -5.09210330e-04,   1.17515393e-03]), 'warnflag': 0, 'task': b'CONVERGENCE: REL_REDUCTION_OF_F_<=_FACTR*EPSMCH', 'nit': 81}\n",
        "info:"
       ]
      },
      {
       "output_type": "stream",
       "stream": "stdout",
       "text": [
        " {'funcalls': 72, 'grad': array([ -3.84111255e-05,   6.42516923e-05,  -2.01487417e-04, ...,\n",
        "         6.11815634e-04,  -1.61395540e-04,   7.54709225e-04]), 'warnflag': 0, 'task': b'CONVERGENCE: REL_REDUCTION_OF_F_<=_FACTR*EPSMCH', 'nit': 56}\n"
       ]
      },
      {
       "ename": "KeyboardInterrupt",
       "evalue": "",
       "output_type": "pyerr",
       "traceback": [
        "\u001b[1;31m---------------------------------------------------------------------------\u001b[0m\n\u001b[1;31mKeyboardInterrupt\u001b[0m                         Traceback (most recent call last)",
        "\u001b[1;32m<ipython-input-48-0ee0f6a5fc55>\u001b[0m in \u001b[0;36m<module>\u001b[1;34m()\u001b[0m\n\u001b[0;32m      9\u001b[0m \u001b[1;33m\u001b[0m\u001b[0m\n\u001b[0;32m     10\u001b[0m            \u001b[0mbatch_size\u001b[0m\u001b[1;33m=\u001b[0m\u001b[1;36m1000\u001b[0m\u001b[1;33m,\u001b[0m\u001b[1;33m\u001b[0m\u001b[0m\n\u001b[1;32m---> 11\u001b[1;33m            \u001b[0mbatch_iterations\u001b[0m\u001b[1;33m=\u001b[0m\u001b[1;36m3\u001b[0m\u001b[1;33m,\u001b[0m\u001b[1;33m\u001b[0m\u001b[0m\n\u001b[0m\u001b[0;32m     12\u001b[0m            )\n",
        "\u001b[1;32m<ipython-input-34-272bbdfb6b22>\u001b[0m in \u001b[0;36mpredict\u001b[1;34m(hidden, g, g_derivative, lambda_, lbfgs_maxiter, learning_rate, dropout, lbfgs, batch_size, batch_iterations)\u001b[0m\n\u001b[0;32m     19\u001b[0m     \u001b[0mlearner\u001b[0m \u001b[1;33m=\u001b[0m \u001b[0mNeuralNetLearner\u001b[0m\u001b[1;33m(\u001b[0m\u001b[0march\u001b[0m\u001b[1;33m,\u001b[0m \u001b[0mg\u001b[0m\u001b[1;33m=\u001b[0m\u001b[0mg\u001b[0m\u001b[1;33m,\u001b[0m \u001b[0mg_derivative\u001b[0m\u001b[1;33m=\u001b[0m\u001b[0mg_derivative\u001b[0m\u001b[1;33m,\u001b[0m \u001b[0mlambda_\u001b[0m\u001b[1;33m=\u001b[0m\u001b[0mlambda_\u001b[0m\u001b[1;33m,\u001b[0m \u001b[0mmaxiter\u001b[0m\u001b[1;33m=\u001b[0m\u001b[0mlbfgs_maxiter\u001b[0m\u001b[1;33m,\u001b[0m \u001b[0mlearning_rate\u001b[0m\u001b[1;33m=\u001b[0m\u001b[0mlearning_rate\u001b[0m\u001b[1;33m,\u001b[0m \u001b[0mdropout\u001b[0m\u001b[1;33m=\u001b[0m\u001b[0mdropout\u001b[0m\u001b[1;33m,\u001b[0m \u001b[0mlbfgs\u001b[0m\u001b[1;33m=\u001b[0m\u001b[0mlbfgs\u001b[0m\u001b[1;33m)\u001b[0m\u001b[1;33m\u001b[0m\u001b[0m\n\u001b[0;32m     20\u001b[0m     \u001b[0mbs\u001b[0m \u001b[1;33m=\u001b[0m \u001b[0mBatchSeq\u001b[0m\u001b[1;33m(\u001b[0m \u001b[0mlearner\u001b[0m\u001b[1;33m,\u001b[0m \u001b[0msize\u001b[0m\u001b[1;33m=\u001b[0m\u001b[0mbatch_size\u001b[0m\u001b[1;33m,\u001b[0m \u001b[0miterations\u001b[0m\u001b[1;33m=\u001b[0m\u001b[0mbatch_iterations\u001b[0m\u001b[1;33m)\u001b[0m\u001b[1;33m\u001b[0m\u001b[0m\n\u001b[1;32m---> 21\u001b[1;33m     \u001b[0mbs\u001b[0m\u001b[1;33m.\u001b[0m\u001b[0mfit\u001b[0m\u001b[1;33m(\u001b[0m\u001b[0mX\u001b[0m\u001b[1;33m,\u001b[0m \u001b[0mY\u001b[0m\u001b[1;33m)\u001b[0m\u001b[1;33m\u001b[0m\u001b[0m\n\u001b[0m\u001b[0;32m     22\u001b[0m     \u001b[0mpredicted\u001b[0m \u001b[1;33m=\u001b[0m \u001b[0mbs\u001b[0m\u001b[1;33m.\u001b[0m\u001b[0mpredict\u001b[0m\u001b[1;33m(\u001b[0m\u001b[0mX_test\u001b[0m\u001b[1;33m)\u001b[0m\u001b[1;33m\u001b[0m\u001b[0m\n\u001b[0;32m     23\u001b[0m     \u001b[1;32mreturn\u001b[0m \u001b[0mpredicted\u001b[0m\u001b[1;33m\u001b[0m\u001b[0m\n",
        "\u001b[1;32m<ipython-input-29-ceebbf54b2c2>\u001b[0m in \u001b[0;36mfit\u001b[1;34m(self, X, Y)\u001b[0m\n\u001b[0;32m     42\u001b[0m             \u001b[0mX\u001b[0m\u001b[1;33m,\u001b[0m \u001b[0mY\u001b[0m \u001b[1;33m=\u001b[0m \u001b[0mshuffle\u001b[0m\u001b[1;33m(\u001b[0m\u001b[0mX\u001b[0m\u001b[1;33m,\u001b[0m \u001b[0mY\u001b[0m\u001b[1;33m)\u001b[0m\u001b[1;33m\u001b[0m\u001b[0m\n\u001b[0;32m     43\u001b[0m             \u001b[0mprev_thetas\u001b[0m \u001b[1;33m=\u001b[0m \u001b[0mthetas\u001b[0m\u001b[1;33m\u001b[0m\u001b[0m\n\u001b[1;32m---> 44\u001b[1;33m             \u001b[0mthetas\u001b[0m \u001b[1;33m=\u001b[0m \u001b[0mself\u001b[0m\u001b[1;33m.\u001b[0m\u001b[0mfit_thetas\u001b[0m\u001b[1;33m(\u001b[0m\u001b[0mX\u001b[0m\u001b[1;33m,\u001b[0m \u001b[0mY\u001b[0m\u001b[1;33m,\u001b[0m \u001b[0mthetas\u001b[0m\u001b[1;33m)\u001b[0m\u001b[1;33m\u001b[0m\u001b[0m\n\u001b[0m\u001b[0;32m     45\u001b[0m             \u001b[0mdiff\u001b[0m \u001b[1;33m=\u001b[0m \u001b[0mabs\u001b[0m\u001b[1;33m(\u001b[0m\u001b[0mthetas\u001b[0m \u001b[1;33m-\u001b[0m \u001b[0mprev_thetas\u001b[0m\u001b[1;33m)\u001b[0m\u001b[1;33m\u001b[0m\u001b[0m\n\u001b[0;32m     46\u001b[0m \u001b[1;33m\u001b[0m\u001b[0m\n",
        "\u001b[1;32m<ipython-input-29-ceebbf54b2c2>\u001b[0m in \u001b[0;36mfit_thetas\u001b[1;34m(self, X, y_, thetas)\u001b[0m\n\u001b[0;32m     18\u001b[0m         \u001b[1;32mfor\u001b[0m \u001b[0mlo\u001b[0m\u001b[1;33m,\u001b[0m \u001b[0mhi\u001b[0m \u001b[1;32min\u001b[0m \u001b[0msplit\u001b[0m\u001b[1;33m:\u001b[0m\u001b[1;33m\u001b[0m\u001b[0m\n\u001b[0;32m     19\u001b[0m             \u001b[0mcounter\u001b[0m \u001b[1;33m+=\u001b[0m \u001b[1;36m1\u001b[0m\u001b[1;33m\u001b[0m\u001b[0m\n\u001b[1;32m---> 20\u001b[1;33m             \u001b[0mthetas\u001b[0m \u001b[1;33m=\u001b[0m \u001b[0mself\u001b[0m\u001b[1;33m.\u001b[0m\u001b[0mlearner\u001b[0m\u001b[1;33m.\u001b[0m\u001b[0mfit\u001b[0m\u001b[1;33m(\u001b[0m \u001b[0mX\u001b[0m\u001b[1;33m[\u001b[0m\u001b[0mlo\u001b[0m\u001b[1;33m:\u001b[0m\u001b[0mhi\u001b[0m\u001b[1;33m]\u001b[0m\u001b[1;33m,\u001b[0m \u001b[0my_\u001b[0m\u001b[1;33m[\u001b[0m\u001b[0mlo\u001b[0m\u001b[1;33m:\u001b[0m\u001b[0mhi\u001b[0m\u001b[1;33m]\u001b[0m\u001b[1;33m,\u001b[0m \u001b[0mthetas\u001b[0m\u001b[1;33m=\u001b[0m\u001b[0mthetas\u001b[0m\u001b[1;33m)\u001b[0m\u001b[1;33m\u001b[0m\u001b[0m\n\u001b[0m\u001b[0;32m     21\u001b[0m         \u001b[1;32mreturn\u001b[0m \u001b[0mthetas\u001b[0m\u001b[1;33m\u001b[0m\u001b[0m\n\u001b[0;32m     22\u001b[0m \u001b[1;33m\u001b[0m\u001b[0m\n",
        "\u001b[1;32m<ipython-input-41-46d5150d8ea5>\u001b[0m in \u001b[0;36mfit\u001b[1;34m(self, X, Y, thetas)\u001b[0m\n\u001b[0;32m    182\u001b[0m             self.thetas, fmin, info = fmin_l_bfgs_b(func = self.J,\n\u001b[0;32m    183\u001b[0m                                           \u001b[0mx0\u001b[0m \u001b[1;33m=\u001b[0m \u001b[0mself\u001b[0m\u001b[1;33m.\u001b[0m\u001b[0mthetas\u001b[0m\u001b[1;33m,\u001b[0m\u001b[1;33m\u001b[0m\u001b[0m\n\u001b[1;32m--> 184\u001b[1;33m                                            \u001b[0mfprime\u001b[0m \u001b[1;33m=\u001b[0m \u001b[0mself\u001b[0m\u001b[1;33m.\u001b[0m\u001b[0mJgradMatrix\u001b[0m\u001b[1;33m,\u001b[0m\u001b[1;33m\u001b[0m\u001b[0m\n\u001b[0m\u001b[0;32m    185\u001b[0m                                            \u001b[1;31m#maxiter=self.maxiter,\u001b[0m\u001b[1;33m\u001b[0m\u001b[1;33m\u001b[0m\u001b[0m\n\u001b[0;32m    186\u001b[0m                                            \u001b[1;31m#factr=10\u001b[0m\u001b[1;33m\u001b[0m\u001b[1;33m\u001b[0m\u001b[0m\n",
        "\u001b[1;32mC:\\Python34\\lib\\site-packages\\scipy\\optimize\\lbfgsb.py\u001b[0m in \u001b[0;36mfmin_l_bfgs_b\u001b[1;34m(func, x0, fprime, args, approx_grad, bounds, m, factr, pgtol, epsilon, iprint, maxfun, maxiter, disp, callback)\u001b[0m\n\u001b[0;32m    185\u001b[0m \u001b[1;33m\u001b[0m\u001b[0m\n\u001b[0;32m    186\u001b[0m     res = _minimize_lbfgsb(fun, x0, args=args, jac=jac, bounds=bounds,\n\u001b[1;32m--> 187\u001b[1;33m                            **opts)\n\u001b[0m\u001b[0;32m    188\u001b[0m     d = {'grad': res['jac'],\n\u001b[0;32m    189\u001b[0m          \u001b[1;34m'task'\u001b[0m\u001b[1;33m:\u001b[0m \u001b[0mres\u001b[0m\u001b[1;33m[\u001b[0m\u001b[1;34m'message'\u001b[0m\u001b[1;33m]\u001b[0m\u001b[1;33m,\u001b[0m\u001b[1;33m\u001b[0m\u001b[0m\n",
        "\u001b[1;32mC:\\Python34\\lib\\site-packages\\scipy\\optimize\\lbfgsb.py\u001b[0m in \u001b[0;36m_minimize_lbfgsb\u001b[1;34m(fun, x0, args, jac, bounds, disp, maxcor, ftol, gtol, eps, maxfun, maxiter, iprint, callback, **unknown_options)\u001b[0m\n\u001b[0;32m    313\u001b[0m                 \u001b[1;31m# minimization routine wants f and g at the current x\u001b[0m\u001b[1;33m\u001b[0m\u001b[1;33m\u001b[0m\u001b[0m\n\u001b[0;32m    314\u001b[0m                 \u001b[1;31m# Overwrite f and g:\u001b[0m\u001b[1;33m\u001b[0m\u001b[1;33m\u001b[0m\u001b[0m\n\u001b[1;32m--> 315\u001b[1;33m                 \u001b[0mf\u001b[0m\u001b[1;33m,\u001b[0m \u001b[0mg\u001b[0m \u001b[1;33m=\u001b[0m \u001b[0mfunc_and_grad\u001b[0m\u001b[1;33m(\u001b[0m\u001b[0mx\u001b[0m\u001b[1;33m)\u001b[0m\u001b[1;33m\u001b[0m\u001b[0m\n\u001b[0m\u001b[0;32m    316\u001b[0m         \u001b[1;32melif\u001b[0m \u001b[0mtask_str\u001b[0m\u001b[1;33m.\u001b[0m\u001b[0mstartswith\u001b[0m\u001b[1;33m(\u001b[0m\u001b[1;34mb'NEW_X'\u001b[0m\u001b[1;33m)\u001b[0m\u001b[1;33m:\u001b[0m\u001b[1;33m\u001b[0m\u001b[0m\n\u001b[0;32m    317\u001b[0m             \u001b[1;31m# new iteration\u001b[0m\u001b[1;33m\u001b[0m\u001b[1;33m\u001b[0m\u001b[0m\n",
        "\u001b[1;32mC:\\Python34\\lib\\site-packages\\scipy\\optimize\\lbfgsb.py\u001b[0m in \u001b[0;36mfunc_and_grad\u001b[1;34m(x)\u001b[0m\n\u001b[0;32m    264\u001b[0m     \u001b[1;32melse\u001b[0m\u001b[1;33m:\u001b[0m\u001b[1;33m\u001b[0m\u001b[0m\n\u001b[0;32m    265\u001b[0m         \u001b[1;32mdef\u001b[0m \u001b[0mfunc_and_grad\u001b[0m\u001b[1;33m(\u001b[0m\u001b[0mx\u001b[0m\u001b[1;33m)\u001b[0m\u001b[1;33m:\u001b[0m\u001b[1;33m\u001b[0m\u001b[0m\n\u001b[1;32m--> 266\u001b[1;33m             \u001b[0mf\u001b[0m \u001b[1;33m=\u001b[0m \u001b[0mfun\u001b[0m\u001b[1;33m(\u001b[0m\u001b[0mx\u001b[0m\u001b[1;33m,\u001b[0m \u001b[1;33m*\u001b[0m\u001b[0margs\u001b[0m\u001b[1;33m)\u001b[0m\u001b[1;33m\u001b[0m\u001b[0m\n\u001b[0m\u001b[0;32m    267\u001b[0m             \u001b[0mg\u001b[0m \u001b[1;33m=\u001b[0m \u001b[0mjac\u001b[0m\u001b[1;33m(\u001b[0m\u001b[0mx\u001b[0m\u001b[1;33m,\u001b[0m \u001b[1;33m*\u001b[0m\u001b[0margs\u001b[0m\u001b[1;33m)\u001b[0m\u001b[1;33m\u001b[0m\u001b[0m\n\u001b[0;32m    268\u001b[0m             \u001b[1;32mreturn\u001b[0m \u001b[0mf\u001b[0m\u001b[1;33m,\u001b[0m \u001b[0mg\u001b[0m\u001b[1;33m\u001b[0m\u001b[0m\n",
        "\u001b[1;32mC:\\Python34\\lib\\site-packages\\scipy\\optimize\\optimize.py\u001b[0m in \u001b[0;36mfunction_wrapper\u001b[1;34m(*wrapper_args)\u001b[0m\n\u001b[0;32m    280\u001b[0m     \u001b[1;32mdef\u001b[0m \u001b[0mfunction_wrapper\u001b[0m\u001b[1;33m(\u001b[0m\u001b[1;33m*\u001b[0m\u001b[0mwrapper_args\u001b[0m\u001b[1;33m)\u001b[0m\u001b[1;33m:\u001b[0m\u001b[1;33m\u001b[0m\u001b[0m\n\u001b[0;32m    281\u001b[0m         \u001b[0mncalls\u001b[0m\u001b[1;33m[\u001b[0m\u001b[1;36m0\u001b[0m\u001b[1;33m]\u001b[0m \u001b[1;33m+=\u001b[0m \u001b[1;36m1\u001b[0m\u001b[1;33m\u001b[0m\u001b[0m\n\u001b[1;32m--> 282\u001b[1;33m         \u001b[1;32mreturn\u001b[0m \u001b[0mfunction\u001b[0m\u001b[1;33m(\u001b[0m\u001b[1;33m*\u001b[0m\u001b[1;33m(\u001b[0m\u001b[0mwrapper_args\u001b[0m \u001b[1;33m+\u001b[0m \u001b[0margs\u001b[0m\u001b[1;33m)\u001b[0m\u001b[1;33m)\u001b[0m\u001b[1;33m\u001b[0m\u001b[0m\n\u001b[0m\u001b[0;32m    283\u001b[0m \u001b[1;33m\u001b[0m\u001b[0m\n\u001b[0;32m    284\u001b[0m     \u001b[1;32mreturn\u001b[0m \u001b[0mncalls\u001b[0m\u001b[1;33m,\u001b[0m \u001b[0mfunction_wrapper\u001b[0m\u001b[1;33m\u001b[0m\u001b[0m\n",
        "\u001b[1;32m<ipython-input-41-46d5150d8ea5>\u001b[0m in \u001b[0;36mJ\u001b[1;34m(self, thetas)\u001b[0m\n\u001b[0;32m    131\u001b[0m         \u001b[0mm\u001b[0m \u001b[1;33m=\u001b[0m \u001b[0mself\u001b[0m\u001b[1;33m.\u001b[0m\u001b[0mX\u001b[0m\u001b[1;33m.\u001b[0m\u001b[0mshape\u001b[0m\u001b[1;33m[\u001b[0m\u001b[1;36m0\u001b[0m\u001b[1;33m]\u001b[0m\u001b[1;33m\u001b[0m\u001b[0m\n\u001b[0;32m    132\u001b[0m         \u001b[1;32mfor\u001b[0m \u001b[0mi\u001b[0m \u001b[1;32min\u001b[0m \u001b[0mrange\u001b[0m\u001b[1;33m(\u001b[0m \u001b[0mm\u001b[0m\u001b[1;33m)\u001b[0m\u001b[1;33m:\u001b[0m\u001b[1;33m\u001b[0m\u001b[0m\n\u001b[1;32m--> 133\u001b[1;33m             \u001b[0msum_\u001b[0m \u001b[1;33m+=\u001b[0m \u001b[1;36m1\u001b[0m\u001b[1;33m/\u001b[0m\u001b[1;33m(\u001b[0m\u001b[1;36m2\u001b[0m\u001b[1;33m*\u001b[0m\u001b[0mm\u001b[0m\u001b[1;33m)\u001b[0m \u001b[1;33m*\u001b[0m \u001b[0mnp\u001b[0m\u001b[1;33m.\u001b[0m\u001b[0msum\u001b[0m\u001b[1;33m(\u001b[0m \u001b[0mnp\u001b[0m\u001b[1;33m.\u001b[0m\u001b[0msquare\u001b[0m\u001b[1;33m(\u001b[0m \u001b[0mself\u001b[0m\u001b[1;33m.\u001b[0m\u001b[0mfeedforward\u001b[0m\u001b[1;33m(\u001b[0m \u001b[0mself\u001b[0m\u001b[1;33m.\u001b[0m\u001b[0mX\u001b[0m\u001b[1;33m[\u001b[0m\u001b[0mi\u001b[0m\u001b[1;33m]\u001b[0m\u001b[1;33m,\u001b[0m \u001b[0mthetas\u001b[0m\u001b[1;33m)\u001b[0m\u001b[1;33m[\u001b[0m\u001b[1;33m-\u001b[0m\u001b[1;36m1\u001b[0m\u001b[1;33m]\u001b[0m \u001b[1;33m-\u001b[0m \u001b[0mself\u001b[0m\u001b[1;33m.\u001b[0m\u001b[0mY\u001b[0m\u001b[1;33m[\u001b[0m\u001b[0mi\u001b[0m\u001b[1;33m]\u001b[0m\u001b[1;33m)\u001b[0m\u001b[1;33m)\u001b[0m\u001b[1;33m\u001b[0m\u001b[0m\n\u001b[0m\u001b[0;32m    134\u001b[0m         \u001b[0msum_\u001b[0m \u001b[1;33m=\u001b[0m \u001b[0msum_\u001b[0m \u001b[1;33m+\u001b[0m \u001b[0mself\u001b[0m\u001b[1;33m.\u001b[0m\u001b[0ml2_reg\u001b[0m\u001b[1;33m(\u001b[0m \u001b[0mthetas\u001b[0m\u001b[1;33m)\u001b[0m\u001b[1;33m\u001b[0m\u001b[0m\n\u001b[0;32m    135\u001b[0m         \u001b[1;32mreturn\u001b[0m \u001b[0msum_\u001b[0m\u001b[1;33m\u001b[0m\u001b[0m\n",
        "\u001b[1;32m<ipython-input-41-46d5150d8ea5>\u001b[0m in \u001b[0;36mfeedforward\u001b[1;34m(self, a_, thetas)\u001b[0m\n\u001b[0;32m     45\u001b[0m         \u001b[0mactivations\u001b[0m\u001b[1;33m[\u001b[0m\u001b[1;36m0\u001b[0m\u001b[1;33m]\u001b[0m \u001b[1;33m=\u001b[0m \u001b[0ma_\u001b[0m\u001b[1;33m\u001b[0m\u001b[0m\n\u001b[0;32m     46\u001b[0m         \u001b[1;32mfor\u001b[0m \u001b[0mi\u001b[0m \u001b[1;32min\u001b[0m \u001b[0mrange\u001b[0m\u001b[1;33m(\u001b[0m\u001b[0mself\u001b[0m\u001b[1;33m.\u001b[0m\u001b[0mn_levels\u001b[0m \u001b[1;33m-\u001b[0m \u001b[1;36m1\u001b[0m\u001b[1;33m)\u001b[0m\u001b[1;33m:\u001b[0m\u001b[1;33m\u001b[0m\u001b[0m\n\u001b[1;32m---> 47\u001b[1;33m             \u001b[0mactivations\u001b[0m\u001b[1;33m[\u001b[0m\u001b[0mi\u001b[0m\u001b[1;33m+\u001b[0m\u001b[1;36m1\u001b[0m\u001b[1;33m]\u001b[0m \u001b[1;33m=\u001b[0m \u001b[0mself\u001b[0m\u001b[1;33m.\u001b[0m\u001b[0mg\u001b[0m\u001b[1;33m(\u001b[0m\u001b[0mnp\u001b[0m\u001b[1;33m.\u001b[0m\u001b[0mdot\u001b[0m\u001b[1;33m(\u001b[0m\u001b[0madd_one\u001b[0m\u001b[1;33m(\u001b[0m\u001b[0mactivations\u001b[0m\u001b[1;33m[\u001b[0m\u001b[0mi\u001b[0m\u001b[1;33m]\u001b[0m\u001b[1;33m)\u001b[0m\u001b[1;33m,\u001b[0m \u001b[0mthetas\u001b[0m\u001b[1;33m[\u001b[0m\u001b[0mi\u001b[0m\u001b[1;33m]\u001b[0m\u001b[1;33m)\u001b[0m\u001b[1;33m)\u001b[0m\u001b[1;33m\u001b[0m\u001b[0m\n\u001b[0m\u001b[0;32m     48\u001b[0m         \u001b[1;32mreturn\u001b[0m \u001b[0mactivations\u001b[0m\u001b[1;33m\u001b[0m\u001b[0m\n\u001b[0;32m     49\u001b[0m \u001b[1;33m\u001b[0m\u001b[0m\n",
        "\u001b[1;32m<ipython-input-40-feb4e110830c>\u001b[0m in \u001b[0;36madd_one\u001b[1;34m(X)\u001b[0m\n\u001b[0;32m      3\u001b[0m \u001b[1;33m\u001b[0m\u001b[0m\n\u001b[0;32m      4\u001b[0m \u001b[1;32mdef\u001b[0m \u001b[0madd_one\u001b[0m\u001b[1;33m(\u001b[0m\u001b[0mX\u001b[0m\u001b[1;33m)\u001b[0m\u001b[1;33m:\u001b[0m\u001b[1;33m\u001b[0m\u001b[0m\n\u001b[1;32m----> 5\u001b[1;33m     \u001b[1;32mreturn\u001b[0m \u001b[0mnp\u001b[0m\u001b[1;33m.\u001b[0m\u001b[0mappend\u001b[0m\u001b[1;33m(\u001b[0m\u001b[0mX\u001b[0m\u001b[1;33m,\u001b[0m \u001b[1;36m1\u001b[0m\u001b[1;33m)\u001b[0m\u001b[1;33m\u001b[0m\u001b[0m\n\u001b[0m\u001b[0;32m      6\u001b[0m \u001b[1;33m\u001b[0m\u001b[0m\n\u001b[0;32m      7\u001b[0m \u001b[1;32mdef\u001b[0m \u001b[0madd_zero\u001b[0m\u001b[1;33m(\u001b[0m\u001b[0mX\u001b[0m\u001b[1;33m)\u001b[0m\u001b[1;33m:\u001b[0m\u001b[1;33m\u001b[0m\u001b[0m\n",
        "\u001b[1;32mC:\\Python34\\lib\\site-packages\\numpy\\lib\\function_base.py\u001b[0m in \u001b[0;36mappend\u001b[1;34m(arr, values, axis)\u001b[0m\n\u001b[0;32m   3882\u001b[0m         \u001b[0mvalues\u001b[0m \u001b[1;33m=\u001b[0m \u001b[0mravel\u001b[0m\u001b[1;33m(\u001b[0m\u001b[0mvalues\u001b[0m\u001b[1;33m)\u001b[0m\u001b[1;33m\u001b[0m\u001b[0m\n\u001b[0;32m   3883\u001b[0m         \u001b[0maxis\u001b[0m \u001b[1;33m=\u001b[0m \u001b[0marr\u001b[0m\u001b[1;33m.\u001b[0m\u001b[0mndim\u001b[0m\u001b[1;33m-\u001b[0m\u001b[1;36m1\u001b[0m\u001b[1;33m\u001b[0m\u001b[0m\n\u001b[1;32m-> 3884\u001b[1;33m     \u001b[1;32mreturn\u001b[0m \u001b[0mconcatenate\u001b[0m\u001b[1;33m(\u001b[0m\u001b[1;33m(\u001b[0m\u001b[0marr\u001b[0m\u001b[1;33m,\u001b[0m \u001b[0mvalues\u001b[0m\u001b[1;33m)\u001b[0m\u001b[1;33m,\u001b[0m \u001b[0maxis\u001b[0m\u001b[1;33m=\u001b[0m\u001b[0maxis\u001b[0m\u001b[1;33m)\u001b[0m\u001b[1;33m\u001b[0m\u001b[0m\n\u001b[0m",
        "\u001b[1;31mKeyboardInterrupt\u001b[0m: "
       ]
      }
     ],
     "prompt_number": 48
    },
    {
     "cell_type": "code",
     "collapsed": false,
     "input": [
      "write_to_file(predicted, \"NN_a30-30_s1000_i1_lambda-5_er-1\")"
     ],
     "language": "python",
     "metadata": {},
     "outputs": [],
     "prompt_number": 47
    },
    {
     "cell_type": "code",
     "collapsed": false,
     "input": [],
     "language": "python",
     "metadata": {},
     "outputs": []
    }
   ],
   "metadata": {}
  }
 ]
}