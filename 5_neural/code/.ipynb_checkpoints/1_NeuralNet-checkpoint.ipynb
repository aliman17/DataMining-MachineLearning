{
 "metadata": {
  "name": "",
  "signature": "sha256:a2bc710506e2a097283544575546dd2ec23df620dd35344049645b44f03ed2e2"
 },
 "nbformat": 3,
 "nbformat_minor": 0,
 "worksheets": [
  {
   "cells": [
    {
     "cell_type": "code",
     "collapsed": false,
     "input": [
      "import numpy as np\n",
      "import scipy as sp\n",
      "from scipy.optimize.optimize import fmin_bfgs\n",
      "from sklearn import cross_validation\n",
      "from sklearn import preprocessing"
     ],
     "language": "python",
     "metadata": {},
     "outputs": [],
     "prompt_number": 1
    },
    {
     "cell_type": "code",
     "collapsed": false,
     "input": [
      "norm = preprocessing.Normalizer()\n",
      "X_train = np.loadtxt(open(\"../data/train.csv\",\"rb\"),delimiter=\",\",skiprows=1, usecols=range(1,94))\n",
      "X_train = norm.fit_transform(X_train)\n",
      "\n",
      "y_train = np.loadtxt(open(\"../data/train.csv\",\"rb\"),dtype=str,delimiter=\",\",skiprows=1, usecols=[94])\n",
      "y_train = np.array([int(c[-2]) for c in y_train])  # Parse classes from Class_1 into 1\n",
      "\n",
      "X_test = np.loadtxt(open(\"../data/test.csv\",\"rb\"),delimiter=\",\",skiprows=1, usecols=range(1,94))\n",
      "X_test = norm.transform(X_test)"
     ],
     "language": "python",
     "metadata": {},
     "outputs": [],
     "prompt_number": 2
    },
    {
     "cell_type": "heading",
     "level": 3,
     "metadata": {},
     "source": [
      "Sigmoid and Add Ones"
     ]
    },
    {
     "cell_type": "code",
     "collapsed": false,
     "input": [
      "def add_ones(X):\n",
      "    return np.column_stack((np.ones(len(X)), X))"
     ],
     "language": "python",
     "metadata": {},
     "outputs": [],
     "prompt_number": 3
    },
    {
     "cell_type": "code",
     "collapsed": false,
     "input": [
      "def sigmoid(z):\n",
      "    return 1/(1+np.exp(-z))"
     ],
     "language": "python",
     "metadata": {},
     "outputs": [],
     "prompt_number": 5
    },
    {
     "cell_type": "heading",
     "level": 3,
     "metadata": {},
     "source": [
      "Classifier"
     ]
    },
    {
     "cell_type": "heading",
     "level": 3,
     "metadata": {},
     "source": [
      "Learner"
     ]
    },
    {
     "cell_type": "code",
     "collapsed": false,
     "input": [
      "class NeuralNetClassifier():\n",
      "    \"\"\"Neural network classifier based on a set of binary classifiers.\"\"\"\n",
      "    def __init__(self, h, thetas):\n",
      "        self.thetas = thetas  # model parameters\n",
      "        self.h = h\n",
      "        \n",
      "    def predict(self, X):\n",
      "        y_hat = np.ravel(self.h(X, self.thetas))\n",
      "        # following works only for binary classifiers, correct it for multiclass\n",
      "        return np.vstack((1-y_hat, y_hat)).T"
     ],
     "language": "python",
     "metadata": {},
     "outputs": [],
     "prompt_number": 89
    },
    {
     "cell_type": "heading",
     "level": 3,
     "metadata": {},
     "source": [
      "Test NeuralNetLearner"
     ]
    },
    {
     "cell_type": "code",
     "collapsed": false,
     "input": [
      "a = X_train[0, :5]\n",
      "lr = NeuralNetLearner([a.shape[1], 4, 1])\n",
      "thetas = np.array( [1 for i in range(lr.theta_len)])"
     ],
     "language": "python",
     "metadata": {},
     "outputs": []
    },
    {
     "cell_type": "code",
     "collapsed": false,
     "input": [
      "print( \"Testing shape\\n\", lr.theta_shape)\n",
      "print( \"Testing indices\\n\", lr.theta_ind)\n",
      "print( \"Testing theta lenght\\n\", lr.theta_len)\n",
      "print( \"Testing theta shape\\n\", lr.shape_thetas( thetas))\n",
      "print( \"Testing feedforward\\n\", lr.feedforward(a, thetas))"
     ],
     "language": "python",
     "metadata": {},
     "outputs": [
      {
       "output_type": "stream",
       "stream": "stdout",
       "text": [
        "Testing shape\n",
        " [[6 4]\n",
        " [5 1]]\n",
        "Testing indices\n",
        " [24]\n",
        "Testing theta lenght\n",
        " 29\n",
        "Testing theta shape\n",
        " [array([[1, 1, 1, 1],\n",
        "       [1, 1, 1, 1],\n",
        "       [1, 1, 1, 1],\n",
        "       [1, 1, 1, 1],\n",
        "       [1, 1, 1, 1],\n",
        "       [1, 1, 1, 1]]), array([[1],\n",
        "       [1],\n",
        "       [1],\n",
        "       [1],\n",
        "       [1]])]\n",
        "[ 0.06388766  0.          0.          0.          0.          1.        ]\n",
        "[ 0.74343278  0.74343278  0.74343278  0.74343278]\n",
        "[ 0.74343278  0.74343278  0.74343278  0.74343278  1.        ]\n",
        "[ 0.98154389]\n",
        "Testing feedforward\n",
        " [ 0.98154389]\n"
       ]
      }
     ],
     "prompt_number": 96
    },
    {
     "cell_type": "heading",
     "level": 6,
     "metadata": {},
     "source": [
      "Testing 9 outputs"
     ]
    },
    {
     "cell_type": "code",
     "collapsed": false,
     "input": [
      "a = X_train[0, :5]\n",
      "lr = NeuralNetLearner([len(a), 3, 4, 9])\n",
      "thetas = np.array( [1 for i in range(lr.theta_len)])\n",
      "a = lr.feedforward(a, thetas)\n",
      "print( \"Testing feedforward\\n\", a)"
     ],
     "language": "python",
     "metadata": {},
     "outputs": [
      {
       "ename": "ValueError",
       "evalue": "shapes (5,2) and (6,3) not aligned: 2 (dim 1) != 6 (dim 0)",
       "output_type": "pyerr",
       "traceback": [
        "\u001b[1;31m---------------------------------------------------------------------------\u001b[0m\n\u001b[1;31mValueError\u001b[0m                                Traceback (most recent call last)",
        "\u001b[1;32m<ipython-input-108-7ed20a429bca>\u001b[0m in \u001b[0;36m<module>\u001b[1;34m()\u001b[0m\n\u001b[0;32m      2\u001b[0m \u001b[0mlr\u001b[0m \u001b[1;33m=\u001b[0m \u001b[0mNeuralNetLearner\u001b[0m\u001b[1;33m(\u001b[0m\u001b[1;33m[\u001b[0m\u001b[0mlen\u001b[0m\u001b[1;33m(\u001b[0m\u001b[0ma\u001b[0m\u001b[1;33m)\u001b[0m\u001b[1;33m,\u001b[0m \u001b[1;36m3\u001b[0m\u001b[1;33m,\u001b[0m \u001b[1;36m4\u001b[0m\u001b[1;33m,\u001b[0m \u001b[1;36m9\u001b[0m\u001b[1;33m]\u001b[0m\u001b[1;33m)\u001b[0m\u001b[1;33m\u001b[0m\u001b[0m\n\u001b[0;32m      3\u001b[0m \u001b[0mthetas\u001b[0m \u001b[1;33m=\u001b[0m \u001b[0mnp\u001b[0m\u001b[1;33m.\u001b[0m\u001b[0marray\u001b[0m\u001b[1;33m(\u001b[0m \u001b[1;33m[\u001b[0m\u001b[1;36m1\u001b[0m \u001b[1;32mfor\u001b[0m \u001b[0mi\u001b[0m \u001b[1;32min\u001b[0m \u001b[0mrange\u001b[0m\u001b[1;33m(\u001b[0m\u001b[0mlr\u001b[0m\u001b[1;33m.\u001b[0m\u001b[0mtheta_len\u001b[0m\u001b[1;33m)\u001b[0m\u001b[1;33m]\u001b[0m\u001b[1;33m)\u001b[0m\u001b[1;33m\u001b[0m\u001b[0m\n\u001b[1;32m----> 4\u001b[1;33m \u001b[0ma\u001b[0m \u001b[1;33m=\u001b[0m \u001b[0mlr\u001b[0m\u001b[1;33m.\u001b[0m\u001b[0mfeedforward\u001b[0m\u001b[1;33m(\u001b[0m\u001b[0ma\u001b[0m\u001b[1;33m,\u001b[0m \u001b[0mthetas\u001b[0m\u001b[1;33m)\u001b[0m\u001b[1;33m\u001b[0m\u001b[0m\n\u001b[0m\u001b[0;32m      5\u001b[0m \u001b[0mprint\u001b[0m\u001b[1;33m(\u001b[0m \u001b[1;34m\"Testing feedforward\\n\"\u001b[0m\u001b[1;33m,\u001b[0m \u001b[0ma\u001b[0m\u001b[1;33m)\u001b[0m\u001b[1;33m\u001b[0m\u001b[0m\n",
        "\u001b[1;32m<ipython-input-106-7b0625512f69>\u001b[0m in \u001b[0;36mfeedforward\u001b[1;34m(self, a, thetas)\u001b[0m\n\u001b[0;32m     23\u001b[0m         \u001b[1;32mfor\u001b[0m \u001b[0mtheta\u001b[0m \u001b[1;32min\u001b[0m \u001b[0mthetas\u001b[0m\u001b[1;33m:\u001b[0m\u001b[1;33m\u001b[0m\u001b[0m\n\u001b[0;32m     24\u001b[0m             \u001b[0ma\u001b[0m \u001b[1;33m=\u001b[0m \u001b[0madd_ones\u001b[0m\u001b[1;33m(\u001b[0m\u001b[0ma\u001b[0m\u001b[1;33m)\u001b[0m\u001b[1;33m\u001b[0m\u001b[0m\n\u001b[1;32m---> 25\u001b[1;33m             \u001b[0ma\u001b[0m \u001b[1;33m=\u001b[0m \u001b[0mself\u001b[0m\u001b[1;33m.\u001b[0m\u001b[0mg\u001b[0m\u001b[1;33m(\u001b[0m\u001b[0ma\u001b[0m\u001b[1;33m.\u001b[0m\u001b[0mdot\u001b[0m\u001b[1;33m(\u001b[0m\u001b[0mtheta\u001b[0m\u001b[1;33m)\u001b[0m\u001b[1;33m)\u001b[0m\u001b[1;33m\u001b[0m\u001b[0m\n\u001b[0m\u001b[0;32m     26\u001b[0m         \u001b[1;32mreturn\u001b[0m \u001b[0ma\u001b[0m\u001b[1;33m\u001b[0m\u001b[0m\n\u001b[0;32m     27\u001b[0m \u001b[1;33m\u001b[0m\u001b[0m\n",
        "\u001b[1;31mValueError\u001b[0m: shapes (5,2) and (6,3) not aligned: 2 (dim 1) != 6 (dim 0)"
       ]
      }
     ],
     "prompt_number": 108
    },
    {
     "cell_type": "heading",
     "level": 6,
     "metadata": {},
     "source": [
      "Testing matrix input for feedforward"
     ]
    },
    {
     "cell_type": "code",
     "collapsed": false,
     "input": [
      "a = X_train[:3, :5]\n",
      "lr = NeuralNetLearner([a.shape[1], 4, 9])\n",
      "thetas = np.array( [1 for i in range(lr.theta_len)])\n",
      "a = lr.feedforward(a, thetas)\n",
      "print( \"Testing feedforward\\n\", a)"
     ],
     "language": "python",
     "metadata": {},
     "outputs": [
      {
       "output_type": "stream",
       "stream": "stdout",
       "text": [
        "Testing feedforward\n",
        " [[ 0.98154389  0.98154389  0.98154389  0.98154389  0.98154389  0.98154389\n",
        "   0.98154389  0.98154389  0.98154389]\n",
        " [ 0.98062553  0.98062553  0.98062553  0.98062553  0.98062553  0.98062553\n",
        "   0.98062553  0.98062553  0.98062553]\n",
        " [ 0.98062553  0.98062553  0.98062553  0.98062553  0.98062553  0.98062553\n",
        "   0.98062553  0.98062553  0.98062553]]\n"
       ]
      }
     ],
     "prompt_number": 111
    },
    {
     "cell_type": "heading",
     "level": 6,
     "metadata": {},
     "source": [
      "Compute activations for each level"
     ]
    },
    {
     "cell_type": "code",
     "collapsed": false,
     "input": [
      "a = X_train[:3, :5]\n",
      "lr = NeuralNetLearner([a.shape[1], 4, 9])\n",
      "thetas = np.array( [1 for i in range(lr.theta_len)])\n",
      "a = lr.feedforward(a, thetas)\n",
      "print( \"Testing feedforward\\n\", a)"
     ],
     "language": "python",
     "metadata": {},
     "outputs": [
      {
       "output_type": "stream",
       "stream": "stdout",
       "text": [
        "Testing feedforward\n",
        " [array([[ 0.74343278,  0.74343278,  0.74343278,  0.74343278],\n",
        "       [ 0.73105858,  0.73105858,  0.73105858,  0.73105858],\n",
        "       [ 0.73105858,  0.73105858,  0.73105858,  0.73105858]]), array([[ 0.98154389,  0.98154389,  0.98154389,  0.98154389,  0.98154389,\n",
        "         0.98154389,  0.98154389,  0.98154389,  0.98154389],\n",
        "       [ 0.98062553,  0.98062553,  0.98062553,  0.98062553,  0.98062553,\n",
        "         0.98062553,  0.98062553,  0.98062553,  0.98062553],\n",
        "       [ 0.98062553,  0.98062553,  0.98062553,  0.98062553,  0.98062553,\n",
        "         0.98062553,  0.98062553,  0.98062553,  0.98062553]])]\n"
       ]
      }
     ],
     "prompt_number": 126
    },
    {
     "cell_type": "code",
     "collapsed": false,
     "input": [
      "len(a)"
     ],
     "language": "python",
     "metadata": {},
     "outputs": [
      {
       "metadata": {},
       "output_type": "pyout",
       "prompt_number": 128,
       "text": [
        "2"
       ]
      }
     ],
     "prompt_number": 128
    },
    {
     "cell_type": "code",
     "collapsed": false,
     "input": [
      "m = np.matrix([[2,2,3],[1,2,3], [1,2,3]])"
     ],
     "language": "python",
     "metadata": {},
     "outputs": [],
     "prompt_number": 136
    },
    {
     "cell_type": "code",
     "collapsed": false,
     "input": [
      "np.multiply(m, m)"
     ],
     "language": "python",
     "metadata": {},
     "outputs": [
      {
       "metadata": {},
       "output_type": "pyout",
       "prompt_number": 137,
       "text": [
        "matrix([[4, 4, 9],\n",
        "        [1, 4, 9],\n",
        "        [1, 4, 9]])"
       ]
      }
     ],
     "prompt_number": 137
    },
    {
     "cell_type": "code",
     "collapsed": false,
     "input": [
      "list(range(10, 1, -1))"
     ],
     "language": "python",
     "metadata": {},
     "outputs": [
      {
       "metadata": {},
       "output_type": "pyout",
       "prompt_number": 140,
       "text": [
        "[10, 9, 8, 7, 6, 5, 4, 3, 2]"
       ]
      }
     ],
     "prompt_number": 140
    },
    {
     "cell_type": "code",
     "collapsed": false,
     "input": [
      "np.matrix(m).T"
     ],
     "language": "python",
     "metadata": {},
     "outputs": [
      {
       "metadata": {},
       "output_type": "pyout",
       "prompt_number": 145,
       "text": [
        "matrix([[2, 1, 1],\n",
        "        [2, 2, 2],\n",
        "        [3, 3, 3]])"
       ]
      }
     ],
     "prompt_number": 145
    },
    {
     "cell_type": "heading",
     "level": 6,
     "metadata": {},
     "source": [
      "Test backprop"
     ]
    },
    {
     "cell_type": "code",
     "collapsed": false,
     "input": [
      "NUM_OF_CLASSES = 9\n",
      "class NeuralNetLearner():\n",
      "    def __init__(self, arch, g=sigmoid, lambda_=1e-5):\n",
      "        self.arch = arch\n",
      "        self.g = g\n",
      "        self.lambda_ = lambda_\n",
      "        self.theta_shape = np.array([ ( arch[i] + 1, arch[i + 1]) for i in range( len( arch) - 1)])\n",
      "        ind = np.array( [ sh1 * sh2 for sh1, sh2 in self.theta_shape])\n",
      "        self.theta_ind = np.cumsum( ind[:-1])  # last index falls out of the boundary\n",
      "        self.theta_len = sum(ind)\n",
      "    \n",
      "    def init_thetas(self, epsilon=1e-5):\n",
      "        \"\"\"Return thetas with random values\"\"\"\n",
      "        return np.random.rand(self.theta_len) * 2 * epsilon - epsilon\n",
      "    \n",
      "    def shape_thetas(self, thetas):\n",
      "        \"\"\"Return list of thetas at particular level\"\"\"\n",
      "        t = np.split(thetas, self.theta_ind)\n",
      "        return [t[i].reshape(shape) for i, shape in enumerate(self.theta_shape)]\n",
      "    \n",
      "    def feedforward(self, a, thetas):\n",
      "        \"\"\"Feed forward, prediction\"\"\"\n",
      "        thetas = self.shape_thetas(thetas)\n",
      "        activationsByLevel = [a]\n",
      "        for theta in thetas:\n",
      "            a = add_ones(a) if len(a.shape) == 2 else np.append(1, a)  \n",
      "            a = self.g(a.dot(theta))\n",
      "            activationsByLevel.append(a)\n",
      "        return activationsByLevel\n",
      "    \n",
      "    def J(self, thetas):\n",
      "        # use matrix and vector operations. could be written in a single line\n",
      "        # use self.m as stored by the fit function\n",
      "        pass\n",
      "\n",
      "    def grad_approx(self, thetas, e=1e-1):\n",
      "        return np.array([(self.J(thetas+eps) - self.J(thetas-eps))/(2*e)\n",
      "                         for eps in np.identity(len(thetas)) * e])\n",
      "\n",
      "    def D(self, o_):\n",
      "        mlt = np.multiply( o_, (1 - o_))\n",
      "        I = np.identity(len(mlt))\n",
      "        return I*mlt\n",
      "    \n",
      "    \n",
      "    def backprop2(self, thetas):\n",
      "        activations = self.feedforward( self.X, thetas)\n",
      "        output = activations[-1]\n",
      "        e = output - self.y_bin\n",
      "        #err = self.D(output)*e\n",
      "        return self.D(output)\n",
      "    \n",
      "    def backprop(self, thetas):\n",
      "        store = np.array([])\n",
      "        for i in range(self.X.shape[0]):\n",
      "            x = self.X[i]\n",
      "            y = self.y_bin[i]\n",
      "            activations = self.feedforward( x, thetas)\n",
      "            thetas = self.shape_thetas( thetas)\n",
      "            # output error\n",
      "            err = - np.multiply( y - activations[-1],  np.multiply( activations[-1], 1-activations[-1])) \n",
      "            # activations treba spremenit na \n",
      "            grad = np.array([])\n",
      "            for l in range(len(activations)-2, -1, -1):\n",
      "                grad_l = ( np.matrix( err).T * np.matrix(activations[l]))\n",
      "                grad_l = grad_l.reshape(1, grad_l.shape[0] * grad_l.shape[1])\n",
      "                grad = np.append( np.array( grad_l), grad) if len(grad) != 0 else grad_l\n",
      "                act = np.append(1, activations[l])   # additional node bias\n",
      "                th = np.matrix(err) * thetas[l].T\n",
      "                ac = np.multiply( act, (1 - act))\n",
      "                ac = np.matrix( ac)\n",
      "                err = np.multiply( th, ac)\n",
      "                err = err[:, 1:]    # remove additional bias\n",
      "                #err_matrix.append(err)\n",
      "        return grad\n",
      "\n",
      "    def fit(self, X, y, W=None):\n",
      "        y = y-1  # y starts with 1, but we want to start with 0\n",
      "        self.X, self.y = X, y\n",
      "        self.Iy = np.identity(NUM_OF_CLASSES)  # for classification\n",
      "        self.y_bin = [ self.Iy[y] for y in self.y]\n",
      "        self.m = self.X.shape[0]    # number of samples\n",
      "        thetas = self.init_thetas()\n",
      "        \n",
      "\n",
      "        thetas, fmin, info = fmin_l_bfgs_b(self.J, thetas, self.backprop,\n",
      "                                           callback=self.callback,\n",
      "                                           factr=10)\n",
      "        # we have local min \n",
      "        #model = NeuralNetClassifier(self.feedforward, thetas)\n",
      "        \n",
      "        #return model\n",
      "\n",
      "    def test(self, a):\n",
      "        thetas = np.array([-30, 10, 20, -20, 20, -20, -10, 20, 20])\n",
      "        print(self.h(a, thetas))"
     ],
     "language": "python",
     "metadata": {},
     "outputs": [],
     "prompt_number": 534
    },
    {
     "cell_type": "code",
     "collapsed": false,
     "input": [
      "X = X_train[:1, :5]\n",
      "y = y_train[:1]\n",
      "lr = NeuralNetLearner([X.shape[1], 2,  9])\n",
      "thetas = np.array( [1 for i in range(lr.theta_len)])\n",
      "lr.fit(X, y)"
     ],
     "language": "python",
     "metadata": {},
     "outputs": [],
     "prompt_number": 535
    },
    {
     "cell_type": "code",
     "collapsed": false,
     "input": [
      "lr.backprop(thetas)"
     ],
     "language": "python",
     "metadata": {},
     "outputs": [
      {
       "output_type": "stream",
       "stream": "stdout",
       "text": [
        "[[ 0.09882618  0.09882618]]\n",
        "[[ 0.0118208  0.         0.         0.         0.       ]]\n"
       ]
      },
      {
       "metadata": {},
       "output_type": "pyout",
       "prompt_number": 536,
       "text": [
        "array([ 0.00631377,  0.        ,  0.        ,  0.        ,  0.        ,\n",
        "        0.00631377,  0.        ,  0.        ,  0.        ,  0.        ,\n",
        "       -0.00404657, -0.00404657,  0.04865411,  0.04865411,  0.04865411,\n",
        "        0.04865411,  0.04865411,  0.04865411,  0.04865411,  0.04865411,\n",
        "        0.04865411,  0.04865411,  0.04865411,  0.04865411,  0.04865411,\n",
        "        0.04865411,  0.04865411,  0.04865411])"
       ]
      }
     ],
     "prompt_number": 536
    },
    {
     "cell_type": "code",
     "collapsed": false,
     "input": [
      "# Matricno\n",
      "\n",
      "X = X_train[:1, :5]\n",
      "y = y_train[:1]\n",
      "lr = NeuralNetLearner([X.shape[1], 3, 2, 2,  9])\n",
      "thetas = np.array( [1 for i in range(lr.theta_len)])\n",
      "lr.fit(X, y)\n",
      "lr.backprop2(thetas)"
     ],
     "language": "python",
     "metadata": {},
     "outputs": [
      {
       "metadata": {},
       "output_type": "pyout",
       "prompt_number": 467,
       "text": [
        "array([[ 0.04952076,  0.04952076,  0.04952076,  0.04952076,  0.04952076,\n",
        "         0.04952076,  0.04952076,  0.04952076,  0.04952076]])"
       ]
      }
     ],
     "prompt_number": 467
    },
    {
     "cell_type": "code",
     "collapsed": false,
     "input": [
      "a = np.array([])"
     ],
     "language": "python",
     "metadata": {},
     "outputs": [],
     "prompt_number": 456
    },
    {
     "cell_type": "code",
     "collapsed": false,
     "input": [
      "DELAMO NA J JUTRI"
     ],
     "language": "python",
     "metadata": {},
     "outputs": []
    }
   ],
   "metadata": {}
  }
 ]
}