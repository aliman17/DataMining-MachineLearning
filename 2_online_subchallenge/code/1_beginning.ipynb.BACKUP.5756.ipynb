{
 "metadata": {
  "name": "",
<<<<<<< HEAD
  "signature": "sha256:3dc8b0eea951a3573a405ba395db990b64aa8862761d6e4a3f26af54763d09cd"
=======
  "signature": "sha256:b2d952f7d9b140053f39cb05c0954bce539c73b9253f34263f4a63e4648c8ad8"
>>>>>>> origin/master
 },
 "nbformat": 3,
 "nbformat_minor": 0,
 "worksheets": [
  {
   "cells": [
    {
     "cell_type": "heading",
     "level": 1,
     "metadata": {},
     "source": [
      "Questions"
     ]
    },
    {
     "cell_type": "markdown",
     "metadata": {},
     "source": [
      "- Kako vkljuciti podatek o dilution?\n",
      "- Ljudje cudno napovedujejo. Kakko lahko take podatke izboljsamo ... kaj je povprecje?"
     ]
    },
    {
     "cell_type": "heading",
     "level": 1,
     "metadata": {},
     "source": [
      "Ugotovitve"
     ]
    },
    {
     "cell_type": "markdown",
     "metadata": {},
     "source": [
      "- napake ocenjevalcev eliminiramo z Gaussovo utezitvijo?\n",
      "- nekaj extremov odstranis"
     ]
    },
    {
     "cell_type": "heading",
     "level": 1,
     "metadata": {},
     "source": [
      "Plan"
     ]
    },
    {
     "cell_type": "markdown",
     "metadata": {},
     "source": [
      "- zdruzimo podatke po CID na low in na high\n",
      "- to naredimo za vsako spojino in pri tem upostevamo Gaussovo utezitev"
     ]
    },
    {
     "cell_type": "heading",
     "level": 1,
     "metadata": {},
     "source": [
      "Zanimivi linki"
     ]
    },
    {
     "cell_type": "markdown",
     "metadata": {},
     "source": [
      "- Random forest + opisuje, kako vse podatke, tudi manjkajoce spremeniti v float https://www.kaggle.com/c/titanic-gettingStarted/details/getting-started-with-random-forests"
     ]
    },
    {
     "cell_type": "code",
     "collapsed": false,
     "input": [
      "# Import\n",
      "from collections import defaultdict\n",
      "import numpy as np\n",
      "from matplotlib import pyplot as plt\n",
      "import pylab as P\n",
      "import Orange\n",
      "%matplotlib inline"
     ],
     "language": "python",
     "metadata": {},
     "outputs": [],
     "prompt_number": 1
    },
    {
     "cell_type": "heading",
     "level": 1,
     "metadata": {},
     "source": [
      "Get Data 1"
     ]
    },
    {
     "cell_type": "code",
     "collapsed": false,
     "input": [
      "# Tale box je pridobljen iz score.py za parsanje datoteke TrainSet-hw2\n",
      "\n",
      "def fix_dilution(s):\n",
      "    return s.replace('\"', '').strip()\n",
      "\n",
      "\n",
      "def legend(fn):\n",
      "    with open(fn) as f:\n",
      "        for l in f:\n",
      "            vals_legend = l.strip().split('\\t')[6:]\n",
      "            return vals_legend\n",
      "        \n",
      "\n",
      "def load_data(fn):\n",
      "    readings = defaultdict(list)\n",
      "    with open(fn) as f:\n",
      "        vals_legend = next(f).strip().split('\\t')[6:]\n",
      "        for l in f:\n",
      "            l = l.strip()\n",
      "            t = l.split('\\t')\n",
      "            cid, dilution, vals = t[0], fix_dilution(t[4]), list(map(float, t[6:]))\n",
      "            readings[cid, dilution].append(vals)\n",
      "    for a,b in readings.items():\n",
      "        readings[a] = np.array(b)\n",
      "    return dict(readings)\n",
      "\n",
      "\n",
      "def mean_indv_notnan(data):\n",
      "    means = []\n",
      "    #average non-nan elements\n",
      "    for vals in data.T:\n",
      "        nonnan = vals[~np.isnan(vals)]\n",
      "        means.append(np.mean(nonnan))\n",
      "    return np.array(means)\n",
      "\n",
      "\n",
      "def load_data_mean_indv(fn):\n",
      "    readings = load_data(fn)\n",
      "    r2 = {}\n",
      "    for a,b in readings.items():\n",
      "        r2[a] = mean_indv_notnan(np.array(b))\n",
      "    return r2\n",
      "\n",
      "LEGEND = legend(\"../data/TrainSet-hw2.txt\")\n",
      "#query = read_query(\"predict.txt\")\n",
      "test = load_data_mean_indv(\"../data/TrainSet-hw2.txt\")"
     ],
     "language": "python",
     "metadata": {},
     "outputs": [],
     "prompt_number": 7
    },
    {
     "cell_type": "heading",
     "level": 1,
     "metadata": {},
     "source": [
      "Get Data 2"
     ]
    },
    {
     "cell_type": "code",
     "collapsed": false,
     "input": [
      "def getData():\n",
      "    \"\"\"Get train data and casses\"\"\"\n",
      "    file1 = open( \"../data/TrainSet-hw2.txt\", \"rU\" )\n",
      "    Ys = []\n",
      "    for aRow in file1:\n",
      "        Ys.append(aRow.split('\\t'))\n",
      "    file1.close()\n",
      "\n",
      "    file1 = open( \"../data/molecular_descriptors_data.txt\", \"rU\" )\n",
      "    Xs = []\n",
      "    for aRow in file1:\n",
      "        Xs.append(aRow.split('\\t'))\n",
      "    file1.close()\n",
      "    return Xs, Ys"
     ],
     "language": "python",
     "metadata": {},
     "outputs": [],
     "prompt_number": 4
    },
    {
     "cell_type": "code",
     "collapsed": false,
     "input": [
      "def stringTOfloat(matrix):\n",
      "    \"\"\"Cast string values of a matrix into float values\"\"\"\n",
      "    matrix1 = []\n",
      "    for pos in range(len(matrix)):\n",
      "        i = matrix[pos]\n",
      "        #i[i == ''] = 0.0\n",
      "        i = i.astype(np.float)\n",
      "        matrix1.append(i)\n",
      "    return np.array( matrix1 )"
     ],
     "language": "python",
     "metadata": {},
     "outputs": [],
     "prompt_number": 5
    },
    {
     "cell_type": "heading",
     "level": 1,
     "metadata": {},
     "source": [
      "Validate data"
     ]
    },
    {
     "cell_type": "markdown",
     "metadata": {},
     "source": [
      "- NaN vnosi so tezava\n",
      "- Iz Xs izbrati sample, ki so tudi v Y (po CID)\n",
      "- Izbrisi CID stolpec v Xs\n",
      "- Izbrisi vrstico z imeni atributov Xs\n"
     ]
    },
    {
     "cell_type": "code",
     "collapsed": false,
     "input": [
      "# Get data\n",
      "X, Y = getData()\n",
      "\n",
      "# Convert LIST OF LISTS -> MATRIX\n",
      "Y = np.array(Y)\n",
      "X = np.array(X)\n",
      "\n",
      "# Remove labels for attributes\n",
      "X = X[1:]\n",
      "\n",
      "# Convert string values into float\n",
      "X = stringTOfloat(X)\n",
      "\n",
      "# Make Y to be OK\n",
      "\n",
      "# Remove labels of attributes\n",
      "Y = Y[1:]\n",
      "\n",
      "# Remove Identifier, Replicator, Dilution1, Dilution2 columns\n",
      "attr_pos_list = [0] + list(range(4, (Y.shape)[1]))\n",
      "#print (attr_pos_list)\n",
      "Y = Y[:,attr_pos_list]\n",
      "\n",
      "# Pretvori Y v float\n",
      "def parseDilution(dilution):\n",
      "    return eval(''.join(c for c in dilution if c.isdigit() or c == '/'))\n",
      "Y[:,1] = list(map(parseDilution, Y[:,1]))\n",
      "Y = stringTOfloat(Y)"
     ],
     "language": "python",
     "metadata": {},
     "outputs": [
      {
       "output_type": "stream",
       "stream": "stdout",
       "text": [
        "0.2\n"
       ]
      }
     ],
     "prompt_number": 30
    },
    {
     "cell_type": "heading",
     "level": 3,
     "metadata": {},
     "source": [
      "Izpisimo podatke"
     ]
    },
    {
     "cell_type": "code",
     "collapsed": false,
     "input": [
      "# pridobi atribut\n",
      "attr = Y[1:98:2, 3]\n",
      "print(attr)\n",
      "# the histogram of the data\n",
      "n, bins, patches = plt.hist(attr, 50, normed=1, facecolor='green', alpha=0.75)"
     ],
     "language": "python",
     "metadata": {},
     "outputs": [
      {
       "output_type": "stream",
       "stream": "stdout",
       "text": [
        "[  37.   64.    0.  100.   58.    0.   18.   51.  100.    6.  100.   51.\n",
        "   81.    0.    0.   64.   41.   53.   61.   66.   92.   29.   54.   77.\n",
        "   54.   63.   78.   22.   76.   61.    0.   93.    9.   44.   58.   69.\n",
        "   62.   76.   35.   76.   49.    0.   78.   21.   50.   50.   85.    9.\n",
        "    7.]\n"
       ]
      },
      {
       "metadata": {},
       "output_type": "display_data",
       "png": "iVBORw0KGgoAAAANSUhEUgAAAX4AAAEACAYAAAC08h1NAAAABHNCSVQICAgIfAhkiAAAAAlwSFlz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\n",
       "text": [
        "<matplotlib.figure.Figure at 0x7f049f894f28>"
       ]
      }
     ],
     "prompt_number": 32
    },
    {
     "cell_type": "heading",
     "level": 2,
     "metadata": {},
     "source": [
      "Povprecimo po low and high"
     ]
    },
    {
     "cell_type": "code",
     "collapsed": false,
     "input": [
      "def avg_attr(Y, attr_pos, low, is1000=False):\n",
      "    # WARNING isFalse ne dela\n",
      "    \n",
      "    step = 1 if is1000 else 2\n",
      "    low_high = 0 if low else 1\n",
      "    last_cid = Y[low_high,0]\n",
      "    # Create array of avgs\n",
      "    Y_avg = []\n",
      "    n = 0\n",
      "    sum = 0\n",
      "    until = (Y.shape)[0]\n",
      "    for i in range(low_high, until, step):\n",
      "        cur_cid = Y[i, 0]\n",
      "        #print(cur_cid, last_cid)\n",
      "        if cur_cid != last_cid:\n",
      "            # pocisti za seboj\n",
      "            Y_avg += [(last_cid, sum/n)]\n",
      "            # zacnimo z novim avg\n",
      "            sum = 0\n",
      "            n = 0\n",
      "            last_cid = cur_cid\n",
      "\n",
      "        att_val = Y[i, attr_pos]\n",
      "        if not np.isnan(att_val):\n",
      "            sum += Y[i, attr_pos]\n",
      "            n += 1\n",
      "\n",
      "    return Y_avg\n",
      "# DONE Povprecje stolpca po high\n",
      "\n",
      "# WARNING: Replicated\n",
      "\n",
      "# Validate: NaN"
     ],
     "language": "python",
     "metadata": {},
     "outputs": [],
     "prompt_number": 33
    },
    {
     "cell_type": "code",
     "collapsed": false,
     "input": [
      "# Average Y\n",
      "Y_avg = avg_attr(Y, 4, True)\n",
      "\n",
      "# Create access to chemical informations via CID\n",
      "X_dict = dict([(i[0], i[1:]) for i in X])\n",
      "#X_dict[126.0]\n",
      "\n",
      "# Connect X with Y\n",
      "train_set = np.array( [np.hstack((X_dict[CID], y)) for (CID, y) in Y_avg] )\n",
      "\n",
      "# Divide into X and Y\n",
      "train_setX = train_set[:, :-1]\n",
      "train_setY = train_set[:, -1]"
     ],
     "language": "python",
     "metadata": {},
     "outputs": [],
     "prompt_number": 34
    },
    {
     "cell_type": "code",
     "collapsed": false,
     "input": [
      "# Daj vse NAN na 0 -> ni ok, ampak za zacetek bo ok\n",
      "for i in range(len(train_setX)):\n",
      "    for j in range(len(train_setX[i])):\n",
      "        if np.isnan(train_setX[i,j]):\n",
      "            train_setX[i,j] = 0"
     ],
     "language": "python",
     "metadata": {},
     "outputs": [],
     "prompt_number": 35
    },
    {
     "cell_type": "heading",
     "level": 1,
     "metadata": {},
     "source": [
      "Create model "
     ]
    },
    {
     "cell_type": "code",
     "collapsed": false,
     "input": [
      "# Ridge\n",
      "def ridge(X, y):\n",
      "    from sklearn import linear_model\n",
      "    clf = linear_model.RidgeCV()\n",
      "    clf.fit (X, y)\n",
      "    return (clf.coef_)"
     ],
     "language": "python",
     "metadata": {},
     "outputs": [],
     "prompt_number": 97
    },
    {
     "cell_type": "code",
     "collapsed": false,
     "input": [
      "# Lasso\n",
      "def lasso(X, y):\n",
      "    clf = linear_model.Lasso()\n",
      "    clf.fit (X, y)\n",
      "    return (clf.coef_)"
     ],
     "language": "python",
     "metadata": {},
     "outputs": [],
     "prompt_number": 91
    },
    {
     "cell_type": "code",
     "collapsed": false,
     "input": [
      "# Elastic Net\n",
      "def elastic(X, y):\n",
      "    clf = linear_model.ElasticNetCV()\n",
      "    clf.fit(X, y)\n",
      "    return (clf.coef_)"
     ],
     "language": "python",
     "metadata": {},
     "outputs": [],
     "prompt_number": 88
    },
    {
     "cell_type": "heading",
     "level": 3,
     "metadata": {},
     "source": [
      "PCA"
     ]
    },
    {
     "cell_type": "code",
     "collapsed": false,
     "input": [
      "from sklearn import decomposition\n",
      "pca = decomposition.PCA(n_components=10)\n",
      "pca.fit(train_setX)\n",
      "X_transformed = pca.transform(train_setX)"
     ],
     "language": "python",
     "metadata": {},
     "outputs": [],
     "prompt_number": 47
    },
    {
     "cell_type": "heading",
     "level": 3,
     "metadata": {},
     "source": [
      "Play with models"
     ]
    },
    {
     "cell_type": "code",
     "collapsed": false,
     "input": [
      "#data = Orange.data.Table(train_setX, list( map(lambda t : t[1], Y_avg) ))\n",
      "data = Orange.data.Table(X_transformed, train_setY )\n",
      "\n",
      "lr = Orange.regression.LinearRegressionLearner()\n",
      "mean = Orange.regression.MeanLearner()\n",
      "ridge = Orange.regression.RidgeRegressionLearner()\n",
      "lasso = Orange.regression.LassoRegressionLearner()\n",
      "elastic = Orange.regression.ElasticNetLearner()\n",
      "elasticCV = Orange.regression.ElasticNetCVLearner()\n",
      "res = Orange.evaluation.CrossValidation(data, [lr, mean, ridge, lasso, elasticCV], k=5)\n",
      "Orange.evaluation.RMSE(res)"
     ],
     "language": "python",
     "metadata": {},
     "outputs": [
      {
       "metadata": {},
       "output_type": "pyout",
       "prompt_number": 78,
       "text": [
        "array([ 40.18913728,  26.115667  ,  40.18886113,  39.88285957,  26.3815308 ])"
       ]
      }
     ],
     "prompt_number": 78
    },
    {
     "cell_type": "code",
     "collapsed": false,
     "input": [
      "# Get model\n",
      "model = ridge(data)\n",
      "model.skl_model.coef_"
     ],
     "language": "python",
     "metadata": {},
     "outputs": [
      {
       "metadata": {},
       "output_type": "pyout",
       "prompt_number": 95,
       "text": [
        "array([ -1.30394608e-05,   5.56792187e-04,   1.26800144e-03,\n",
        "        -1.23306930e-03,   2.29605074e-03,  -4.57584088e-03,\n",
        "        -2.19379691e-02,   1.05224167e-02,  -1.90325816e-02,\n",
        "         1.78218563e-02])"
       ]
      }
     ],
     "prompt_number": 95
    },
    {
     "cell_type": "code",
     "collapsed": false,
     "input": [
      "print (ridge(X_transformed, train_setY))"
     ],
     "language": "python",
     "metadata": {},
     "outputs": [
      {
       "output_type": "stream",
       "stream": "stdout",
       "text": [
        "[ -1.30391927e-05   5.56792090e-04   1.26800138e-03  -1.23306919e-03\n",
        "   2.29605040e-03  -4.57583801e-03  -2.19379329e-02   1.05223924e-02\n",
        "  -1.90325224e-02   1.78217770e-02]\n"
       ]
      }
     ],
     "prompt_number": 98
    },
    {
     "cell_type": "code",
     "collapsed": false,
     "input": [
      "print (lasso(train_setX, train_setY))"
     ],
     "language": "python",
     "metadata": {},
     "outputs": [
      {
       "output_type": "stream",
       "stream": "stdout",
       "text": [
        "[ 0.08524592  0.          0.         ..., -0.         -0.         -0.        ]\n"
       ]
      },
      {
       "output_type": "stream",
       "stream": "stderr",
       "text": [
        "C:\\Python34\\lib\\site-packages\\sklearn\\linear_model\\coordinate_descent.py:490: ConvergenceWarning: Objective did not converge. You might want to increase the number of iterations\n",
        "  ConvergenceWarning)\n"
       ]
      }
     ],
     "prompt_number": 93
    },
    {
     "cell_type": "heading",
     "level": 1,
     "metadata": {},
     "source": [
      "Cross validation"
     ]
    },
    {
     "cell_type": "code",
     "collapsed": false,
     "input": [
      "# Tu notri bomo potem resno delali modele in jih testirali\n",
      "\n",
      "import sklearn\n",
      "import scipy\n",
      "\n",
      "k = 10\n",
      "X, y = train_setX, train_setY\n",
      "kf = sklearn.cross_validation.KFold(len(y), n_folds=5)\n",
      "rmse = []\n",
      "for train_index, test_index in kf:\n",
      "    X_train, X_test = X[train_index], X[test_index]\n",
      "    y_train, y_test = y[train_index], y[test_index]\n",
      "    \n",
      "    scores = sorted([(abs(scipy.stats.pearsonr(X_train[:, i], y_train)[0]), i) \n",
      "                     for i in range(X_train.shape[1])], reverse=True)\n",
      "    X_sel_tr = X_train[:, [i for _, i in scores[:k]]]\n",
      "    X_sel_tst = X_test[:, [i for _, i in scores[:k]]]\n",
      "\n",
      "    #lrn = linear_model.ElasticNetCV().fit(X_sel_tr, y_train)\n",
      "    #lrn = linear_model.RidgeCV().fit(X_sel_tr, y_train)\n",
      "    lrn = linear_model.Lasso().fit(X_sel_tr, y_train)\n",
      "    pred = lrn.predict(X_sel_tst)\n",
      "    rmse.append(np.sqrt(sum((pred - y_test)**2)/len(y_test)))\n",
      "np.mean(rmse)"
     ],
     "language": "python",
     "metadata": {},
     "outputs": [
      {
       "metadata": {},
       "output_type": "pyout",
       "prompt_number": 115,
       "text": [
        "26.526723022847744"
       ]
      }
     ],
     "prompt_number": 115
    }
   ],
   "metadata": {}
  }
 ]
}
