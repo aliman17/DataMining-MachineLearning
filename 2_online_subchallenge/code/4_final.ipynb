{
 "metadata": {
  "name": "",
  "signature": "sha256:a5ec07a7fd2482099aa15957e1d8c0bdc79ff8166edd35a4dca5ec86ab6d94e0"
 },
 "nbformat": 3,
 "nbformat_minor": 0,
 "worksheets": [
  {
   "cells": [
    {
     "cell_type": "code",
     "collapsed": false,
     "input": [
      "# Import\n",
      "from collections import defaultdict\n",
      "import numpy as np\n",
      "from matplotlib import pyplot as plt\n",
      "import pylab as P\n",
      "import Orange\n",
      "from sklearn import decomposition\n",
      "from sklearn import linear_model\n",
      "from sklearn import ensemble\n",
      "from sklearn import cross_validation\n",
      "from sklearn import preprocessing\n",
      "import scipy\n",
      "import math\n",
      "%matplotlib inline"
     ],
     "language": "python",
     "metadata": {},
     "outputs": [],
     "prompt_number": 1
    },
    {
     "cell_type": "code",
     "collapsed": false,
     "input": [
      "def stringTOfloat(matrix):\n",
      "    \"\"\"Cast string values of a matrix into float values\"\"\"\n",
      "    matrix1 = []\n",
      "    for pos in range(len(matrix)):\n",
      "        i = matrix[pos]\n",
      "        #i[i == ''] = 0.0\n",
      "        i = i.astype(np.float)\n",
      "        matrix1.append(i)\n",
      "    return np.array( matrix1 )"
     ],
     "language": "python",
     "metadata": {},
     "outputs": [],
     "prompt_number": 2
    },
    {
     "cell_type": "code",
     "collapsed": false,
     "input": [
      "def NANto0(matrix):\n",
      "    # Daj vse NAN na 0 -> ni ok, ampak za zacetek bo ok\n",
      "    for i in range(len(matrix)):\n",
      "        for j in range(len(matrix[i])):\n",
      "            if np.isnan(matrix[i,j]):\n",
      "                matrix[i,j] = 0\n",
      "    return matrix"
     ],
     "language": "python",
     "metadata": {},
     "outputs": [],
     "prompt_number": 3
    },
    {
     "cell_type": "code",
     "collapsed": false,
     "input": [
      "def getData(name):\n",
      "    file1 = open(name, \"rU\" )\n",
      "    Y = []\n",
      "    for aRow in file1:\n",
      "        Y.append(aRow.split('\\t'))\n",
      "    file1.close()\n",
      "    return Y"
     ],
     "language": "python",
     "metadata": {},
     "outputs": [],
     "prompt_number": 4
    },
    {
     "cell_type": "code",
     "collapsed": false,
     "input": [
      "# Parse dilution and get denominator\n",
      "def get_dilution_denominator( string ):\n",
      "    i = 0\n",
      "    # Get rid of numerator\n",
      "    while ( string[i] != '/' and i < len(string) ):\n",
      "        i += 1\n",
      "        \n",
      "    # Get rid of '/'\n",
      "    while ( string[i] != '1' and i < len(string) ):\n",
      "        i += 1\n",
      "        \n",
      "    # Count zeros in denominator\n",
      "    n_zeros = 0\n",
      "    for j in range(i, len(string)):\n",
      "        if string[j] == '0':\n",
      "            n_zeros += 1\n",
      "            \n",
      "    return 10**n_zeros "
     ],
     "language": "python",
     "metadata": {},
     "outputs": [],
     "prompt_number": 5
    },
    {
     "cell_type": "code",
     "collapsed": false,
     "input": [
      "def getX():\n",
      "    X = getData(\"../data/molecular_descriptors_data.txt\")\n",
      "    \n",
      "    # remove header\n",
      "    X = np.array(X[1:])\n",
      "    X = stringTOfloat(X)\n",
      "    # set Nan to 0\n",
      "    X = NANto0(X)\n",
      "    return X"
     ],
     "language": "python",
     "metadata": {},
     "outputs": [],
     "prompt_number": 6
    },
    {
     "cell_type": "code",
     "collapsed": false,
     "input": [
      "def getY():\n",
      "    Y = getData(\"../data/TrainSet-hw2.txt\")\n",
      "    \n",
      "    # header\n",
      "    head = Y[0]\n",
      "    \n",
      "    # remove header\n",
      "    Y = np.array(Y[1:])\n",
      "    \n",
      "    # get CID, get dil\n",
      "    cids = np.matrix(stringTOfloat(Y[:,0]))\n",
      "    dils = np.matrix([get_dilution_denominator(dil) for dil in Y[:,4]])\n",
      "   \n",
      "    # from \n",
      "    Y = np.array(Y[:, 5:]) \n",
      "    Y = stringTOfloat(Y)\n",
      "    \n",
      "    Y = np.hstack((cids.T,dils.T, Y))\n",
      "    return np.array(Y), head\n",
      "    "
     ],
     "language": "python",
     "metadata": {},
     "outputs": [],
     "prompt_number": 7
    },
    {
     "cell_type": "code",
     "collapsed": false,
     "input": [
      "def getPredict():\n",
      "    P = getData(\"../data/predict.txt\")\n",
      "    \n",
      "    P = np.array(P)\n",
      "    \n",
      "    # get CID\n",
      "    cids = stringTOfloat(P[:,0])\n",
      "    dils = [get_dilution_denominator(dil) for dil in P[:,1]]\n",
      "    \n",
      "    P = []\n",
      "    for i in range( len(cids) ):\n",
      "        P.append((cids[i], dils[i]))\n",
      "    return P"
     ],
     "language": "python",
     "metadata": {},
     "outputs": [],
     "prompt_number": 8
    },
    {
     "cell_type": "code",
     "collapsed": false,
     "input": [
      "# Pravzaprav, ne uporabljam\n",
      "def normalize_correct(matrix):\n",
      "    size = matrix.shape\n",
      "    for i in range( size[1] ):\n",
      "        sum = 0\n",
      "        n = 0\n",
      "        # Get sum of column\n",
      "        for j in range( size[0] ):\n",
      "            if np.isnan(matrix[j,i]):\n",
      "                pass\n",
      "            else:\n",
      "                sum += abs(matrix[j,i])\n",
      "                n += 1\n",
      "          \n",
      "        # Correct each value in column\n",
      "        for j in range( size[0] ):\n",
      "            # NaN -> avg value\n",
      "            if np.isnan(matrix[j,i]):\n",
      "                matrix[j,i] = sum / n\n",
      "                \n",
      "            # sum = 0 -> 0\n",
      "            elif sum == 0:\n",
      "                matrix[j,i] = 0\n",
      "                \n",
      "            # else value / sum\n",
      "            else:\n",
      "                matrix[j,i] = matrix[j,i] / sum\n",
      "                \n",
      "    return matrix"
     ],
     "language": "python",
     "metadata": {},
     "outputs": [],
     "prompt_number": 9
    },
    {
     "cell_type": "code",
     "collapsed": false,
     "input": [
      "def average_by_cid_and_dilution(Y, dilution = None):\n",
      "    \"\"\"Compute average attributes for CID. Dilution influences, which samples to take.\"\"\"\n",
      "    # cid, dilution, rest\n",
      "    if dilution != None:\n",
      "        Y_sel = Y[Y[:,1] == dilution]\n",
      "    else:\n",
      "        Y_sel = Y\n",
      "\n",
      "    # average for each cid\n",
      "    # get cids\n",
      "    cids = Y[:, 0]\n",
      "    cids = np.unique(cids)\n",
      "    \n",
      "    # for each cid store avg value for all attributes\n",
      "    cid_avg = []\n",
      "    for cid in cids:\n",
      "        cid_samples = Y[Y[:,0] == cid]\n",
      "        # remove cid, dilution, subject and normalize it and remove Nan values\n",
      "        #cid_samples_rest = normalize_correct(cid_samples[:, 3:])\n",
      "        cid_samples_rest = np.matrix(cid_samples[:, 3:])        \n",
      "        \n",
      "        avg = [column[~np.isnan(column)].mean() for column in cid_samples_rest.T]\n",
      "        cid_avg.append( np.hstack(([cid], avg)) )\n",
      "        \n",
      "    cid_avg = np.array( cid_avg )\n",
      "    return cid_avg"
     ],
     "language": "python",
     "metadata": {},
     "outputs": [],
     "prompt_number": 10
    },
    {
     "cell_type": "code",
     "collapsed": false,
     "input": [
      "def average_by_cid_and_low_high_dilution(Y, high=True):\n",
      "    \"\"\"Compute average attributes for CID. Based on high or low\"\"\"\n",
      "    # average for each cid and dilution\n",
      "    \n",
      "    if high:\n",
      "        Y_sel = Y[1::2]  # take high dilutions\n",
      "    else:\n",
      "        Y_sel = Y[0::2]  # take low dilutions\n",
      "    \n",
      "    cids = Y[:, 0]\n",
      "    cids = np.unique(cids)\n",
      "    \n",
      "    # for each cid store avg value for all attributes\n",
      "    cid_avg = []\n",
      "    for cid in cids:\n",
      "        cid_samples = Y[Y[:,0] == cid]\n",
      "        # remove cid, dilution, subject and normalize it and remove Nan values\n",
      "        #cid_samples_rest = normalize_correct(cid_samples[:, 3:])\n",
      "        cid_samples_rest = np.matrix(cid_samples[:, 3:])        \n",
      "        \n",
      "        avg = [column[~np.isnan(column)].mean() for column in cid_samples_rest.T]\n",
      "        cid_avg.append( np.hstack(([cid], avg)) )\n",
      "        \n",
      "    cid_avg = np.array( cid_avg )\n",
      "    return cid_avg"
     ],
     "language": "python",
     "metadata": {},
     "outputs": [],
     "prompt_number": 11
    },
    {
     "cell_type": "code",
     "collapsed": false,
     "input": [
      "def get_X_Y_train(X_dict, Y):    \n",
      "    # connect them together\n",
      "    X_train = []\n",
      "    Y_train = np.array( cid_avg[:, 1:] )\n",
      "    for cid in Y[:, 0]:\n",
      "        X_train.append(X_dict[cid])\n",
      "    X_train = np.array( X_train )\n",
      "    return X_train, Y_train"
     ],
     "language": "python",
     "metadata": {},
     "outputs": [],
     "prompt_number": 12
    },
    {
     "cell_type": "code",
     "collapsed": false,
     "input": [
      "# Ne uporabljam ... ve\u010d\n",
      "def predict_Y(cid, dilution, X_dict, Y):\n",
      "    \n",
      "    X_train, Y_train = get_X_Y_train(X_dict, Y)\n",
      "    # pca\n",
      "    components = 3\n",
      "    pca = decomposition.PCA(n_components=components)\n",
      "    pca.fit(X_train)\n",
      "    X_trans = pca.transform(X_train)\n",
      "\n",
      "    X_predict = X_dict[cid]\n",
      "    X_predict = pca.transform(X_predict)\n",
      "    # model\n",
      "    prediction = []\n",
      "    for y in Y_train.T:   # take all\n",
      "        #model = linear_model.ElasticNetCV(max_iter=500)\n",
      "        model = linear_model.Ridge()\n",
      "        #model = best_model(X_trans, Y_train)\n",
      "        model.fit(X_trans, y)\n",
      "        y_pred = model.predict(X_predict)\n",
      "        prediction += [y_pred[0]]\n",
      "    return prediction"
     ],
     "language": "python",
     "metadata": {},
     "outputs": [],
     "prompt_number": 13
    },
    {
     "cell_type": "code",
     "collapsed": false,
     "input": [
      "# Ne uporabljam\n",
      "def best_model(X_train, Y_train):\n",
      "    best_m = None\n",
      "    best_val = 100\n",
      "    best_alpha = 0\n",
      "    best_ratio = 0\n",
      "    for alpha in [0.01, 0.05, 0.1, 0.2, 0.3, 0.5, 0.7, 1, 2, 5, 10]:\n",
      "        for ratio in [0.1, 0.3, 0.5, 0.7, 0.9]:\n",
      "            elastic = linear_model.ElasticNet(alpha=alpha, l1_ratio=ratio, max_iter=500)\n",
      "            rez = my_cross_validation(X_train, Y_train, elastic)\n",
      "            if rez < best_val:\n",
      "                best_m = elastic\n",
      "                best_val = rez\n",
      "                best_alpha = alpha\n",
      "                best_ratio = ratio\n",
      "    # return best model\n",
      "    return best_m"
     ],
     "language": "python",
     "metadata": {},
     "outputs": [],
     "prompt_number": 14
    },
    {
     "cell_type": "code",
     "collapsed": false,
     "input": [
      "# Ne uproabljam\n",
      "def my_cross_validation(X, y, model):\n",
      "\n",
      "    k = 10\n",
      "    components = 10\n",
      "    \n",
      "    kf = cross_validation.KFold(len(y), n_folds=5)\n",
      "    rmse = []\n",
      "    for train_index, test_index in kf:\n",
      "        X_train, X_test = X[train_index], X[test_index]\n",
      "        y_train, y_test = y[train_index], y[test_index]\n",
      "\n",
      "        X_sel_tr, X_sel_tst = X_train, X_test\n",
      "        # learn\n",
      "        lrn = model.fit(X_sel_tr, y_train)\n",
      "        # predict\n",
      "        pred = lrn.predict(X_sel_tst)\n",
      "        # rmse\n",
      "        rmse.append(np.sqrt(sum((pred - y_test)**2)/len(y_test)))\n",
      "    return( np.mean(rmse) )"
     ],
     "language": "python",
     "metadata": {},
     "outputs": [],
     "prompt_number": 15
    },
    {
     "cell_type": "code",
     "collapsed": false,
     "input": [
      "def write_to_file(cid_preds, head, name):\n",
      "    head = head[6:] # remove labels for attributes that are not needed\n",
      "    head[-1] = (head[-1])[:-1]  # remove \\n at the end of head labels\n",
      "    f = open('../rezults/'+name+'.txt','w')\n",
      "    for cid, pred in cid_preds:\n",
      "        for i in range( len(pred) ):\n",
      "            f.write(str(int(cid)))   # change float to int then to string\n",
      "            f.write('\\t')\n",
      "            f.write(head[i])\n",
      "            f.write('\\t')\n",
      "            f.write(str(round(float(pred[i]), 6)))\n",
      "            f.write('\\n')\n",
      "    f.close()"
     ],
     "language": "python",
     "metadata": {},
     "outputs": [],
     "prompt_number": 16
    },
    {
     "cell_type": "code",
     "collapsed": false,
     "input": [
      "def pearson(x,y):\n",
      "    x,y = np.array(x), np.array(y)\n",
      "    anynan = np.logical_or(np.isnan(x), np.isnan(y))\n",
      "    r = scipy.stats.pearsonr(x[~anynan],y[~anynan])[0]\n",
      "    return 0. if math.isnan(r) else r\n",
      "\n",
      "def final_score(rs):\n",
      "    zs = rs/NORM_STD\n",
      "    return np.mean(zs)\n",
      "\n",
      "def evaluate_r(prediction, real):\n",
      "    userscores = prediction\n",
      "    realscores = real\n",
      "    rint = pearson(userscores[:,0], realscores[:,0])\n",
      "    rval = pearson(userscores[:,1], realscores[:,1])\n",
      "    rdecall = [ pearson(userscores[:,i], realscores[:,i]) for i in range(2,21) ]\n",
      "    rdec = np.mean(rdecall)\n",
      "    return np.array([rint, rval, rdec])"
     ],
     "language": "python",
     "metadata": {},
     "outputs": [],
     "prompt_number": 17
    },
    {
     "cell_type": "raw",
     "metadata": {},
     "source": [
      "# Ne uporabljam\n",
      "cid_preds = []\n",
      "cid_preds_dict = dict()\n",
      "i = 0\n",
      "for cid, dilution in P[:5]:  # TODO, predict take all\n",
      "    i += 1\n",
      "    print(i)\n",
      "    cid_avg = average_by_cid_and_dilution(Y, dilution)\n",
      "    preds = predict_Y(cid, dilution, X_dict, cid_avg)\n",
      "    #print(preds)\n",
      "    cid_preds.append([cid, preds])\n",
      "    cid_preds_dict[str(int(cid))] = preds"
     ]
    },
    {
     "cell_type": "code",
     "collapsed": false,
     "input": [
      "def predict(X_sel_tr, Y_train, X_to_predict):\n",
      "\n",
      "    # pca\n",
      "    pca = decomposition.PCA(n_components=components)\n",
      "    pca.fit(X_sel_tr)\n",
      "    \n",
      "    # transform X\n",
      "    X_sel_tr = pca.transform(X_sel_tr)\n",
      "    \n",
      "    # transform predict\n",
      "    X_to_predict = pca.transform(X_to_predict)\n",
      "\n",
      "    prediction_for_cid = []\n",
      "    #model = linear_model.Ridge()\n",
      "    #model = linear_model.ElasticNet()\n",
      "    model = ensemble.RandomForestClassifier()\n",
      "    for i in range(0,21):\n",
      "        # learn\n",
      "        lrn = model.fit(X_sel_tr, Y_train[:, i])\n",
      "        # predict\n",
      "        pred = lrn.predict(X_to_predict)\n",
      "        prediction_for_cid += list(pred)\n",
      "\n",
      "    return (cid, prediction_for_cid)"
     ],
     "language": "python",
     "metadata": {},
     "outputs": [],
     "prompt_number": 21
    },
    {
     "cell_type": "raw",
     "metadata": {},
     "source": [
      "# \u0160E NE DELA, TO JE TREBA \u0160E NAREDITI ... CROSS VALIDATION\n",
      "# Pripravi Y v odvisnosti od vhoda cid in dilutiona\n",
      "Y_cid_avg = average_by_cid_and_dilution(Y_cid_dil_rest, None)\n",
      "y = Y_cid_avg[:, 1:]  # remove cid\n",
      "# Pripravi X glede na Y\n",
      "X = np.array( [X_dict_by_cid[cid] for cid in Y_cid_avg[:, 0] ] )\n",
      "\n",
      "# Razbijemo glavno mnozico, ucno mnozico\n",
      "\n",
      "k = 10\n",
      "alpha = 0.1\n",
      "ratio = 0.5\n",
      "components = 10\n",
      "\n",
      "kf = cross_validation.KFold(len(y), n_folds=5)\n",
      "store_predictions = []\n",
      "store_learners = []\n",
      "for train_index, test_index in kf:\n",
      "    X_train, X_test = X[train_index], X[test_index]\n",
      "    y_train, y_test = y[train_index], y[test_index]\n",
      "    \n",
      "    rezult = []\n",
      "    for x in np.matrix(X_test).T:\n",
      "        print(X_test.shape)\n",
      "        cid, prediction_for_cid = predict(X_train, y_train, x)\n",
      "        print(prediction_for_cid.shape)\n",
      "        rezult.append(prediction_for_cid)\n",
      "    rezult = np.array(rezult)\n",
      "    print(rezult.shape)\n",
      "    print(y_test.shape)\n",
      "    score = evaluate_r(rezult, y_test)\n",
      "    print(\"FINAL\", final_score(score))\n",
      "    break\n",
      "    "
     ]
    },
    {
     "cell_type": "code",
     "collapsed": false,
     "input": [
      "# PO\u017dENI 1\n",
      "# cid, rest\n",
      "X_cid_rest = getX()\n",
      "# cid, dilution, rest\n",
      "Y_cid_dil_rest, head = getY()\n",
      "# predict info\n",
      "toPredict = getPredict()\n",
      "# Create access to chemical informations via CID\n",
      "X_dict_by_cid = dict([(i[0], i[1:]) for i in X_cid_rest])"
     ],
     "language": "python",
     "metadata": {},
     "outputs": [],
     "prompt_number": 20
    },
    {
     "cell_type": "code",
     "collapsed": false,
     "input": [
      "# PO\u017dENI 2\n",
      "# V cid_preds se zapi\u0161ejo rezultati za predict.txt, \n",
      "# torej potem samo \u0161e write_to_file po\u017eeni in \u017ee je\n",
      "# pripravljeno na oddajo na stre\u017enik\n",
      "cid_preds = []\n",
      "cid_preds_dict = dict()\n",
      "components = 3\n",
      "count = 0\n",
      "for cid, dilution in toPredict:  # TODO, predict take all\n",
      "\n",
      "    Y_cid_avg = average_by_cid_and_dilution(Y_cid_dil_rest, dilution)\n",
      "    #Y_cid_avg = average_by_cid_and_low_high_dilution(Y_cid_dil_rest, high=True)\n",
      "    y_train = Y_cid_avg[:, 1:]  # remove cid\n",
      "\n",
      "    # Pripravi X glede na Y\n",
      "    X_sel_tr = np.array( [X_dict_by_cid[cid] for cid in Y_cid_avg[:, 0] ] )\n",
      "    X_to_predict = X_dict_by_cid[cid]\n",
      "\n",
      "    cid, prediction_for_cid = predict(X_sel_tr, y_train, X_to_predict)\n",
      "    \n",
      "    cid_preds.append([cid, prediction_for_cid])\n",
      "    cid_preds_dict[str(int(cid))] = prediction_for_cid\n",
      "    \n",
      "    print(count, cid)\n",
      "    count += 1\n",
      "        \n",
      "    "
     ],
     "language": "python",
     "metadata": {},
     "outputs": [
      {
       "output_type": "stream",
       "stream": "stdout",
       "text": [
        "0 7894.0\n",
        "1"
       ]
      },
      {
       "output_type": "stream",
       "stream": "stdout",
       "text": [
        " 6505.0\n",
        "2"
       ]
      },
      {
       "output_type": "stream",
       "stream": "stdout",
       "text": [
        " 9862.0\n",
        "3"
       ]
      },
      {
       "output_type": "stream",
       "stream": "stdout",
       "text": [
        " 241.0\n",
        "4"
       ]
      },
      {
       "output_type": "stream",
       "stream": "stdout",
       "text": [
        " 660.0\n",
        "5"
       ]
      },
      {
       "output_type": "stream",
       "stream": "stdout",
       "text": [
        " 32594.0\n"
       ]
      },
      {
       "ename": "KeyboardInterrupt",
       "evalue": "",
       "output_type": "pyerr",
       "traceback": [
        "\u001b[1;31m---------------------------------------------------------------------------\u001b[0m\n\u001b[1;31mKeyboardInterrupt\u001b[0m                         Traceback (most recent call last)",
        "\u001b[1;32m<ipython-input-26-b17606c82b21>\u001b[0m in \u001b[0;36m<module>\u001b[1;34m()\u001b[0m\n\u001b[0;32m     17\u001b[0m     \u001b[0mX_to_predict\u001b[0m \u001b[1;33m=\u001b[0m \u001b[0mX_dict_by_cid\u001b[0m\u001b[1;33m[\u001b[0m\u001b[0mcid\u001b[0m\u001b[1;33m]\u001b[0m\u001b[1;33m\u001b[0m\u001b[0m\n\u001b[0;32m     18\u001b[0m \u001b[1;33m\u001b[0m\u001b[0m\n\u001b[1;32m---> 19\u001b[1;33m     \u001b[0mcid\u001b[0m\u001b[1;33m,\u001b[0m \u001b[0mprediction_for_cid\u001b[0m \u001b[1;33m=\u001b[0m \u001b[0mpredict\u001b[0m\u001b[1;33m(\u001b[0m\u001b[0mX_sel_tr\u001b[0m\u001b[1;33m,\u001b[0m \u001b[0my_train\u001b[0m\u001b[1;33m,\u001b[0m \u001b[0mX_to_predict\u001b[0m\u001b[1;33m)\u001b[0m\u001b[1;33m\u001b[0m\u001b[0m\n\u001b[0m\u001b[0;32m     20\u001b[0m \u001b[1;33m\u001b[0m\u001b[0m\n\u001b[0;32m     21\u001b[0m     \u001b[0mcid_preds\u001b[0m\u001b[1;33m.\u001b[0m\u001b[0mappend\u001b[0m\u001b[1;33m(\u001b[0m\u001b[1;33m[\u001b[0m\u001b[0mcid\u001b[0m\u001b[1;33m,\u001b[0m \u001b[0mprediction_for_cid\u001b[0m\u001b[1;33m]\u001b[0m\u001b[1;33m)\u001b[0m\u001b[1;33m\u001b[0m\u001b[0m\n",
        "\u001b[1;32m<ipython-input-21-98e723c7cca8>\u001b[0m in \u001b[0;36mpredict\u001b[1;34m(X_sel_tr, Y_train, X_to_predict)\u001b[0m\n\u001b[0;32m      3\u001b[0m     \u001b[1;31m# pca\u001b[0m\u001b[1;33m\u001b[0m\u001b[1;33m\u001b[0m\u001b[0m\n\u001b[0;32m      4\u001b[0m     \u001b[0mpca\u001b[0m \u001b[1;33m=\u001b[0m \u001b[0mdecomposition\u001b[0m\u001b[1;33m.\u001b[0m\u001b[0mPCA\u001b[0m\u001b[1;33m(\u001b[0m\u001b[0mn_components\u001b[0m\u001b[1;33m=\u001b[0m\u001b[0mcomponents\u001b[0m\u001b[1;33m)\u001b[0m\u001b[1;33m\u001b[0m\u001b[0m\n\u001b[1;32m----> 5\u001b[1;33m     \u001b[0mpca\u001b[0m\u001b[1;33m.\u001b[0m\u001b[0mfit\u001b[0m\u001b[1;33m(\u001b[0m\u001b[0mX_sel_tr\u001b[0m\u001b[1;33m)\u001b[0m\u001b[1;33m\u001b[0m\u001b[0m\n\u001b[0m\u001b[0;32m      6\u001b[0m \u001b[1;33m\u001b[0m\u001b[0m\n\u001b[0;32m      7\u001b[0m     \u001b[1;31m# transform X\u001b[0m\u001b[1;33m\u001b[0m\u001b[1;33m\u001b[0m\u001b[0m\n",
        "\u001b[1;32mC:\\Python34\\lib\\site-packages\\sklearn\\decomposition\\pca.py\u001b[0m in \u001b[0;36mfit\u001b[1;34m(self, X, y)\u001b[0m\n\u001b[0;32m    223\u001b[0m             \u001b[0mReturns\u001b[0m \u001b[0mthe\u001b[0m \u001b[0minstance\u001b[0m \u001b[0mitself\u001b[0m\u001b[1;33m.\u001b[0m\u001b[1;33m\u001b[0m\u001b[0m\n\u001b[0;32m    224\u001b[0m         \"\"\"\n\u001b[1;32m--> 225\u001b[1;33m         \u001b[0mself\u001b[0m\u001b[1;33m.\u001b[0m\u001b[0m_fit\u001b[0m\u001b[1;33m(\u001b[0m\u001b[0mX\u001b[0m\u001b[1;33m)\u001b[0m\u001b[1;33m\u001b[0m\u001b[0m\n\u001b[0m\u001b[0;32m    226\u001b[0m         \u001b[1;32mreturn\u001b[0m \u001b[0mself\u001b[0m\u001b[1;33m\u001b[0m\u001b[0m\n\u001b[0;32m    227\u001b[0m \u001b[1;33m\u001b[0m\u001b[0m\n",
        "\u001b[1;32mC:\\Python34\\lib\\site-packages\\sklearn\\decomposition\\pca.py\u001b[0m in \u001b[0;36m_fit\u001b[1;34m(self, X)\u001b[0m\n\u001b[0;32m    273\u001b[0m         \u001b[0mself\u001b[0m\u001b[1;33m.\u001b[0m\u001b[0mmean_\u001b[0m \u001b[1;33m=\u001b[0m \u001b[0mnp\u001b[0m\u001b[1;33m.\u001b[0m\u001b[0mmean\u001b[0m\u001b[1;33m(\u001b[0m\u001b[0mX\u001b[0m\u001b[1;33m,\u001b[0m \u001b[0maxis\u001b[0m\u001b[1;33m=\u001b[0m\u001b[1;36m0\u001b[0m\u001b[1;33m)\u001b[0m\u001b[1;33m\u001b[0m\u001b[0m\n\u001b[0;32m    274\u001b[0m         \u001b[0mX\u001b[0m \u001b[1;33m-=\u001b[0m \u001b[0mself\u001b[0m\u001b[1;33m.\u001b[0m\u001b[0mmean_\u001b[0m\u001b[1;33m\u001b[0m\u001b[0m\n\u001b[1;32m--> 275\u001b[1;33m         \u001b[0mU\u001b[0m\u001b[1;33m,\u001b[0m \u001b[0mS\u001b[0m\u001b[1;33m,\u001b[0m \u001b[0mV\u001b[0m \u001b[1;33m=\u001b[0m \u001b[0mlinalg\u001b[0m\u001b[1;33m.\u001b[0m\u001b[0msvd\u001b[0m\u001b[1;33m(\u001b[0m\u001b[0mX\u001b[0m\u001b[1;33m,\u001b[0m \u001b[0mfull_matrices\u001b[0m\u001b[1;33m=\u001b[0m\u001b[1;32mFalse\u001b[0m\u001b[1;33m)\u001b[0m\u001b[1;33m\u001b[0m\u001b[0m\n\u001b[0m\u001b[0;32m    276\u001b[0m         \u001b[0mexplained_variance_\u001b[0m \u001b[1;33m=\u001b[0m \u001b[1;33m(\u001b[0m\u001b[0mS\u001b[0m \u001b[1;33m**\u001b[0m \u001b[1;36m2\u001b[0m\u001b[1;33m)\u001b[0m \u001b[1;33m/\u001b[0m \u001b[0mn_samples\u001b[0m\u001b[1;33m\u001b[0m\u001b[0m\n\u001b[0;32m    277\u001b[0m         explained_variance_ratio_ = (explained_variance_ /\n",
        "\u001b[1;32mC:\\Python34\\lib\\site-packages\\scipy\\linalg\\decomp_svd.py\u001b[0m in \u001b[0;36msvd\u001b[1;34m(a, full_matrices, compute_uv, overwrite_a, check_finite)\u001b[0m\n\u001b[0;32m    104\u001b[0m     \u001b[1;31m# perform decomposition\u001b[0m\u001b[1;33m\u001b[0m\u001b[1;33m\u001b[0m\u001b[0m\n\u001b[0;32m    105\u001b[0m     u,s,v,info = gesdd(a1, compute_uv=compute_uv, lwork=lwork,\n\u001b[1;32m--> 106\u001b[1;33m                        full_matrices=full_matrices, overwrite_a=overwrite_a)\n\u001b[0m\u001b[0;32m    107\u001b[0m \u001b[1;33m\u001b[0m\u001b[0m\n\u001b[0;32m    108\u001b[0m     \u001b[1;32mif\u001b[0m \u001b[0minfo\u001b[0m \u001b[1;33m>\u001b[0m \u001b[1;36m0\u001b[0m\u001b[1;33m:\u001b[0m\u001b[1;33m\u001b[0m\u001b[0m\n",
        "\u001b[1;31mKeyboardInterrupt\u001b[0m: "
       ]
      }
     ],
     "prompt_number": 26
    },
    {
     "cell_type": "code",
     "collapsed": false,
     "input": [
      "write_to_file(cid_preds, head, 'forest_2')"
     ],
     "language": "python",
     "metadata": {},
     "outputs": [],
     "prompt_number": 233
    },
    {
     "cell_type": "raw",
     "metadata": {},
     "source": [
      "elasticCV = 1.06\n",
      "ridge = 2.04792 "
     ]
    }
   ],
   "metadata": {}
  }
 ]
}