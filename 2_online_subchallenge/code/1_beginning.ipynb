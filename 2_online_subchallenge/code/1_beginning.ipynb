{
 "metadata": {
  "name": "",
  "signature": "sha256:78825bc6fb6a0e8cc7912d0986333717a9852dc71891c49cae4eba61ffd01c93"
 },
 "nbformat": 3,
 "nbformat_minor": 0,
 "worksheets": [
  {
   "cells": [
    {
     "cell_type": "heading",
     "level": 1,
     "metadata": {},
     "source": [
      "Questions"
     ]
    },
    {
     "cell_type": "markdown",
     "metadata": {},
     "source": [
      "1) Kako vkljuciti podatek o dilution?\n",
      "2) Ljudje cudno napovedujejo. Kakko lahko take podatke iyboljsamo ... kaj je povprecje?"
     ]
    },
    {
     "cell_type": "heading",
     "level": 1,
     "metadata": {},
     "source": [
      "Ugotovitve"
     ]
    },
    {
     "cell_type": "markdown",
     "metadata": {},
     "source": [
      "- napake ocenjevalcev eliminiramo z Gaussovo utezitvijo\n",
      "- "
     ]
    },
    {
     "cell_type": "heading",
     "level": 1,
     "metadata": {},
     "source": [
      "Plan"
     ]
    },
    {
     "cell_type": "markdown",
     "metadata": {},
     "source": [
      "- zdruzimo podatke po CID na low in na high\n",
      "- to naredimo za vsako spojino in pri tem upostevamo Gaussovo utezitev"
     ]
    },
    {
     "cell_type": "heading",
     "level": 1,
     "metadata": {},
     "source": [
      "Get data"
     ]
    },
    {
     "cell_type": "code",
     "collapsed": false,
     "input": [
      "import numpy as np\n",
      "from matplotlib import pyplot as plt\n",
      "import pylab as P\n",
      "import Orange\n",
      "%matplotlib inline\n",
      "\n",
      "file1 = open( \"../data/TrainSet-hw2.txt\", \"rU\" )\n",
      "Ys = []\n",
      "for aRow in file1:\n",
      "    Ys.append(aRow.split('\\t'))\n",
      "file1.close()\n",
      "\n",
      "file1 = open( \"../data/molecular_descriptors_data.txt\", \"rU\" )\n",
      "Xs = []\n",
      "for aRow in file1:\n",
      "    Xs.append(aRow.split('\\t'))\n",
      "file1.close()"
     ],
     "language": "python",
     "metadata": {},
     "outputs": [],
     "prompt_number": 21
    },
    {
     "cell_type": "heading",
     "level": 1,
     "metadata": {},
     "source": [
      "Validate data"
     ]
    },
    {
     "cell_type": "markdown",
     "metadata": {},
     "source": [
      "- NaN vnosi so tezava\n",
      "- Iz Xs izbrati sample, ki so tudi v Y (po CID)\n",
      "- Izbrisi CID stolpec v Xs\n",
      "- Izbrisi vrstico z imeni atributov Xs\n"
     ]
    },
    {
     "cell_type": "code",
     "collapsed": false,
     "input": [
      "# LIST OF LISTS -> MATRIX\n",
      "Ys = np.array(Ys)\n",
      "Xs = np.array(Xs)\n",
      "# Remove list of attribute names\n",
      "X = Xs[1:]"
     ],
     "language": "python",
     "metadata": {},
     "outputs": [],
     "prompt_number": 2
    },
    {
     "cell_type": "code",
     "collapsed": false,
     "input": [
      "def stringTOfloat(matrix):\n",
      "    matrix1 = []\n",
      "    for pos in range(len(matrix)):\n",
      "        i = matrix[pos]\n",
      "        #i[i == ''] = 0.0\n",
      "        i = i.astype(np.float)\n",
      "        matrix1.append(i)\n",
      "    return np.array( matrix1 )"
     ],
     "language": "python",
     "metadata": {},
     "outputs": [],
     "prompt_number": 3
    },
    {
     "cell_type": "code",
     "collapsed": false,
     "input": [
      "X = stringTOfloat(X)\n",
      "X"
     ],
     "language": "python",
     "metadata": {},
     "outputs": [
      {
       "metadata": {},
       "output_type": "pyout",
       "prompt_number": 4,
       "text": [
        "array([[  1.26000000e+02,   9.31000000e+01,   1.22130000e+02, ...,\n",
        "          0.00000000e+00,   0.00000000e+00,   0.00000000e+00],\n",
        "       [  1.76000000e+02,   3.10000000e+01,   6.00600000e+01, ...,\n",
        "          0.00000000e+00,   0.00000000e+00,   0.00000000e+00],\n",
        "       [  1.77000000e+02,   1.03000000e+01,   4.40600000e+01, ...,\n",
        "          0.00000000e+00,   0.00000000e+00,   0.00000000e+00],\n",
        "       ..., \n",
        "       [  6.99997700e+06,   1.01000000e+02,   1.46210000e+02, ...,\n",
        "          0.00000000e+00,   0.00000000e+00,   0.00000000e+00],\n",
        "       [  1.08574650e+07,   3.22000000e+02,   2.36440000e+02, ...,\n",
        "          0.00000000e+00,   1.00000000e+00,   0.00000000e+00],\n",
        "       [  1.62201090e+07,   2.02000000e+02,   1.82290000e+02, ...,\n",
        "          0.00000000e+00,   1.00000000e+00,   0.00000000e+00]])"
       ]
      }
     ],
     "prompt_number": 4
    },
    {
     "cell_type": "heading",
     "level": 2,
     "metadata": {},
     "source": [
      "Obdelava Y"
     ]
    },
    {
     "cell_type": "code",
     "collapsed": false,
     "input": [
      "# Remove header\n",
      "Y = Ys[1:]\n",
      "# Remove Identifier, Replicator, Dilution1, Dilution2\n",
      "attr_pos_list = [0] + list(range(5, (Y.shape)[1]))\n",
      "print (attr_pos_list)\n",
      "Y = Y[:,attr_pos_list]\n",
      "Y[:, 0]"
     ],
     "language": "python",
     "metadata": {},
     "outputs": [
      {
       "output_type": "stream",
       "stream": "stdout",
       "text": [
        "[0, 5, 6, 7, 8, 9, 10, 11, 12, 13, 14, 15, 16, 17, 18, 19, 20, 21, 22, 23, 24, 25, 26]\n"
       ]
      },
      {
       "metadata": {},
       "output_type": "pyout",
       "prompt_number": 5,
       "text": [
        "array(['126', '126', '126', ..., '6999977', '6999977', '6999977'], \n",
        "      dtype='<U54')"
       ]
      }
     ],
     "prompt_number": 5
    },
    {
     "cell_type": "code",
     "collapsed": false,
     "input": [
      "# Pretvori Y v float\n",
      "Y = stringTOfloat(Y)"
     ],
     "language": "python",
     "metadata": {},
     "outputs": [],
     "prompt_number": 6
    },
    {
     "cell_type": "code",
     "collapsed": false,
     "input": [
      "# pridobi atribut\n",
      "attr = Y[1:98:2, 2]\n",
      "print(attr)\n",
      "# the histogram of the data\n",
      "n, bins, patches = plt.hist(attr, 50, normed=1, facecolor='green', alpha=0.75)"
     ],
     "language": "python",
     "metadata": {},
     "outputs": [
      {
       "output_type": "stream",
       "stream": "stdout",
       "text": [
        "[  37.   64.    0.  100.   58.    0.   18.   51.  100.    6.  100.   51.\n",
        "   81.    0.    0.   64.   41.   53.   61.   66.   92.   29.   54.   77.\n",
        "   54.   63.   78.   22.   76.   61.    0.   93.    9.   44.   58.   69.\n",
        "   62.   76.   35.   76.   49.    0.   78.   21.   50.   50.   85.    9.\n",
        "    7.]\n"
       ]
      },
      {
       "metadata": {},
       "output_type": "display_data",
       "png": "[encoded data removed]",
       "text": [
        "<matplotlib.figure.Figure at 0xbc698f0>"
       ]
      }
     ],
     "prompt_number": 49
    },
    {
     "cell_type": "code",
     "collapsed": false,
     "input": [
      "a = [1,2,3,4,5,6,7,8,9]\n",
      "a[0:6:2]"
     ],
     "language": "python",
     "metadata": {},
     "outputs": [
      {
       "metadata": {},
       "output_type": "pyout",
       "prompt_number": 45,
       "text": [
        "[1, 3, 5]"
       ]
      }
     ],
     "prompt_number": 45
    },
    {
     "cell_type": "heading",
     "level": 2,
     "metadata": {},
     "source": [
      "Povprecimo po low and high"
     ]
    },
    {
     "cell_type": "code",
     "collapsed": false,
     "input": [
      "def avg_attr(Y, attr_pos, low_high)\n",
      "    last_cid = Y[low_high,0]\n",
      "    Y_avg = []\n",
      "    n = 0\n",
      "    sum = 0\n",
      "    until = (Y.shape)[0]\n",
      "    for i in range(low_high, until, 2):\n",
      "        cur_cid = Y[i, 0]\n",
      "        #print(cur_cid, last_cid)\n",
      "        if cur_cid != last_cid:\n",
      "            # pocisti za seboj\n",
      "            Y_avg += [(last_cid, sum/n)]\n",
      "            # zacnimo z novim avg\n",
      "            sum = 0\n",
      "            n = 0\n",
      "            last_cid = cur_cid\n",
      "\n",
      "        # TODO pridobi splosen atribut\n",
      "        attr_pos = 2\n",
      "        #print(Y[i, attr_pos])\n",
      "        sum += Y[i, attr_pos]\n",
      "        n += 1\n",
      "\n",
      "    return Y_avg\n",
      "# DONE Povprecje stolpca po high\n",
      "\n",
      "# WARNING: Replicated\n",
      "\n",
      "# TODO NaN"
     ],
     "language": "python",
     "metadata": {},
     "outputs": [
      {
       "metadata": {},
       "output_type": "pyout",
       "prompt_number": 14,
       "text": [
        "[(126.0, 24.653061224489797),\n",
        " (176.0, 11.551020408163266),\n",
        " (177.0, 11.510204081632653),\n",
        " (196.0, 6.8775510204081636),\n",
        " (239.0, 21.163265306122447),\n",
        " (240.0, 16.244897959183675),\n",
        " (244.0, 71.530612244897952),\n",
        " (261.0, 81.714285714285708),\n",
        " (263.0, 3.795918367346939),\n",
        " (325.0, 16.571428571428573),\n",
        " (356.0, 56.551020408163268),\n",
        " (379.0, 36.204081632653065),\n",
        " (460.0, 62.602040816326529),\n",
        " (650.0, 48.836734693877553),\n",
        " (807.0, 72.34693877551021),\n",
        " (875.0, 21.591836734693878),\n",
        " (887.0, 7.3877551020408161),\n",
        " (994.0, 43.693877551020407),\n",
        " (1001.0, 13.775510204081632),\n",
        " (1032.0, 3.6428571428571428),\n",
        " (1068.0, 51.04081632653061),\n",
        " (1136.0, 71.571428571428569),\n",
        " (1183.0, 75.714285714285708),\n",
        " (2214.0, 19.897959183673468),\n",
        " (2345.0, 47.714285714285715),\n",
        " (2758.0, 33.448979591836732),\n",
        " (2879.0, 61.551020408163268),\n",
        " (3776.0, 3.5510204081632653),\n",
        " (3893.0, 44.010204081632651),\n",
        " (5541.0, 38.204081632653065),\n",
        " (5780.0, 21.081632653061224),\n",
        " (5960.0, 9.2448979591836729),\n",
        " (5961.0, 8.4693877551020407),\n",
        " (6050.0, 65.367346938775512),\n",
        " (6054.0, 72.857142857142861),\n",
        " (6106.0, 34.04081632653061),\n",
        " (6140.0, 21.693877551020407),\n",
        " (6184.0, 78.959183673469383),\n",
        " (6213.0, 10.081632653061224),\n",
        " (6276.0, 23.102040816326532),\n",
        " (6287.0, 12.959183673469388),\n",
        " (6374.0, 66.183673469387756),\n",
        " (6549.0, 58.693877551020407),\n",
        " (6560.0, 14.285714285714286),\n",
        " (6584.0, 11.040816326530612),\n",
        " (6590.0, 46.204081632653065),\n",
        " (6753.0, 6.5102040816326534),\n",
        " (6943.0, 26.673469387755102),\n",
        " (6997.0, 63.795918367346935),\n",
        " (6998.0, 46.061224489795919),\n",
        " (7119.0, 80.673469387755105),\n",
        " (7122.0, 60.306122448979593),\n",
        " (7136.0, 11.36734693877551),\n",
        " (7144.0, 37.479591836734691),\n",
        " (7147.0, 4.3877551020408161),\n",
        " (7150.0, 7.0),\n",
        " (7151.0, 52.428571428571431),\n",
        " (7194.0, 6.795918367346939),\n",
        " (7288.0, 22.306122448979593),\n",
        " (7335.0, 26.73469387755102),\n",
        " (7341.0, 15.020408163265307),\n",
        " (7360.0, 6.6326530612244898),\n",
        " (7410.0, 33.163265306122447),\n",
        " (7500.0, 77.367346938775512),\n",
        " (7519.0, 74.34693877551021),\n",
        " (7583.0, 53.530612244897959),\n",
        " (7635.0, 40.081632653061227),\n",
        " (7654.0, 61.428571428571431),\n",
        " (7695.0, 53.918367346938773),\n",
        " (7720.0, 42.489795918367349),\n",
        " (7731.0, 68.816326530612244),\n",
        " (7762.0, 78.428571428571431),\n",
        " (7765.0, 34.591836734693878),\n",
        " (7795.0, 11.306122448979592),\n",
        " (7803.0, 68.306122448979593),\n",
        " (7824.0, 66.816326530612244),\n",
        " (7915.0, 22.316326530612244),\n",
        " (7916.0, 15.346938775510203),\n",
        " (7967.0, 66.908163265306129),\n",
        " (7969.0, 42.020408163265309),\n",
        " (7983.0, 15.020408163265307),\n",
        " (7991.0, 14.244897959183673),\n",
        " (7997.0, 12.061224489795919),\n",
        " (8007.0, 11.73469387755102),\n",
        " (8030.0, 15.602040816326531),\n",
        " (8042.0, 12.653061224489797),\n",
        " (8063.0, 8.3265306122448983),\n",
        " (8077.0, 53.571428571428569),\n",
        " (8082.0, 19.0),\n",
        " (8091.0, 30.163265306122447),\n",
        " (8093.0, 11.081632653061224),\n",
        " (8103.0, 12.36734693877551),\n",
        " (8118.0, 17.061224489795919),\n",
        " (8122.0, 7.1020408163265305),\n",
        " (8125.0, 28.755102040816325),\n",
        " (8129.0, 36.704081632653065),\n",
        " (8174.0, 13.285714285714286),\n",
        " (8184.0, 72.387755102040813),\n",
        " (8186.0, 6.3265306122448983),\n",
        " (8193.0, 8.9183673469387763),\n",
        " (8363.0, 18.387755102040817),\n",
        " (8375.0, 81.306122448979593),\n",
        " (8635.0, 73.795918367346943),\n",
        " (8658.0, 27.683673469387756),\n",
        " (8697.0, 69.551020408163268),\n",
        " (8723.0, 58.612244897959187),\n",
        " (8797.0, 57.428571428571431),\n",
        " (8857.0, 7.3877551020408161),\n",
        " (8892.0, 84.795918367346943),\n",
        " (8908.0, 3.8979591836734695),\n",
        " (8914.0, 63.734693877551024),\n",
        " (8918.0, 77.530612244897952),\n",
        " (9016.0, 6.7551020408163263),\n",
        " (9256.0, 15.040816326530612),\n",
        " (9261.0, 26.653061224489797),\n",
        " (9589.0, 11.489795918367347),\n",
        " (10285.0, 8.2448979591836729),\n",
        " (10364.0, 74.836734693877546),\n",
        " (10400.0, 11.816326530612244),\n",
        " (10430.0, 80.387755102040813),\n",
        " (10748.0, 39.938775510204081),\n",
        " (10797.0, 17.571428571428573),\n",
        " (10882.0, 74.65306122448979),\n",
        " (10895.0, 19.489795918367346),\n",
        " (10925.0, 88.102040816326536),\n",
        " (11086.0, 59.836734693877553),\n",
        " (11428.0, 22.775510204081634),\n",
        " (11525.0, 54.836734693877553),\n",
        " (11527.0, 72.591836734693871),\n",
        " (11529.0, 57.775510204081634),\n",
        " (11569.0, 4.8367346938775508),\n",
        " (11583.0, 13.755102040816327),\n",
        " (11902.0, 59.408163265306122),\n",
        " (12097.0, 45.448979591836732),\n",
        " (12178.0, 64.377551020408163),\n",
        " (12180.0, 76.632653061224488),\n",
        " (12297.0, 33.775510204081634),\n",
        " (12327.0, 30.632653061224488),\n",
        " (12506.0, 7.591836734693878),\n",
        " (12580.0, 66.244897959183675),\n",
        " (12587.0, 48.938775510204081),\n",
        " (12741.0, 13.714285714285714),\n",
        " (12810.0, 63.836734693877553),\n",
        " (13561.0, 3.7551020408163267),\n",
        " (14104.0, 40.081632653061227),\n",
        " (14257.0, 49.244897959183675),\n",
        " (14491.0, 16.224489795918366),\n",
        " (14514.0, 70.244897959183675),\n",
        " (15037.0, 74.142857142857139),\n",
        " (15510.0, 91.061224489795919),\n",
        " (15717.0, 5.5714285714285712),\n",
        " (16255.0, 60.122448979591837),\n",
        " (16324.0, 80.591836734693871),\n",
        " (17121.0, 49.897959183673471),\n",
        " (17525.0, 40.673469387755105),\n",
        " (18554.0, 21.020408163265305),\n",
        " (18635.0, 77.224489795918373),\n",
        " (18827.0, 65.244897959183675),\n",
        " (19310.0, 66.938775510204081),\n",
        " (21057.0, 83.204081632653057),\n",
        " (21648.0, 43.448979591836732),\n",
        " (23235.0, 47.448979591836732),\n",
        " (23642.0, 89.408163265306129),\n",
        " (24197.0, 4.0408163265306118),\n",
        " (24513.0, 15.469387755102041),\n",
        " (24834.0, 25.020408163265305),\n",
        " (26331.0, 20.489795918367346),\n",
        " (31209.0, 48.408163265306122),\n",
        " (31225.0, 18.755102040816325),\n",
        " (31234.0, 53.142857142857146),\n",
        " (31244.0, 69.204081632653057),\n",
        " (31246.0, 27.693877551020407),\n",
        " (31249.0, 68.08163265306122),\n",
        " (31252.0, 41.612244897959187),\n",
        " (31260.0, 9.816326530612244),\n",
        " (31265.0, 50.979591836734691),\n",
        " (31268.0, 15.040816326530612),\n",
        " (31272.0, 74.91836734693878),\n",
        " (31404.0, 27.755102040816325),\n",
        " (36822.0, 68.65306122448979),\n",
        " (60999.0, 46.183673469387756),\n",
        " (61005.0, 50.857142857142854),\n",
        " (61048.0, 76.857142857142861),\n",
        " (61052.0, 13.653061224489797),\n",
        " (61130.0, 52.163265306122447),\n",
        " (61138.0, 61.387755102040813),\n",
        " (61192.0, 64.142857142857139),\n",
        " (61199.0, 38.704081632653065),\n",
        " (61204.0, 63.673469387755105),\n",
        " (61209.0, 84.244897959183675),\n",
        " (61229.0, 52.142857142857146),\n",
        " (61293.0, 17.530612244897959),\n",
        " (61325.0, 73.755102040816325),\n",
        " (61337.0, 12.693877551020408),\n",
        " (61386.0, 53.632653061224488),\n",
        " (61527.0, 7.2244897959183669),\n",
        " (61659.0, 69.673469387755105),\n",
        " (61670.0, 41.612244897959187),\n",
        " (61809.0, 77.612244897959187),\n",
        " (61945.0, 15.0),\n",
        " (62087.0, 28.73469387755102),\n",
        " (62144.0, 85.693877551020407),\n",
        " (62374.0, 17.979591836734695),\n",
        " (62375.0, 21.306122448979593),\n",
        " (62444.0, 70.571428571428569),\n",
        " (62580.0, 15.489795918367347),\n",
        " (62725.0, 57.448979591836732),\n",
        " (62835.0, 27.714285714285715),\n",
        " (62900.0, 42.469387755102041),\n",
        " (62902.0, 56.826530612244895),\n",
        " (69963.0, 13.857142857142858),\n",
        " (82227.0, 14.877551020408163),\n",
        " (85522.0, 80.65306122448979),\n",
        " (88454.0, 56.265306122448976),\n",
        " (92979.0, 49.591836734693878),\n",
        " (93375.0, 14.795918367346939),\n",
        " (98330.0, 87.530612244897952),\n",
        " (101010.0, 9.3265306122448983),\n",
        " (101604.0, 33.183673469387756),\n",
        " (104721.0, 62.081632653061227),\n",
        " (145742.0, 81.857142857142861),\n",
        " (159055.0, 58.224489795918366),\n",
        " (165675.0, 42.612244897959187),\n",
        " (170833.0, 11.36734693877551),\n",
        " (220674.0, 57.54081632653061),\n",
        " (246728.0, 67.714285714285708),\n",
        " (439570.0, 85.183673469387756),\n",
        " (440967.0, 72.65306122448979),\n",
        " (444539.0, 52.244897959183675),\n",
        " (444972.0, 6.9183673469387754),\n",
        " (520191.0, 12.448979591836734),\n",
        " (520296.0, 13.928571428571429),\n",
        " (521238.0, 28.061224489795919),\n",
        " (526618.0, 17.408163265306122),\n",
        " (556940.0, 50.897959183673471),\n",
        " (565690.0, 26.224489795918366),\n",
        " (595928.0, 39.408163265306122),\n",
        " (637566.0, 32.448979591836732),\n",
        " (637776.0, 9.3265306122448983),\n",
        " (637796.0, 5.7142857142857144),\n",
        " (638014.0, 65.693877551020407),\n",
        " (641423.0, 35.224489795918366),\n",
        " (643820.0, 68.571428571428569),\n",
        " (1549026.0, 12.081632653061224),\n",
        " (1551246.0, 39.938775510204081),\n",
        " (3578033.0, 25.020408163265305),\n",
        " (5273467.0, 7.204081632653061),\n",
        " (5280450.0, 78.948979591836732),\n",
        " (5315892.0, 73.693877551020407),\n",
        " (5362798.0, 17.306122448979593),\n",
        " (5363491.0, 4.8163265306122449),\n",
        " (5364729.0, 71.571428571428569),\n",
        " (5365049.0, 9.3673469387755102),\n",
        " (5366244.0, 67.061224489795919),\n",
        " (5367706.0, 10.73469387755102),\n",
        " (5368076.0, 41.163265306122447),\n",
        " (6429333.0, 7.795918367346939)]"
       ]
      }
     ],
     "prompt_number": 14
    },
    {
     "cell_type": "code",
     "collapsed": false,
     "input": [
      "from sklearn import decomposition\n",
      "pca = decomposition.PCA(2)"
     ],
     "language": "python",
     "metadata": {},
     "outputs": [],
     "prompt_number": 16
    },
    {
     "cell_type": "code",
     "collapsed": false,
     "input": [
      "pca"
     ],
     "language": "python",
     "metadata": {},
     "outputs": [
      {
       "metadata": {},
       "output_type": "pyout",
       "prompt_number": 19,
       "text": [
        "PCA(copy=True, n_components=2, whiten=False)"
       ]
      }
     ],
     "prompt_number": 19
    },
    {
     "cell_type": "code",
     "collapsed": false,
     "input": [
      "pca.fit(Xs, Ys[:, 10])"
     ],
     "language": "python",
     "metadata": {},
     "outputs": [
      {
       "ename": "ValueError",
       "evalue": "could not convert string to float: 'CID'",
       "output_type": "pyerr",
       "traceback": [
        "\u001b[1;31m---------------------------------------------------------------------------\u001b[0m\n\u001b[1;31mValueError\u001b[0m                                Traceback (most recent call last)",
        "\u001b[1;32m<ipython-input-20-c9ce6fc555fc>\u001b[0m in \u001b[0;36m<module>\u001b[1;34m()\u001b[0m\n\u001b[1;32m----> 1\u001b[1;33m \u001b[0mpca\u001b[0m\u001b[1;33m.\u001b[0m\u001b[0mfit\u001b[0m\u001b[1;33m(\u001b[0m\u001b[0mXs\u001b[0m\u001b[1;33m,\u001b[0m \u001b[0mYs\u001b[0m\u001b[1;33m[\u001b[0m\u001b[1;33m:\u001b[0m\u001b[1;33m,\u001b[0m \u001b[1;36m10\u001b[0m\u001b[1;33m]\u001b[0m\u001b[1;33m)\u001b[0m\u001b[1;33m\u001b[0m\u001b[0m\n\u001b[0m",
        "\u001b[1;32mC:\\Python34\\lib\\site-packages\\sklearn\\decomposition\\pca.py\u001b[0m in \u001b[0;36mfit\u001b[1;34m(self, X, y)\u001b[0m\n\u001b[0;32m    223\u001b[0m             \u001b[0mReturns\u001b[0m \u001b[0mthe\u001b[0m \u001b[0minstance\u001b[0m \u001b[0mitself\u001b[0m\u001b[1;33m.\u001b[0m\u001b[1;33m\u001b[0m\u001b[0m\n\u001b[0;32m    224\u001b[0m         \"\"\"\n\u001b[1;32m--> 225\u001b[1;33m         \u001b[0mself\u001b[0m\u001b[1;33m.\u001b[0m\u001b[0m_fit\u001b[0m\u001b[1;33m(\u001b[0m\u001b[0mX\u001b[0m\u001b[1;33m)\u001b[0m\u001b[1;33m\u001b[0m\u001b[0m\n\u001b[0m\u001b[0;32m    226\u001b[0m         \u001b[1;32mreturn\u001b[0m \u001b[0mself\u001b[0m\u001b[1;33m\u001b[0m\u001b[0m\n\u001b[0;32m    227\u001b[0m \u001b[1;33m\u001b[0m\u001b[0m\n",
        "\u001b[1;32mC:\\Python34\\lib\\site-packages\\sklearn\\decomposition\\pca.py\u001b[0m in \u001b[0;36m_fit\u001b[1;34m(self, X)\u001b[0m\n\u001b[0;32m    269\u001b[0m         \u001b[0mX\u001b[0m \u001b[1;33m=\u001b[0m \u001b[0marray2d\u001b[0m\u001b[1;33m(\u001b[0m\u001b[0mX\u001b[0m\u001b[1;33m)\u001b[0m\u001b[1;33m\u001b[0m\u001b[0m\n\u001b[0;32m    270\u001b[0m         \u001b[0mn_samples\u001b[0m\u001b[1;33m,\u001b[0m \u001b[0mn_features\u001b[0m \u001b[1;33m=\u001b[0m \u001b[0mX\u001b[0m\u001b[1;33m.\u001b[0m\u001b[0mshape\u001b[0m\u001b[1;33m\u001b[0m\u001b[0m\n\u001b[1;32m--> 271\u001b[1;33m         \u001b[0mX\u001b[0m \u001b[1;33m=\u001b[0m \u001b[0mas_float_array\u001b[0m\u001b[1;33m(\u001b[0m\u001b[0mX\u001b[0m\u001b[1;33m,\u001b[0m \u001b[0mcopy\u001b[0m\u001b[1;33m=\u001b[0m\u001b[0mself\u001b[0m\u001b[1;33m.\u001b[0m\u001b[0mcopy\u001b[0m\u001b[1;33m)\u001b[0m\u001b[1;33m\u001b[0m\u001b[0m\n\u001b[0m\u001b[0;32m    272\u001b[0m         \u001b[1;31m# Center data\u001b[0m\u001b[1;33m\u001b[0m\u001b[1;33m\u001b[0m\u001b[0m\n\u001b[0;32m    273\u001b[0m         \u001b[0mself\u001b[0m\u001b[1;33m.\u001b[0m\u001b[0mmean_\u001b[0m \u001b[1;33m=\u001b[0m \u001b[0mnp\u001b[0m\u001b[1;33m.\u001b[0m\u001b[0mmean\u001b[0m\u001b[1;33m(\u001b[0m\u001b[0mX\u001b[0m\u001b[1;33m,\u001b[0m \u001b[0maxis\u001b[0m\u001b[1;33m=\u001b[0m\u001b[1;36m0\u001b[0m\u001b[1;33m)\u001b[0m\u001b[1;33m\u001b[0m\u001b[0m\n",
        "\u001b[1;32mC:\\Python34\\lib\\site-packages\\sklearn\\utils\\validation.py\u001b[0m in \u001b[0;36mas_float_array\u001b[1;34m(X, copy, force_all_finite)\u001b[0m\n\u001b[0;32m    110\u001b[0m         \u001b[1;32mreturn\u001b[0m \u001b[0mX\u001b[0m\u001b[1;33m.\u001b[0m\u001b[0mcopy\u001b[0m\u001b[1;33m(\u001b[0m\u001b[1;34m'F'\u001b[0m \u001b[1;32mif\u001b[0m \u001b[0mX\u001b[0m\u001b[1;33m.\u001b[0m\u001b[0mflags\u001b[0m\u001b[1;33m[\u001b[0m\u001b[1;34m'F_CONTIGUOUS'\u001b[0m\u001b[1;33m]\u001b[0m \u001b[1;32melse\u001b[0m \u001b[1;34m'C'\u001b[0m\u001b[1;33m)\u001b[0m \u001b[1;32mif\u001b[0m \u001b[0mcopy\u001b[0m \u001b[1;32melse\u001b[0m \u001b[0mX\u001b[0m\u001b[1;33m\u001b[0m\u001b[0m\n\u001b[0;32m    111\u001b[0m     \u001b[1;32melse\u001b[0m\u001b[1;33m:\u001b[0m\u001b[1;33m\u001b[0m\u001b[0m\n\u001b[1;32m--> 112\u001b[1;33m         \u001b[1;32mreturn\u001b[0m \u001b[0mX\u001b[0m\u001b[1;33m.\u001b[0m\u001b[0mastype\u001b[0m\u001b[1;33m(\u001b[0m\u001b[0mnp\u001b[0m\u001b[1;33m.\u001b[0m\u001b[0mfloat32\u001b[0m \u001b[1;32mif\u001b[0m \u001b[0mX\u001b[0m\u001b[1;33m.\u001b[0m\u001b[0mdtype\u001b[0m \u001b[1;33m==\u001b[0m \u001b[0mnp\u001b[0m\u001b[1;33m.\u001b[0m\u001b[0mint32\u001b[0m \u001b[1;32melse\u001b[0m \u001b[0mnp\u001b[0m\u001b[1;33m.\u001b[0m\u001b[0mfloat64\u001b[0m\u001b[1;33m)\u001b[0m\u001b[1;33m\u001b[0m\u001b[0m\n\u001b[0m\u001b[0;32m    113\u001b[0m \u001b[1;33m\u001b[0m\u001b[0m\n\u001b[0;32m    114\u001b[0m \u001b[1;33m\u001b[0m\u001b[0m\n",
        "\u001b[1;31mValueError\u001b[0m: could not convert string to float: 'CID'"
       ]
      }
     ],
     "prompt_number": 20
    },
    {
     "cell_type": "code",
     "collapsed": false,
     "input": [],
     "language": "python",
     "metadata": {},
     "outputs": []
    }
   ],
   "metadata": {}
  }
 ]
}