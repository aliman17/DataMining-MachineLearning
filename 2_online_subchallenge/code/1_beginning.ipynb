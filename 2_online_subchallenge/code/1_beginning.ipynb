{
 "metadata": {
  "name": "",
  "signature": "sha256:091054c68be0872e797be3bf6ef37a9efa017263f71e9f2eda52c2ea12994554"
 },
 "nbformat": 3,
 "nbformat_minor": 0,
 "worksheets": [
  {
   "cells": [
    {
     "cell_type": "heading",
     "level": 1,
     "metadata": {},
     "source": [
      "Questions"
     ]
    },
    {
     "cell_type": "markdown",
     "metadata": {},
     "source": [
      "- Kako vkljuciti podatek o dilution?\n",
      "- Ljudje cudno napovedujejo. Kakko lahko take podatke izboljsamo ... kaj je povprecje?"
     ]
    },
    {
     "cell_type": "heading",
     "level": 1,
     "metadata": {},
     "source": [
      "Ugotovitve"
     ]
    },
    {
     "cell_type": "markdown",
     "metadata": {},
     "source": [
      "- napake ocenjevalcev eliminiramo z Gaussovo utezitvijo?\n",
      "- nekaj extremov odstranis"
     ]
    },
    {
     "cell_type": "heading",
     "level": 1,
     "metadata": {},
     "source": [
      "Plan"
     ]
    },
    {
     "cell_type": "markdown",
     "metadata": {},
     "source": [
      "- zdruzimo podatke po CID na low in na high\n",
      "- to naredimo za vsako spojino in pri tem upostevamo Gaussovo utezitev"
     ]
    },
    {
     "cell_type": "heading",
     "level": 1,
     "metadata": {},
     "source": [
      "Get data"
     ]
    },
    {
     "cell_type": "code",
     "collapsed": false,
     "input": [
      "import numpy as np\n",
      "from matplotlib import pyplot as plt\n",
      "import pylab as P\n",
      "import Orange\n",
      "%matplotlib inline\n",
      "\n",
      "file1 = open( \"../data/TrainSet-hw2.txt\", \"rU\" )\n",
      "Ys = []\n",
      "for aRow in file1:\n",
      "    Ys.append(aRow.split('\\t'))\n",
      "file1.close()\n",
      "\n",
      "file1 = open( \"../data/molecular_descriptors_data.txt\", \"rU\" )\n",
      "Xs = []\n",
      "for aRow in file1:\n",
      "    Xs.append(aRow.split('\\t'))\n",
      "file1.close()"
     ],
     "language": "python",
     "metadata": {},
     "outputs": [],
     "prompt_number": 5
    },
    {
     "cell_type": "heading",
     "level": 1,
     "metadata": {},
     "source": [
      "Validate data"
     ]
    },
    {
     "cell_type": "markdown",
     "metadata": {},
     "source": [
      "- NaN vnosi so tezava\n",
      "- Iz Xs izbrati sample, ki so tudi v Y (po CID)\n",
      "- Izbrisi CID stolpec v Xs\n",
      "- Izbrisi vrstico z imeni atributov Xs\n"
     ]
    },
    {
     "cell_type": "code",
     "collapsed": false,
     "input": [
      "# LIST OF LISTS -> MATRIX\n",
      "Ys = np.array(Ys)\n",
      "Xs = np.array(Xs)\n",
      "# Remove list of attribute names\n",
      "X = Xs[1:]"
     ],
     "language": "python",
     "metadata": {},
     "outputs": [],
     "prompt_number": 6
    },
    {
     "cell_type": "code",
     "collapsed": false,
     "input": [
      "def stringTOfloat(matrix):\n",
      "    matrix1 = []\n",
      "    for pos in range(len(matrix)):\n",
      "        i = matrix[pos]\n",
      "        #i[i == ''] = 0.0\n",
      "        i = i.astype(np.float)\n",
      "        matrix1.append(i)\n",
      "    return np.array( matrix1 )"
     ],
     "language": "python",
     "metadata": {},
     "outputs": [],
     "prompt_number": 7
    },
    {
     "cell_type": "code",
     "collapsed": false,
     "input": [
      "X = stringTOfloat(X)"
     ],
     "language": "python",
     "metadata": {},
     "outputs": [],
     "prompt_number": 8
    },
    {
     "cell_type": "heading",
     "level": 2,
     "metadata": {},
     "source": [
      "Obdelava Y"
     ]
    },
    {
     "cell_type": "code",
     "collapsed": false,
     "input": [
      "# Remove header\n",
      "Y = Ys[1:]\n",
      "# Remove Identifier, Replicator, Dilution1, Dilution2\n",
      "attr_pos_list = [0] + list(range(5, (Y.shape)[1]))\n",
      "print (attr_pos_list)\n",
      "Y = Y[:,attr_pos_list]\n",
      "Y[:, 0]"
     ],
     "language": "python",
     "metadata": {},
     "outputs": [
      {
       "output_type": "stream",
       "stream": "stdout",
       "text": [
        "[0, 5, 6, 7, 8, 9, 10, 11, 12, 13, 14, 15, 16, 17, 18, 19, 20, 21, 22, 23, 24, 25, 26]\n"
       ]
      },
      {
       "metadata": {},
       "output_type": "pyout",
       "prompt_number": 9,
       "text": [
        "array(['126', '126', '126', ..., '6999977', '6999977', '6999977'], \n",
        "      dtype='<U54')"
       ]
      }
     ],
     "prompt_number": 9
    },
    {
     "cell_type": "code",
     "collapsed": false,
     "input": [
      "# Pretvori Y v float\n",
      "Y = stringTOfloat(Y)"
     ],
     "language": "python",
     "metadata": {},
     "outputs": [],
     "prompt_number": 10
    },
    {
     "cell_type": "code",
     "collapsed": false,
     "input": [
      "# pridobi atribut\n",
      "attr = Y[1:98:2, 2]\n",
      "print(attr)\n",
      "# the histogram of the data\n",
      "n, bins, patches = plt.hist(attr, 50, normed=1, facecolor='green', alpha=0.75)"
     ],
     "language": "python",
     "metadata": {},
     "outputs": [
      {
       "output_type": "stream",
       "stream": "stdout",
       "text": [
        "[  37.   64.    0.  100.   58.    0.   18.   51.  100.    6.  100.   51.\n",
        "   81.    0.    0.   64.   41.   53.   61.   66.   92.   29.   54.   77.\n",
        "   54.   63.   78.   22.   76.   61.    0.   93.    9.   44.   58.   69.\n",
        "   62.   76.   35.   76.   49.    0.   78.   21.   50.   50.   85.    9.\n",
        "    7.]\n"
       ]
      },
      {
       "metadata": {},
       "output_type": "display_data",
       "png": "[encoded data removed]",
       "text": [
        "<matplotlib.figure.Figure at 0x63f0910>"
       ]
      }
     ],
     "prompt_number": 11
    },
    {
     "cell_type": "heading",
     "level": 2,
     "metadata": {},
     "source": [
      "Povprecimo po low and high"
     ]
    },
    {
     "cell_type": "code",
     "collapsed": false,
     "input": [
      "def avg_attr(Y, attr_pos, low, is1000=False):\n",
      "    # WARNING isFalse ne dela\n",
      "    \n",
      "    step = 1 if is1000 else 2\n",
      "    low_high = 0 if low else 1\n",
      "    last_cid = Y[low_high,0]\n",
      "    # Create array of avgs\n",
      "    Y_avg = []\n",
      "    n = 0\n",
      "    sum = 0\n",
      "    until = (Y.shape)[0]\n",
      "    for i in range(low_high, until, step):\n",
      "        cur_cid = Y[i, 0]\n",
      "        #print(cur_cid, last_cid)\n",
      "        if cur_cid != last_cid:\n",
      "            # pocisti za seboj\n",
      "            Y_avg += [(last_cid, sum/n)]\n",
      "            # zacnimo z novim avg\n",
      "            sum = 0\n",
      "            n = 0\n",
      "            last_cid = cur_cid\n",
      "\n",
      "        # TODO pridobi splosen atribut\n",
      "        attr_pos = 2\n",
      "        #print(Y[i, attr_pos])\n",
      "        att_val = Y[i, attr_pos]\n",
      "        if not np.isnan(att_val):\n",
      "            sum += Y[i, attr_pos]\n",
      "            n += 1\n",
      "\n",
      "    return Y_avg\n",
      "# DONE Povprecje stolpca po high\n",
      "\n",
      "# WARNING: Replicated\n",
      "\n",
      "# Validate: NaN"
     ],
     "language": "python",
     "metadata": {},
     "outputs": [],
     "prompt_number": 13
    },
    {
     "cell_type": "code",
     "collapsed": false,
     "input": [
      "Y_avg = avg_attr(Y, 3, True)"
     ],
     "language": "python",
     "metadata": {},
     "outputs": [],
     "prompt_number": 20
    },
    {
     "cell_type": "code",
     "collapsed": false,
     "input": [
      "# Create access to chemical informations via CID\n",
      "X_dict = dict([(i[0], i[1:]) for i in X])\n",
      "#X_dict[126.0]\n",
      "\n",
      "# Connect X with Y\n",
      "train_set = np.array( [np.hstack((X_dict[CID], y)) for (CID, y) in Y_avg] )\n",
      "train_set.shape"
     ],
     "language": "python",
     "metadata": {},
     "outputs": [
      {
       "metadata": {},
       "output_type": "pyout",
       "prompt_number": 28,
       "text": [
        "(257, 4870)"
       ]
      }
     ],
     "prompt_number": 28
    },
    {
     "cell_type": "heading",
     "level": 1,
     "metadata": {},
     "source": [
      "Create model "
     ]
    },
    {
     "cell_type": "code",
     "collapsed": false,
     "input": [
      "from sklearn import decomposition"
     ],
     "language": "python",
     "metadata": {},
     "outputs": [],
     "prompt_number": 32
    },
    {
     "cell_type": "markdown",
     "metadata": {},
     "source": [
      "Divide X and Y"
     ]
    },
    {
     "cell_type": "code",
     "collapsed": false,
     "input": [
      "train_setX = train_set[:, :-1]\n",
      "train_setY = train_set[:, -1]"
     ],
     "language": "python",
     "metadata": {},
     "outputs": [],
     "prompt_number": 37
    },
    {
     "cell_type": "code",
     "collapsed": false,
     "input": [
      "for i in range(len(train_setX)):\n",
      "    for j in range(len(train_setX[i])):\n",
      "        if np.isnan(train_setX[i,j]):\n",
      "            train_setX[i,j] = 0"
     ],
     "language": "python",
     "metadata": {},
     "outputs": [],
     "prompt_number": 40
    },
    {
     "cell_type": "code",
     "collapsed": false,
     "input": [
      "pca = decomposition.PCA(n_components=10)\n",
      "pca"
     ],
     "language": "python",
     "metadata": {},
     "outputs": [
      {
       "metadata": {},
       "output_type": "pyout",
       "prompt_number": 41,
       "text": [
        "PCA(copy=True, n_components=10, whiten=False)"
       ]
      }
     ],
     "prompt_number": 41
    },
    {
     "cell_type": "code",
     "collapsed": false,
     "input": [
      "pca.fit(train_setX)"
     ],
     "language": "python",
     "metadata": {},
     "outputs": [
      {
       "metadata": {},
       "output_type": "pyout",
       "prompt_number": 42,
       "text": [
        "PCA(copy=True, n_components=10, whiten=False)"
       ]
      }
     ],
     "prompt_number": 42
    },
    {
     "cell_type": "code",
     "collapsed": false,
     "input": [
      "pca.explained_variance_ratio_"
     ],
     "language": "python",
     "metadata": {},
     "outputs": [
      {
       "metadata": {},
       "output_type": "pyout",
       "prompt_number": 43,
       "text": [
        "array([  9.66841700e-01,   2.59167799e-02,   3.67997022e-03,\n",
        "         1.69747155e-03,   1.13847271e-03,   2.87213371e-04,\n",
        "         1.08405137e-04,   7.75150669e-05,   5.76372573e-05,\n",
        "         4.03062255e-05])"
       ]
      }
     ],
     "prompt_number": 43
    },
    {
     "cell_type": "code",
     "collapsed": false,
     "input": [
      "Xpca = pca.transform(train_setX)\n",
      "Xpca.shape"
     ],
     "language": "python",
     "metadata": {},
     "outputs": [
      {
       "metadata": {},
       "output_type": "pyout",
       "prompt_number": 46,
       "text": [
        "(257, 10)"
       ]
      }
     ],
     "prompt_number": 46
    },
    {
     "cell_type": "code",
     "collapsed": false,
     "input": [
      "data = Orange.data.Table(train_setX, list( map(lambda t : t[1], Y_avg) ))\n",
      "lr = Orange.regression.LinearRegressionLearner()\n",
      "mean = Orange.regression.MeanLearner()\n",
      "ridge = Orange.regression.RidgeRegressionLearner(alpha = .10)\n",
      "lasso = Orange.regression.LassoRegressionLearner(alpha = 1)\n",
      "elastic = Orange.regression.ElasticNetLearner()\n",
      "elasticCV = Orange.regression.ElasticNetCVLearner()\n",
      "res = Orange.evaluation.CrossValidation(data, [elastic], k=10)\n",
      "Orange.evaluation.RMSE(res)"
     ],
     "language": "python",
     "metadata": {},
     "outputs": [
      {
       "output_type": "stream",
       "stream": "stderr",
       "text": [
        "C:\\Python34\\lib\\site-packages\\sklearn\\linear_model\\coordinate_descent.py:490: ConvergenceWarning: Objective did not converge. You might want to increase the number of iterations\n",
        "  ConvergenceWarning)\n",
        "C:\\Python34\\lib\\site-packages\\sklearn\\linear_model\\coordinate_descent.py:490: ConvergenceWarning: Objective did not converge. You might want to increase the number of iterations\n",
        "  ConvergenceWarning)\n"
       ]
      },
      {
       "output_type": "stream",
       "stream": "stderr",
       "text": [
        "C:\\Python34\\lib\\site-packages\\sklearn\\linear_model\\coordinate_descent.py:490: ConvergenceWarning: Objective did not converge. You might want to increase the number of iterations\n",
        "  ConvergenceWarning)\n",
        "C:\\Python34\\lib\\site-packages\\sklearn\\linear_model\\coordinate_descent.py:490: ConvergenceWarning: Objective did not converge. You might want to increase the number of iterations\n",
        "  ConvergenceWarning)\n"
       ]
      },
      {
       "output_type": "stream",
       "stream": "stderr",
       "text": [
        "C:\\Python34\\lib\\site-packages\\sklearn\\linear_model\\coordinate_descent.py:490: ConvergenceWarning: Objective did not converge. You might want to increase the number of iterations\n",
        "  ConvergenceWarning)\n",
        "C:\\Python34\\lib\\site-packages\\sklearn\\linear_model\\coordinate_descent.py:490: ConvergenceWarning: Objective did not converge. You might want to increase the number of iterations\n",
        "  ConvergenceWarning)\n"
       ]
      },
      {
       "output_type": "stream",
       "stream": "stderr",
       "text": [
        "C:\\Python34\\lib\\site-packages\\sklearn\\linear_model\\coordinate_descent.py:490: ConvergenceWarning: Objective did not converge. You might want to increase the number of iterations\n",
        "  ConvergenceWarning)\n",
        "C:\\Python34\\lib\\site-packages\\sklearn\\linear_model\\coordinate_descent.py:490: ConvergenceWarning: Objective did not converge. You might want to increase the number of iterations\n",
        "  ConvergenceWarning)\n"
       ]
      },
      {
       "output_type": "stream",
       "stream": "stderr",
       "text": [
        "C:\\Python34\\lib\\site-packages\\sklearn\\linear_model\\coordinate_descent.py:490: ConvergenceWarning: Objective did not converge. You might want to increase the number of iterations\n",
        "  ConvergenceWarning)\n",
        "C:\\Python34\\lib\\site-packages\\sklearn\\linear_model\\coordinate_descent.py:490: ConvergenceWarning: Objective did not converge. You might want to increase the number of iterations\n",
        "  ConvergenceWarning)\n"
       ]
      },
      {
       "metadata": {},
       "output_type": "pyout",
       "prompt_number": 68,
       "text": [
        "array([ 26.14675153])"
       ]
      }
     ],
     "prompt_number": 68
    },
    {
     "cell_type": "code",
     "collapsed": false,
     "input": [],
     "language": "python",
     "metadata": {},
     "outputs": []
    }
   ],
   "metadata": {}
  }
 ]
}