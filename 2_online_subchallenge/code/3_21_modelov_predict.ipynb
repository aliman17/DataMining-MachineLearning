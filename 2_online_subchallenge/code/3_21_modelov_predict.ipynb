{
 "metadata": {
  "name": "",
  "signature": "sha256:8ec006b3be49b6897bced1792813e61bc5deae07fcfc3c714951e6472237c51e"
 },
 "nbformat": 3,
 "nbformat_minor": 0,
 "worksheets": [
  {
   "cells": [
    {
     "cell_type": "heading",
     "level": 3,
     "metadata": {},
     "source": [
      "Questions"
     ]
    },
    {
     "cell_type": "markdown",
     "metadata": {},
     "source": [
      "- Kako vkljuciti podatek o dilution?\n",
      "- Ljudje cudno napovedujejo. Kakko lahko take podatke izboljsamo ... kaj je povprecje?"
     ]
    },
    {
     "cell_type": "heading",
     "level": 3,
     "metadata": {},
     "source": [
      "Ugotovitve"
     ]
    },
    {
     "cell_type": "markdown",
     "metadata": {},
     "source": [
      "- napake ocenjevalcev eliminiramo z Gaussovo utezitvijo?\n",
      "- nekaj extremov odstranis"
     ]
    },
    {
     "cell_type": "heading",
     "level": 3,
     "metadata": {},
     "source": [
      "Plan"
     ]
    },
    {
     "cell_type": "markdown",
     "metadata": {},
     "source": [
      "- zdruzimo podatke po CID na low in na high\n",
      "- to naredimo za vsako spojino in pri tem upostevamo Gaussovo utezitev"
     ]
    },
    {
     "cell_type": "heading",
     "level": 3,
     "metadata": {},
     "source": [
      "Zanimivi linki"
     ]
    },
    {
     "cell_type": "markdown",
     "metadata": {},
     "source": [
      "- Random forest + opisuje, kako vse podatke, tudi manjkajoce spremeniti v float https://www.kaggle.com/c/titanic-gettingStarted/details/getting-started-with-random-forests"
     ]
    },
    {
     "cell_type": "heading",
     "level": 3,
     "metadata": {},
     "source": [
      "Jutri"
     ]
    },
    {
     "cell_type": "code",
     "collapsed": false,
     "input": [
      "- narediti dictionary (cid, dilution) -> chem, test, test pa zelim imeti, da je \n",
      "- raylicni modeli, preveri ce res elastic, napisi v porocilo"
     ],
     "language": "python",
     "metadata": {},
     "outputs": []
    },
    {
     "cell_type": "code",
     "collapsed": false,
     "input": [
      "# Import\n",
      "from collections import defaultdict\n",
      "import numpy as np\n",
      "from matplotlib import pyplot as plt\n",
      "import pylab as P\n",
      "import Orange\n",
      "from sklearn import decomposition\n",
      "from sklearn import linear_model\n",
      "from sklearn import cross_validation\n",
      "\n",
      "import scipy\n",
      "%matplotlib inline"
     ],
     "language": "python",
     "metadata": {},
     "outputs": [],
     "prompt_number": 76
    },
    {
     "cell_type": "heading",
     "level": 3,
     "metadata": {},
     "source": [
      "Get Data 1"
     ]
    },
    {
     "cell_type": "code",
     "collapsed": false,
     "input": [
      "# To use this cell - change it into 'code'\n",
      "# Tale box je pridobljen iz score.py za parsanje datoteke TrainSet-hw2\n",
      "\n",
      "def fix_dilution(s):\n",
      "    return s.replace('\"', '').strip()\n",
      "\n",
      "\n",
      "def legend(fn):\n",
      "    with open(fn) as f:\n",
      "        for l in f:\n",
      "            vals_legend = l.strip().split('\\t')[6:]\n",
      "            return vals_legend\n",
      "        \n",
      "\n",
      "def load_data(fn):\n",
      "    readings = defaultdict(list)\n",
      "    with open(fn) as f:\n",
      "        vals_legend = next(f).strip().split('\\t')[6:]\n",
      "        for l in f:\n",
      "            l = l.strip()\n",
      "            t = l.split('\\t')\n",
      "            cid, dilution, vals = t[0], fix_dilution(t[4]), list(map(float, t[6:]))\n",
      "            readings[cid, dilution].append(vals)\n",
      "    for a,b in readings.items():\n",
      "        readings[a] = np.array(b)\n",
      "    return dict(readings)\n",
      "\n",
      "\n",
      "def mean_indv_notnan(data):\n",
      "    means = []\n",
      "    #average non-nan elements\n",
      "    for vals in data.T:\n",
      "        nonnan = vals[~np.isnan(vals)]\n",
      "        means.append(np.mean(nonnan))\n",
      "    return np.array(means)\n",
      "\n",
      "\n",
      "def load_data_mean_indv(fn):\n",
      "    readings = load_data(fn)\n",
      "    r2 = {}\n",
      "    for a,b in readings.items():\n",
      "        r2[a] = mean_indv_notnan(np.array(b))\n",
      "    return r2\n",
      "\n",
      "LEGEND = legend(\"../data/TrainSet-hw2.txt\")\n",
      "#query = read_query(\"predict.txt\")\n",
      "test = load_data_mean_indv(\"../data/TrainSet-hw2.txt\")\n",
      "test[('11529',\n",
      "  '1/100,000')]"
     ],
     "language": "python",
     "metadata": {},
     "outputs": [
      {
       "metadata": {},
       "output_type": "pyout",
       "prompt_number": 77,
       "text": [
        "array([  9.89795918,  46.5       ,   0.        ,   3.69230769,\n",
        "         2.30769231,   5.26923077,   1.38461538,   3.96153846,\n",
        "         0.30769231,   4.57692308,   0.26923077,   0.5       ,\n",
        "         5.23076923,   5.11538462,   9.03846154,   1.96153846,\n",
        "         4.5       ,   0.61538462,   5.42307692,   7.11538462,   7.03846154])"
       ]
      }
     ],
     "prompt_number": 77
    },
    {
     "cell_type": "heading",
     "level": 3,
     "metadata": {},
     "source": [
      "Get Data 2 - in use"
     ]
    },
    {
     "cell_type": "code",
     "collapsed": false,
     "input": [
      "def getData():\n",
      "    \"\"\"Get train data and casses\"\"\"\n",
      "    file1 = open( \"../data/TrainSet-hw2.txt\", \"rU\" )\n",
      "    Ys = []\n",
      "    for aRow in file1:\n",
      "        Ys.append(aRow.split('\\t'))\n",
      "    file1.close()\n",
      "\n",
      "    file1 = open( \"../data/molecular_descriptors_data.txt\", \"rU\" )\n",
      "    Xs = []\n",
      "    for aRow in file1:\n",
      "        Xs.append(aRow.split('\\t'))\n",
      "    file1.close()\n",
      "    \n",
      "    file1 = open( \"../data/predict.txt\", \"rU\" )\n",
      "    predict = []\n",
      "    for aRow in file1:\n",
      "        predict.append(aRow.split('\\t'))\n",
      "    file1.close()\n",
      "    return Xs, Ys, predict"
     ],
     "language": "python",
     "metadata": {},
     "outputs": [],
     "prompt_number": 78
    },
    {
     "cell_type": "heading",
     "level": 3,
     "metadata": {},
     "source": [
      "Axillary functions"
     ]
    },
    {
     "cell_type": "code",
     "collapsed": false,
     "input": [
      "def stringTOfloat(matrix):\n",
      "    \"\"\"Cast string values of a matrix into float values\"\"\"\n",
      "    matrix1 = []\n",
      "    for pos in range(len(matrix)):\n",
      "        i = matrix[pos]\n",
      "        #i[i == ''] = 0.0\n",
      "        i = i.astype(np.float)\n",
      "        matrix1.append(i)\n",
      "    return np.array( matrix1 )"
     ],
     "language": "python",
     "metadata": {},
     "outputs": [],
     "prompt_number": 82
    },
    {
     "cell_type": "code",
     "collapsed": false,
     "input": [
      "def NANto0(matrix):\n",
      "    # Daj vse NAN na 0 -> ni ok, ampak za zacetek bo ok\n",
      "    for i in range(len(matrix)):\n",
      "        for j in range(len(matrix[i])):\n",
      "            if np.isnan(matrix[i,j]):\n",
      "                matrix[i,j] = 0\n",
      "    return matrix"
     ],
     "language": "python",
     "metadata": {},
     "outputs": [],
     "prompt_number": 83
    },
    {
     "cell_type": "code",
     "collapsed": false,
     "input": [
      "def normalize_correct(matrix):\n",
      "    size = matrix.shape\n",
      "    for i in range( size[1] ):\n",
      "        sum = 0\n",
      "        n = 0\n",
      "        # Get sum of column\n",
      "        for j in range( size[0] ):\n",
      "            if np.isnan(matrix[j,i]):\n",
      "                pass\n",
      "            else:\n",
      "                sum += abs(matrix[j,i])\n",
      "                n += 1\n",
      "          \n",
      "        # Correct each value in column\n",
      "        for j in range( size[0] ):\n",
      "            # NaN -> avg value\n",
      "            if np.isnan(matrix[j,i]):\n",
      "                matrix[j,i] = sum / n\n",
      "                \n",
      "            # sum = 0 -> 0\n",
      "            elif sum == 0:\n",
      "                matrix[j,i] = 0\n",
      "                \n",
      "            # else value / sum\n",
      "            else:\n",
      "                matrix[j,i] = matrix[j,i] / sum\n",
      "                \n",
      "    return matrix\n",
      "        "
     ],
     "language": "python",
     "metadata": {},
     "outputs": [],
     "prompt_number": 84
    },
    {
     "cell_type": "code",
     "collapsed": false,
     "input": [
      "# Parse dilution and get denominator\n",
      "def get_dilution_denominator( string ):\n",
      "    i = 0\n",
      "    # Get rid of numerator\n",
      "    while ( string[i] != '/' and i < len(string) ):\n",
      "        i += 1\n",
      "        \n",
      "    # Get rid of '/'\n",
      "    while ( string[i] != '1' and i < len(string) ):\n",
      "        i += 1\n",
      "        \n",
      "    # Count zeros in denominator\n",
      "    n_zeros = 0\n",
      "    for j in range(i, len(string)):\n",
      "        if string[j] == '0':\n",
      "            n_zeros += 1\n",
      "            \n",
      "    return 10**n_zeros    "
     ],
     "language": "python",
     "metadata": {},
     "outputs": [],
     "prompt_number": 85
    },
    {
     "cell_type": "heading",
     "level": 3,
     "metadata": {},
     "source": [
      "Let's correct our data"
     ]
    },
    {
     "cell_type": "markdown",
     "metadata": {},
     "source": [
      "- NaN vnosi so tezava\n",
      "- Iz Xs izbrati sample, ki so tudi v Y (po CID)\n",
      "- Izbrisi CID stolpec v Xs\n",
      "- Izbrisi vrstico z imeni atributov Xs\n"
     ]
    },
    {
     "cell_type": "code",
     "collapsed": false,
     "input": [
      "# Get data\n",
      "X, Y, PREDICT = getData()\n",
      "\n",
      "# Convert LIST OF LISTS -> MATRIX\n",
      "Y = np.array(Y)\n",
      "X = np.array(X)\n",
      "\n",
      "# Remove labels for attributes\n",
      "X = X[1:]\n",
      "\n",
      "# Convert string values into float\n",
      "X = stringTOfloat(X)\n",
      "\n",
      "\n",
      "# Make Y to be OK\n",
      "\n",
      "# Remove labels of attributes\n",
      "Y_no_labels = Y[1:]\n",
      "\n",
      "# Remove Identifier, Replicator, Dilution1, Dilution2 columns\n",
      "attr_pos_list = [0] + list(range(5, (Y_no_labels.shape)[1]))\n",
      "#print (attr_pos_list)\n",
      "Y = Y_no_labels[:,attr_pos_list]\n",
      "\n",
      "dilution_column = Y_no_labels[:, 4]\n",
      "# Pretvori Y v float\n",
      "Y = stringTOfloat(Y)"
     ],
     "language": "python",
     "metadata": {},
     "outputs": [],
     "prompt_number": 93
    },
    {
     "cell_type": "code",
     "collapsed": false,
     "input": [
      "for i in range(len(dilution_column)):\n",
      "    dilution_column[i] = get_dilution_denominator( dilution_column[i] )\n",
      "dilution_column"
     ],
     "language": "python",
     "metadata": {},
     "outputs": [
      {
       "metadata": {},
       "output_type": "pyout",
       "prompt_number": 91,
       "text": [
        "array(['1000', '10', '1000', ..., '1000', '100000', '1000'], \n",
        "      dtype='<U54')"
       ]
      }
     ],
     "prompt_number": 91
    },
    {
     "cell_type": "code",
     "collapsed": false,
     "input": [
      "# Add dilution and CID to Y\n",
      "Y_dict = dict()\n",
      "for i in range( len(Y) ):\n",
      "    dilution = get_dilution_denominator( Y_no_labels[i][4] )\n",
      "    cid = (Y[i][0])\n",
      "    Y_dict[(cid, dilution)] = Y[i][1:]\n",
      "    \n"
     ],
     "language": "python",
     "metadata": {},
     "outputs": [],
     "prompt_number": 57
    },
    {
     "cell_type": "code",
     "collapsed": false,
     "input": [
      "# Create access to chemical informations via CID\n",
      "X_dict = dict([(i[0], i[1:]) for i in X])"
     ],
     "language": "python",
     "metadata": {},
     "outputs": [],
     "prompt_number": 94
    },
    {
     "cell_type": "heading",
     "level": 3,
     "metadata": {},
     "source": [
      "Povprecimo po low and high"
     ]
    },
    {
     "cell_type": "code",
     "collapsed": false,
     "input": [
      "def avg_attr(Y, attr_pos, low=True, is1000=False):\n",
      "    # WARNING isFalse ne dela\n",
      "    step = 1 if is1000 else 2  # TODO\n",
      "    \n",
      "    low_high = 0 if low else 1\n",
      "    last_cid = Y[low_high,0]\n",
      "    \n",
      "    # Create array of avgs\n",
      "    Y_avg = []\n",
      "    n = 0\n",
      "    sum = 0\n",
      "    until = (Y.shape)[0]\n",
      "    for i in range(low_high, until, step):\n",
      "        cur_cid = Y[i, 0]\n",
      "        \n",
      "        if cur_cid != last_cid:\n",
      "            # pocisti za seboj\n",
      "            Y_avg += [(last_cid, sum/n)]\n",
      "            # zacnimo z novim avg\n",
      "            sum = 0\n",
      "            n = 0\n",
      "            last_cid = cur_cid\n",
      "        att_val = Y[i, attr_pos]\n",
      "        if not np.isnan(att_val):\n",
      "            sum += Y[i, attr_pos]\n",
      "            n += 1\n",
      "    # Add last group\n",
      "    Y_avg += [(last_cid, sum/n)] \n",
      "    return Y_avg\n",
      "# DONE Povprecje stolpca po high\n",
      "\n",
      "# WARNING: Replicated\n",
      "\n",
      "# Validate: NaN"
     ],
     "language": "python",
     "metadata": {},
     "outputs": [],
     "prompt_number": 95
    },
    {
     "cell_type": "code",
     "collapsed": false,
     "input": [
      "# Combine chemicals with avg test\n",
      "DICT = dict([((y[1], y[0]), (X_dict[y[1]], y[2:])) for y in Y_dil_cid_rest])"
     ],
     "language": "python",
     "metadata": {},
     "outputs": []
    },
    {
     "cell_type": "heading",
     "level": 3,
     "metadata": {},
     "source": [
      "Create model "
     ]
    },
    {
     "cell_type": "code",
     "collapsed": false,
     "input": [
      "# Ridge\n",
      "def ridge(X, y):\n",
      "    clf = linear_model.RidgeCV()\n",
      "    clf.fit (X, y)\n",
      "    return clf"
     ],
     "language": "python",
     "metadata": {},
     "outputs": [],
     "prompt_number": 50
    },
    {
     "cell_type": "code",
     "collapsed": false,
     "input": [
      "# Lasso\n",
      "def lasso(X, y):\n",
      "    clf = linear_model.Lasso()\n",
      "    clf.fit (X, y)\n",
      "    return clf"
     ],
     "language": "python",
     "metadata": {},
     "outputs": [],
     "prompt_number": 51
    },
    {
     "cell_type": "code",
     "collapsed": false,
     "input": [
      "# Elastic Net\n",
      "def elastic(X, y):\n",
      "    clf = linear_model.ElasticNetCV()\n",
      "    clf.fit(X, y)\n",
      "    return clf"
     ],
     "language": "python",
     "metadata": {},
     "outputs": [],
     "prompt_number": 52
    },
    {
     "cell_type": "heading",
     "level": 3,
     "metadata": {},
     "source": [
      "PCA"
     ]
    },
    {
     "cell_type": "code",
     "collapsed": false,
     "input": [
      "def pca(X, y = None, X_predict = None, components = 10):\n",
      "    pca = decomposition.PCA(n_components=components)\n",
      "    pca.fit(X, y)\n",
      "    X_trans = pca.transform(X)\n",
      "    X_pred_trans = None\n",
      "    if not X_predict == None:\n",
      "        X_pred_trans = pca.transform(X_predict)\n",
      "    return X_trans, X_pred_trans"
     ],
     "language": "python",
     "metadata": {},
     "outputs": [],
     "prompt_number": 96
    },
    {
     "cell_type": "heading",
     "level": 3,
     "metadata": {},
     "source": [
      "Play with models"
     ]
    },
    {
     "cell_type": "raw",
     "metadata": {},
     "source": [
      "# To use this cell - change it into 'code'\n",
      "X_train_pca, _ = pca(X_train, y_train)\n",
      "\n",
      "#data = Orange.data.Table(train_setX, list( map(lambda t : t[1], Y_avg) ))\n",
      "data = Orange.data.Table(X_train_pca, train_setY )\n",
      "\n",
      "lr = Orange.regression.LinearRegressionLearner()\n",
      "mean = Orange.regression.MeanLearner()\n",
      "ridge = Orange.regression.RidgeRegressionLearner()\n",
      "lasso = Orange.regression.LassoRegressionLearner()\n",
      "elastic = Orange.regression.ElasticNetLearner()\n",
      "elasticCV = Orange.regression.ElasticNetCVLearner()\n",
      "res = Orange.evaluation.CrossValidation(data, [lr, mean, ridge, lasso, elasticCV], k=5)\n",
      "print( \"Orange:\\n\", Orange.evaluation.RMSE(res) )\n",
      "\n",
      "model = ridge(data)\n",
      "print( \"Ridge coeffs\\n\", model.skl_model.coef_ )"
     ]
    },
    {
     "cell_type": "heading",
     "level": 3,
     "metadata": {},
     "source": [
      "Cross validation"
     ]
    },
    {
     "cell_type": "raw",
     "metadata": {},
     "source": [
      "# Tu notri bomo potem resno delali modele in jih testirali\n",
      "def my_cross_validation(X, y, model):\n",
      "\n",
      "    k = 10\n",
      "    components = 10\n",
      "    \n",
      "    kf = cross_validation.KFold(len(y), n_folds=5)\n",
      "    rmse = []\n",
      "    for train_index, test_index in kf:\n",
      "        X_train, X_test = X[train_index], X[test_index]\n",
      "        y_train, y_test = y[train_index], y[test_index]\n",
      "\n",
      "        X_sel_tr, X_sel_tst = X_train, X_test\n",
      "        # learn\n",
      "        lrn = model.fit(X_sel_tr, y_train)\n",
      "        # predict\n",
      "        pred = lrn.predict(X_sel_tst)\n",
      "        # rmse\n",
      "        rmse.append(np.sqrt(sum((pred - y_test)**2)/len(y_test)))\n",
      "    return( np.mean(rmse) )"
     ]
    },
    {
     "cell_type": "heading",
     "level": 3,
     "metadata": {},
     "source": [
      "21 models"
     ]
    },
    {
     "cell_type": "markdown",
     "metadata": {},
     "source": [
      "Find the best solution for determined attribute"
     ]
    },
    {
     "cell_type": "raw",
     "metadata": {},
     "source": [
      "def best_model():\n",
      "    global X_train, Y_train\n",
      "    best_m = None\n",
      "    best_val = 100\n",
      "    best_alpha = 0\n",
      "    best_ratio = 0\n",
      "    for alpha in [0.01, 0.05, 0.1, 0.2, 0.3, 0.5, 0.7, 1, 2, 5, 10]:\n",
      "        for ratio in [0.1, 0.3, 0.5, 0.7, 0.9]:\n",
      "            elastic = linear_model.ElasticNet(alpha=alpha, l1_ratio=ratio, max_iter=500)\n",
      "            rez = my_cross_validation(X_train, Y_train, elastic)\n",
      "            if rez < best_val:\n",
      "                best_m = elastic\n",
      "                best_val = rez\n",
      "                best_alpha = alpha\n",
      "                best_ratio = ratio\n",
      "    # return best model\n",
      "    return best_m, best_val, best_alpha, best_ratio\n",
      "            \n",
      "    # Evaluate\n",
      "    # ridge = linear_model.Ridge() slab za 4\n",
      "    # lasso = linear_model.Lasso()\n",
      "    #models = [elastic]\n",
      "    #for model in models:\n",
      "    #    my_cross_validation(X_train, Y_train, model)"
     ]
    },
    {
     "cell_type": "code",
     "collapsed": false,
     "input": [
      "for i in range(2, 3): # TODO here should be 2 - 22\n",
      "    Y_avg = avg_attr(Y, i, low=True) # OD OKA ya enkrat"
     ],
     "language": "python",
     "metadata": {},
     "outputs": []
    },
    {
     "cell_type": "raw",
     "metadata": {},
     "source": [
      "# Average Y \n",
      "# Y include CID, subject, and 21 measures, let's built model for each attribute\n",
      "\n",
      "# Connect X with Y, remove CID from Y\n",
      "train = np.array( [np.hstack((X_dict[CID], y)) for CID, y in Y_avg] )\n",
      "\n",
      "# Divide into X and Y\n",
      "X_train = train[:, :-1]\n",
      "X_train = normalize_correct(X_train)\n",
      "Y_train = train[:, -1]\n",
      "\n",
      "components = 3\n",
      "pca = decomposition.PCA(n_components=components)\n",
      "pca.fit(X_train)\n",
      "X_train = pca.transform(X_train)\n",
      "\n",
      "models = []\n",
      "for i in range(2, 3): # TODO here should be 2 - 22\n",
      "    Y_avg = avg_attr(Y, i, low=True) # OD OKA ya enkrat\n",
      "    model, val, alpha, ratio = best_model()\n",
      "    models += [model]\n",
      "models"
     ]
    },
    {
     "cell_type": "code",
     "collapsed": false,
     "input": [
      "# Average Y \n",
      "# Y include CID, subject, and 21 measures, let's built model for each attribute\n",
      "\n",
      "# Connect X with Y, remove CID from Y\n",
      "train = np.array( [np.hstack((X_dict[CID], y)) for CID, y in Y_avg] )\n",
      "\n",
      "# Divide into X and Y\n",
      "X_train = train[:, :-1]\n",
      "X_train = normalize_correct(X_train)\n",
      "Y_train = train[:, -1]\n",
      "\n",
      "components = 3\n",
      "pca = decomposition.PCA(n_components=components)\n",
      "pca.fit(X_train)\n",
      "X_train = pca.transform(X_train)\n",
      "\n",
      "models = []\n",
      "for i in range(2, 3): # TODO here should be 2 - 22\n",
      "    Y_avg = avg_attr(Y, i, low=True) # OD OKA ya enkrat\n",
      "    model = linear_model.ElasticNet(alpha=alpha, l1_ratio=ratio, max_iter=500)\n",
      "    model.fit(X_train, Y_train)\n",
      "    models += [model]\n",
      "models"
     ],
     "language": "python",
     "metadata": {},
     "outputs": [
      {
       "ename": "NameError",
       "evalue": "name 'Y_avg' is not defined",
       "output_type": "pyerr",
       "traceback": [
        "\u001b[1;31m---------------------------------------------------------------------------\u001b[0m\n\u001b[1;31mNameError\u001b[0m                                 Traceback (most recent call last)",
        "\u001b[1;32m<ipython-input-92-e2e0d49cc0cc>\u001b[0m in \u001b[0;36m<module>\u001b[1;34m()\u001b[0m\n\u001b[0;32m      3\u001b[0m \u001b[1;33m\u001b[0m\u001b[0m\n\u001b[0;32m      4\u001b[0m \u001b[1;31m# Connect X with Y, remove CID from Y\u001b[0m\u001b[1;33m\u001b[0m\u001b[1;33m\u001b[0m\u001b[0m\n\u001b[1;32m----> 5\u001b[1;33m \u001b[0mtrain\u001b[0m \u001b[1;33m=\u001b[0m \u001b[0mnp\u001b[0m\u001b[1;33m.\u001b[0m\u001b[0marray\u001b[0m\u001b[1;33m(\u001b[0m \u001b[1;33m[\u001b[0m\u001b[0mnp\u001b[0m\u001b[1;33m.\u001b[0m\u001b[0mhstack\u001b[0m\u001b[1;33m(\u001b[0m\u001b[1;33m(\u001b[0m\u001b[0mX_dict\u001b[0m\u001b[1;33m[\u001b[0m\u001b[0mCID\u001b[0m\u001b[1;33m]\u001b[0m\u001b[1;33m,\u001b[0m \u001b[0my\u001b[0m\u001b[1;33m)\u001b[0m\u001b[1;33m)\u001b[0m \u001b[1;32mfor\u001b[0m \u001b[0mCID\u001b[0m\u001b[1;33m,\u001b[0m \u001b[0my\u001b[0m \u001b[1;32min\u001b[0m \u001b[0mY_avg\u001b[0m\u001b[1;33m]\u001b[0m \u001b[1;33m)\u001b[0m\u001b[1;33m\u001b[0m\u001b[0m\n\u001b[0m\u001b[0;32m      6\u001b[0m \u001b[1;33m\u001b[0m\u001b[0m\n\u001b[0;32m      7\u001b[0m \u001b[1;31m# Divide into X and Y\u001b[0m\u001b[1;33m\u001b[0m\u001b[1;33m\u001b[0m\u001b[0m\n",
        "\u001b[1;31mNameError\u001b[0m: name 'Y_avg' is not defined"
       ]
      }
     ],
     "prompt_number": 92
    },
    {
     "cell_type": "heading",
     "level": 3,
     "metadata": {},
     "source": [
      "Predict"
     ]
    },
    {
     "cell_type": "code",
     "collapsed": false,
     "input": [
      "CID_predict = int(PREDICT[0][0])\n",
      "DIL_denom_predict = get_dilution_denominator( PREDICT[0][1] )\n",
      "DIL_denom_predict"
     ],
     "language": "python",
     "metadata": {},
     "outputs": [
      {
       "metadata": {},
       "output_type": "pyout",
       "prompt_number": 71,
       "text": [
        "100000"
       ]
      }
     ],
     "prompt_number": 71
    },
    {
     "cell_type": "code",
     "collapsed": false,
     "input": [
      "# Find chemicals with such dilution\n",
      "for cid, dilution in test.keys:\n",
      "    dil = get_dilution_denominator( dilution )\n",
      "    if DIL_denom_predict == dil:\n",
      "        \n",
      "\n",
      "# Get the best ob them \n",
      "\n",
      "\n",
      "# build model\n",
      "\n",
      "\n",
      "# predict for this one"
     ],
     "language": "python",
     "metadata": {},
     "outputs": []
    }
   ],
   "metadata": {}
  }
 ]
}